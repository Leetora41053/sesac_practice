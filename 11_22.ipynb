{
  "nbformat": 4,
  "nbformat_minor": 0,
  "metadata": {
    "colab": {
      "provenance": [],
      "authorship_tag": "ABX9TyMexs/eNVm8zGyySFxeeHB4",
      "include_colab_link": true
    },
    "kernelspec": {
      "name": "python3",
      "display_name": "Python 3"
    },
    "language_info": {
      "name": "python"
    }
  },
  "cells": [
    {
      "cell_type": "markdown",
      "metadata": {
        "id": "view-in-github",
        "colab_type": "text"
      },
      "source": [
        "<a href=\"https://colab.research.google.com/github/Leetora41053/sesac_practice/blob/main/11_22.ipynb\" target=\"_parent\"><img src=\"https://colab.research.google.com/assets/colab-badge.svg\" alt=\"Open In Colab\"/></a>"
      ]
    },
    {
      "cell_type": "code",
      "source": [
        "from torchvision.datasets import MNIST\n",
        "import matplotlib.pyplot as plt\n",
        "import numpy as np\n",
        "\n",
        "dataset = MNIST(root='data', train=True, download=True)\n",
        "\n",
        "for img, label in dataset:\n",
        "    print(type(img))\n",
        "    print(type(label))\n",
        "    img = np.array(img)\n",
        "    print(img.shape, img.dtype)\n",
        "    break"
      ],
      "metadata": {
        "colab": {
          "base_uri": "https://localhost:8080/"
        },
        "id": "cNH4ObOSTis3",
        "outputId": "b55bce4a-83ca-453f-e5b9-0c39db9be9c4"
      },
      "execution_count": null,
      "outputs": [
        {
          "output_type": "stream",
          "name": "stdout",
          "text": [
            "<class 'PIL.Image.Image'>\n",
            "<class 'int'>\n",
            "(28, 28) uint8\n"
          ]
        }
      ]
    },
    {
      "cell_type": "code",
      "source": [
        "from torchvision.datasets import MNIST\n",
        "import matplotlib.pyplot as plt\n",
        "\n",
        "dataset = MNIST(root='data', train=True, download=True)\n",
        "for x in dir(dataset):\n",
        "  print(x)\n",
        "img = dataset.data[0]\n",
        "fig, ax = plt.subplots(figsize=(5, 5))\n",
        "\n",
        "# for img, label in dataset:\n",
        "ax.imshow(img, cmap='gray')\n",
        "#   break"
      ],
      "metadata": {
        "colab": {
          "base_uri": "https://localhost:8080/",
          "height": 1000
        },
        "id": "6wHNp4IbU4Bi",
        "outputId": "f94b0cd7-d6d3-44cc-c882-e37510871e5e"
      },
      "execution_count": null,
      "outputs": [
        {
          "output_type": "stream",
          "name": "stdout",
          "text": [
            "__add__\n",
            "__annotations__\n",
            "__class__\n",
            "__class_getitem__\n",
            "__delattr__\n",
            "__dict__\n",
            "__dir__\n",
            "__doc__\n",
            "__eq__\n",
            "__format__\n",
            "__ge__\n",
            "__getattribute__\n",
            "__getitem__\n",
            "__gt__\n",
            "__hash__\n",
            "__init__\n",
            "__init_subclass__\n",
            "__le__\n",
            "__len__\n",
            "__lt__\n",
            "__module__\n",
            "__ne__\n",
            "__new__\n",
            "__orig_bases__\n",
            "__parameters__\n",
            "__reduce__\n",
            "__reduce_ex__\n",
            "__repr__\n",
            "__setattr__\n",
            "__sizeof__\n",
            "__slots__\n",
            "__str__\n",
            "__subclasshook__\n",
            "__weakref__\n",
            "_check_exists\n",
            "_check_legacy_exist\n",
            "_format_transform_repr\n",
            "_is_protocol\n",
            "_load_data\n",
            "_load_legacy_data\n",
            "_repr_indent\n",
            "class_to_idx\n",
            "classes\n",
            "data\n",
            "download\n",
            "extra_repr\n",
            "mirrors\n",
            "processed_folder\n",
            "raw_folder\n",
            "resources\n",
            "root\n",
            "target_transform\n",
            "targets\n",
            "test_data\n",
            "test_file\n",
            "test_labels\n",
            "train\n",
            "train_data\n",
            "train_labels\n",
            "training_file\n",
            "transform\n",
            "transforms\n"
          ]
        },
        {
          "output_type": "execute_result",
          "data": {
            "text/plain": [
              "<matplotlib.image.AxesImage at 0x7bd9c0d780d0>"
            ]
          },
          "metadata": {},
          "execution_count": 119
        },
        {
          "output_type": "display_data",
          "data": {
            "text/plain": [
              "<Figure size 500x500 with 1 Axes>"
            ],
            "image/png": "[encoded data removed]"
          },
          "metadata": {}
        }
      ]
    },
    {
      "cell_type": "code",
      "source": [
        "import numpy as np\n",
        "import matplotlib.pyplot as plt\n",
        "\n",
        "def np_ones_test():\n",
        "    '''np.ones: 입력된 shape의 array를 만들고, 모두 1로 채워주는 함수'''\n",
        "\n",
        "    tmp = np.ones(shape=(2, 3))\n",
        "    # (2, 3)의 shape를 가지고 모두 1로 채워져있는 행렬을 만들어라\n",
        "    print(tmp)\n",
        "\n",
        "\n",
        "    '''ndarray에 scalar를 곱하면 원소별 곱셈'''\n",
        "    tmp2 = 10 * tmp\n",
        "    print(tmp2)\n",
        "\n",
        "\n",
        "def check_pattern_image():\n",
        "    white_patch = 255 * np.ones(shape=(10, 10))\n",
        "    black_patch = 0 * np.ones(shape=(10, 10))\n",
        "\n",
        "    img1 = np.hstack([white_patch, black_patch]) # [흰, 검] (10, 20)\n",
        "    img2 = np.hstack([black_patch, white_patch]) # [검, 흰] (10, 20)\n",
        "    img = np.vstack([img1, img2])\n",
        "\n",
        "    fig, ax = plt.subplots(figsize=(4, 4))\n",
        "    ax.imshow(img, cmap='gray')\n",
        "    ax.tick_params(left=False, labelleft=False, bottom=False, labelbottom=False)\n",
        "\n",
        "    plt.show()\n",
        "\n",
        "\n",
        "def check_pattern_image2():\n",
        "    white_patch = 255 * np.ones(shape=(10, 10))\n",
        "    black_patch = np.zeros(shape=(10, 10))\n",
        "\n",
        "    img1 = np.hstack([white_patch, black_patch, white_patch])\n",
        "    img2 = np.hstack([black_patch, white_patch, black_patch])\n",
        "    img = np.vstack([img1, img2, img1])\n",
        "\n",
        "    fig, ax = plt.subplots(figsize=(4, 4))\n",
        "    ax.imshow(img, cmap='gray')\n",
        "    ax.tick_params(left=False, labelleft=False, bottom=False, labelbottom=False)\n",
        "\n",
        "    plt.show()\n",
        "\n",
        "\n",
        "def repeat_tile():\n",
        "    data = np.arange(5)\n",
        "    print(data)\n",
        "\n",
        "    # np.repeat => 원소별 반복\n",
        "    print(\"repeat:\", np.repeat(data, repeats=3))\n",
        "\n",
        "    # np.tile => 전체 반복\n",
        "    print(\"tile:\", np.tile(data, reps=3))\n",
        "\n",
        "\n",
        "def repeat2():\n",
        "    data = np.arange(6).reshape(2, 3)\n",
        "    print(data)\n",
        "\n",
        "    print(f\"repeats=3, axis=0 \\n {np.repeat(data, repeats=3, axis=0)}\")\n",
        "    print(f\"repeats=3, axis=1 \\n {np.repeat(data, repeats=3, axis=1)}\")\n",
        "    print(f\"np.repeat(np.repeat(data, repeats=2, axis=0), repeats=3, axis=1) \\n {np.repeat(np.repeat(data, repeats=2, axis=0), repeats=3, axis=1)}\")\n",
        "\n",
        "\n",
        "def tile2():\n",
        "    data = np.arange(6).reshape(2, 3)\n",
        "    print(data)\n",
        "\n",
        "    print(\"tile(axis=0)\")\n",
        "    print(np.tile(data, reps=[3, 1]))\n",
        "    print(\"tile(axis=1)\")\n",
        "    print(np.tile(data, reps=[1, 3]))\n",
        "    print(\"tile(axis=0 and axis=1)\")\n",
        "    print(np.tile(data, reps=[3, 3]))\n",
        "\n",
        "\n",
        "def check_pattern_image_w_nptile():\n",
        "    white_patch = 255 * np.ones(shape=(10, 10))\n",
        "    black_patch = np.zeros(shape=(10, 10))\n",
        "\n",
        "    img1 = np.hstack([white_patch, black_patch])\n",
        "    img2 = np.hstack([black_patch, white_patch])\n",
        "    img = np.vstack([img1, img2])\n",
        "\n",
        "    tile = np.tile(img, reps=[4, 4])\n",
        "    fig, ax = plt.subplots(figsize=(5, 5))\n",
        "    ax.imshow(tile, cmap='gray')\n",
        "    ax.tick_params(left=False, labelleft=False, bottom=False, labelbottom=False)\n",
        "    plt.show()\n",
        "\n",
        "\n",
        "if __name__ == '__main__':\n",
        "    check_pattern_image2()\n",
        "    # repeat_tile()\n",
        "    # repeat2()\n",
        "    # tile2()\n",
        "    # check_pattern_image_w_nptile()"
      ],
      "metadata": {
        "colab": {
          "base_uri": "https://localhost:8080/",
          "height": 345
        },
        "id": "-0cDD4bzacaW",
        "outputId": "1b094434-5bbe-45bb-ec03-fe2423409993"
      },
      "execution_count": null,
      "outputs": [
        {
          "output_type": "display_data",
          "data": {
            "text/plain": [
              "<Figure size 400x400 with 1 Axes>"
            ],
            "image/png": "[encoded data removed]"
          },
          "metadata": {}
        }
      ]
    },
    {
      "cell_type": "code",
      "source": [
        "\n",
        "\n",
        "def repeat2():\n",
        "    data = np.arange(6).reshape(2, 3)\n",
        "    print(data)\n",
        "\n",
        "    print(f\"repeats=3, axis=0 \\n {np.repeat(data, repeats=3, axis=0)}\")\n",
        "    print(f\"repeats=3, axis=1 \\n {np.repeat(data, repeats=3, axis=1)}\")\n",
        "    print(f\"np.repeat(np.repeat(data, repeats=2, axis=0), repeats=3, axis=1) \\n {np.repeat(np.repeat(data, repeats=2, axis=0), repeats=3, axis=1)}\")\n",
        "\n",
        "def tile2():\n",
        "    data = np.arange(6).reshape(2, 3)\n",
        "    print(data)\n",
        "\n",
        "    print(\"tile(axis=0)\")\n",
        "    print(np.tile(data, reps=[3, 1]))\n",
        "    print(\"tile(axis=1)\")\n",
        "    print(np.tile(data, reps=[1, 3]))\n",
        "    print(\"tile(axis=0 and axis=1)\")\n",
        "    print(np.tile(data, reps=[3, 3]))\n",
        "\n",
        "a = repeat2()\n",
        "# b = tile2()"
      ],
      "metadata": {
        "colab": {
          "base_uri": "https://localhost:8080/"
        },
        "id": "ZjDnC4-mbf3Y",
        "outputId": "ae4aab1b-68db-48ec-9f21-ce171bc105b9"
      },
      "execution_count": null,
      "outputs": [
        {
          "output_type": "stream",
          "name": "stdout",
          "text": [
            "[[0 1 2]\n",
            " [3 4 5]]\n",
            "repeats=3, axis=0 \n",
            " [[0 1 2]\n",
            " [0 1 2]\n",
            " [0 1 2]\n",
            " [3 4 5]\n",
            " [3 4 5]\n",
            " [3 4 5]]\n",
            "repeats=3, axis=1 \n",
            " [[0 0 0 1 1 1 2 2 2]\n",
            " [3 3 3 4 4 4 5 5 5]]\n",
            "np.repeat(np.repeat(data, repeats=2, axis=0), repeats=3, axis=1) \n",
            " [[0 0 0 1 1 1 2 2 2]\n",
            " [0 0 0 1 1 1 2 2 2]\n",
            " [3 3 3 4 4 4 5 5 5]\n",
            " [3 3 3 4 4 4 5 5 5]]\n"
          ]
        }
      ]
    },
    {
      "cell_type": "markdown",
      "source": [
        "## Tile"
      ],
      "metadata": {
        "id": "w-GIeiQjdMbs"
      }
    },
    {
      "cell_type": "code",
      "source": [
        "\n",
        "\n",
        "import numpy as np\n",
        "import matplotlib.pyplot as plt\n",
        "\n",
        "patch1_1 = 255 * np.ones(shape=(10, 10))\n",
        "patch1_2 = 122 * np.ones(shape=(10, 10))\n",
        "\n",
        "patch2_1 = 150 * np.ones(shape=(10, 10))\n",
        "patch2_2 = 50 * np.ones(shape=(10, 10))\n",
        "\n",
        "patch1 = np.hstack([patch1_1, patch1_2])\n",
        "patch2 = np.hstack([patch2_1, patch2_2])\n",
        "\n",
        "patch = np.vstack([patch1, patch2])\n",
        "\n",
        "img = np.tile(patch, reps = [4, 4])\n",
        "\n",
        "fig, ax = plt.subplots(figsize=(8, 8))\n",
        "ax.imshow(img, cmap='gray')\n",
        "\n",
        "plt.show()"
      ],
      "metadata": {
        "colab": {
          "base_uri": "https://localhost:8080/",
          "height": 678
        },
        "id": "t21ICmRDcYH-",
        "outputId": "1b52e5a3-6cb1-4c51-c2c2-1f120648b6d3"
      },
      "execution_count": null,
      "outputs": [
        {
          "output_type": "display_data",
          "data": {
            "text/plain": [
              "<Figure size 800x800 with 1 Axes>"
            ],
            "image/png": "[encoded data removed]"
          },
          "metadata": {}
        }
      ]
    },
    {
      "cell_type": "code",
      "source": [
        "img = np.arange(0, 256, 50).reshape(1, -1)\n",
        "img = img.repeat(100, axis = 0).repeat(30, axis=1)\n",
        "\n",
        "fig, ax = plt.subplots(figsize=(8, 4))\n",
        "ax.imshow(img, cmap='gray')\n",
        "\n",
        "ax.tick_params(left=False, labelleft=False, bottom=False, labelbottom=False)\n",
        "\n",
        "plt.show()"
      ],
      "metadata": {
        "colab": {
          "base_uri": "https://localhost:8080/",
          "height": 345
        },
        "id": "uX-cHRzMdTRP",
        "outputId": "a9c067bf-a91f-4c9a-cc58-34bc67245bde"
      },
      "execution_count": null,
      "outputs": [
        {
          "output_type": "display_data",
          "data": {
            "text/plain": [
              "<Figure size 800x400 with 1 Axes>"
            ],
            "image/png": "[encoded data removed]"
          },
          "metadata": {}
        }
      ]
    },
    {
      "cell_type": "code",
      "source": [
        "img = np.arange(0, 151, 50).reshape(1, -1)\n",
        "img = img.repeat(100, axis = 0).repeat(30, axis=1)\n",
        "\n",
        "fig, ax = plt.subplots(figsize=(8, 4))\n",
        "\n",
        "#matplotlib에게 최댓값을 알려주는 함수\n",
        "ax.imshow(img, cmap='gray', vmax=255, vmin=0)\n",
        "\n",
        "ax.tick_params(left=False, labelleft=False, bottom=False, labelbottom=False)\n",
        "\n",
        "plt.show()"
      ],
      "metadata": {
        "colab": {
          "base_uri": "https://localhost:8080/",
          "height": 345
        },
        "id": "ILNpbc9Sd0XN",
        "outputId": "309cbf7a-c0db-45f8-96cd-96a830cfddae"
      },
      "execution_count": null,
      "outputs": [
        {
          "output_type": "display_data",
          "data": {
            "text/plain": [
              "<Figure size 800x400 with 1 Axes>"
            ],
            "image/png": "[encoded data removed]"
          },
          "metadata": {}
        }
      ]
    },
    {
      "cell_type": "code",
      "source": [
        "#역순으로 하는 방법\n",
        "\n",
        "img = np.arange(251,0, 50)[::-1].reshape(-1, 1)\n",
        "\n",
        "img = img.repeat(30, axis = 0).repeat(100, axis=1)\n",
        "\n",
        "fig, ax = plt.subplots(figsize=(8, 4))\n",
        "ax.imshow(img, cmap='gray', vmax=255, vmin=0)\n",
        "\n",
        "ax.tick_params(left=False, labelleft=False, bottom=False, labelbottom=False)\n",
        "\n",
        "plt.show()"
      ],
      "metadata": {
        "colab": {
          "base_uri": "https://localhost:8080/",
          "height": 453
        },
        "id": "FVThhjzFe6ZH",
        "outputId": "640e1209-b63a-4a9b-bc83-6ca54aca19cc"
      },
      "execution_count": null,
      "outputs": [
        {
          "output_type": "stream",
          "name": "stdout",
          "text": [
            "[[251]\n",
            " [201]\n",
            " [151]\n",
            " [101]\n",
            " [ 51]\n",
            " [  1]]\n"
          ]
        },
        {
          "output_type": "display_data",
          "data": {
            "text/plain": [
              "<Figure size 800x400 with 1 Axes>"
            ],
            "image/png": "[encoded data removed]"
          },
          "metadata": {}
        }
      ]
    },
    {
      "cell_type": "code",
      "source": [
        "interval = 1\n",
        "img1 = np.arange(0, 256, interval).reshape(1, -1)\n",
        "img1 = img1.repeat(300, axis = 0).repeat(2, axis=1)\n",
        "\n",
        "img2 = np.arange(0, 256, interval)[::-1].reshape(1, -1)\n",
        "img2 = img2.repeat(300, axis = 0).repeat(2, axis=1)\n",
        "\n",
        "img = np.vstack([img1, img2])\n",
        "\n",
        "fig, ax = plt.subplots(figsize=(8, 8))\n",
        "ax.imshow(img, cmap='gray', vmax=255, vmin=0)\n",
        "# ax.imshow(img2, cmap='gray', vmax=255, vmin=0)\n",
        "\n",
        "ax.tick_params(left=False, labelleft=False, bottom=False, labelbottom=False)\n",
        "\n",
        "plt.show()\n"
      ],
      "metadata": {
        "colab": {
          "base_uri": "https://localhost:8080/",
          "height": 653
        },
        "id": "mAtxT4THgccg",
        "outputId": "ecf89a1c-3a96-4807-adb7-c974ab7bc5f1"
      },
      "execution_count": null,
      "outputs": [
        {
          "output_type": "display_data",
          "data": {
            "text/plain": [
              "<Figure size 800x800 with 1 Axes>"
            ],
            "image/png": "[encoded data removed]"
          },
          "metadata": {}
        }
      ]
    },
    {
      "cell_type": "markdown",
      "source": [
        "## Window:\n",
        "10개의 원소를 가진 벡터가 주어졌을 때 3칸(홀수 개)의 window가 차례대로 지나가면서 데이터를 3개씩 뽑는 과정\n",
        "\n",
        "Window의 개수(L') = L(데이터의 길이) - W(윈도우의 길이) + 1\n",
        "\n",
        "- 윈도우의 개수는 홀수개\n",
        "- 중심점이 필요하기 때문"
      ],
      "metadata": {
        "id": "xXllPHY5nU8E"
      }
    },
    {
      "cell_type": "code",
      "source": [
        "#one - dimenosional\n",
        "\n",
        "import numpy as np\n",
        "\n",
        "window = 3\n",
        "data = 10*np.arange(1, 11)\n",
        "\n",
        "print(data)\n",
        "window_cnt = len(data) - window + 1\n",
        "\n",
        "for idx in range(window_cnt):\n",
        "  print(data[idx : idx+window])\n"
      ],
      "metadata": {
        "colab": {
          "base_uri": "https://localhost:8080/"
        },
        "id": "9k28hbfjoMI5",
        "outputId": "32ff1cfe-0fc9-4654-9da2-74d18ae24398"
      },
      "execution_count": null,
      "outputs": [
        {
          "output_type": "stream",
          "name": "stdout",
          "text": [
            "[ 10  20  30  40  50  60  70  80  90 100]\n",
            "[10 20 30]\n",
            "[20 30 40]\n",
            "[30 40 50]\n",
            "[40 50 60]\n",
            "[50 60 70]\n",
            "[60 70 80]\n",
            "[70 80 90]\n",
            "[ 80  90 100]\n"
          ]
        }
      ]
    },
    {
      "cell_type": "markdown",
      "source": [
        "Grayscale Gradation Image w/ np.repeat"
      ],
      "metadata": {
        "id": "_oyu2adVh9-s"
      }
    },
    {
      "cell_type": "code",
      "source": [
        "\n",
        "data_1 = 10*np.arange(1, 8)\n",
        "data_2 = 10 + data_1\n",
        "data_3 = 10 + data_2\n",
        "data_4 = 10 + data_3\n",
        "data_5 = 10 + data_4\n",
        "# data = np.vstack([data_1,data_2,data_3,data_4,data_5])\n",
        "\n",
        "data1 = 10*np.anange(1, 8).reshape(1, -1)\n",
        "data2 = 10*np.anange(5).reshape(-1, 1)\n",
        "#broadcasting\n",
        "data = data1 + data2\n",
        "\n",
        "H, W = data.shape\n",
        "\n",
        "width, height = 3, 3\n",
        "\n",
        "#width의 길이\n",
        "wdw_width = data.shape[0]\n",
        "wdw_wid_cnt = wdw_width - width + 1\n",
        "\n",
        "#height의 길이\n",
        "wdw_height = data.shape[1]\n",
        "wdw_hei_cnt = wdw_height - height + 1\n",
        "\n",
        "# 윈 개수 = 데이터 길이 - 윈도우 길이 + 1\n",
        "for i in range(wdw_wid_cnt):\n",
        "  for j in range(wdw_hei_cnt):\n",
        "    tmp1 = [data[i][j],data[i+1][j],data[i+2][j]]\n",
        "    tmp2 = [data[i][j+1],data[i+1][j+1],data[i+2][j+1]]\n",
        "    tmp3 = [data[i][j+2],data[i+1][j+2],data[i+2][j+2]]\n",
        "    tmp = np.vstack([tmp1, tmp2, tmp3])\n",
        "    print(\"==\"*10)\n",
        "    print(tmp)\n"
      ],
      "metadata": {
        "colab": {
          "base_uri": "https://localhost:8080/"
        },
        "id": "EpfPe799q9xw",
        "outputId": "0598ccc7-5558-4e59-a559-a233290c29f0"
      },
      "execution_count": null,
      "outputs": [
        {
          "output_type": "stream",
          "name": "stdout",
          "text": [
            "====================\n",
            "[[10 20 30]\n",
            " [20 30 40]\n",
            " [30 40 50]]\n",
            "====================\n",
            "[[20 30 40]\n",
            " [30 40 50]\n",
            " [40 50 60]]\n",
            "====================\n",
            "[[30 40 50]\n",
            " [40 50 60]\n",
            " [50 60 70]]\n",
            "====================\n",
            "[[40 50 60]\n",
            " [50 60 70]\n",
            " [60 70 80]]\n",
            "====================\n",
            "[[50 60 70]\n",
            " [60 70 80]\n",
            " [70 80 90]]\n",
            "====================\n",
            "[[20 30 40]\n",
            " [30 40 50]\n",
            " [40 50 60]]\n",
            "====================\n",
            "[[30 40 50]\n",
            " [40 50 60]\n",
            " [50 60 70]]\n",
            "====================\n",
            "[[40 50 60]\n",
            " [50 60 70]\n",
            " [60 70 80]]\n",
            "====================\n",
            "[[50 60 70]\n",
            " [60 70 80]\n",
            " [70 80 90]]\n",
            "====================\n",
            "[[ 60  70  80]\n",
            " [ 70  80  90]\n",
            " [ 80  90 100]]\n",
            "====================\n",
            "[[30 40 50]\n",
            " [40 50 60]\n",
            " [50 60 70]]\n",
            "====================\n",
            "[[40 50 60]\n",
            " [50 60 70]\n",
            " [60 70 80]]\n",
            "====================\n",
            "[[50 60 70]\n",
            " [60 70 80]\n",
            " [70 80 90]]\n",
            "====================\n",
            "[[ 60  70  80]\n",
            " [ 70  80  90]\n",
            " [ 80  90 100]]\n",
            "====================\n",
            "[[ 70  80  90]\n",
            " [ 80  90 100]\n",
            " [ 90 100 110]]\n"
          ]
        }
      ]
    },
    {
      "cell_type": "code",
      "execution_count": null,
      "metadata": {
        "colab": {
          "base_uri": "https://localhost:8080/",
          "height": 1000
        },
        "id": "aO-FK5lBaXTE",
        "outputId": "257eec66-9f3e-412a-c559-549e5e0feaac"
      },
      "outputs": [
        {
          "output_type": "stream",
          "name": "stdout",
          "text": [
            "Downloading http://yann.lecun.com/exdb/mnist/train-images-idx3-ubyte.gz\n",
            "Downloading http://yann.lecun.com/exdb/mnist/train-images-idx3-ubyte.gz to data/MNIST/raw/train-images-idx3-ubyte.gz\n"
          ]
        },
        {
          "output_type": "stream",
          "name": "stderr",
          "text": [
            "100%|██████████| 9912422/9912422 [00:00<00:00, 107312651.30it/s]\n"
          ]
        },
        {
          "output_type": "stream",
          "name": "stdout",
          "text": [
            "Extracting data/MNIST/raw/train-images-idx3-ubyte.gz to data/MNIST/raw\n",
            "\n",
            "Downloading http://yann.lecun.com/exdb/mnist/train-labels-idx1-ubyte.gz\n",
            "Downloading http://yann.lecun.com/exdb/mnist/train-labels-idx1-ubyte.gz to data/MNIST/raw/train-labels-idx1-ubyte.gz\n"
          ]
        },
        {
          "output_type": "stream",
          "name": "stderr",
          "text": [
            "100%|██████████| 28881/28881 [00:00<00:00, 19049487.94it/s]\n"
          ]
        },
        {
          "output_type": "stream",
          "name": "stdout",
          "text": [
            "Extracting data/MNIST/raw/train-labels-idx1-ubyte.gz to data/MNIST/raw\n",
            "\n",
            "Downloading http://yann.lecun.com/exdb/mnist/t10k-images-idx3-ubyte.gz\n",
            "Downloading http://yann.lecun.com/exdb/mnist/t10k-images-idx3-ubyte.gz to data/MNIST/raw/t10k-images-idx3-ubyte.gz\n"
          ]
        },
        {
          "output_type": "stream",
          "name": "stderr",
          "text": [
            "100%|██████████| 1648877/1648877 [00:00<00:00, 30089763.39it/s]\n"
          ]
        },
        {
          "output_type": "stream",
          "name": "stdout",
          "text": [
            "Extracting data/MNIST/raw/t10k-images-idx3-ubyte.gz to data/MNIST/raw\n",
            "\n",
            "Downloading http://yann.lecun.com/exdb/mnist/t10k-labels-idx1-ubyte.gz\n",
            "Downloading http://yann.lecun.com/exdb/mnist/t10k-labels-idx1-ubyte.gz to data/MNIST/raw/t10k-labels-idx1-ubyte.gz\n"
          ]
        },
        {
          "output_type": "stream",
          "name": "stderr",
          "text": [
            "100%|██████████| 4542/4542 [00:00<00:00, 3095633.53it/s]\n"
          ]
        },
        {
          "output_type": "stream",
          "name": "stdout",
          "text": [
            "Extracting data/MNIST/raw/t10k-labels-idx1-ubyte.gz to data/MNIST/raw\n",
            "\n",
            "DEVICE=device(type='cpu')\n"
          ]
        },
        {
          "output_type": "stream",
          "name": "stderr",
          "text": [
            "100%|██████████| 1875/1875 [00:14<00:00, 126.69it/s]\n"
          ]
        },
        {
          "output_type": "stream",
          "name": "stdout",
          "text": [
            "Epoch: 1\tLoss: 2.2734 - Acc: 0.1916\n"
          ]
        },
        {
          "output_type": "stream",
          "name": "stderr",
          "text": [
            "100%|██████████| 1875/1875 [00:14<00:00, 131.76it/s]\n"
          ]
        },
        {
          "output_type": "stream",
          "name": "stdout",
          "text": [
            "Epoch: 2\tLoss: 1.8514 - Acc: 0.5374\n"
          ]
        },
        {
          "output_type": "stream",
          "name": "stderr",
          "text": [
            "100%|██████████| 1875/1875 [00:14<00:00, 131.87it/s]\n"
          ]
        },
        {
          "output_type": "stream",
          "name": "stdout",
          "text": [
            "Epoch: 3\tLoss: 0.8270 - Acc: 0.7658\n"
          ]
        },
        {
          "output_type": "stream",
          "name": "stderr",
          "text": [
            "100%|██████████| 1875/1875 [00:14<00:00, 132.94it/s]\n"
          ]
        },
        {
          "output_type": "stream",
          "name": "stdout",
          "text": [
            "Epoch: 4\tLoss: 0.5611 - Acc: 0.8348\n"
          ]
        },
        {
          "output_type": "stream",
          "name": "stderr",
          "text": [
            "100%|██████████| 1875/1875 [00:15<00:00, 122.21it/s]\n"
          ]
        },
        {
          "output_type": "stream",
          "name": "stdout",
          "text": [
            "Epoch: 5\tLoss: 0.4452 - Acc: 0.8711\n"
          ]
        },
        {
          "output_type": "stream",
          "name": "stderr",
          "text": [
            "100%|██████████| 1875/1875 [00:14<00:00, 130.09it/s]\n"
          ]
        },
        {
          "output_type": "stream",
          "name": "stdout",
          "text": [
            "Epoch: 6\tLoss: 0.3849 - Acc: 0.8897\n"
          ]
        },
        {
          "output_type": "stream",
          "name": "stderr",
          "text": [
            "100%|██████████| 1875/1875 [00:14<00:00, 131.57it/s]\n"
          ]
        },
        {
          "output_type": "stream",
          "name": "stdout",
          "text": [
            "Epoch: 7\tLoss: 0.3489 - Acc: 0.9008\n"
          ]
        },
        {
          "output_type": "stream",
          "name": "stderr",
          "text": [
            "100%|██████████| 1875/1875 [00:14<00:00, 130.35it/s]\n"
          ]
        },
        {
          "output_type": "stream",
          "name": "stdout",
          "text": [
            "Epoch: 8\tLoss: 0.3230 - Acc: 0.9083\n"
          ]
        },
        {
          "output_type": "stream",
          "name": "stderr",
          "text": [
            "100%|██████████| 1875/1875 [00:14<00:00, 128.31it/s]\n"
          ]
        },
        {
          "output_type": "stream",
          "name": "stdout",
          "text": [
            "Epoch: 9\tLoss: 0.3014 - Acc: 0.9141\n"
          ]
        },
        {
          "output_type": "stream",
          "name": "stderr",
          "text": [
            "100%|██████████| 1875/1875 [00:14<00:00, 126.82it/s]\n"
          ]
        },
        {
          "output_type": "stream",
          "name": "stdout",
          "text": [
            "Epoch: 10\tLoss: 0.2820 - Acc: 0.9195\n"
          ]
        },
        {
          "output_type": "display_data",
          "data": {
            "text/plain": [
              "<Figure size 1000x500 with 2 Axes>"
            ],
            "image/png": "[encoded data removed]"
          },
          "metadata": {}
        }
      ],
      "source": [
        "from torchvision.datasets import MNIST\n",
        "from torchvision.transforms import ToTensor\n",
        "from torch.utils.data import DataLoader\n",
        "import torch\n",
        "from torch.optim import SGD\n",
        "import numpy as np\n",
        "import matplotlib.pyplot as plt\n",
        "import torch.nn as nn\n",
        "from tqdm import tqdm\n",
        "\n",
        "\n",
        "def show_mnist_img():\n",
        "    dataset = MNIST(root='data', train=True, download=True)\n",
        "\n",
        "    fig, axes = plt.subplots(2, 5, figsize=(10, 5))\n",
        "    axes = axes.flatten()\n",
        "\n",
        "    for i, (img, label) in enumerate(dataset):\n",
        "        print(type(img))\n",
        "        print(type(label))\n",
        "        # img.show()\n",
        "        axes[i].imshow(img, cmap=\"gray\")\n",
        "        axes[i].axis(\"off\")\n",
        "        axes[i].set_title(f\"Class {label}\", fontsize=15)\n",
        "        img = np.array(img)\n",
        "        print(img.shape, img.dtype) # uint8 unsigned integer 8 bit\n",
        "\n",
        "        if i == 9:\n",
        "            break\n",
        "\n",
        "    fig.tight_layout()\n",
        "    plt.show()\n",
        "\n",
        "\n",
        "class MNIST_Classifier(nn.Module):\n",
        "    def __init__(self):\n",
        "        super(MNIST_Classifier, self).__init__()\n",
        "\n",
        "        self.fc1 = nn.Linear(in_features=784, out_features=512)\n",
        "        self.fc1_act = nn.ReLU()\n",
        "\n",
        "        self.fc2 = nn.Linear(in_features=512, out_features=128)\n",
        "        self.fc2_act = nn.ReLU()\n",
        "\n",
        "        self.fc3 = nn.Linear(in_features=128, out_features=52)\n",
        "        self.fc3_act = nn.ReLU()\n",
        "\n",
        "        self.fc4 = nn.Linear(in_features=52, out_features=10)\n",
        "\n",
        "    def forward(self, x):\n",
        "        x = self.fc1_act(self.fc1(x))\n",
        "        x = self.fc2_act(self.fc2(x))\n",
        "        x = self.fc3_act(self.fc3(x))\n",
        "        x = self.fc4(x)\n",
        "        return x\n",
        "\n",
        "\n",
        "def plot_metrics(losses, accs):\n",
        "    fig, axes = plt.subplots(2, 1, figsize=(10, 5))\n",
        "\n",
        "    axes[0].plot(losses)\n",
        "    axes[1].plot(accs)\n",
        "\n",
        "    axes[1].set_xlabel(\"Epoch\", fontsize=15)\n",
        "    axes[0].set_ylabel(\"Loss\", fontsize=15)\n",
        "    axes[1].set_ylabel(\"Accuracy\", fontsize=15)\n",
        "    axes[0].tick_params(labelsize=10)\n",
        "    axes[1].tick_params(labelsize=10)\n",
        "    fig.suptitle(\"MNIST 4-layer Model Metrics by Epoch\", fontsize=16)\n",
        "    plt.show()\n",
        "\n",
        "\n",
        "def mnist_main_routine():\n",
        "    BATCH_SIZE = 32\n",
        "    LR = 0.003\n",
        "    EPOCHS = 10\n",
        "\n",
        "    dataset = MNIST(root='data', train=True, download=True, transform=ToTensor())\n",
        "    n_samples = len(dataset)\n",
        "\n",
        "    DEVICE = torch.device('cuda' if torch.cuda.is_available() else 'cpu')\n",
        "    print(f\"{DEVICE=}\")\n",
        "    model = MNIST_Classifier().to(DEVICE)\n",
        "    loss_function = nn.CrossEntropyLoss()\n",
        "    optimizer = SGD(model.parameters(), lr=LR)\n",
        "    dataloader = DataLoader(dataset, batch_size=BATCH_SIZE)\n",
        "\n",
        "    losses, accs = [], []\n",
        "    for epoch in range(EPOCHS):\n",
        "        epoch_loss, n_corrects = 0., 0\n",
        "\n",
        "        for X_, y_ in tqdm(dataloader):\n",
        "            X_, y_ = X_.to(DEVICE), y_.to(DEVICE)\n",
        "            X_ = X_.reshape(BATCH_SIZE, -1)\n",
        "\n",
        "            pred = model(X_)\n",
        "            loss = loss_function(pred, y_)\n",
        "\n",
        "            optimizer.zero_grad()\n",
        "            loss.backward()\n",
        "            optimizer.step()\n",
        "\n",
        "            epoch_loss += loss.item() * len(X_)\n",
        "            n_corrects += (torch.max(pred, dim=1)[1] == y_).sum().item()\n",
        "\n",
        "        epoch_loss /= n_samples\n",
        "        losses.append(epoch_loss)\n",
        "\n",
        "        epoch_acc = n_corrects / n_samples\n",
        "        accs.append(epoch_acc)\n",
        "\n",
        "        print(f\"Epoch: {epoch+1}\", end=\"\\t\")\n",
        "        print(f\"Loss: {epoch_loss:.4f} - Acc: {epoch_acc:.4f}\")\n",
        "\n",
        "    plot_metrics(losses, accs)\n",
        "\n",
        "\n",
        "if __name__ == '__main__':\n",
        "    mnist_main_routine()\n",
        "\n"
      ]
    }
  ]
}