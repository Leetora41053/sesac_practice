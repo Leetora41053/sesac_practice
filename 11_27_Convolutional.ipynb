{
  "nbformat": 4,
  "nbformat_minor": 0,
  "metadata": {
    "colab": {
      "provenance": [],
      "authorship_tag": "ABX9TyMTYEu/PX0QqydLUkb1SRgv",
      "include_colab_link": true
    },
    "kernelspec": {
      "name": "python3",
      "display_name": "Python 3"
    },
    "language_info": {
      "name": "python"
    }
  },
  "cells": [
    {
      "cell_type": "markdown",
      "metadata": {
        "id": "view-in-github",
        "colab_type": "text"
      },
      "source": [
        "<a href=\"https://colab.research.google.com/github/Leetora41053/sesac_practice/blob/main/11_27_Convolutional.ipynb\" target=\"_parent\"><img src=\"https://colab.research.google.com/assets/colab-badge.svg\" alt=\"Open In Colab\"/></a>"
      ]
    },
    {
      "cell_type": "code",
      "source": [
        "import torch\n",
        "import torch.nn as nn\n",
        "import numpy as np\n",
        "import matplotlib.pyplot as plt\n",
        "from torchvision.datasets import MNIST\n",
        "from torchvision.transforms import ToTensor\n",
        "from torch.utils.data import DataLoader\n",
        "from tqdm import tqdm\n",
        "from torch.optim import SGD"
      ],
      "metadata": {
        "id": "2971cN-hlUpP"
      },
      "execution_count": null,
      "outputs": []
    },
    {
      "cell_type": "code",
      "execution_count": null,
      "metadata": {
        "id": "5c_UkLDIUYtF"
      },
      "outputs": [],
      "source": [
        "'''원본'''\n",
        "\n",
        "class LeNet(nn.Module):\n",
        "  def __init__(self):\n",
        "    super(LeNet, self).__init__()\n",
        "\n",
        "    self.conv1 = nn.Conv2d(in_channels=1, out_channels=6, kernel_size=5, padding=2)\n",
        "    self.conv1_act = nn.Tanh()\n",
        "    self.avg1 = nn.AvgPool2d(kernel_size=2, stride=2)\n",
        "\n",
        "    self.conv2 = nn.Conv2d(in_channels=6, out_channels=16, kernel_size=5, stride=1)\n",
        "    self.conv2_act = nn.Tanh()\n",
        "    self.avg2 = nn.AvgPool2d(kernel_size=2, stride=2)\n",
        "\n",
        "    self.conv3 = nn.Conv2d(in_channels=16, out_channels=120, kernel_size=5, stride=1)\n",
        "    self.conv3_act = nn.Tanh()\n",
        "\n",
        "    self.fc1 = nn.Linear(in_features=120, out_features=84)\n",
        "    self.fc2 = nn.Linear(84, 10)\n",
        "\n",
        "  def forward(self, x):\n",
        "    x = self.conv1(x)\n",
        "    x = self.conv1_act(x)\n",
        "    x = self.avg1(x)\n",
        "\n",
        "    x = self.conv2(x)\n",
        "    x = self.conv2_act(x)\n",
        "    x = self.avg2(x)\n",
        "\n",
        "    x = self.conv3(x)\n",
        "    x = self.conv3_act(x)#(B, 120, 1, 1)-> (120, B*1*1)\n",
        "    x = x.view(x.shape[0], -1)\n",
        "\n",
        "    x = self.fc1(x) # in_features: 채널 수 * 행 * 열\n",
        "    x = self.fc2(x)\n",
        "    #Cross Entropy의 loss_function에서 해주기 때문에 괜찮다\n",
        "    return x\n",
        "\n",
        "a = LeNet\n",
        "#모델링 후 randn으로 input shape를 만들고 레이어를 통과할 때마다 torch shape를 뽑아낸다\n",
        "#input tensor를 해서 스스로 맞는지 검증까지 거친다"
      ]
    },
    {
      "cell_type": "code",
      "source": [
        "'''nn.Seqeuntial'''\n",
        "\n",
        "class LeNet(nn.Module):\n",
        "  def __init__(self):\n",
        "    super(LeNet, self).__init__()\n",
        "\n",
        "    self.layer1 = nn.Sequential(\n",
        "        nn.Conv2d(in_channels=1, out_channels=6, kernel_size=5, padding=2),\n",
        "        nn.Tanh(),\n",
        "        nn.AvgPool2d(kernel_size=2, stride=2),\n",
        "        nn.Conv2d(in_channels=6, out_channels=16, kernel_size=5, stride=1),\n",
        "        nn.Tanh(),\n",
        "        nn.AvgPool2d(kernel_size=2, stride=2),\n",
        "        nn.Conv2d(in_channels=16, out_channels=120, kernel_size=5, stride=1),\n",
        "        nn.Tanh()\n",
        "        )\n",
        "\n",
        "    self.layer2 = nn.Sequential(\n",
        "        nn.Linear(in_features=120, out_features=84),\n",
        "        nn.Linear(84, 10))\n",
        "\n",
        "  def forward(self, x):\n",
        "    x = self.layer1(x)\n",
        "    x = x.view(x.shape[0], -1)\n",
        "    x = self.layer2(x)\n",
        "    return x\n",
        "\n",
        "#모델링 후 randn으로 input shape를 만들고 레이어를 통과할 때마다 torch shape를 뽑아낸다\n",
        "#input tensor를 해서 스스로 맞는지 검증까지 거친다"
      ],
      "metadata": {
        "id": "IEkm-gxBLpOu"
      },
      "execution_count": null,
      "outputs": []
    },
    {
      "cell_type": "code",
      "source": [
        "\n",
        "'''Model Testing'''\n",
        "\n",
        "#BCHW 순서\n",
        "test1 = torch.randn((10, 1, 28, 28))\n",
        "\n",
        "model = LeNet()\n",
        "\n",
        "out1 = model.forward(test1)\n",
        "\n",
        "out1.shape\n"
      ],
      "metadata": {
        "colab": {
          "base_uri": "https://localhost:8080/"
        },
        "id": "8-lQJ1TplDIU",
        "outputId": "1a024426-f50e-49a8-feaa-eddfc124bf8f"
      },
      "execution_count": null,
      "outputs": [
        {
          "output_type": "execute_result",
          "data": {
            "text/plain": [
              "torch.Size([10, 10])"
            ]
          },
          "metadata": {},
          "execution_count": 53
        }
      ]
    },
    {
      "cell_type": "code",
      "source": [
        "\n",
        "\n",
        "'''MNIST'''\n",
        "\n",
        "dataset = MNIST(root='data', train=True, download=True)\n",
        "\n",
        "for img, label in dataset:\n",
        "  print(type(img))\n",
        "  print(type(label))\n",
        "  img = np.array(img)\n",
        "\n",
        "  print(img.shape, img.dtype)\n",
        "  break"
      ],
      "metadata": {
        "colab": {
          "base_uri": "https://localhost:8080/"
        },
        "id": "vuvDanjrn6Nf",
        "outputId": "322190d1-3ab7-464a-e78d-264e49d2f512"
      },
      "execution_count": null,
      "outputs": [
        {
          "output_type": "stream",
          "name": "stdout",
          "text": [
            "<class 'PIL.Image.Image'>\n",
            "<class 'int'>\n",
            "(28, 28) uint8\n"
          ]
        }
      ]
    },
    {
      "cell_type": "code",
      "source": [
        "from torchvision.datasets import MNIST\n",
        "import matplotlib.pyplot as plt\n",
        "\n",
        "dataset = MNIST(root='data', train=True, download=True)\n",
        "\n",
        "fig, ax = plt.subplots(figsize=(5, 5))\n",
        "\n",
        "for img, label in dataset:\n",
        "    ax.imshow(img, cmap='gray')\n",
        "    break"
      ],
      "metadata": {
        "colab": {
          "base_uri": "https://localhost:8080/",
          "height": 445
        },
        "id": "1pyq1Zqvy6XI",
        "outputId": "55071620-8a57-487f-c8fd-c9a6d06b9553"
      },
      "execution_count": null,
      "outputs": [
        {
          "output_type": "display_data",
          "data": {
            "text/plain": [
              "<Figure size 500x500 with 1 Axes>"
            ],
            "image/png": "[encoded data removed]"
          },
          "metadata": {}
        }
      ]
    },
    {
      "cell_type": "code",
      "source": [
        "BATCH_SIZE = 28\n",
        "\n",
        "dataset = MNIST(root='data', train=True, download=True, transform=ToTensor())\n",
        "dataloader = DataLoader(dataset, batch_size=BATCH_SIZE)\n",
        "n_sample = len(dataset)\n",
        "\n",
        "print(n_sample) #데이터에 들어가는 전체 샘플의 개수"
      ],
      "metadata": {
        "colab": {
          "base_uri": "https://localhost:8080/"
        },
        "id": "QwN_z2Hvxzd8",
        "outputId": "3d359b38-d0fe-44f4-9cfb-65ea55529f78"
      },
      "execution_count": null,
      "outputs": [
        {
          "output_type": "stream",
          "name": "stdout",
          "text": [
            "60000\n"
          ]
        }
      ]
    },
    {
      "cell_type": "code",
      "source": [
        "LR = 0.003\n",
        "EPOCHS = 10\n",
        "\n",
        "if torch.cuda.is_available(): DEVICE = 'cuda'\n",
        "elif torch.backends.mps.is_available(): DEVICE = 'mps'\n",
        "else: DEVICE = 'cpu'\n",
        "\n",
        "model = LeNet().to(DEVICE)\n",
        "loss_function = nn.CrossEntropyLoss()\n",
        "optimizer = SGD(model.parameters(), lr=LR)\n",
        "\n",
        "losses, accs = [], []\n",
        "for epoch in range(EPOCHS):\n",
        "    epoch_loss, n_corrects = 0., 0\n",
        "    for X_, y_ in tqdm(dataloader):\n",
        "        X_, y_ = X_.to(DEVICE), y_.to(DEVICE)\n",
        "        # X_ = X_.reshape(BATCH_SIZE, -1) #Linear 선형 모델에서는 일자로 맞춰줘야 하지만 CNN은 넣기만 하면 알아서 계산해줌\n",
        "\n",
        "        pred = model(X_)\n",
        "        loss = loss_function(pred, y_)\n",
        "\n",
        "        optimizer.zero_grad()\n",
        "        loss.backward()\n",
        "        optimizer.step()\n",
        "\n",
        "        epoch_loss += loss.item() * len(X_)\n",
        "        n_corrects += (torch.max(pred, axis=1)[1] == y_).sum().item()\n",
        "\n",
        "    epoch_loss /= n_sample\n",
        "    losses.append(epoch_loss)\n",
        "\n",
        "    epoch_acc = n_corrects / n_sample\n",
        "    accs.append(epoch_acc)\n",
        "\n",
        "    print(f\"Epoch: {epoch + 1}\")\n",
        "    print(f\"Loss: {epoch_loss: .4f}, Acc: {epoch_acc: .4f}\")\n",
        "\n",
        "## nn.Sequential"
      ],
      "metadata": {
        "colab": {
          "base_uri": "https://localhost:8080/"
        },
        "id": "Huk65T27zVS5",
        "outputId": "07e19b2f-ab91-4f27-9ee9-2d78192d89c6"
      },
      "execution_count": null,
      "outputs": [
        {
          "output_type": "stream",
          "name": "stderr",
          "text": [
            "100%|██████████| 2143/2143 [00:32<00:00, 66.14it/s]\n"
          ]
        },
        {
          "output_type": "stream",
          "name": "stdout",
          "text": [
            "Epoch: 1\n",
            "Loss:  2.0794, Acc:  0.3771\n"
          ]
        },
        {
          "output_type": "stream",
          "name": "stderr",
          "text": [
            "100%|██████████| 2143/2143 [00:34<00:00, 62.31it/s]\n"
          ]
        },
        {
          "output_type": "stream",
          "name": "stdout",
          "text": [
            "Epoch: 2\n",
            "Loss:  0.8099, Acc:  0.7732\n"
          ]
        },
        {
          "output_type": "stream",
          "name": "stderr",
          "text": [
            "100%|██████████| 2143/2143 [00:31<00:00, 67.14it/s]\n"
          ]
        },
        {
          "output_type": "stream",
          "name": "stdout",
          "text": [
            "Epoch: 3\n",
            "Loss:  0.4569, Acc:  0.8698\n"
          ]
        },
        {
          "output_type": "stream",
          "name": "stderr",
          "text": [
            "100%|██████████| 2143/2143 [00:34<00:00, 61.62it/s]\n"
          ]
        },
        {
          "output_type": "stream",
          "name": "stdout",
          "text": [
            "Epoch: 4\n",
            "Loss:  0.3677, Acc:  0.8930\n"
          ]
        },
        {
          "output_type": "stream",
          "name": "stderr",
          "text": [
            "100%|██████████| 2143/2143 [00:33<00:00, 63.67it/s]\n"
          ]
        },
        {
          "output_type": "stream",
          "name": "stdout",
          "text": [
            "Epoch: 5\n",
            "Loss:  0.3215, Acc:  0.9056\n"
          ]
        },
        {
          "output_type": "stream",
          "name": "stderr",
          "text": [
            "100%|██████████| 2143/2143 [00:33<00:00, 64.57it/s]\n"
          ]
        },
        {
          "output_type": "stream",
          "name": "stdout",
          "text": [
            "Epoch: 6\n",
            "Loss:  0.2874, Acc:  0.9152\n"
          ]
        },
        {
          "output_type": "stream",
          "name": "stderr",
          "text": [
            "100%|██████████| 2143/2143 [00:37<00:00, 57.32it/s]\n"
          ]
        },
        {
          "output_type": "stream",
          "name": "stdout",
          "text": [
            "Epoch: 7\n",
            "Loss:  0.2589, Acc:  0.9232\n"
          ]
        },
        {
          "output_type": "stream",
          "name": "stderr",
          "text": [
            "100%|██████████| 2143/2143 [00:32<00:00, 65.97it/s]\n"
          ]
        },
        {
          "output_type": "stream",
          "name": "stdout",
          "text": [
            "Epoch: 8\n",
            "Loss:  0.2343, Acc:  0.9300\n"
          ]
        },
        {
          "output_type": "stream",
          "name": "stderr",
          "text": [
            "100%|██████████| 2143/2143 [00:31<00:00, 67.88it/s]\n"
          ]
        },
        {
          "output_type": "stream",
          "name": "stdout",
          "text": [
            "Epoch: 9\n",
            "Loss:  0.2131, Acc:  0.9364\n"
          ]
        },
        {
          "output_type": "stream",
          "name": "stderr",
          "text": [
            "100%|██████████| 2143/2143 [00:34<00:00, 62.55it/s]"
          ]
        },
        {
          "output_type": "stream",
          "name": "stdout",
          "text": [
            "Epoch: 10\n",
            "Loss:  0.1947, Acc:  0.9419\n"
          ]
        },
        {
          "output_type": "stream",
          "name": "stderr",
          "text": [
            "\n"
          ]
        }
      ]
    },
    {
      "cell_type": "markdown",
      "source": [
        "# VGG Model"
      ],
      "metadata": {
        "id": "N1Ju1PSof0jd"
      }
    },
    {
      "cell_type": "code",
      "source": [
        "H, W = 224, 224\n",
        "input_tensor = torch.randn(size=(8, 3, H, W))\n",
        "\n",
        "class VGGNet(nn.Module):\n",
        "    def __init__(self):\n",
        "        super(VGGNet, self).__init__()\n",
        "        self.feature = nn.Sequential(\n",
        "            nn.Conv2d(in_channels=3, out_channels=64, kernel_size=3, padding=1, stride=1),\n",
        "            nn.ReLU(),\n",
        "\n",
        "            nn.MaxPool2d(kernel_size=2, stride=2),\n",
        "\n",
        "            nn.Conv2d(in_channels=64, out_channels=128, kernel_size=3, padding=1, stride=1),\n",
        "            nn.ReLU(),\n",
        "\n",
        "            nn.MaxPool2d(kernel_size=2, stride=2),\n",
        "\n",
        "            nn.Conv2d(in_channels=128, out_channels=256, kernel_size=3, padding=1, stride=1),\n",
        "            nn.ReLU(),\n",
        "            nn.Conv2d(in_channels=256, out_channels=256, kernel_size=3, padding=1, stride=1),\n",
        "            nn.ReLU(),\n",
        "\n",
        "            nn.MaxPool2d(kernel_size=2, stride=2),\n",
        "\n",
        "            nn.Conv2d(in_channels=256, out_channels=512, kernel_size=3, padding=1, stride=1),\n",
        "            nn.ReLU(),\n",
        "            nn.Conv2d(in_channels=512, out_channels=512, kernel_size=3, padding=1, stride=1),\n",
        "            nn.ReLU(),\n",
        "\n",
        "            nn.MaxPool2d(kernel_size=2, stride=2),\n",
        "\n",
        "            nn.Conv2d(in_channels=512, out_channels=512, kernel_size=3, padding=1, stride=1),\n",
        "            nn.ReLU(),\n",
        "            nn.Conv2d(in_channels=512, out_channels=512, kernel_size=3, padding=1, stride=1),\n",
        "            nn.ReLU(),\n",
        "\n",
        "            nn.MaxPool2d(kernel_size=2, stride=2))\n",
        "\n",
        "        self.classifier = nn.Sequential(\n",
        "            nn.Linear(in_features=512*7*7, out_features=4096),\n",
        "            nn.ReLU(),\n",
        "\n",
        "            nn.Linear(in_features=4096, out_features=4096),\n",
        "            nn.ReLU(),\n",
        "\n",
        "            nn.Linear(in_features=4096, out_features=1000))\n",
        "\n",
        "    def forward(self, x):\n",
        "        x = self.feature(x)\n",
        "        # (b, c, h, w)\n",
        "      # torch.view(1차원, 2차원)\n",
        "        x = x.view(x.size(0), -1)\n",
        "      # mlp (b, w) -> (b, 512*7*7)\n",
        "        x = self.classifier(x)\n",
        "        #Cross Entropy의 loss_function에서 해주기 때문에 softmax가 없어도 괜찮음\n",
        "        return x\n",
        "\n",
        "\n",
        "model = VGGNet()\n",
        "model.forward(input_tensor)\n",
        "\n",
        "\n",
        "#모델링 후 randn으로 input shape를 만들고 레이어를 통과할 때마다 torch shape를 뽑아낸다\n",
        "#input tensor를 해서 스스로 맞는지 검증까지 거친다"
      ],
      "metadata": {
        "id": "wBUX3RzAfezL",
        "colab": {
          "base_uri": "https://localhost:8080/"
        },
        "outputId": "8eb90001-59cd-45ad-b789-59c58bd417ab"
      },
      "execution_count": null,
      "outputs": [
        {
          "output_type": "execute_result",
          "data": {
            "text/plain": [
              "tensor([[-0.0090,  0.0099,  0.0073,  ..., -0.0044,  0.0108,  0.0137],\n",
              "        [-0.0090,  0.0099,  0.0073,  ..., -0.0044,  0.0107,  0.0137],\n",
              "        [-0.0090,  0.0099,  0.0073,  ..., -0.0044,  0.0107,  0.0137],\n",
              "        ...,\n",
              "        [-0.0091,  0.0099,  0.0073,  ..., -0.0044,  0.0107,  0.0137],\n",
              "        [-0.0090,  0.0099,  0.0073,  ..., -0.0044,  0.0107,  0.0137],\n",
              "        [-0.0090,  0.0099,  0.0073,  ..., -0.0044,  0.0107,  0.0137]],\n",
              "       grad_fn=<AddmmBackward0>)"
            ]
          },
          "metadata": {},
          "execution_count": 101
        }
      ]
    }
  ]
}