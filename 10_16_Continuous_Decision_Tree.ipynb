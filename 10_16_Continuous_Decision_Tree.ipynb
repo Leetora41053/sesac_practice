{
  "nbformat": 4,
  "nbformat_minor": 0,
  "metadata": {
    "colab": {
      "provenance": [],
      "authorship_tag": "ABX9TyMvh7KkRrGIRMQXm4iocsuU",
      "include_colab_link": true
    },
    "kernelspec": {
      "name": "python3",
      "display_name": "Python 3"
    },
    "language_info": {
      "name": "python"
    }
  },
  "cells": [
    {
      "cell_type": "markdown",
      "metadata": {
        "id": "view-in-github",
        "colab_type": "text"
      },
      "source": [
        "<a href=\"https://colab.research.google.com/github/Leetora41053/sesac_practice/blob/main/10_16_Continuous_Decision_Tree.ipynb\" target=\"_parent\"><img src=\"https://colab.research.google.com/assets/colab-badge.svg\" alt=\"Open In Colab\"/></a>"
      ]
    },
    {
      "cell_type": "markdown",
      "source": [
        "Root node 생성하기"
      ],
      "metadata": {
        "id": "f_4QrQ3eIa0B"
      }
    },
    {
      "cell_type": "code",
      "source": [
        "#0단계. 분기 이전 entropy\n",
        "import numpy as np\n",
        "\n",
        "H = -(3/7*np.log2(3/7) + 2/7*np.log2(2/7) + 2/7*np.log2(2/7))\n",
        "\n",
        "print(H)"
      ],
      "metadata": {
        "colab": {
          "base_uri": "https://localhost:8080/"
        },
        "id": "wtQC5UQDIZ9n",
        "outputId": "067d2f36-f375-438e-fc44-58766c579778"
      },
      "execution_count": null,
      "outputs": [
        {
          "output_type": "stream",
          "name": "stdout",
          "text": [
            "1.5566567074628228\n"
          ]
        }
      ]
    },
    {
      "cell_type": "code",
      "source": [
        "#1단계: root node 구하기 -> 각 feauture로 분기했을 때, IG를 구해보기\n",
        "\n",
        "ev_H = -((3/7)*np.log2(3/7)+(2/7)*np.log2(2/7)+(2/7)*np.log2(2/7))\n",
        "print(ev_H)\n",
        "ev_750_H_ = -((6/7)*(1/2*np.log2(1/2)+1/6*np.log2(1/6)+2/3*np.log2(2/3)))\n",
        "print(ev_750_H_)\n",
        "ev_750_IG = ev_H - ev_750_H_\n",
        "print(\"ev_750_IG: \", ev_750_IG)\n",
        "\n",
        "ev_1350_H_ = -((2/7*2*1/2*np.log2(1/2))+((5/7)*((1/5*np.log2(1/5))+(2*2/5*np.log2(2/5)))))\n",
        "print(ev_1350_H_)\n",
        "ev_1350_IG = ev_H - ev_1350_H_\n",
        "print(\"ev_1350_IG: \", ev_1350_IG)\n",
        "\n",
        "ev_2250_H_ = -(3/7*(2/3*np.log2(2/3)+1/3*np.log2(1/3))+4/7*2*1/2*np.log2(1/2))\n",
        "print(ev_2250_H_)\n",
        "ev_2250_IG = ev_H - ev_2250_H_\n",
        "print(\"ev_2250_IG: \", ev_2250_IG)\n",
        "\n",
        "ev_4175_h = -5/7*((2/5*np.log2(2/5)+3/5*np.log2(3/5)))\n",
        "print(ev_4175_h)\n",
        "ev_4175_IG = ev_H - ev_4175_h\n",
        "print(\"ev_4175_IG: \", ev_4175_IG)\n",
        "\n",
        "stream_h = -(4/7*((1/2*np.log2(1/2))+(1/4*2*np.log2(1/4)))+3/7*(2/3*np.log2(2/3)+(1/3)*np.log2(1/3)))\n",
        "print(stream_h)\n",
        "stream_IG = ev_H - stream_h\n",
        "print(\"stream_IG: \", stream_IG)\n",
        "\n",
        "slope_h = -(5/7*(3/5*np.log2(3/5))+1/5*np.log2(1/5)+1/5*np.log2(1/5))\n",
        "print(slope_h)\n",
        "slope_IG = ev_H - slope_h\n",
        "print(\"slope_IG: \", slope_IG)\n",
        "\n",
        "\n"
      ],
      "metadata": {
        "colab": {
          "base_uri": "https://localhost:8080/"
        },
        "id": "-GMis2rfIw-H",
        "outputId": "9e82c6f1-3d82-4166-dcd6-800de81ef8bf"
      },
      "execution_count": 6,
      "outputs": [
        {
          "output_type": "stream",
          "name": "stdout",
          "text": [
            "1.5566567074628228\n",
            "1.132116071943683\n",
            "ev_750_IG:  0.4245406355191399\n",
            "1.3728057820624016\n",
            "ev_1350_IG:  0.18385092540042125\n",
            "0.9649839288804954\n",
            "ev_2250_IG:  0.5916727785823274\n",
            "0.6935361388961918\n",
            "ev_4175_IG:  0.863120568566631\n",
            "1.2506982145947811\n",
            "stream_IG:  0.30595849286804166\n",
            "1.2446136354547477\n",
            "slope_IG:  0.31204307200807513\n"
          ]
        }
      ]
    },
    {
      "cell_type": "markdown",
      "source": [],
      "metadata": {
        "id": "MRW8AFAoIPb1"
      }
    },
    {
      "cell_type": "code",
      "execution_count": 3,
      "metadata": {
        "id": "Yrc5iLbQIJoH"
      },
      "outputs": [],
      "source": [
        "H = -((3/5*np.log2(3/5))+(2/5*np.log2(2/5)))\n",
        "print(H)\n",
        "ev_750_h = -(4/5*(3/4*np.log2(3/4)+1/4*np.log2(1/4)))\n",
        "print(ev_750_h)\n",
        "ev_750_IG = H - ev_750_h\n",
        "print(\"ev_750_IG: \", ev_750_IG)\n",
        "\n",
        "ev_1350_h = -((2/5*2*1/2*np.log2(1/2))+(3/5*(1/3*np.log2(1/3)+2/3*np.log2(2/3))))\n",
        "print(ev_1350_h)\n",
        "ev_1350_IG = H - ev_1350_h\n",
        "print(\"ev_1350_IG: \", ev_1350_IG)\n",
        "\n",
        "ev_2250_h = -(3/5*(2/3*np.log2(2/3)+1/3*np.log2(1/3)))\n",
        "ev_2250_IG = H - ev_2250_h\n",
        "print(\"ev_2250_IG: \", ev_2250_IG)\n",
        "\n",
        "stream_h = -(3/5*(2/3*np.log2(2/3)+1/3*np.log2(1/3)))\n",
        "stream_IG = H - stream_h\n",
        "print(stream_h)\n",
        "print(\"stream_IG: \", stream_IG)\n",
        "\n",
        "slope_h = -(4/5*(3/4*np.log2(3/4)+1/4*np.log2(1/4)))\n",
        "slope_IG = H - slope_h\n",
        "print(slope_h)\n",
        "print(\"slope_IG: \", slope_IG)\n"
      ]
    },
    {
      "cell_type": "code",
      "source": [
        "#1. elevation 2250으로 분기하는 경우\n",
        "H = -(1/3*np.log2(1/3)+2/3*np.log2(2/3))\n",
        "ev_750_h = -(2/3*2*1/2*np.log2(1/2))\n",
        "ev_750_IG = H - ev_750_h\n",
        "print(ev_750_h)\n",
        "print(\"ev_750_IG: \", ev_750_IG)\n",
        "\n",
        "ev_1350_h = -(2/3*2*1/2*np.log2(1/2))\n",
        "ev_1350_IG = H - ev_1350_h\n",
        "print(ev_1350_h)\n",
        "print(\"ev_1350_IG: \", ev_1350_IG)\n",
        "\n",
        "stream_h = -((2/3*np.log2(1))+(1/3*np.log2(1)))\n",
        "stream_IG = H - stream_h\n",
        "print(stream_h)\n",
        "print(\"stream_IG: \", stream_IG)\n",
        "\n",
        "slope_h = -(2/3*2*1/2*np.log2(1/2))\n",
        "print(slope_h)\n",
        "slope_IG = H - slope_h\n",
        "print(\"slope_IG: \", slope_IG)\n"
      ],
      "metadata": {
        "id": "Z6-TjMwggF_s"
      },
      "execution_count": null,
      "outputs": []
    },
    {
      "cell_type": "code",
      "source": [
        "#2. stream으로 분기하는 경우\n",
        "H = -(1/3*np.log2(1/3)+2/3*np.log2(2/3))\n",
        "ev_750_h = -(2/3*2*1/2*np.log2(1/2))\n",
        "ev_750_IG = H - ev_750_h\n",
        "print(\"ev_750_IG: \", ev_750_IG)\n",
        "\n",
        "ev_1350_h = ev_750_h\n",
        "ev_1350_IG = H - ev_1350_h\n",
        "print(\"ev_1350_IG: \", ev_1350_IG)\n",
        "\n",
        "ev_2250_h = -(2/3*np.log2(1)+1/3*np.log2(1))\n",
        "ev_2250_IG = H - ev_2250_h\n",
        "print(H)\n",
        "print(\"ev_2250_IG: \", ev_2250_IG)\n",
        "\n",
        "slope_h = -(2/3*2*1/2*np.log2(1/2))\n",
        "slope_IG = H - slope_h\n",
        "print(\"slope_IG: \", slope_IG)"
      ],
      "metadata": {
        "id": "hEAYGg1IgLrB"
      },
      "execution_count": null,
      "outputs": []
    }
  ]
}