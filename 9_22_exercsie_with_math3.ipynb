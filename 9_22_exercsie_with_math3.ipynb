{
  "nbformat": 4,
  "nbformat_minor": 0,
  "metadata": {
    "colab": {
      "provenance": [],
      "authorship_tag": "ABX9TyMBmUeeOyj+vwnAf/N3rJL/",
      "include_colab_link": true
    },
    "kernelspec": {
      "name": "python3",
      "display_name": "Python 3"
    },
    "language_info": {
      "name": "python"
    }
  },
  "cells": [
    {
      "cell_type": "markdown",
      "metadata": {
        "id": "view-in-github",
        "colab_type": "text"
      },
      "source": [
        "<a href=\"https://colab.research.google.com/github/Leetora41053/sesac_practice/blob/main/9_22_exercsie_with_math3.ipynb\" target=\"_parent\"><img src=\"https://colab.research.google.com/assets/colab-badge.svg\" alt=\"Open In Colab\"/></a>"
      ]
    },
    {
      "cell_type": "code",
      "execution_count": null,
      "metadata": {
        "colab": {
          "base_uri": "https://localhost:8080/"
        },
        "id": "9tBSvf33sLSO",
        "outputId": "96c2f997-46e2-4132-d562-a9310a343c36"
      },
      "outputs": [
        {
          "output_type": "stream",
          "name": "stdout",
          "text": [
            "[25.0, 30.0, 35.0]\n",
            "[125.0, 125.0, 125.0]\n",
            "[11.180339887498949, 11.180339887498949, 11.180339887498949]\n",
            "[[-1.3416407864998738, -1.3416407864998738, -1.3416407864998738], [-0.4472135954999579, -0.4472135954999579, -0.4472135954999579], [0.4472135954999579, 0.4472135954999579, 0.4472135954999579], [1.3416407864998738, 1.3416407864998738, 1.3416407864998738]]\n",
            "[0.0, 0.0, 0.0]\n"
          ]
        }
      ],
      "source": [
        "#Standardization\n",
        "\n",
        "scores = [\n",
        "    [10, 15, 20],\n",
        "    [20, 25, 30],\n",
        "    [30, 35, 40],\n",
        "    [40, 45, 50]\n",
        "    ]\n",
        "\n",
        "n_student = len(scores)\n",
        "n_class = len(scores[0])\n",
        "\n",
        "class_score_sums = []\n",
        "class_score_means = []\n",
        "\n",
        "class_score_squared_sums = []\n",
        "class_score_squared_means = []\n",
        "class_score_variance =[]\n",
        "class_score_std =[]\n",
        "class_score_standard = []\n",
        "#1. 과목별 평균을 구합니다\n",
        "\n",
        "#sum 값을 초기화합니다.\n",
        "for _ in range(n_class):\n",
        "  class_score_sums.append(0)\n",
        "  class_score_squared_sums.append(0)\n",
        "\n",
        "\n",
        "  #스코어의 총합을 구합니다.\n",
        "for student_score in scores:\n",
        "  for score_idx in range(n_class):\n",
        "    class_score_sums[score_idx] += student_score[score_idx]\n",
        "\n",
        "  #스코어의 평균을 구합니다\n",
        "for mean_idx in range(n_class):\n",
        "  class_score_means.append(class_score_sums[mean_idx] / n_student)\n",
        "\n",
        "print(class_score_means)\n",
        "\n",
        "#2. 분산과 표준 편차를 구합니다\n",
        "\n",
        "#제곱의 평균을 구합니다\n",
        "\n",
        "#제곱의 총합\n",
        "for student_score in scores:\n",
        "  for score_idx in range(n_class):\n",
        "    class_score_squared_sums[score_idx] += student_score[score_idx]**2\n",
        "\n",
        "#\n",
        "for class_idx in range(n_class):\n",
        "  mos = class_score_squared_sums[class_idx]/n_student\n",
        "  som = class_score_means[class_idx]**2\n",
        "\n",
        "  variance = mos - som\n",
        "  std = variance**0.5\n",
        "\n",
        "  class_score_variance.append(variance)\n",
        "  class_score_std.append(std)\n",
        "\n",
        "print(class_score_variance)\n",
        "print(class_score_std)\n",
        "\n",
        "#3. 표준화를 합니다.\n",
        "#(측정값 - 평균) / 표준편차\n",
        "\n",
        "for student_idx in range(n_student):\n",
        "  for class_idx in range(n_class):\n",
        "    score = scores[student_idx][class_idx]\n",
        "    mean = class_score_means[class_idx]\n",
        "    std = class_score_std[class_idx]\n",
        "    scores[student_idx][class_idx] = (score - mean)/std\n",
        "\n",
        "print(scores)\n",
        "\n",
        "#검증\n",
        "class_score_sums = []\n",
        "class_score_means = []\n",
        "\n",
        "for _ in range(n_class):\n",
        "  class_score_sums.append(0)\n",
        "  class_score_squared_sums.append(0)\n",
        "\n",
        "\n",
        "  #스코어의 총합을 구합니다.\n",
        "for student_score in scores:\n",
        "  for score_idx in range(n_class):\n",
        "    class_score_sums[score_idx] += student_score[score_idx]\n",
        "\n",
        "  #스코어의 평균을 구합니다\n",
        "for mean_idx in range(n_class):\n",
        "  class_score_means.append(class_score_sums[mean_idx] / n_student)\n",
        "\n",
        "print(class_score_means)"
      ]
    },
    {
      "cell_type": "markdown",
      "source": [],
      "metadata": {
        "id": "rR69LyAtSbZU"
      }
    },
    {
      "cell_type": "code",
      "source": [
        "#89. Hadamard Product\n",
        "  #3개의 vector를 가진 matrix에 대해 Hadamard Product를 구하기\n",
        "  #column 값도, row 값도 벡터로 생각하면 된다.\n",
        "\n",
        "vectors = [\n",
        "    [1, 11, 21],\n",
        "    [2, 12, 22],\n",
        "    [3, 13, 23],\n",
        "    [4, 14, 24]\n",
        "    ]\n",
        "\n",
        "hadamard = []\n",
        "multiple = 1\n",
        "\n",
        "n_row = len(vectors)\n",
        "n_column = len(vectors[0])\n",
        "\n",
        "\n",
        "#row와 column을 나눠 단순 계산을 진행한다\n",
        "for r_idx in range(n_row):\n",
        "  for c_idx in range(n_column):\n",
        "    multiple *= vectors[r_idx][c_idx]\n",
        "  hadamard.append(multiple)\n",
        "  multiple = 1\n",
        "\n",
        "print(hadamard)"
      ],
      "metadata": {
        "colab": {
          "base_uri": "https://localhost:8080/"
        },
        "id": "Ju92UyrJ8WkN",
        "outputId": "78c1cc56-163c-490f-9402-276b9ca68893"
      },
      "execution_count": null,
      "outputs": [
        {
          "output_type": "stream",
          "name": "stdout",
          "text": [
            "[231, 528, 897, 1344]\n"
          ]
        }
      ]
    },
    {
      "cell_type": "code",
      "source": [
        "#90. Vector Norm\n",
        "#각 리스트의 순서 제곱 총합 후 제곱근\n",
        "\n",
        "vectors = [\n",
        "    [1, 11, 21],\n",
        "    [2, 12, 22],\n",
        "    [3, 13, 23],\n",
        "    [4, 14, 24]\n",
        "    ]\n",
        "\n",
        "n_row = len(vectors) #4\n",
        "n_column = len(vectors[0]) #3\n",
        "\n",
        "vectors_square_sums = []\n",
        "vectors_norm = []\n",
        "\n",
        "for _ in range (n_column):\n",
        "  vectors_square_sums.append(0) # 여기서 빈박스\n",
        "\n",
        "for r_idx in range(n_row):\n",
        "  for c_idx in range(n_column):\n",
        "    vectors_square_sums[c_idx] += vectors[r_idx][c_idx]**2\n",
        "\n",
        "print(vectors_square_sums)\n",
        "\n",
        "for idx in range(n_column):\n",
        "  vectors_norm.append(vectors_square_sums[idx]**0.5)\n",
        "print(vectors_norm)"
      ],
      "metadata": {
        "colab": {
          "base_uri": "https://localhost:8080/",
          "height": 287
        },
        "id": "9fbtnhcAgA1I",
        "outputId": "dcc179cb-598d-493b-fa90-b188a534ab91"
      },
      "execution_count": null,
      "outputs": [
        {
          "output_type": "error",
          "ename": "IndexError",
          "evalue": "ignored",
          "traceback": [
            "\u001b[0;31m---------------------------------------------------------------------------\u001b[0m",
            "\u001b[0;31mIndexError\u001b[0m                                Traceback (most recent call last)",
            "\u001b[0;32m<ipython-input-96-e37d474313bd>\u001b[0m in \u001b[0;36m<cell line: 18>\u001b[0;34m()\u001b[0m\n\u001b[1;32m     18\u001b[0m \u001b[0;32mfor\u001b[0m \u001b[0mr_idx\u001b[0m \u001b[0;32min\u001b[0m \u001b[0mrange\u001b[0m\u001b[0;34m(\u001b[0m\u001b[0mn_row\u001b[0m\u001b[0;34m)\u001b[0m\u001b[0;34m:\u001b[0m\u001b[0;34m\u001b[0m\u001b[0;34m\u001b[0m\u001b[0m\n\u001b[1;32m     19\u001b[0m   \u001b[0;32mfor\u001b[0m \u001b[0mc_idx\u001b[0m \u001b[0;32min\u001b[0m \u001b[0mrange\u001b[0m\u001b[0;34m(\u001b[0m\u001b[0mn_column\u001b[0m\u001b[0;34m)\u001b[0m\u001b[0;34m:\u001b[0m\u001b[0;34m\u001b[0m\u001b[0;34m\u001b[0m\u001b[0m\n\u001b[0;32m---> 20\u001b[0;31m     \u001b[0mvectors_square_sums\u001b[0m\u001b[0;34m[\u001b[0m\u001b[0mc_idx\u001b[0m\u001b[0;34m]\u001b[0m \u001b[0;34m+=\u001b[0m \u001b[0mvectors\u001b[0m\u001b[0;34m[\u001b[0m\u001b[0mr_idx\u001b[0m\u001b[0;34m]\u001b[0m\u001b[0;34m[\u001b[0m\u001b[0mc_idx\u001b[0m\u001b[0;34m]\u001b[0m\u001b[0;34m**\u001b[0m\u001b[0;36m2\u001b[0m\u001b[0;34m\u001b[0m\u001b[0;34m\u001b[0m\u001b[0m\n\u001b[0m\u001b[1;32m     21\u001b[0m \u001b[0;34m\u001b[0m\u001b[0m\n\u001b[1;32m     22\u001b[0m \u001b[0mprint\u001b[0m\u001b[0;34m(\u001b[0m\u001b[0mvectors_square_sums\u001b[0m\u001b[0;34m)\u001b[0m\u001b[0;34m\u001b[0m\u001b[0;34m\u001b[0m\u001b[0m\n",
            "\u001b[0;31mIndexError\u001b[0m: list index out of range"
          ]
        }
      ]
    },
    {
      "cell_type": "code",
      "source": [
        "#91. Unit Vectors 만들기\n",
        "#3개의 vector를 가진 matrix에 대해 각각의 vector를 unit vector로 만들어봅니다\n",
        "\n",
        "#유닛벡터: (x1 / norm , x2 / norm , x3 / norm)의  놈을 구해준다 = 1이된다.\n",
        "\n",
        "  #1. 벡터값을 구합니다\n",
        "vectors = [\n",
        "    [1, 11, 21],\n",
        "    [2, 12, 22],\n",
        "    [3, 13, 23],\n",
        "    [4, 14, 24]\n",
        "    ]\n",
        "\n",
        "n_row = len(vectors) #4\n",
        "n_column = len(vectors[0]) #3\n",
        "\n",
        "vectors_square_sums = []\n",
        "vectors_norm = []\n",
        "vectors_unit = []\n",
        "\n",
        "  #초기화\n",
        "for _ in range (n_column):\n",
        "  vectors_square_sums.append(0)\n",
        "\n",
        " #제곱한 벡터 값들을 합해줍니다\n",
        "for r_idx in range(n_row):\n",
        "  for c_idx in range(n_column):\n",
        "    vectors_square_sums[c_idx] += vectors[r_idx][c_idx]**2\n",
        "\n",
        "print(vectors_square_sums)\n",
        "\n",
        "for idx in range(n_column):\n",
        "  vectors_norm.append(vectors_square_sums[idx]**0.5)\n",
        "print(vectors_norm)\n",
        "\n",
        "\n",
        "  #2. 유닛벡터값을 구합니다.\n",
        "\n",
        "  #초기화\n",
        "for _ in range (n_column):\n",
        "  vectors_square_sums.append(0)\n",
        "\n",
        "  #벡터에서 norm값을 나누어줍니다\n",
        "for r_idx in range(n_row):\n",
        "  for c_idx in range(n_column):\n",
        "    vectors[r_idx][c_idx] /= vectors_norm[c_idx]\n",
        "\n",
        "print(vectors)\n",
        "\n",
        "#---\n",
        "\n",
        "unit_vectors_square_sums = []\n",
        "unit_vectors_norm = []\n",
        "\n",
        "#unit_vector 초기화\n",
        "for _ in range (n_column):\n",
        "  unit_vectors_square_sums.append(0)\n",
        "\n",
        "for r_idx in range(n_row):\n",
        "  for c_idx in range(n_column):\n",
        "    unit_vectors_square_sums[c_idx] += vectors[r_idx][c_idx]**2\n",
        "\n",
        "print(unit_vectors_square_sums)\n",
        "\n",
        "for idx in range(n_column):\n",
        "  unit_vectors_norm.append(unit_vectors_square_sums[idx]**0.5)\n",
        "print(unit_vectors_norm)"
      ],
      "metadata": {
        "colab": {
          "base_uri": "https://localhost:8080/"
        },
        "id": "-qYBGfjfg98V",
        "outputId": "b2a5fb1f-153f-4534-89a9-41c706caf3f9"
      },
      "execution_count": null,
      "outputs": [
        {
          "output_type": "stream",
          "name": "stdout",
          "text": [
            "[30, 630, 2030]\n",
            "[5.477225575051661, 25.099800796022265, 45.05552130427524]\n",
            "[[0.18257418583505536, 0.4382504900892777, 0.46609159969939906], [0.3651483716701107, 0.4780914437337575, 0.4882864377803228], [0.5477225575051661, 0.5179323973782373, 0.5104812758612466], [0.7302967433402214, 0.5577733510227171, 0.5326761139421703]]\n",
            "[0.9999999999999998, 1.0000000000000002, 1.0]\n",
            "[0.9999999999999999, 1.0, 1.0]\n"
          ]
        }
      ]
    },
    {
      "cell_type": "code",
      "source": [
        "#92. 내적 구하기\n",
        "#2개의 vector를 가진 matrix에 대해 두 vector의 dot product를 구한다\n",
        "\n",
        "#Tip: 내적의 일반식은 두 벡터의 요소들을 곱해준 것의 총 합\n",
        "\n",
        "vectors = [[1, 11], [2, 12], [3, 13], [4, 14]]\n",
        "\n",
        "n_row = len(vectors)\n",
        "n_column = len(vectors[0])\n",
        "\n",
        "dot_product_sum = 0\n",
        "\n",
        "for r_idx in range(n_row):\n",
        "  dot_product_sum += vectors[r_idx][0] * vectors[r_idx][1]\n",
        "\n",
        "print(dot_product_sum)\n"
      ],
      "metadata": {
        "colab": {
          "base_uri": "https://localhost:8080/"
        },
        "id": "1kAyojPYxcS9",
        "outputId": "6a558462-de5f-43af-87f8-3e14360ec1d6"
      },
      "execution_count": null,
      "outputs": [
        {
          "output_type": "stream",
          "name": "stdout",
          "text": [
            "130\n"
          ]
        }
      ]
    },
    {
      "cell_type": "code",
      "source": [
        "#93. Euclidean Distance\n",
        "#2개의 Vector를 가진 matrix에 대해 두 vector의 Euclidean distance를 구해봐용\n",
        "\n",
        "#Tip: Euclidean Distance : (x1 - x2)**2의 합\n",
        "\n",
        "vectors = [[1, 11], [2, 12], [3, 13], [4, 14]]\n",
        "\n",
        "n_row = len(vectors)\n",
        "n_column = len(vectors[0])\n",
        "\n",
        "euclidean_distance = 0\n",
        "for r_idx in range(n_row):\n",
        "  euclidean_distance += (vectors[r_idx][0] - vectors[r_idx][1])**2\n",
        "\n",
        "print(euclidean_distance**0.5)"
      ],
      "metadata": {
        "colab": {
          "base_uri": "https://localhost:8080/"
        },
        "id": "JKxCcZ0NzAml",
        "outputId": "58fe9523-71c9-4339-8dfe-dfa03ee6ed8e"
      },
      "execution_count": null,
      "outputs": [
        {
          "output_type": "stream",
          "name": "stdout",
          "text": [
            "20.0\n"
          ]
        }
      ]
    },
    {
      "cell_type": "code",
      "source": [
        "\n",
        "\n",
        "#94. 과목별 최고점, 최우수 학생 구하기\n",
        "#최댓값, 최댓값의 위치를 구하는 방법을 확장하여\n",
        "#3과목의 성적을 가진 matrix에서 과목별 최고점, 최우수 학생을 구하는 방법에 대해 배워봅니다.\n",
        "\n",
        "#Tip #76 #73 참조\n",
        "\n",
        "  #예상 출력값: Max scores: 70, 80, 60 / Max score indicates 2, 3, 1\n",
        "\n",
        "#1. 과목별 스코어를 뽑기\n",
        "#2. 가장 높은 값을 출력하기\n",
        "#3. 출력한 가장 높은 값을 Max score 벡터에 집어넣기\n",
        "#4. 최대값의 클래스 위치를 알려주기\n",
        "\n",
        "scores = [\n",
        "    [10, 40, 20],\n",
        "    [50, 20, 60],\n",
        "    [70, 40, 30],\n",
        "    [30, 80, 40]\n",
        "    ]\n",
        "\n",
        "#0. 빈 데이터 공간 만들어주기\n",
        "n_student = len(scores)\n",
        "n_class = len(scores[0])\n",
        "\n",
        "max_scores = []\n",
        "max_indicator = []\n",
        "\n",
        "for _ in range(n_class):\n",
        "  max_scores.append(0)\n",
        "  max_indicator.append(0)\n",
        "\n",
        "#1. 과목별 스코어를 뽑기\n",
        "\n",
        "M , m = None, None\n",
        "for class_idx in range(n_class):\n",
        "  for student_idx in range(n_student):\n",
        "    if M == None or scores[student_idx][class_idx] > M:\n",
        "      M = score\n",
        "    if m == None or scores[student_idx][class_idx] < m:\n",
        "      m = score\n",
        "\n",
        "print(M,m)"
      ],
      "metadata": {
        "colab": {
          "base_uri": "https://localhost:8080/"
        },
        "id": "dMxWnJ17ztM5",
        "outputId": "020dee13-1e9f-4d44-ef3c-23d7aea1cdef"
      },
      "execution_count": null,
      "outputs": [
        {
          "output_type": "stream",
          "name": "stdout",
          "text": [
            "50 50\n"
          ]
        }
      ]
    },
    {
      "cell_type": "code",
      "source": [],
      "metadata": {
        "id": "nsIQ1Y9NJB10"
      },
      "execution_count": null,
      "outputs": []
    }
  ]
}