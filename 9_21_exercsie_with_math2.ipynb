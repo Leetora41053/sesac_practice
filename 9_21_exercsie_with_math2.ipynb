{
  "nbformat": 4,
  "nbformat_minor": 0,
  "metadata": {
    "colab": {
      "provenance": [],
      "authorship_tag": "ABX9TyMMkkvpYCw2eRzXF3rqehJC",
      "include_colab_link": true
    },
    "kernelspec": {
      "name": "python3",
      "display_name": "Python 3"
    },
    "language_info": {
      "name": "python"
    }
  },
  "cells": [
    {
      "cell_type": "markdown",
      "metadata": {
        "id": "view-in-github",
        "colab_type": "text"
      },
      "source": [
        "<a href=\"https://colab.research.google.com/github/Leetora41053/sesac_practice/blob/main/9_21_exercsie_with_math2.ipynb\" target=\"_parent\"><img src=\"https://colab.research.google.com/assets/colab-badge.svg\" alt=\"Open In Colab\"/></a>"
      ]
    },
    {
      "cell_type": "code",
      "execution_count": null,
      "metadata": {
        "colab": {
          "base_uri": "https://localhost:8080/"
        },
        "id": "CLRhZEaZQ6zC",
        "outputId": "e993e108-9bce-4ad7-b3fe-277fc21cbb47"
      },
      "outputs": [
        {
          "output_type": "stream",
          "name": "stdout",
          "text": [
            "Accuracy[%] : 57.14285714285714 %\n"
          ]
        }
      ],
      "source": [
        "#77. Accuracy구하기\n",
        "#정확도: 모델의 예측값이 얼마나 잘 맞는지 볼 수 있음\n",
        "\n",
        "#예측치를 설정합니다\n",
        "predictions = [0 , 1, 0, 2, 1, 2, 0]\n",
        "\n",
        "#실제 모델\n",
        "labels = [1, 1, 0, 0, 1, 2, 1]\n",
        "n_correct = 0\n",
        "\n",
        "for pred_idx in range(len(predictions)):\n",
        "  if predictions[pred_idx] == labels[pred_idx]:\n",
        "    n_correct += 1\n",
        "\n",
        "accuracy = n_correct / len(predictions)\n",
        "print(\"Accuracy[%] :\",accuracy*100, '%')"
      ]
    },
    {
      "cell_type": "markdown",
      "source": [
        "###Confusion Vector 구하기\n",
        "Confusion Matrix\n",
        "정의: 모델의 성능평가 지표"
      ],
      "metadata": {
        "id": "8NiZp2QhSbKg"
      }
    },
    {
      "cell_type": "code",
      "source": [
        "#0~77까지 배운 내용을 이용해 confusion vector를 만들어보기\n",
        "\n",
        "#confusion vector: 얼만큼 일치가 되었는지 표기하는 방법\n",
        "\n",
        "predictions = [0 , 1, 0, 2, 1, 2, 0]\n",
        "labels = [1, 1, 0, 0, 1, 2, 1]\n",
        "\n",
        "n_classes = None\n",
        "for label in labels:\n",
        "  if n_classes == None or label > n_classes:\n",
        "    n_classes = label\n",
        "n_classes += 1\n",
        "\n",
        "class_cnts, correct_cnts, confusion_vec = [], [], []\n",
        "\n",
        "for _ in range(n_classes):\n",
        "  class_cnts.append(0)\n",
        "  correct_cnts.append(0)\n",
        "  confusion_vec.append(None)\n",
        "\n",
        "for pred_idx in range(len(predictions)):\n",
        "  pred = predictions[pred_idx]\n",
        "  label = labels[pred_idx]\n",
        "\n",
        "  class_cnts[label] += 1\n",
        "  if pred == label:\n",
        "    correct_cnts[label] += 1\n",
        "\n",
        "for class_idx in range(n_classes):\n",
        "  c\n",
        "  confusion_vec[class_idx] = correct_cnts[class_idx] / class_cnts[class_idx]\n",
        "print(\"confusion vector: \", confusion_vec)\n",
        "# 0 , 1, 2 의 실제 정답인 비율"
      ],
      "metadata": {
        "colab": {
          "base_uri": "https://localhost:8080/"
        },
        "id": "yNieR-9MUbG8",
        "outputId": "b2218e2d-786d-443a-cfd8-d3eac1c3c7e8"
      },
      "execution_count": null,
      "outputs": [
        {
          "output_type": "stream",
          "name": "stdout",
          "text": [
            "confusion vector:  [0.5, 0.5, 1.0]\n"
          ]
        }
      ]
    },
    {
      "cell_type": "code",
      "source": [
        "#79. Histogram 구하기\n",
        "\n",
        "#For loop와  if statement를 이용해 histogram을 구하는 방법을 배운다\n",
        "\n",
        "scores = [50, 20, 30, 40, 10, 50, 70, 80, 90, 20, 30]\n",
        "cutoffs = [0, 20, 40, 60, 80]\n",
        "histogram = [0,0,0,0,0]\n",
        "\n",
        "for score in scores:\n",
        "  if score > cutoffs[4]:\n",
        "    histogram[4] += 1\n",
        "  elif score > cutoffs[3]:\n",
        "    histogram[3] += 1\n",
        "  elif score > cutoffs[2]:\n",
        "    histogram[2] += 1\n",
        "  elif score > cutoffs[1]:\n",
        "    histogram[1] += 1\n",
        "  elif score > cutoffs[0]:\n",
        "    histogram[0] += 1\n",
        "  else:\n",
        "    pass\n",
        "print(\"histogram of the score: \", histogram)"
      ],
      "metadata": {
        "colab": {
          "base_uri": "https://localhost:8080/"
        },
        "id": "RNYqVSOoUbtB",
        "outputId": "d50de422-ead4-48f7-98c2-eec95d5c4342"
      },
      "execution_count": null,
      "outputs": [
        {
          "output_type": "stream",
          "name": "stdout",
          "text": [
            "histogram of the score:  [3, 3, 2, 2, 1]\n"
          ]
        }
      ]
    },
    {
      "cell_type": "code",
      "source": [
        "#80. 절댓값 구하기\n",
        "#for loop & if statement를 이용해 원소들의 절댓값을 가진 list를 만드는 방법을 익힌다\n",
        "\n",
        "numbers = [-2, 2, -1, 3, -4, 9]\n",
        "\n",
        "#절대값으로 바꿔줄 빈 리스트 생성\n",
        "abs_numbers = []\n",
        "\n",
        "for num in numbers:\n",
        "  #numbers의 원소가 0보다 작으면 -num 으로 변환해 절대값으로 출력\n",
        "  if num < 0:\n",
        "    abs_numbers.append(-num)\n",
        "  else:\n",
        "    abs_numbers.append(num)\n",
        "\n",
        "print(abs_numbers)"
      ],
      "metadata": {
        "id": "OpV1sKUeghu2"
      },
      "execution_count": null,
      "outputs": []
    },
    {
      "cell_type": "code",
      "source": [
        "#81. Manhattan Distance\n",
        "#원소들의 절대값을 가진 list를 만드는 방법을 이용해 Manhattan distance를 구한다\n",
        "\n",
        "v1 = [1, 3, 5, 2, 1, 5, 2]\n",
        "v2 = [2, 3, 1, 5, 2, 1, 3]\n",
        "\n",
        "m_distance = 0\n",
        "for dim_idx in range(len(v1)):\n",
        "  #for문을 통해 substraction을 구하기\n",
        "  sub = v1[dim_idx] - v2[dim_idx]\n",
        "  #차가 -라면 빼주어 더해주기\n",
        "  if sub < 0:\n",
        "    m_distance += -sub\n",
        "  else:\n",
        "    m_distance += sub\n",
        "print(\"Manhattan distance: \", m_distance)"
      ],
      "metadata": {
        "colab": {
          "base_uri": "https://localhost:8080/"
        },
        "id": "JVkLhhdUibLo",
        "outputId": "7e4f92a3-aad8-46da-e7d5-c59b02b239f7"
      },
      "execution_count": null,
      "outputs": [
        {
          "output_type": "stream",
          "name": "stdout",
          "text": [
            "Manhattan distance:  14\n"
          ]
        }
      ]
    },
    {
      "cell_type": "code",
      "source": [
        "#82. Nested List 만들기 & 원소 접근하기\n",
        "#2차원 정보를 List로 만드는 방법과 각 원소에 접근하면 나오는 결과를 연습\n",
        "\n",
        "scores = [[10, 20, 30],[50, 60, 70]]\n",
        "\n",
        "print(scores)\n",
        "print(scores[0])\n",
        "print(scores[1])\n",
        "print(scores[0][0], scores[0][1], scores[0][2])\n",
        "print(scores[1][0], scores[1][1], scores[1][2])\n"
      ],
      "metadata": {
        "colab": {
          "base_uri": "https://localhost:8080/"
        },
        "id": "9LpeUP5ejwY9",
        "outputId": "ab3375bd-0a21-4b2c-b8a5-28eb600db11f"
      },
      "execution_count": null,
      "outputs": [
        {
          "output_type": "stream",
          "name": "stdout",
          "text": [
            "[[10, 20, 30], [50, 60, 70]]\n",
            "[10, 20, 30]\n",
            "[50, 60, 70]\n",
            "10 20 30\n",
            "50 60 70\n"
          ]
        }
      ]
    },
    {
      "cell_type": "code",
      "source": [
        "#83. Nested List 원소 접근하기(2)\n",
        "\n",
        "#for loop을 통해 2차원 List의 원소에 접근하는 방법을 연습한다.\n",
        "\n",
        "scores = [[10, 20, 30],[50, 60, 70]]\n",
        "\n",
        "for student_scores in scores:\n",
        "  print(student_scores)\n",
        "  for score in student_scores:\n",
        "    print(score)"
      ],
      "metadata": {
        "colab": {
          "base_uri": "https://localhost:8080/"
        },
        "id": "zxr9VkNXli3K",
        "outputId": "c4256cc9-0214-45d6-b4d6-7aae883cee03"
      },
      "execution_count": null,
      "outputs": [
        {
          "output_type": "stream",
          "name": "stdout",
          "text": [
            "[10, 20, 30]\n",
            "10\n",
            "20\n",
            "30\n",
            "[50, 60, 70]\n",
            "50\n",
            "60\n",
            "70\n"
          ]
        }
      ]
    },
    {
      "cell_type": "code",
      "source": [
        "#84.(실습) 학생별 점수 평균 구하기\n",
        "\n",
        "scores = [[10, 15, 20], [20, 25, 30], [30, 35, 40], [40, 45, 50]]\n",
        "\n",
        "n_class = len(scores[0])\n",
        "student_score_mean = []\n",
        "\n",
        "for student_scores in scores:\n",
        "  student_score_sum = 0\n",
        "  for score in student_scores:\n",
        "    student_score_sum += score\n",
        "  student_score_means.append(student_score_sum/n_class)\n",
        "\n",
        "print(\"mean of students\", student_score_means)\n",
        "\n"
      ],
      "metadata": {
        "colab": {
          "base_uri": "https://localhost:8080/"
        },
        "id": "yyHrqxr5mUNw",
        "outputId": "4ea59124-829e-4b82-e9e1-e1e02a1bf794"
      },
      "execution_count": null,
      "outputs": [
        {
          "output_type": "stream",
          "name": "stdout",
          "text": [
            "mean of students [15.0, 25.0, 35.0, 45.0]\n"
          ]
        }
      ]
    },
    {
      "cell_type": "code",
      "source": [
        "#85. 과목별 평균 점수 구하기\n",
        "\n",
        "scores = [[10, 15, 20], [20, 25, 30], [30, 35, 40], [40, 45, 50]]\n",
        "\n",
        "n_student = len(scores)\n",
        "n_class = len(scores[0])\n",
        "\n",
        "class_score_sums = list()\n",
        "class_score_means = list()\n",
        "\n",
        "#set the sum of class scores as 0\n",
        "for _ in range(n_class):\n",
        "  class_score_sums.append(0)\n",
        "\n",
        "#calculate the sum of class scores\n",
        "for student_score in scores:\n",
        "  for class_idx in range(n_class):\n",
        "    class_score_sums[class_idx] += student_score[class_idx]\n",
        "\n",
        "print(\"sum of classes' scores: \",class_score_sums)\n",
        "\n",
        "#calculate the mean of class scores\n",
        "for class_idx in range(n_class):\n",
        "  class_score_means.append(class_score_sums[class_idx]/n_student)\n",
        "print(\"mean of classes' scores:\", class_score_means)\n",
        "\n",
        "#sum of classes’ scores : [100, 120, 140]\n",
        "#mean of classes’ scores : [25.0, 30.0, 35.0]\n"
      ],
      "metadata": {
        "colab": {
          "base_uri": "https://localhost:8080/"
        },
        "id": "KtA6nUcdtHhJ",
        "outputId": "e796899f-2b1c-4199-9cc4-62a691483160"
      },
      "execution_count": 53,
      "outputs": [
        {
          "output_type": "stream",
          "name": "stdout",
          "text": [
            "sum of classes' scores:  [100, 120, 140]\n",
            "mean of classes' scores: [25.0, 30.0, 35.0]\n"
          ]
        }
      ]
    },
    {
      "cell_type": "code",
      "source": [
        "#86. mean substraction - 과목별\n",
        "#각 배열은 학생으로 나누어져 있고, 각 원소는 성적으로 나누어져 있다. mean substraction 후 평균을 뽑아내라.\n",
        "\n",
        "scores = [\n",
        "  [10, 15, 20],\n",
        "  [20, 25, 30],\n",
        "  [30, 35, 40],\n",
        "  [40, 45, 50]\n",
        "]\n",
        "\n",
        "n_student = len(scores) #-> 4개\n",
        "n_class = len(scores[0]) #-> 3개\n",
        "\n",
        "class_score_sums = []\n",
        "class_score_means = []\n",
        "\n",
        "#---\n",
        "#과목 총합을 0으로 초기화하라\n",
        "for _ in range(n_class):\n",
        "  class_score_sums.append(0)\n",
        "\n",
        "\n",
        "#과목의 총합을 계산하라\n",
        "for student_score in scores:\n",
        "  for class_idx in range(n_class):\n",
        "    class_score_sums[class_idx] += student_score[class_idx]\n",
        "\n",
        "print(\"과목의 총합은 \",class_score_sums)\n",
        "\n",
        "#과목의 평균들을 구하라\n",
        "for class_idx in range(n_class):\n",
        "  class_score_means.append(class_score_sums[class_idx]/n_student)\n",
        "print(\"과목의 평균들은:\", class_score_means)\n",
        "\n",
        "#---\n",
        "class_score_sums = []\n",
        "\n",
        "#과목별 실제치에서 평균차를 구하라\n",
        "for student_idx in range(n_student):\n",
        "  for class_idx in range(n_class):\n",
        "    scores[student_idx][class_idx] -= class_score_means[class_idx]\n",
        "print(scores)\n",
        "\n",
        "class_score_means = []\n",
        "#과목 총합을 0으로 초기화하라\n",
        "for _ in range(n_class):\n",
        "  class_score_sums.append(0)\n",
        "\n",
        "#평균차된 값들의 과목별 합을 구하라\n",
        "for student_score in scores:\n",
        "  for class_idx in range(n_class):\n",
        "    class_score_sums[class_idx] += student_score[class_idx]\n",
        "\n",
        "for class_idx in range(n_class):\n",
        "  class_score_means.append(class_score_sums[class_idx]/n_student)\n",
        "print(class_score_means)\n",
        "\n",
        "print(\"mean of classes' scores: \", class_score_means)\n"
      ],
      "metadata": {
        "colab": {
          "base_uri": "https://localhost:8080/"
        },
        "id": "eAy947EAvuwq",
        "outputId": "924cd45c-b5a8-4336-f8c8-aa997bcaa4f1"
      },
      "execution_count": 131,
      "outputs": [
        {
          "output_type": "stream",
          "name": "stdout",
          "text": [
            "과목의 총합은  [100, 120, 140]\n",
            "과목의 평균들은: [25.0, 30.0, 35.0]\n",
            "[[-15.0, -15.0, -15.0], [-5.0, -5.0, -5.0], [5.0, 5.0, 5.0], [15.0, 15.0, 15.0]]\n",
            "[0.0, 0.0, 0.0]\n",
            "mean of classes' scores:  [0.0, 0.0, 0.0]\n"
          ]
        }
      ]
    },
    {
      "cell_type": "code",
      "source": [
        "#87. 분산과 표준편차\n",
        "\n",
        "scores = [[10, 15, 20], [20, 25, 30], [30, 35, 40], [40, 45, 50]]\n",
        "\n",
        "n_student = len(scores)\n",
        "n_class = len(scores[0])\n",
        "\n",
        "class_score_sums = list()\n",
        "class_score_square_sums = list()\n",
        "\n",
        "class_score_variance = []\n",
        "class_score_std = []\n",
        "\n",
        "#0으로 초기화 시켜주기\n",
        "for _ in range(n_class):\n",
        "  class_score_sums.append(0)\n",
        "  class_score_square_sums.append(0)\n",
        "\n",
        "#수업 별 총합과 제곱된 총합을 구합니다.\n",
        "for student_score in scores:\n",
        "  for class_idx in range(n_class) :\n",
        "    class_score_sums[class_idx] += student_score[class_idx]\n",
        "    class_score_square_sums[class_idx] += student_score[class_idx]**2\n",
        "\n",
        "#각 수업의 분산을 구합니다\n",
        "\n",
        "for class_idx in range(n_class):\n",
        "  #제평\n",
        "  mos = class_score_square_sums[class_idx]/n_student\n",
        "  #평제\n",
        "  som = (class_score_sums[class_idx]/ n_student)**2\n",
        "\n",
        "  variance = mos - som\n",
        "  std = variance**0.5\n",
        "\n",
        "  class_score_variance.append(variance)\n",
        "  class_score_std.append(std)\n",
        "\n",
        "  print(variance)\n",
        "  print(std)"
      ],
      "metadata": {
        "id": "emeMDdW3IuOz",
        "colab": {
          "base_uri": "https://localhost:8080/"
        },
        "outputId": "572f42a3-f831-4ee6-f625-491b1c69c552"
      },
      "execution_count": 135,
      "outputs": [
        {
          "output_type": "stream",
          "name": "stdout",
          "text": [
            "125.0\n",
            "11.180339887498949\n",
            "125.0\n",
            "11.180339887498949\n",
            "125.0\n",
            "11.180339887498949\n"
          ]
        }
      ]
    }
  ]
}