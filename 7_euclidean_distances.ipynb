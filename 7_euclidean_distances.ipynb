{
  "nbformat": 4,
  "nbformat_minor": 0,
  "metadata": {
    "colab": {
      "provenance": [],
      "authorship_tag": "ABX9TyP3+d8t3Raihz6drji97rkI",
      "include_colab_link": true
    },
    "kernelspec": {
      "name": "python3",
      "display_name": "Python 3"
    },
    "language_info": {
      "name": "python"
    }
  },
  "cells": [
    {
      "cell_type": "markdown",
      "metadata": {
        "id": "view-in-github",
        "colab_type": "text"
      },
      "source": [
        "<a href=\"https://colab.research.google.com/github/Leetora41053/sesac_practice/blob/main/7_euclidean_distances.ipynb\" target=\"_parent\"><img src=\"https://colab.research.google.com/assets/colab-badge.svg\" alt=\"Open In Colab\"/></a>"
      ]
    },
    {
      "cell_type": "markdown",
      "source": [
        "KNN 구현 시작 테스트 데이터와 dataset에 들어있는 샘플들 사이의 거리 구하기\n",
        "(2,) ~ (400,2)"
      ],
      "metadata": {
        "id": "vVrcDFlcQchm"
      }
    },
    {
      "cell_type": "code",
      "execution_count": null,
      "metadata": {
        "id": "R92LMuVPQWLp"
      },
      "outputs": [],
      "source": [
        "import numpy as np\n",
        "import matplotlib.pyplot as plt\n",
        "\n",
        "#e_distance = (x1 - x2)**2 + (y1 - y2)**2 + (z1 - z2)**2\n",
        "#e_distance **= 0.5\n",
        "\n",
        "#X[0]가 test data\n",
        "\n",
        "\n",
        "n_classes = 4\n",
        "n_data = 100\n",
        "y_data = []\n",
        "x_data = []\n",
        "centroids = []\n",
        "\n",
        "for _ in range(n_classes):\n",
        "\tcentroid = np.random.uniform(low = -10, high = 10, size = (2, ))\n",
        "\tx_data_ = np.random.normal(loc = centroid, scale = 1, size = (n_data,2))\n",
        "\tcentroids.append(centroid)\n",
        "\tx_data.append(x_data_)\n",
        "\n",
        "for class_idx in range(n_classes):\n",
        "\ty_data_ = class_idx * np.ones(100, )\n",
        "\ty_data.append(y_data_)\n",
        "\n",
        "X = np.array(x_data).reshape(-1, 2) #(400, 2)\n",
        "y = np.array(y_data).reshape(-1,) # (400, )\n",
        "\n",
        "test_data = X[0] #(400, 2)\n",
        "test1 = X - X[0] #(400, 2)\n",
        "e_distance = (test1)**2\n",
        "\n",
        "\n",
        "e_distance = np.sum(e_distance, axis = 1)\n",
        "e_distance = e_distance**0.5\n",
        "\n",
        "print(e_distance.shape)\n",
        "print(e_distance)"
      ]
    }
  ]
}