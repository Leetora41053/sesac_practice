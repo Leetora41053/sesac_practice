{
  "nbformat": 4,
  "nbformat_minor": 0,
  "metadata": {
    "colab": {
      "provenance": [],
      "authorship_tag": "ABX9TyO4A9QF25JvZTzMtDa1q0GU",
      "include_colab_link": true
    },
    "kernelspec": {
      "name": "python3",
      "display_name": "Python 3"
    },
    "language_info": {
      "name": "python"
    }
  },
  "cells": [
    {
      "cell_type": "markdown",
      "metadata": {
        "id": "view-in-github",
        "colab_type": "text"
      },
      "source": [
        "<a href=\"https://colab.research.google.com/github/Leetora41053/sesac_practice/blob/main/9_20_exercsie_with_math.ipynb\" target=\"_parent\"><img src=\"https://colab.research.google.com/assets/colab-badge.svg\" alt=\"Open In Colab\"/></a>"
      ]
    },
    {
      "cell_type": "code",
      "source": [
        "#47. 두 과목의 평균 구하기\n",
        "\n",
        "math_scores = [40, 60, 80]\n",
        "english_scores = [30, 40, 50]\n",
        "\n",
        "n_class = 2\n",
        "n_student = len(math_scores)\n",
        "\n",
        "score_sums = []\n",
        "score_means = []\n",
        "\n",
        "for _ in range(n_class):\n",
        "  score_sums.append(0)\n",
        "\n",
        "for score_idx in range (n_student):\n",
        "  score_sums[0] += math_scores[score_idx]\n",
        "  score_sums[1] += english_scores[score_idx]\n",
        "\n",
        "print(score_sums)\n",
        "\n",
        "for class_idx in range(n_class):\n",
        "  class_mean = score_sums[class_idx] / n_student\n",
        "  score_means.append(class_mean)\n",
        "print(score_means)"
      ],
      "metadata": {
        "colab": {
          "base_uri": "https://localhost:8080/"
        },
        "id": "LZUpRvT6MUOB",
        "outputId": "1115c9e0-fb8f-4426-b055-922e93e622bb"
      },
      "execution_count": 5,
      "outputs": [
        {
          "output_type": "stream",
          "name": "stdout",
          "text": [
            "[180, 120]\n",
            "[60.0, 40.0]\n"
          ]
        }
      ]
    },
    {
      "cell_type": "code",
      "execution_count": 6,
      "metadata": {
        "colab": {
          "base_uri": "https://localhost:8080/"
        },
        "id": "f27YP548KQFZ",
        "outputId": "1b9f6c66-96d7-42d0-ec17-071383b4b591"
      },
      "outputs": [
        {
          "output_type": "stream",
          "name": "stdout",
          "text": [
            "[-20.0, 0.0, 20.0]\n",
            "[-10.0, 0.0, 10.0]\n"
          ]
        }
      ],
      "source": [
        "#48. Mean Subtraction\n",
        "\n",
        "math_scores = [40, 60, 80]\n",
        "english_scores = [30, 40, 50]\n",
        "\n",
        "n_student = len(math_scores)\n",
        "\n",
        "for student_idx in range(n_student):\n",
        "  math_scores[student_idx] -= score_means[0]\n",
        "  english_scores[student_idx] -= score_means[1]\n",
        "\n",
        "\n",
        "print(math_scores)\n",
        "print(english_scores)"
      ]
    },
    {
      "cell_type": "code",
      "source": [
        "#49. 분산과 표준편차\n",
        "\n",
        "scores = [10, 20, 30]\n",
        "n_student = len(scores)\n",
        "score_sum, score_square_sum = 0, 0\n",
        "\n",
        "for score in scores:\n",
        "  score_sum += score\n",
        "  score_square_sum += score**2\n",
        "\n",
        "mean = score_sum / n_student\n",
        "square_of_mean = mean**2\n",
        "mean_of_square = score_square_sum / n_student\n",
        "\n",
        "variance = mean_of_square - square_of_mean\n",
        "std = variance**0.5\n",
        "\n",
        "print(variance)\n",
        "print(std)\n",
        "\n"
      ],
      "metadata": {
        "colab": {
          "base_uri": "https://localhost:8080/"
        },
        "id": "DSFG9ChnOHIS",
        "outputId": "07a35ff9-6ab5-4cef-946c-a48012df30fd"
      },
      "execution_count": 7,
      "outputs": [
        {
          "output_type": "stream",
          "name": "stdout",
          "text": [
            "66.66666666666669\n",
            "8.16496580927726\n"
          ]
        }
      ]
    },
    {
      "cell_type": "code",
      "source": [
        "#50. Standardization\n",
        "\n",
        "#표준화된 값= (원래 값−평균)/표준 편차\n",
        "\n",
        "scores = [10, 20, 30]\n",
        "\n",
        "n_student = len(scores)\n",
        "score_sum, score_square_sum = 0, 0\n",
        "\n",
        "for score in scores:\n",
        "  score_sum += score\n",
        "  score_square_sum += score**2\n",
        "\n",
        "mean = score_sum / n_student\n",
        "square_of_mean = mean**2\n",
        "mean_of_square = score_square_sum / n_student\n",
        "\n",
        "variance = mean_of_square - square_of_mean\n",
        "std = variance**0.5\n",
        "\n",
        "#분산과 표준편차\n",
        "for student_idx in range (n_student):\n",
        "  scores[student_idx] = (scores[student_idx] - mean) / std\n",
        "print(scores)\n",
        "\n",
        "#분산과 표준편차\n",
        "\n",
        "n_student = len(scores)\n",
        "score_sum, score_square_sum = 0, 0\n",
        "\n",
        "for score in scores:\n",
        "  score_sum += score\n",
        "  score_square_sum += score**2\n",
        "\n",
        "mean = score_sum / n_student\n",
        "square_of_mean = mean**2\n",
        "mean_of_square = score_square_sum / n_student\n",
        "\n",
        "variance = mean_of_square - square_of_mean\n",
        "std = variance**0.5\n",
        "\n",
        "print(\"mean: \",mean)\n",
        "print(\"standard deviation: \", std)"
      ],
      "metadata": {
        "colab": {
          "base_uri": "https://localhost:8080/"
        },
        "id": "8kAUjsKIQMQw",
        "outputId": "fc5e35b2-ad59-4563-bdcd-e0a592f85548"
      },
      "execution_count": 14,
      "outputs": [
        {
          "output_type": "stream",
          "name": "stdout",
          "text": [
            "[-1.224744871391589, 0.0, 1.224744871391589]\n",
            "mean:  0.0\n",
            "standard deviation:  1.0\n"
          ]
        }
      ]
    },
    {
      "cell_type": "code",
      "source": [
        "#51. 분산과 표준편차(4)\n",
        "\n",
        "math_scores, english_scores = [50, 60, 70], [30, 40, 50]\n",
        "n_student = len(math_scores)\n",
        "\n",
        "\n",
        "math_sum, english_sum = 0, 0\n",
        "math_square_sum, english_square_sum = 0, 0\n",
        "\n",
        "#반복문을 통해 math,english list 총합과 제곱 총합을 구합니다\n",
        "for student_idx in range(n_student):\n",
        "  math_sum += math_scores[student_idx]\n",
        "  math_square_sum += math_scores[student_idx]**2\n",
        "\n",
        "  english_sum += english_scores[student_idx]\n",
        "  english_square_sum += english_scores[student_idx]**2\n",
        "\n",
        "#math와 english의 평균을 구합니다\n",
        "math_mean = math_sum / n_student\n",
        "english_mean = english_sum / n_student\n",
        "\n",
        "#구해진 값을 통해 math와 english의 분산을 구합니다.\n",
        "math_variance = math_square_sum/n_student - math_mean**2\n",
        "english_variance = english_square_sum/n_student - english_mean**2\n",
        "\n",
        "math_std = math_variance**0.5\n",
        "english_std = english_variance**0.5\n",
        "\n",
        "print(math_mean,math_std)\n",
        "print(english_mean,english_std)\n"
      ],
      "metadata": {
        "colab": {
          "base_uri": "https://localhost:8080/"
        },
        "id": "kFd1aIckYMky",
        "outputId": "0f9eb924-8aa5-4448-fbd7-6efa52076c25"
      },
      "execution_count": 16,
      "outputs": [
        {
          "output_type": "stream",
          "name": "stdout",
          "text": [
            "60.0 8.164965809277252\n",
            "40.0 8.164965809277264\n"
          ]
        }
      ]
    },
    {
      "cell_type": "code",
      "source": [
        "#52. Standardization\n",
        "for student_idx in range(n_student):\n",
        "  math_scores[student_idx] = (math_scores[student_idx] - math_mean)/math_std\n",
        "  english_scores[student_idx] = (english_scores[student_idx] - english_mean)/english_std\n",
        "\n",
        "print(math_scores)\n",
        "print(english_scores)\n",
        "\n",
        "#------\n",
        "\n",
        "math_sum, english_sum = 0, 0\n",
        "math_square_sum, english_square_sum = 0, 0\n",
        "\n",
        "#반복문을 통해 math,english list 총합과 제곱 총합을 구합니다\n",
        "for student_idx in range(n_student):\n",
        "  math_sum += math_scores[student_idx]\n",
        "  math_square_sum += math_scores[student_idx]**2\n",
        "\n",
        "  english_sum += english_scores[student_idx]\n",
        "  english_square_sum += english_scores[student_idx]**2\n",
        "\n",
        "#math와 english의 평균을 구합니다\n",
        "math_mean = math_sum / n_student\n",
        "english_mean = english_sum / n_student\n",
        "\n",
        "#구해진 값을 통해 math와 english의 분산을 구합니다.\n",
        "math_variance = math_square_sum/n_student - math_mean**2\n",
        "english_variance = english_square_sum/n_student - english_mean**2\n",
        "\n",
        "math_std = math_variance**0.5\n",
        "english_std = english_variance**0.5\n",
        "\n",
        "#-------\n",
        "\n",
        "print(math_mean, math_std)\n",
        "print(english_mean, english_std)\n"
      ],
      "metadata": {
        "colab": {
          "base_uri": "https://localhost:8080/"
        },
        "id": "qbmBsi_uapFw",
        "outputId": "6e1c7e0f-9cb2-4632-d536-b9b0e4af33c4"
      },
      "execution_count": 19,
      "outputs": [
        {
          "output_type": "stream",
          "name": "stdout",
          "text": [
            "[-7.498469228349543, 0.0, 1.2247448713915903]\n",
            "[-1.2247448713915885, 0.0, 1.2247448713915885]\n",
            "-2.0912414523193177 3.8560415079374324\n",
            "0.0 0.9999999999999996\n"
          ]
        }
      ]
    },
    {
      "cell_type": "code",
      "source": [
        "#53. Hadamard Product\n",
        "\n",
        "v1 = [1, 2, 3, 4, 5]\n",
        "v2 = [10, 20, 30, 40, 50]\n",
        "\n",
        "# method.1\n",
        "\n",
        "v3 = []\n",
        "for dim_dix in range(len(v1)):\n",
        "  v3.append(v1[dim_dix]*v2[dim_dix])\n",
        "print(v3)\n",
        "\n",
        "#method.2\n",
        "v3 = []\n",
        "for _ in range(len(v1)):\n",
        "  v3.append(0)\n",
        "\n",
        "for dim_idx in range (len(v1)):\n",
        "  v3[dim_idx] = v1[dim_idx]*v2[dim_idx]\n",
        "print(v3)"
      ],
      "metadata": {
        "colab": {
          "base_uri": "https://localhost:8080/"
        },
        "id": "9E8NSppPghtF",
        "outputId": "405dbe34-1be3-4fcf-cf5d-962f2c8ff376"
      },
      "execution_count": 20,
      "outputs": [
        {
          "output_type": "stream",
          "name": "stdout",
          "text": [
            "[10, 40, 90, 160, 250]\n",
            "[10, 40, 90, 160, 250]\n"
          ]
        }
      ]
    },
    {
      "cell_type": "code",
      "source": [
        "#54. Vector Norm(3)\n",
        "\n",
        "v1 = [1, 2, 3]\n",
        "\n",
        "square_sum = 0\n",
        "\n",
        "for dim_val in v1:\n",
        "  square_sum += dim_val**2\n",
        "\n",
        "norm = square_sum**0.5\n",
        "print(\"norm of v1: \", norm)"
      ],
      "metadata": {
        "colab": {
          "base_uri": "https://localhost:8080/"
        },
        "id": "wORMkmzniXDv",
        "outputId": "1abfb013-8752-4e26-f453-cb5c8049f10a"
      },
      "execution_count": 21,
      "outputs": [
        {
          "output_type": "stream",
          "name": "stdout",
          "text": [
            "norm of v1:  3.7416573867739413\n"
          ]
        }
      ]
    },
    {
      "cell_type": "code",
      "source": [
        "#55. Making Unit Vectors\n",
        "#U(unit vector) = 1/vector * norm = 1\n",
        "\n",
        "v1 = [1, 2, 3]\n",
        "\n",
        "print(\"norm of v1: \", norm)\n",
        "\n",
        "#Unit Vector 업데이트\n",
        "square_sum = 0\n",
        "\n",
        "for dim_val in v1:\n",
        "  square_sum += dim_val**2\n",
        "\n",
        "norm = square_sum**0.5\n",
        "\n",
        "#dim_idx -> 인덱싱하기 위함\n",
        "#unit vector의 norm\n",
        "\n",
        "for dim_idx in range(len(v1)):\n",
        "  v1[dim_idx] /= norm\n",
        "\n",
        "square_sum = 0\n",
        "\n",
        "for dim_val in v1:\n",
        "  square_sum += dim_val**2\n",
        "\n",
        "norm = square_sum**0.5\n",
        "\n",
        "print(\"norm of v1: \", norm)"
      ],
      "metadata": {
        "colab": {
          "base_uri": "https://localhost:8080/"
        },
        "id": "zWkDqWBwmnkK",
        "outputId": "f1ccb1c3-49c4-4cae-db7c-683fea21a04c"
      },
      "execution_count": 32,
      "outputs": [
        {
          "output_type": "stream",
          "name": "stdout",
          "text": [
            "norm of v1:  3.7416573867739413\n",
            "norm of v1:  1.0\n"
          ]
        }
      ]
    },
    {
      "cell_type": "code",
      "source": [
        "#56. Dot Product(내접)\n",
        "#원소 값의 합\n",
        "#값이 scalar로 나온다\n",
        "\n",
        "v1, v2 = [1, 2, 3], [3, 4, 5]\n",
        "\n",
        "dot_prod = 0\n",
        "for dim_idx in range(len(v1)):\n",
        "  dot_prod += v1[dim_idx]*v2[dim_idx]\n",
        "\n",
        "print(\"dot product of v1 and v2: \", dot_prod)"
      ],
      "metadata": {
        "colab": {
          "base_uri": "https://localhost:8080/"
        },
        "id": "joLeX4hjpPHN",
        "outputId": "5967c0fe-f6c7-4285-e5e3-dd091ff78681"
      },
      "execution_count": 33,
      "outputs": [
        {
          "output_type": "stream",
          "name": "stdout",
          "text": [
            "dot product of v1 and v2:  26\n"
          ]
        }
      ]
    },
    {
      "cell_type": "code",
      "source": [
        "#57. Euclidean Distance\n",
        "\n",
        "#유클리디안 디스턴스: 각 원소 간의 차 제곱의 총합을 루트한 값\n",
        "#벡터 간의 거리를 알아보는 방법(= 두 점 사이를 알아보는 것)\n",
        "\n",
        "v1, v2 = [1, 2, 3], [3, 4, 5]\n",
        "diff_square_sum = 0\n",
        "\n",
        "for dim_idx in range(len(v1)):\n",
        "  diff_square_sum += (v1[dim_idx] + v2[dim_idx])**2\n",
        "\n",
        "e_distance = diff_square_sum**0.5\n",
        "\n",
        "print(\"Euclidian distance between v1 and v2: \", e_distance)"
      ],
      "metadata": {
        "id": "BP04P2vuqdWO"
      },
      "execution_count": null,
      "outputs": []
    },
    {
      "cell_type": "code",
      "source": [
        "#58. Mean Squared Error\n",
        "#For Loop을 이용해 MSE를 연산하는 방법에 대해 복습합니다\n",
        "\n",
        "predictions = [10, 20, 30]\n",
        "labels = [10, 25, 40]\n",
        "\n",
        "n_data = len(predictions)\n",
        "diff_square_sum = 0\n",
        "\n",
        "for data_idx in range(n_data):\n",
        "  diff_square_sum += (predictions[data_idx] - labels[data_idx])**2\n",
        "mse = diff_square_sum/n_data\n",
        "\n",
        "print(\"MSE: \", mse)"
      ],
      "metadata": {
        "colab": {
          "base_uri": "https://localhost:8080/"
        },
        "id": "LS-xlvKR-CmN",
        "outputId": "d3151c65-80b3-4035-a059-e3f24a3766f2"
      },
      "execution_count": 39,
      "outputs": [
        {
          "output_type": "stream",
          "name": "stdout",
          "text": [
            "MSE:  41.666666666666664\n"
          ]
        }
      ]
    },
    {
      "cell_type": "code",
      "source": [
        "#59. 숫자 빈도 구하기\n",
        "\n",
        "numbers = [0, 2, 4, 2, 1, 4, 3, 1, 2, 3, 4, 1, 2, 3, 4]\n",
        "#number count 약어\n",
        "number_cnt = [0, 0, 0, 0, 0]\n",
        "\n",
        "#numbers의 인덱스를 반복적으로 넘겨줍니다\n",
        "for num in numbers:\n",
        "  number_cnt[num] = number_cnt[num] + 1\n",
        "\n",
        "print(number_cnt)"
      ],
      "metadata": {
        "colab": {
          "base_uri": "https://localhost:8080/"
        },
        "id": "6V6W40nX_hXn",
        "outputId": "e1f33adc-26f7-41a1-9544-c3b76a8d07a6"
      },
      "execution_count": 46,
      "outputs": [
        {
          "output_type": "stream",
          "name": "stdout",
          "text": [
            "[1, 3, 4, 3, 4]\n"
          ]
        }
      ]
    },
    {
      "cell_type": "code",
      "source": [
        "#60. 합격 알려주기\n",
        "\n",
        "score = 60\n",
        "\n",
        "if score > 50:\n",
        "  print(\"Pass!\")"
      ],
      "metadata": {
        "colab": {
          "base_uri": "https://localhost:8080/"
        },
        "id": "QAF_F5kWBAZY",
        "outputId": "6d646f3e-9c5f-4e88-8016-79c8e99f69d7"
      },
      "execution_count": 44,
      "outputs": [
        {
          "output_type": "stream",
          "name": "stdout",
          "text": [
            "Pass!\n"
          ]
        }
      ]
    },
    {
      "cell_type": "code",
      "source": [
        "#61. 합격 / 불합격 알려주기\n",
        "\n",
        "#점수를 입력합니다\n",
        "score = 40\n",
        "#cut off를 정해줍니다\n",
        "cutoff = 50\n",
        "\n",
        "if score > cutoff:\n",
        "  print(\"Pass!\")\n",
        "else:\n",
        "  print(\"Try Again!\")"
      ],
      "metadata": {
        "colab": {
          "base_uri": "https://localhost:8080/"
        },
        "id": "VMMIRPkVB2RQ",
        "outputId": "93ced0db-1b5d-4f8b-d39b-0a6d1feee4fc"
      },
      "execution_count": 47,
      "outputs": [
        {
          "output_type": "stream",
          "name": "stdout",
          "text": [
            "Try Again!\n"
          ]
        }
      ]
    },
    {
      "cell_type": "code",
      "source": [
        "#62. 초를 분초로 표현하기\n",
        "\n",
        "seconds = 200\n",
        "\n",
        "\n",
        "if seconds >= 60:\n",
        "  minutes = seconds // 60\n",
        "  seconds -= minutes*60\n",
        "\n",
        "else:\n",
        "  minutes = 0\n",
        "\n",
        "print(minutes, \"min\",seconds, \"sec\")"
      ],
      "metadata": {
        "colab": {
          "base_uri": "https://localhost:8080/"
        },
        "id": "CekK4nLiCPhP",
        "outputId": "3796a08d-0f6e-4f0c-c84a-1202f0c6ec56"
      },
      "execution_count": 51,
      "outputs": [
        {
          "output_type": "stream",
          "name": "stdout",
          "text": [
            "3 min 20 sec\n"
          ]
        }
      ]
    },
    {
      "cell_type": "code",
      "source": [
        "#63. 초를 시분초로 표현하기\n",
        "\n",
        "seconds = 5000\n",
        "\n",
        "\n",
        "if seconds >= 60:\n",
        "  minutes = seconds // 60\n",
        "  seconds -= minutes*60\n",
        "\n",
        "  if minutes >= 60:\n",
        "    hours = minutes // 60\n",
        "    minutes -= hours*60\n",
        "\n",
        "else:\n",
        "  minutes = 0\n",
        "  hours = 0\n",
        "print(hours,\"hour\",minutes, \"min\",seconds, \"sec\")"
      ],
      "metadata": {
        "colab": {
          "base_uri": "https://localhost:8080/"
        },
        "id": "476m4RDUDuwj",
        "outputId": "65d9e30a-2f26-423f-8b20-c62d3514b2d2"
      },
      "execution_count": 63,
      "outputs": [
        {
          "output_type": "stream",
          "name": "stdout",
          "text": [
            "1 hour 23 min 20 sec\n"
          ]
        }
      ]
    },
    {
      "cell_type": "code",
      "source": [
        "#64. 홀수/짝수 구하기\n",
        "\n",
        "number = 10\n",
        "\n",
        "if number % 2 == 0:\n",
        "  print(\"Even!\")\n",
        "\n",
        "else:\n",
        "  print(\"Odd!\")"
      ],
      "metadata": {
        "colab": {
          "base_uri": "https://localhost:8080/"
        },
        "id": "aKY0Lh8OLdBT",
        "outputId": "6fb7f778-6bb1-47b6-8524-bdfaad3f8e58"
      },
      "execution_count": 64,
      "outputs": [
        {
          "output_type": "stream",
          "name": "stdout",
          "text": [
            "Even!\n"
          ]
        }
      ]
    },
    {
      "cell_type": "code",
      "source": [
        "#65. 두 수 비교하기\n",
        "\n",
        "num1, num2 = 10, 10\n",
        "\n",
        "if num1 > num2:\n",
        "  print(\"first number\")\n",
        "elif num1 == num2:\n",
        "  print(\"equal\")\n",
        "else:\n",
        "  print(\"sencond number\")"
      ],
      "metadata": {
        "colab": {
          "base_uri": "https://localhost:8080/"
        },
        "id": "jik0q4PLMJj9",
        "outputId": "8d591cae-58cc-4545-e802-3f2df858b5cc"
      },
      "execution_count": 65,
      "outputs": [
        {
          "output_type": "stream",
          "name": "stdout",
          "text": [
            "equal\n"
          ]
        }
      ]
    },
    {
      "cell_type": "code",
      "source": [
        "#변수 전체 명을 대문자: 고정된 변수\n",
        "#class name: camelcase 띄어쓰기 안쓰고 대문자\n",
        "\n",
        "#66. 점수 부여하기\n",
        "score = 70\n",
        "\n",
        "if score > 80:\n",
        "  grade = 'A'\n",
        "elif score > 60:\n",
        "  grade = 'B'\n",
        "elif score > 40:\n",
        "  grade = 'C'\n",
        "else:\n",
        "  garde = 'F'\n",
        "print(\"Grade: \",grade)"
      ],
      "metadata": {
        "colab": {
          "base_uri": "https://localhost:8080/"
        },
        "id": "vABxcgxUNGn8",
        "outputId": "c380f7dd-5141-4976-87e4-a5b8b7053c63"
      },
      "execution_count": 66,
      "outputs": [
        {
          "output_type": "stream",
          "name": "stdout",
          "text": [
            "Grade:  B\n"
          ]
        }
      ]
    },
    {
      "cell_type": "code",
      "source": [
        "#67. 합격 / 불합격 알려주기\n",
        "scores = [20, 50, 10, 60, 70]\n",
        "cutoff = 50\n",
        "\n",
        "for score in scores:\n",
        "  if score > cutoff:\n",
        "    print(\"Pass!\")\n",
        "  else:\n",
        "    print(\"Try again\")"
      ],
      "metadata": {
        "colab": {
          "base_uri": "https://localhost:8080/"
        },
        "id": "HrRHTmSJOCdE",
        "outputId": "8f84d119-6360-4b58-e880-5eacb2e0bbe3"
      },
      "execution_count": 76,
      "outputs": [
        {
          "output_type": "stream",
          "name": "stdout",
          "text": [
            "Try again\n",
            "Try again\n",
            "Try again\n",
            "Pass!\n",
            "Pass!\n"
          ]
        }
      ]
    },
    {
      "cell_type": "code",
      "source": [
        "#68. 성적을 평점으로 바꾸기\n",
        "\n",
        "scores = [20, 50, 10, 60, 90]\n",
        "grades = []\n",
        "#grades = list()\n",
        "\n",
        "for score in scores:\n",
        "  if score > 80:\n",
        "    grades.append('A')\n",
        "  elif score > 60:\n",
        "    grades.append('B')\n",
        "  elif score > 40:\n",
        "    grades.append('C')\n",
        "  else:\n",
        "    grades.append('F')\n",
        "print(grades)"
      ],
      "metadata": {
        "colab": {
          "base_uri": "https://localhost:8080/"
        },
        "id": "DohTO0whPMFp",
        "outputId": "5867da13-55ac-4d43-8cad-81d0420c3b02"
      },
      "execution_count": 80,
      "outputs": [
        {
          "output_type": "stream",
          "name": "stdout",
          "text": [
            "['F', 'C', 'F', 'C', 'A']\n"
          ]
        }
      ]
    },
    {
      "cell_type": "code",
      "source": [
        "#69. 합격/불합격 학생들의 평균 구하기\n",
        "\n",
        "score = [20, 50, 10, 60, 90]\n",
        "cutoff = 50\n",
        "\n",
        "p_score_sum, n_p = 0, 0\n",
        "np_score_sum, n_np = 0, 0\n",
        "\n",
        "for score in scores:\n",
        "  if score > cutoff:\n",
        "    p_score_sum += score\n",
        "    n_p += 1\n",
        "  else:\n",
        "    np_score_sum += score\n",
        "    n_np += 1\n",
        "\n",
        "p_score_mean = p_score_sum/n_p\n",
        "np_score_mean = np_score_sum/n_np\n",
        "\n",
        "print(\"mean of passed scores: \",p_score_mean)\n",
        "print(\"mean of non passed scores: \",np_score_mean)"
      ],
      "metadata": {
        "colab": {
          "base_uri": "https://localhost:8080/"
        },
        "id": "Hamw2rGRQI84",
        "outputId": "e44f0b96-5d5f-4ed3-915c-cee5342c1f57"
      },
      "execution_count": 84,
      "outputs": [
        {
          "output_type": "stream",
          "name": "stdout",
          "text": [
            "mean of passed scores:  75.0\n",
            "mean of non passed scores:  26.666666666666668\n"
          ]
        }
      ]
    },
    {
      "cell_type": "code",
      "source": [
        "#70. 홀수 / 짝수 구하기\n",
        "\n",
        "numbers = []\n",
        "for num in range(10):\n",
        "  numbers.append(num)\n",
        "numbers.append(3.14)\n",
        "print(numbers)\n",
        "\n",
        "for num in numbers:\n",
        "  if num % 2 == 0:\n",
        "    print(\"Even Number\")\n",
        "  elif num % 2 == 1:\n",
        "    print(\"Odd Number\")\n",
        "  else:\n",
        "    print(\"Not a Integer\")"
      ],
      "metadata": {
        "colab": {
          "base_uri": "https://localhost:8080/"
        },
        "id": "yQxUyk8XRgx_",
        "outputId": "0da7e900-f329-4856-9179-3820c76a3c84"
      },
      "execution_count": 88,
      "outputs": [
        {
          "output_type": "stream",
          "name": "stdout",
          "text": [
            "[0, 1, 2, 3, 4, 5, 6, 7, 8, 9, 3.14]\n",
            "Even Number\n",
            "Odd Number\n",
            "Even Number\n",
            "Odd Number\n",
            "Even Number\n",
            "Odd Number\n",
            "Even Number\n",
            "Odd Number\n",
            "Even Number\n",
            "Odd Number\n",
            "Not a Integer\n"
          ]
        }
      ]
    },
    {
      "cell_type": "code",
      "source": [
        "#71. 배수의 합 구하기\n",
        "\n",
        "multiple_of = 23\n",
        "numbers = []\n",
        "for num in range(100):\n",
        "  numbers.append(num)\n",
        "\n",
        "#배수의 합을 구하는 숫자를 생성합니다\n",
        "sum_multiple_of_n = 0\n",
        "\n",
        "#나머지가 0인 수, 즉 숫자의 배수일 시 더해줍니다\n",
        "for num in numbers:\n",
        "  if num % multiple_of == 0:\n",
        "    sum_multiple_of_n += num\n",
        "\n",
        "print(sum_multiple_of_n)"
      ],
      "metadata": {
        "colab": {
          "base_uri": "https://localhost:8080/"
        },
        "id": "ahAHpJM_TyHD",
        "outputId": "8d7dfb0f-7345-4a9a-da6b-5d86834e1340"
      },
      "execution_count": 94,
      "outputs": [
        {
          "output_type": "stream",
          "name": "stdout",
          "text": [
            "230\n"
          ]
        }
      ]
    },
    {
      "cell_type": "code",
      "source": [
        "#72. 최댓값, 최솟값 구하기\n",
        "\n",
        "scores = [60, 40, 70, 20, 30]\n",
        "\n",
        "#데이터가 음수거나 훨씬 큰 수면 제대로 돌아가지 않음\n",
        "M, m = 0, 100\n",
        "\n",
        "#if를 두 번 쓰면 각각 다 확인\n",
        "#if / elif는 조건 만족하면 넘어감\n",
        "#최댓값/최솟값을 따로따로 보기 때문에 if 두 번\n",
        "for score in scores:\n",
        "  if score > M:\n",
        "    M = score\n",
        "  if score < m:\n",
        "    m = score\n",
        "\n",
        "print(\"Max value: \", M)\n",
        "print(\"min value: \", m)"
      ],
      "metadata": {
        "colab": {
          "base_uri": "https://localhost:8080/"
        },
        "id": "pmFyQUHnYJNj",
        "outputId": "c153e98e-9a49-4585-cfb5-e18f4e96c0a3"
      },
      "execution_count": 99,
      "outputs": [
        {
          "output_type": "stream",
          "name": "stdout",
          "text": [
            "Max value:  70\n",
            "min value:  20\n"
          ]
        }
      ]
    },
    {
      "cell_type": "code",
      "source": [
        "#73. 최댓값, 최솟값 구하기(2)\n",
        "\n",
        "scores = [-20, 60, 40, 70, 120]\n",
        "\n",
        "#method. 1\n",
        "\n",
        "M, m = scores[0], scores[0]\n",
        "#리스트를 통해 갖고 있는 데이터에서 첫번째 값으로 초기화를 해주겠다\n",
        "#72 같은 오류를 방지할 수 있음\n",
        "\n",
        "for score in scores:\n",
        "  if score > M:\n",
        "    M = score\n",
        "  if score < m:\n",
        "    m = score\n",
        "print(\"Max value :\", M)\n",
        "print(\"min value :\", m)\n",
        "\n",
        "#method. 2\n",
        "\n",
        "#none 값을 넣으면 첫번째 만나는 score로 업데이트를 해주겠다\n",
        "M, m = None, None\n",
        "\n",
        "#if 문이 두개라면 별개의 문장이라 보면 된다.\n",
        "for score in scores:\n",
        "  if M == None or score > M:\n",
        "    M = score\n",
        "  if m == None or score < m:\n",
        "    m = score\n",
        "\n",
        "print(\"Max value :\", M)\n",
        "print(\"min value :\", m)"
      ],
      "metadata": {
        "colab": {
          "base_uri": "https://localhost:8080/"
        },
        "id": "KdXTIWs0ZIiK",
        "outputId": "d0852836-7742-43bf-8d62-ef785b92358b"
      },
      "execution_count": 100,
      "outputs": [
        {
          "output_type": "stream",
          "name": "stdout",
          "text": [
            "Max value : 120\n",
            "min value : -20\n",
            "Max value : 120\n",
            "min value : -20\n"
          ]
        }
      ]
    },
    {
      "cell_type": "code",
      "source": [
        "# 74. Min-max Normalization : Normalization 방법 중 하나\n",
        "#숫자 - 최솟값 / 최댓값 - 최솟값\n",
        "# 0 ~ 1사이에 존재\n",
        "# 복습하기\n",
        "\n",
        "\n",
        "#정규화 -> 다양한 방법론이 있음\n",
        "# 1. Normalization\n",
        "# 2. Standardization\n",
        "\n",
        "#----\n",
        "scores = [-20, 60, 40, 70, 120]\n",
        "\n",
        "#method. 1\n",
        "\n",
        "M, m = scores[0], scores[0]\n",
        "\n",
        "for score in scores:\n",
        "  if score > M:\n",
        "    M = score\n",
        "  if score < m:\n",
        "    m = score\n",
        "\n",
        "\n",
        "for score_idx in range(len(scores)):\n",
        "  scores[score_idx] = (scores[score_idx] - m) / (M - m)\n",
        "\n",
        "print(\"scores after normalization: \\n\", scores)\n",
        "\n",
        "#----\n",
        "#max - min normalization\n",
        "\n",
        "#데이터 안의 값을 초기화\n",
        "#이해가 잘 안간다\n",
        "M, m = scores[0], scores[0]\n",
        "\n",
        "for score in scores:\n",
        "  if score > M:\n",
        "    M = score\n",
        "  if score < m:\n",
        "    m = score\n",
        "#max - min normalization의 최댓값은 1, 최솟값은 0이다\n",
        "print(\"Max value: \", M)\n",
        "print(\"Min value: \", m)"
      ],
      "metadata": {
        "colab": {
          "base_uri": "https://localhost:8080/"
        },
        "id": "a57HXzAebT4t",
        "outputId": "4499a9ed-a554-4953-a025-ed5e389ee746"
      },
      "execution_count": 101,
      "outputs": [
        {
          "output_type": "stream",
          "name": "stdout",
          "text": [
            "scores after normalization: \n",
            " [0.0, 0.5714285714285714, 0.42857142857142855, 0.6428571428571429, 1.0]\n",
            "Max value:  1.0\n",
            "Min value:  0.0\n"
          ]
        }
      ]
    },
    {
      "cell_type": "code",
      "source": [
        "#75. 최댓값, 최솟값의 위치 구하기\n",
        "# 복습하기\n",
        "scores = [60, -20, 40, 120, 70]\n",
        "M, m = None, None\n",
        "M_idx, m_idx = 0, 0\n",
        "\n",
        "for score_idx in range(len(scores)):\n",
        "  #score인덱스 값을 통해 순서를 뽑아내야 하니 score_idx가 필요\n",
        "  score = scores[score_idx]\n",
        "\n",
        "  if M == None or score > M:\n",
        "    M = score\n",
        "    M_idx = score_idx\n",
        "  if m == None or score < m:\n",
        "    m = score\n",
        "    m_idx = score_idx\n",
        "\n",
        "print('M/M_idx: ', M, M_idx)\n",
        "print('m/m_idx: ', m, m_idx)"
      ],
      "metadata": {
        "colab": {
          "base_uri": "https://localhost:8080/"
        },
        "id": "axva5Tixd51d",
        "outputId": "dc163ac8-ec91-4fa6-8209-0416fb7be486"
      },
      "execution_count": 102,
      "outputs": [
        {
          "output_type": "stream",
          "name": "stdout",
          "text": [
            "M/M_idx:  120 3\n",
            "m/m_idx:  -20 1\n"
          ]
        }
      ]
    },
    {
      "cell_type": "code",
      "source": [
        "#75. 최댓값, 최솟값의 위치 구하기\n",
        "# 복습하기\n",
        "scores = [60, -20, 40, 120, 70]\n",
        "\n",
        "M, m = None, None\n",
        "M_idx = 0\n",
        "m_idx = 0\n",
        "\n",
        "for score_idx in range(len(scores)):\n",
        "   score = scores[score_idx]\n",
        "\n",
        "    if M == None or score > M:\n",
        "      M = score\n",
        "      M_idx = score_idx\n",
        "    if m == None or score < m:\n",
        "      m = score\n",
        "      m_idx = score_idx\n",
        "print(M, M_idx)\n",
        "print(m, m_idx)"
      ],
      "metadata": {
        "colab": {
          "base_uri": "https://localhost:8080/"
        },
        "id": "lzqD8Qm9fPfZ",
        "outputId": "6056436c-01bf-472c-fffd-d6b7e47b8137"
      },
      "execution_count": 103,
      "outputs": [
        {
          "output_type": "stream",
          "name": "stdout",
          "text": [
            "70 0\n",
            "70 0\n"
          ]
        }
      ]
    },
    {
      "cell_type": "code",
      "source": [
        "#76. Sorting 정렬하기\n",
        "#최댓값, 최솟값의 위치를 이용하여 List를 정렬하는 방법을 배워보자\n",
        "## 졸라 복습\n",
        "\n",
        "#선택정렬? 정렬의 종류가 많아서 우선 하기\n",
        "\n",
        "scores = [40, 20, 30, 10, 50]\n",
        "sorted_scores = []\n",
        "\n",
        "#이중포문 - 초기화 과정\n",
        "for _ in range(len(scores)):\n",
        "  #리스트 초기화 과정\n",
        "  M, M_idx = scores[0], 0\n",
        "\n",
        "\n",
        "  for score_idx in range(len(scores)):\n",
        "    if scores[score_idx] > M:\n",
        "      M = scores[score_idx]\n",
        "      M_idx = score_idx\n",
        "\n",
        " #남은 것 때려박기\n",
        "  tmp_scores = []\n",
        "\n",
        "  for score_idx in range(len(scores)):\n",
        "    if score_idx == M_idx:\n",
        "      sorted_scores.append(scores[score_idx])\n",
        "    else:\n",
        "      tmp_scores.append(scores[score_idx])\n",
        "  scores = tmp_scores\n",
        "  print(\"remaining scores: \", scores)\n",
        "  print(\"sorted scores: \", sorted_scores, '\\n')\n"
      ],
      "metadata": {
        "colab": {
          "base_uri": "https://localhost:8080/"
        },
        "id": "rOf5B6sFf7yA",
        "outputId": "14ee4e1c-f4d7-4e86-c738-4283c308194f"
      },
      "execution_count": 108,
      "outputs": [
        {
          "output_type": "stream",
          "name": "stdout",
          "text": [
            "remaining scores:  [40, 20, 30, 10]\n",
            "sorted scores:  [50] \n",
            "\n",
            "remaining scores:  [20, 30, 10]\n",
            "sorted scores:  [50, 40] \n",
            "\n",
            "remaining scores:  [20, 10]\n",
            "sorted scores:  [50, 40, 30] \n",
            "\n",
            "remaining scores:  [10]\n",
            "sorted scores:  [50, 40, 30, 20] \n",
            "\n",
            "remaining scores:  []\n",
            "sorted scores:  [50, 40, 30, 20, 10] \n",
            "\n"
          ]
        }
      ]
    }
  ]
}