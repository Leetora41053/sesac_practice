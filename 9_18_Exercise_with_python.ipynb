{
  "nbformat": 4,
  "nbformat_minor": 0,
  "metadata": {
    "colab": {
      "provenance": [],
      "authorship_tag": "ABX9TyOgoSGYjBW1wuBIQLD3IgK7",
      "include_colab_link": true
    },
    "kernelspec": {
      "name": "python3",
      "display_name": "Python 3"
    },
    "language_info": {
      "name": "python"
    }
  },
  "cells": [
    {
      "cell_type": "markdown",
      "metadata": {
        "id": "view-in-github",
        "colab_type": "text"
      },
      "source": [
        "<a href=\"https://colab.research.google.com/github/Leetora41053/sesac_practice/blob/main/9_18_Exercise_with_python.ipynb\" target=\"_parent\"><img src=\"https://colab.research.google.com/assets/colab-badge.svg\" alt=\"Open In Colab\"/></a>"
      ]
    },
    {
      "cell_type": "markdown",
      "source": [
        "###자기 자신에게 연산하기\n",
        "복합대입연산자? 변수에 값을 할당하고, 동시에 연산을 수행"
      ],
      "metadata": {
        "id": "qxdaquk_MlWp"
      }
    },
    {
      "cell_type": "code",
      "execution_count": 2,
      "metadata": {
        "colab": {
          "base_uri": "https://localhost:8080/"
        },
        "id": "iGAGbz1L65HC",
        "outputId": "2a0305d0-1c8d-49da-fc8e-b5effa5b93b1"
      },
      "outputs": [
        {
          "output_type": "stream",
          "name": "stdout",
          "text": [
            "400.0\n"
          ]
        }
      ],
      "source": [
        "score = 10\n",
        "\n",
        "score += 10\n",
        "score -= 10\n",
        "score *= 10\n",
        "score /= 5\n",
        "score **=2\n",
        "\n",
        "print(score)"
      ]
    },
    {
      "cell_type": "markdown",
      "source": [
        "### 업데이트된 점수의 평균 구하기\n",
        "점수를 업데이트한다면 평균은 어떻게 달라질까? 알아보자."
      ],
      "metadata": {
        "id": "dTTvrKA_NNlO"
      }
    },
    {
      "cell_type": "code",
      "source": [
        "score1 = 10\n",
        "score2 = 20\n",
        "score3 = 30\n",
        "n_student = 3\n",
        "\n",
        "mean = (score1 + score2 + score3) / n_student\n",
        "print(mean)"
      ],
      "metadata": {
        "colab": {
          "base_uri": "https://localhost:8080/"
        },
        "id": "fv9kWHa97HmH",
        "outputId": "68a09f08-fe57-4ab1-b501-6a9bd188adbe"
      },
      "execution_count": 3,
      "outputs": [
        {
          "output_type": "stream",
          "name": "stdout",
          "text": [
            "20.0\n"
          ]
        }
      ]
    },
    {
      "cell_type": "markdown",
      "source": [
        "score1/score2/score3를 업데이트 해주면 mean값이 바뀐다"
      ],
      "metadata": {
        "id": "8li3DG65Pwv7"
      }
    },
    {
      "cell_type": "code",
      "source": [
        "score1 += 10\n",
        "score2 += 10\n",
        "score3 += 10\n",
        "mean = (score1 + score2 + score3) / n_student\n",
        "print(mean)"
      ],
      "metadata": {
        "colab": {
          "base_uri": "https://localhost:8080/"
        },
        "id": "0zTPQ9pK7dem",
        "outputId": "70ffdd50-08a3-4f55-f258-94d0adeee497"
      },
      "execution_count": 4,
      "outputs": [
        {
          "output_type": "stream",
          "name": "stdout",
          "text": [
            "30.0\n"
          ]
        }
      ]
    },
    {
      "cell_type": "markdown",
      "source": [
        "**Mean Subtraction 평균의 차**\n",
        "- x := x - μ\n",
        "- 수학적이거나 프로그래밍적인 맥락에서 작성된 표현\n",
        "- := 새롭게 할당한다는 의미\n"
      ],
      "metadata": {
        "id": "1iyi4g7KQOVh"
      }
    },
    {
      "cell_type": "code",
      "source": [
        "score1 = 10\n",
        "score2 = 20\n",
        "score3 = 30\n",
        "n_student = 3\n",
        "\n",
        "score_mean = (score1 + score2 + score3)/n_student\n",
        "\n",
        "print(score_mean)"
      ],
      "metadata": {
        "colab": {
          "base_uri": "https://localhost:8080/"
        },
        "id": "CG7_qaU_7qqk",
        "outputId": "1ca10530-9af0-4341-872a-ce5b3d241dad"
      },
      "execution_count": 6,
      "outputs": [
        {
          "output_type": "stream",
          "name": "stdout",
          "text": [
            "20.0\n"
          ]
        }
      ]
    },
    {
      "cell_type": "code",
      "source": [
        "#mean subtraction\n",
        "#평균 차의 총 합은 0이라는 사실을 기억할 것\n",
        "score1 -= score_mean\n",
        "score2 -= score_mean\n",
        "score3 -= score_mean\n",
        "score_mean = (score1 + score2 + score3)/n_student\n",
        "print(score_mean)"
      ],
      "metadata": {
        "colab": {
          "base_uri": "https://localhost:8080/"
        },
        "id": "buSarb6M8OU3",
        "outputId": "853fed18-4501-42ec-f76a-25c01b960670"
      },
      "execution_count": 7,
      "outputs": [
        {
          "output_type": "stream",
          "name": "stdout",
          "text": [
            "0.0\n"
          ]
        }
      ]
    },
    {
      "cell_type": "markdown",
      "source": [
        "**평균의 제곱과 제곱의 평균**\n"
      ],
      "metadata": {
        "id": "Gqoauz8gRzRk"
      }
    },
    {
      "cell_type": "code",
      "source": [
        "score1 = 10\n",
        "score2 = 20\n",
        "score3 = 30\n",
        "n_student = 3\n",
        "\n",
        "mean = (score1 + score2 + score3)/n_student\n",
        "square_of_mean = mean**2\n",
        "mean_of_square = (score1**2 + score2**2 + score3**2)/n_student\n",
        "\n",
        "print(\"square of mean :\", square_of_mean)\n",
        "print(\"means of square :\", mean_of_square)"
      ],
      "metadata": {
        "colab": {
          "base_uri": "https://localhost:8080/"
        },
        "id": "DbB1RJzt8Ys9",
        "outputId": "fca6ada0-cc20-417e-a37f-02fc22bd6608"
      },
      "execution_count": 8,
      "outputs": [
        {
          "output_type": "stream",
          "name": "stdout",
          "text": [
            "square of mean : 400.0\n",
            "means of square : 466.6666666666667\n"
          ]
        }
      ]
    },
    {
      "cell_type": "markdown",
      "source": [
        "**분산과 표준편차**\n",
        "\n",
        "- 분산: variance\n",
        "- 표준편차: standard deviation\n"
      ],
      "metadata": {
        "id": "OD2M-UEnS9gS"
      }
    },
    {
      "cell_type": "code",
      "source": [
        "score1 = 10\n",
        "score2 = 20\n",
        "score3 = 30\n",
        "n_student = 3\n",
        "\n",
        "score_mean = (score1 + score2 + score3)/n_student\n",
        "square_of_mean = mean**2\n",
        "mean_of_square = (score1**2 + score2**2 + score3**2)/n_student\n",
        "\n",
        "score_variance = mean_of_square - square_of_mean\n",
        "score_std = score_variance**0.5\n",
        "print(\"mean :\", score_mean)\n",
        "\n",
        "print(\"variance :\", score_variance)\n",
        "print(\"standard deviation :\", score_std)"
      ],
      "metadata": {
        "colab": {
          "base_uri": "https://localhost:8080/"
        },
        "id": "KsWue3Hy8iNR",
        "outputId": "66bedc18-a5a7-486c-c806-6b573e5fc51c"
      },
      "execution_count": 14,
      "outputs": [
        {
          "output_type": "stream",
          "name": "stdout",
          "text": [
            "mean : 20.0\n",
            "variance : 66.66666666666669\n",
            "standard deviation : 8.16496580927726\n"
          ]
        }
      ]
    }
  ]
}