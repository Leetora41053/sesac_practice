{
  "nbformat": 4,
  "nbformat_minor": 0,
  "metadata": {
    "colab": {
      "provenance": [],
      "authorship_tag": "ABX9TyMbSpH618ixJDStdONZrFLs",
      "include_colab_link": true
    },
    "kernelspec": {
      "name": "python3",
      "display_name": "Python 3"
    },
    "language_info": {
      "name": "python"
    }
  },
  "cells": [
    {
      "cell_type": "markdown",
      "metadata": {
        "id": "view-in-github",
        "colab_type": "text"
      },
      "source": [
        "<a href=\"https://colab.research.google.com/github/Leetora41053/sesac_practice/blob/main/10_30.ipynb\" target=\"_parent\"><img src=\"https://colab.research.google.com/assets/colab-badge.svg\" alt=\"Open In Colab\"/></a>"
      ]
    },
    {
      "cell_type": "code",
      "execution_count": null,
      "metadata": {
        "colab": {
          "base_uri": "https://localhost:8080/"
        },
        "id": "zGVKgBaCSwQ0",
        "outputId": "4d4bcec0-ddc8-4832-9db7-cdbfb2b836bc"
      },
      "outputs": [
        {
          "output_type": "stream",
          "name": "stdout",
          "text": [
            "mean/std of Math:  (2.7154776617421844e-15+44.347115652166906j)\n",
            "mean/std of Englis:  (1.6954467209072738e-15+27.688746209726915j)\n"
          ]
        }
      ],
      "source": [
        "#51.분산과 표준편차\n",
        "\n",
        "math_scores, english_scores = [50, 60, 70], [30, 40, 50]\n",
        "n_student = len(math_scores)\n",
        "\n",
        "math_sum, english_sum = 0, 0\n",
        "\n",
        "math_square_sum, english_square_sum = 0, 0\n",
        "\n",
        "for student_idx in range(n_student):\n",
        "  math_sum += math_scores[student_idx]\n",
        "  math_square_sum = math_scores[student_idx]**2\n",
        "\n",
        "  english_sum += english_scores[student_idx]\n",
        "  english_square_sum = english_scores[student_idx]**2\n",
        "\n",
        "\n",
        "math_mean = math_sum / n_student\n",
        "english_mean = english_sum / n_student\n",
        "\n",
        "math_variance = math_square_sum/n_student - math_mean**2\n",
        "english_variance = english_square_sum/n_student - english_mean**2\n",
        "\n",
        "math_std = math_variance**0.5\n",
        "english_std = english_variance**0.5\n",
        "\n",
        "print(\"mean/std of Math: \", math_std)\n",
        "print(\"mean/std of Englis: \", english_std)\n"
      ]
    },
    {
      "cell_type": "code",
      "source": [
        "#52. Standaradization\n",
        "\n",
        "#51.분산과 표준편차\n",
        "\n",
        "math_scores, english_scores = [50, 60, 70], [30, 40, 50]\n",
        "n_student = len(math_scores)\n",
        "\n",
        "math_sum, english_sum = 0, 0\n",
        "\n",
        "math_square_sum, english_square_sum = 0, 0\n",
        "\n",
        "for student_idx in range(n_student):\n",
        "  math_sum += math_scores[student_idx]\n",
        "  math_square_sum = math_scores[student_idx]**2\n",
        "\n",
        "  english_sum += english_scores[student_idx]\n",
        "  english_square_sum = english_scores[student_idx]**2\n",
        "\n",
        "\n",
        "math_mean = math_sum / n_student\n",
        "english_mean = english_sum / n_student\n",
        "\n",
        "math_variance = math_square_sum/n_student - math_mean**2\n",
        "english_variance = english_square_sum/n_student - english_mean**2\n",
        "\n",
        "math_std = math_variance**0.5\n",
        "english_std = english_variance**0.5\n",
        "\n",
        "print(\"mean/std of Math: \", math_std)\n",
        "print(\"mean/std of Englis: \", english_std)\n",
        "\n",
        "for student_idx in range(n_student):\n",
        "  math_scores[student_idx] = (math_scores[student_idx]-math_mean)/math_std\n",
        "  english_scores[student_idx] = (english_scores[student_idx]-english_mean)/english_std\n",
        "\n",
        "print(math_scores)\n",
        "print(english_scores)"
      ],
      "metadata": {
        "colab": {
          "base_uri": "https://localhost:8080/"
        },
        "id": "82r6Q5TUUVkQ",
        "outputId": "5bec7ebe-ba75-40d5-c9e7-3fff8e516e45"
      },
      "execution_count": null,
      "outputs": [
        {
          "output_type": "stream",
          "name": "stdout",
          "text": [
            "mean/std of Math:  (2.7154776617421844e-15+44.347115652166906j)\n",
            "mean/std of Englis:  (1.6954467209072738e-15+27.688746209726915j)\n",
            "[(-1.3807513534282293e-17+0.22549380840084865j), 0j, (1.3807513534282293e-17-0.22549380840084865j)]\n",
            "[(-2.2114522446616617e-17+0.36115755925730764j), 0j, (2.2114522446616617e-17-0.36115755925730764j)]\n"
          ]
        }
      ]
    },
    {
      "cell_type": "code",
      "source": [
        "#53. Hadamard Product\n",
        "\n",
        "v1 = [1, 2, 3, 4, 5]\n",
        "v2 = [10, 20, 30, 40, 50]\n",
        "\n",
        "#method1\n",
        "v3 = []\n",
        "for dim_idx in range(len(v1)):\n",
        "  v3.append(v1[dim_idx]*v2[dim_idx])\n",
        "print(v3)\n",
        "\n",
        "#method2\n",
        "v3 = []\n",
        "\n",
        "for _ in range(len(v1)):\n",
        "  v3.append(0)\n",
        "for dim_idx in range(len(v1)):\n",
        "  v3[dim_idx] = v1[dim_idx] * v2[dim_idx]\n",
        "\n",
        "print(v3)"
      ],
      "metadata": {
        "colab": {
          "base_uri": "https://localhost:8080/"
        },
        "id": "B3G0iiMnVBWg",
        "outputId": "6843765d-1f51-4c82-b853-45960de6e612"
      },
      "execution_count": null,
      "outputs": [
        {
          "output_type": "stream",
          "name": "stdout",
          "text": [
            "[10, 40, 90, 160, 250]\n",
            "[10, 40, 90, 160, 250]\n"
          ]
        }
      ]
    },
    {
      "cell_type": "code",
      "source": [
        "#54. vector norm\n",
        "#for loop을 이용해 vector  norm을 구하기\n",
        "\n",
        "v1 = [1, 2, 3]\n",
        "tmp = 0\n",
        "\n",
        "for dim_idx in range(len(v1)):\n",
        "  tmp += v1[dim_idx]**2\n",
        "\n",
        "print(tmp**0.5)"
      ],
      "metadata": {
        "colab": {
          "base_uri": "https://localhost:8080/"
        },
        "id": "tgYnqCOCVsgZ",
        "outputId": "0a813dae-bd34-46fd-c217-63f1541f98f7"
      },
      "execution_count": null,
      "outputs": [
        {
          "output_type": "stream",
          "name": "stdout",
          "text": [
            "3.7416573867739413\n"
          ]
        }
      ]
    },
    {
      "cell_type": "code",
      "source": [
        "#55. Making unit vectors\n",
        "\n",
        "v1 = [1, 2, 3]\n",
        "tmp = 0\n",
        "\n",
        "for dim_idx in range(len(v1)):\n",
        "  tmp += v1[dim_idx]**2\n",
        "\n",
        "norm = tmp**0.5\n",
        "\n",
        "tmp = 0\n",
        "\n",
        "for dim_idx in range(len(v1)):\n",
        "  v1[dim_idx] /= norm\n",
        "\n",
        "for dim_idx in range(len(v1)):\n",
        "  tmp += v1[dim_idx]**2\n",
        "\n",
        "norm = tmp**0.5\n",
        "\n",
        "print(norm)"
      ],
      "metadata": {
        "colab": {
          "base_uri": "https://localhost:8080/"
        },
        "id": "UldwHv2-WGRJ",
        "outputId": "e2b8cf47-69dd-4e02-d8c9-a3ec8926466a"
      },
      "execution_count": null,
      "outputs": [
        {
          "output_type": "stream",
          "name": "stdout",
          "text": [
            "1.0\n"
          ]
        }
      ]
    },
    {
      "cell_type": "code",
      "source": [
        "#56. dot product\n",
        "\n",
        "v1 , v2 = [1, 2, 3], [3, 4, 5]\n",
        "\n",
        "dot_prod = 0\n",
        "\n",
        "for dim_idx in range(len(v1)):\n",
        "  dot_prod += v1[dim_idx]*v2[dim_idx]\n",
        "print(dot_prod)"
      ],
      "metadata": {
        "colab": {
          "base_uri": "https://localhost:8080/"
        },
        "id": "2xHak82CXn58",
        "outputId": "8bcad917-cdf1-4dab-88a0-3edafc2d172a"
      },
      "execution_count": null,
      "outputs": [
        {
          "output_type": "stream",
          "name": "stdout",
          "text": [
            "26\n"
          ]
        }
      ]
    },
    {
      "cell_type": "code",
      "source": [
        "#57. euclidean distance\n",
        "\n",
        "v1, v2 = [1, 2, 3], [3, 4, 5]\n",
        "\n",
        "e_dist = 0\n",
        "for dim_idx in range(len(v1)):\n",
        "  e_dist += (v1[dim_idx]-v2[dim_idx])**2\n",
        "\n",
        "e_dist = e_dist**0.5\n",
        "\n",
        "print(e_dist)"
      ],
      "metadata": {
        "colab": {
          "base_uri": "https://localhost:8080/"
        },
        "id": "YBI7EPAGX6vw",
        "outputId": "d11c2ac9-a59c-42fd-ffb4-3efcbf4b7a63"
      },
      "execution_count": null,
      "outputs": [
        {
          "output_type": "stream",
          "name": "stdout",
          "text": [
            "3.4641016151377544\n"
          ]
        }
      ]
    },
    {
      "cell_type": "code",
      "source": [
        "#Mean Squared Error\n",
        "\n",
        "predictions = [10, 20, 30]\n",
        "labels = [10, 25, 40]\n",
        "\n",
        "n_data = len(predictions)\n",
        "diff_square_sum = 0\n",
        "\n",
        "for dim_idx in range(n_data):\n",
        "  diff_square_sum += (predictions[dim_idx] - labels[dim_idx])**2\n",
        "\n",
        "mean_square_error = diff_square_sum/n_data\n",
        "\n",
        "print(mean_square_error)"
      ],
      "metadata": {
        "colab": {
          "base_uri": "https://localhost:8080/"
        },
        "id": "uax9_jQoYWJ-",
        "outputId": "af9d107d-65f7-4a30-fe8a-7de2c703d5bf"
      },
      "execution_count": null,
      "outputs": [
        {
          "output_type": "stream",
          "name": "stdout",
          "text": [
            "41.666666666666664\n"
          ]
        }
      ]
    },
    {
      "cell_type": "code",
      "source": [
        "#59. 숫자 빈도 구하기\n",
        "#끝나고 복습\n",
        "numbers = [0, 2, 4, 2, 1, 4, 3, 1, 2, 3, 4, 1, 2, 3, 4]\n",
        "number_cnt = [0,0,0,0,0]\n",
        "\n",
        "for num in numbers:\n",
        "  number_cnt[num] += 1\n",
        "\n",
        "print(number_cnt)"
      ],
      "metadata": {
        "colab": {
          "base_uri": "https://localhost:8080/"
        },
        "id": "PyKElkkCZEV3",
        "outputId": "de3ed9cd-5fd0-40dd-d6bf-41c1003f2f3d"
      },
      "execution_count": null,
      "outputs": [
        {
          "output_type": "stream",
          "name": "stdout",
          "text": [
            "[1, 3, 4, 3, 4]\n"
          ]
        }
      ]
    },
    {
      "cell_type": "code",
      "source": [
        "#60.합격 알려주기\n",
        "\n",
        "score = 60\n",
        "\n",
        "if score > 50:\n",
        "  print(\"Pass\")"
      ],
      "metadata": {
        "colab": {
          "base_uri": "https://localhost:8080/"
        },
        "id": "1udu9hQlaFDQ",
        "outputId": "d9f34551-5b1d-4b70-d48e-9827305df540"
      },
      "execution_count": null,
      "outputs": [
        {
          "output_type": "stream",
          "name": "stdout",
          "text": [
            "Pass\n"
          ]
        }
      ]
    },
    {
      "cell_type": "code",
      "source": [
        "#61. 합격 / 불합격 알려주기\n",
        "\n",
        "\n",
        "score = 40\n",
        "cutoff = 50\n",
        "\n",
        "if score > cutoff:\n",
        "  print(\"Pass!\")\n",
        "else:\n",
        "  print(\"Try again\")"
      ],
      "metadata": {
        "colab": {
          "base_uri": "https://localhost:8080/"
        },
        "id": "4X3u5ch1aL4F",
        "outputId": "d7f8fec6-ea23-4d91-8982-06551bc35ab2"
      },
      "execution_count": null,
      "outputs": [
        {
          "output_type": "stream",
          "name": "stdout",
          "text": [
            "Try again\n"
          ]
        }
      ]
    },
    {
      "cell_type": "code",
      "source": [
        "#62. 초를 분초로 표현하기\n",
        "\n",
        "seconds = 200\n",
        "\n",
        "if seconds > 60:\n",
        "  minutes = seconds // 60\n",
        "  seconds -= minutes*60\n",
        "\n",
        "else:\n",
        "  minutes = 0\n",
        "\n",
        "print(minutes, seconds)"
      ],
      "metadata": {
        "colab": {
          "base_uri": "https://localhost:8080/"
        },
        "id": "4xroszV4aXl4",
        "outputId": "bcb883fa-2dc1-4041-f215-2aa81bedf6c0"
      },
      "execution_count": null,
      "outputs": [
        {
          "output_type": "stream",
          "name": "stdout",
          "text": [
            "3 20\n"
          ]
        }
      ]
    },
    {
      "cell_type": "code",
      "source": [
        "#63. 초를 시분초로 표현하기\n",
        "\n",
        "seconds = 5000\n",
        "\n",
        "if seconds >= 3600:\n",
        "  hours = seconds // 3600\n",
        "  seconds -= hours*3600\n",
        "\n",
        "else:\n",
        "  hour = 0\n",
        "\n",
        "if seconds >= 60:\n",
        "  minutes = seconds // 60\n",
        "  seconds -= minutes*60\n",
        "\n",
        "else:\n",
        "  minutues = 0\n",
        "\n",
        "print(hours,minutes,seconds)"
      ],
      "metadata": {
        "colab": {
          "base_uri": "https://localhost:8080/"
        },
        "id": "_F4IY7uha2Xm",
        "outputId": "75e7279f-5e30-4de0-c01b-b95e255a53b9"
      },
      "execution_count": 2,
      "outputs": [
        {
          "output_type": "stream",
          "name": "stdout",
          "text": [
            "1 23 20\n"
          ]
        }
      ]
    },
    {
      "cell_type": "code",
      "source": [
        "#64. 홀수 / 짝수 구하기\n",
        "\n",
        "number =10\n",
        "\n",
        "if num % 2 == 0:\n",
        "  print(\"짝수입니다\")\n",
        "\n",
        "else:\n",
        "  print(\"홀수입니다\")"
      ],
      "metadata": {
        "id": "t5tOphJhitwr"
      },
      "execution_count": null,
      "outputs": []
    },
    {
      "cell_type": "code",
      "source": [
        "#65. 두 수 비교하기\n",
        "\n",
        "num1, num2 = 10, 10\n",
        "\n",
        "if num1 > num2:\n",
        "  print('first one')\n",
        "\n",
        "elif num2 < num2:\n",
        "  print('second one')\n",
        "\n",
        "else:\n",
        "  print('same as!')\n",
        "\n"
      ],
      "metadata": {
        "id": "pDMgCnl5i5lc"
      },
      "execution_count": null,
      "outputs": []
    },
    {
      "cell_type": "code",
      "source": [
        "#66. 성적으로 평점 바꾸기\n",
        "\n",
        "score = 70\n",
        "\n",
        "if score > 80:\n",
        "  grade = 'A'\n",
        "\n",
        "elif score > 60:\n",
        "  grade = 'B'\n",
        "\n",
        "elif score > 40:\n",
        "  grade = 'C'\n",
        "\n",
        "else:\n",
        "  grade = 'F'\n",
        "\n",
        "print(grade)"
      ],
      "metadata": {
        "colab": {
          "base_uri": "https://localhost:8080/"
        },
        "id": "Mg6B_kTejLpL",
        "outputId": "6053027a-0a25-4606-a181-99e7d04f1716"
      },
      "execution_count": 3,
      "outputs": [
        {
          "output_type": "stream",
          "name": "stdout",
          "text": [
            "B\n"
          ]
        }
      ]
    },
    {
      "cell_type": "code",
      "source": [
        "#67. 합격 / 불합격 알려주기(2)\n",
        "\n",
        "scores = [20, 50, 10, 60, 70]\n",
        "cutoff = 50\n",
        "\n",
        "for score in scores:\n",
        "  if score > cutoff:\n",
        "    print(score, \"점수, 합격\")\n",
        "  else:\n",
        "    print(\"불합격데스네\")\n"
      ],
      "metadata": {
        "colab": {
          "base_uri": "https://localhost:8080/"
        },
        "id": "tw-IeEAujjAu",
        "outputId": "757f3287-764a-46fb-f95d-14eefd34ac5b"
      },
      "execution_count": 4,
      "outputs": [
        {
          "output_type": "stream",
          "name": "stdout",
          "text": [
            "불합격데스네\n",
            "불합격데스네\n",
            "불합격데스네\n",
            "60 점수, 합격\n",
            "70 점수, 합격\n"
          ]
        }
      ]
    },
    {
      "cell_type": "code",
      "source": [
        "#68. 성적을 평점으로 바꾸기(2)\n",
        "\n",
        "scores = [20, 50, 10, 60, 90]\n",
        "grade = []\n",
        "\n",
        "for score in scores:\n",
        "  if score > 80:\n",
        "    grade.append('A')\n",
        "  elif score > 60:\n",
        "    grade.append('B')\n",
        "  elif score > 40:\n",
        "    grade.append('C')\n",
        "  else:\n",
        "    grade.append('F')\n",
        "\n",
        "print(grade)"
      ],
      "metadata": {
        "colab": {
          "base_uri": "https://localhost:8080/"
        },
        "id": "xQJ8-jTJj9tT",
        "outputId": "80957a13-d4bd-48e9-f93e-db7d1fe9fae1"
      },
      "execution_count": 5,
      "outputs": [
        {
          "output_type": "stream",
          "name": "stdout",
          "text": [
            "['F', 'C', 'F', 'C', 'A']\n"
          ]
        }
      ]
    },
    {
      "cell_type": "code",
      "source": [],
      "metadata": {
        "id": "tYYUCUGEkfhY"
      },
      "execution_count": null,
      "outputs": []
    }
  ]
}