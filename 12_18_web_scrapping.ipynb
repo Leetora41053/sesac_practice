{
  "cells": [
    {
      "cell_type": "markdown",
      "metadata": {
        "id": "view-in-github",
        "colab_type": "text"
      },
      "source": [
        "<a href=\"https://colab.research.google.com/github/Leetora41053/sesac_practice/blob/main/12_18_web_scrapping.ipynb\" target=\"_parent\"><img src=\"https://colab.research.google.com/assets/colab-badge.svg\" alt=\"Open In Colab\"/></a>"
      ]
    },
    {
      "cell_type": "markdown",
      "metadata": {
        "id": "Q5DHwBwk0cVc"
      },
      "source": [
        "# 칼럼명 가져오기"
      ]
    },
    {
      "cell_type": "code",
      "execution_count": null,
      "metadata": {
        "id": "XH6VgUEW0cVr",
        "outputId": "d7e2fc9d-391f-4db7-f1ea-64499a130d74"
      },
      "outputs": [
        {
          "name": "stdout",
          "output_type": "stream",
          "text": [
            "<Response [200]>\n"
          ]
        },
        {
          "data": {
            "text/plain": [
              "['종류', '주의보', '경보']"
            ]
          },
          "execution_count": 4,
          "metadata": {},
          "output_type": "execute_result"
        }
      ],
      "source": [
        "# 라이브러리 호출\n",
        "import requests\n",
        "from bs4 import BeautifulSoup\n",
        "\n",
        "# URL 접속\n",
        "response = requests.get(\"https://www.weather.go.kr/w/community/knowledge/standard.do\")\n",
        "print(response)\n",
        "\n",
        "# HTML 받아오기\n",
        "HTML = response.text\n",
        "soup = BeautifulSoup(HTML, 'html.parser')\n",
        "\n",
        "# 정보 가져오기\n",
        "column_tr = soup.select_one('body > div.container > section > div > div.cont-wrap > div > div > table > thead > tr')\n",
        "# column_tr.selct(\"\")\n",
        "columns = [i.text for i in column_tr.find_all('th')]\n",
        "columns\n",
        "\n",
        "# columns = []\n",
        "# for i in column_tr.find_all('th'):\n",
        "#     columns.append(i.text)"
      ]
    },
    {
      "cell_type": "markdown",
      "metadata": {
        "id": "ry-Bvzxh0cVw"
      },
      "source": [
        "# 로우명 가져오기"
      ]
    },
    {
      "cell_type": "code",
      "execution_count": null,
      "metadata": {
        "id": "Zb5YOt4Y0cVy",
        "outputId": "88577389-d2fe-4fc2-e9ca-baa96a99ab2f"
      },
      "outputs": [
        {
          "name": "stdout",
          "output_type": "stream",
          "text": [
            "<Response [200]>\n"
          ]
        },
        {
          "data": {
            "text/plain": [
              "['강풍', '풍랑', '호우', '대설', '건조', '폭풍해일', '한파', '태풍', '황사', '폭염']"
            ]
          },
          "execution_count": 5,
          "metadata": {},
          "output_type": "execute_result"
        }
      ],
      "source": [
        "# 라이브러리 호출\n",
        "import requests\n",
        "from bs4 import BeautifulSoup\n",
        "\n",
        "# URL 접속\n",
        "response = requests.get(\"https://www.weather.go.kr/w/community/knowledge/standard.do\")\n",
        "print(response)\n",
        "\n",
        "# HTML 받아오기\n",
        "HTML = response.text\n",
        "soup = BeautifulSoup(HTML, 'html.parser')\n",
        "\n",
        "table_body = soup.select_one('body > div.container > section > div > div.cont-wrap > div > div > table > tbody')\n",
        "\n",
        "#table header\n",
        "th = table_body.select('th')\n",
        "rows = [i.text for i in th]\n",
        "rows"
      ]
    },
    {
      "cell_type": "markdown",
      "metadata": {
        "id": "okNdXgDi0cVz"
      },
      "source": [
        "### 강풍 / 풍랑의 주의보와 경보를 가져와라"
      ]
    },
    {
      "cell_type": "code",
      "execution_count": null,
      "metadata": {
        "id": "BIA08Dkk0cV0",
        "outputId": "0f2daeb2-601e-4aa6-fab1-d6724fcc7f38"
      },
      "outputs": [
        {
          "name": "stdout",
          "output_type": "stream",
          "text": [
            "<Response [200]>\n"
          ]
        }
      ],
      "source": [
        "# 라이브러리 호출\n",
        "import requests\n",
        "from bs4 import BeautifulSoup\n",
        "\n",
        "# URL 접속\n",
        "response = requests.get(\"https://www.weather.go.kr/w/community/knowledge/standard.do\")\n",
        "print(response)\n",
        "\n",
        "# HTML 받아오기\n",
        "HTML = response.text\n",
        "soup = BeautifulSoup(HTML, 'html.parser')\n",
        "\n",
        "table_body = soup.select_one('body > div.container > section > div > div.cont-wrap > div > div > table > tbody')\n",
        "\n",
        "#딕셔너리 형태로 맞춰주기\n",
        "tr = table_body.select('tr')[:-1] #마지막 칼럼을 제외시킨다\n",
        "result = {}\n",
        "\n",
        "#key 값을 만들어주기\n",
        "for i in tr:\n",
        "    title = i.select_one('th').text\n",
        "    contents = [i.text.replace('\\n','').replace('\\t','') for i in i.select('td')]\n",
        "    result[title] = contents"
      ]
    },
    {
      "cell_type": "code",
      "execution_count": null,
      "metadata": {
        "id": "kI1z9LD50cV2",
        "outputId": "5cf10677-35a6-49ab-d2d9-9399c0948614"
      },
      "outputs": [
        {
          "data": {
            "text/plain": [
              "['육상에서 풍속 50.4km/h(14m/s) 이상 또는 순간풍속 72.0km/h(20m/s) 이상이예상될 때. 다만, 산지는 풍속 61.2km/h(17m/s) 이상 또는 순간풍속 90.0km/h(25m/s) 이상이예상될 때',\n",
              " '육상에서 풍속 75.6km/h(21m/s) 이상 또는 순간풍속 93.6km/h(26m/s) 이상이예상될 때. 다만, 산지는 풍속 86.4km/h(24m/s) 이상 또는 순간풍속 108.0km/h(30m/s) 이상이예상될 때']"
            ]
          },
          "execution_count": 19,
          "metadata": {},
          "output_type": "execute_result"
        }
      ],
      "source": [
        "result['강풍']"
      ]
    },
    {
      "cell_type": "markdown",
      "metadata": {
        "id": "MWamX75L0cV3"
      },
      "source": [
        "### YES24 책 제목 가져오기"
      ]
    },
    {
      "cell_type": "code",
      "execution_count": null,
      "metadata": {
        "id": "ptb8wc_90cV4",
        "outputId": "e955ea3d-d181-4609-f5d5-a79122f8ab47"
      },
      "outputs": [
        {
          "data": {
            "text/plain": [
              "['AI 2024 트렌드&활용백과',\n",
              " '혼자 공부하는 머신러닝+딥러닝',\n",
              " '파이토치 트랜스포머를 활용한 자연어 처리와 컴퓨터비전 심층학습',\n",
              " '인공지능 기반 자연어 처리',\n",
              " '트랜스포머를 활용한 자연어 처리',\n",
              " '밑바닥부터 시작하는 딥러닝 2',\n",
              " 'Do it! BERT와 GPT로 배우는 자연어 처리',\n",
              " '파이토치로 배우는 자연어 처리',\n",
              " '자연어처리 바이블',\n",
              " '트랜스포머를 활용한 자연어 처리',\n",
              " '텐서플로 2와 머신러닝으로 시작하는 자연어 처리',\n",
              " '베이지안으로 접근하는 자연어 처리 2/e',\n",
              " '자연어처리바이블',\n",
              " '김기현의 자연어 처리 딥러닝 캠프 파이토치 편',\n",
              " '파이썬으로 시작하는 한국어 정보 검색과 자연어 처리',\n",
              " '예제로 배우는 자연어 처리 기초',\n",
              " '자연어 처리와 딥러닝',\n",
              " 'Do it! BERT와 GPT로 배우는 자연어 처리',\n",
              " '개발자를 위한 머신러닝&딥러닝',\n",
              " '파이썬으로 배우는 자연어 처리 인 액션',\n",
              " '자연어 처리의 정석',\n",
              " '모두의 한국어 텍스트 분석 with 파이썬',\n",
              " '텐서플로 2와 머신러닝으로 시작하는 자연어 처리',\n",
              " '파이토치로 배우는 자연어 처리']"
            ]
          },
          "execution_count": 30,
          "metadata": {},
          "output_type": "execute_result"
        }
      ],
      "source": [
        "# 라이브러리 호출\n",
        "import requests\n",
        "from bs4 import BeautifulSoup\n",
        "\n",
        "# URL 접속\n",
        "response = requests.get(\"https://www.yes24.com/Product/Search?domain=ALL&query=%EC%9E%90%EC%97%B0%EC%96%B4%20%EC%B2%98%EB%A6%AC\")\n",
        "# HTML 받아오기\n",
        "HTML = response.text\n",
        "soup = BeautifulSoup(HTML, 'html.parser')\n",
        "\n",
        "book_list_html = soup.select_one('#yesSchList')\n",
        "book_list = [i.text for i in book_list_html.select('a.gd_name')]\n",
        "book_list"
      ]
    },
    {
      "cell_type": "markdown",
      "metadata": {
        "id": "wcPzmk3H0cV5"
      },
      "source": [
        "### 네이버 금융 배당페이지 웹스크레이핑"
      ]
    },
    {
      "cell_type": "code",
      "execution_count": null,
      "metadata": {
        "id": "1AE1557c0cV6"
      },
      "outputs": [],
      "source": [
        "# 라이브러리 호출\n",
        "import requests\n",
        "from bs4 import BeautifulSoup\n",
        "\n",
        "# URL 접속\n",
        "response = requests.get(\"https://finance.naver.com/sise/dividend_list.naver\")\n",
        "# HTML 받아오기\n",
        "HTML = response.text\n",
        "soup = BeautifulSoup(HTML, 'html.parser')"
      ]
    },
    {
      "cell_type": "markdown",
      "metadata": {
        "id": "-4Imcqcv0cV7"
      },
      "source": []
    },
    {
      "cell_type": "code",
      "execution_count": null,
      "metadata": {
        "id": "k0gcsq-u0cV7",
        "outputId": "23b779af-e7bb-466c-cc46-bd6673f7423a"
      },
      "outputs": [
        {
          "data": {
            "text/plain": [
              "['종목명',\n",
              " '현재가 ',\n",
              " '기준월 ',\n",
              " '배당금 ',\n",
              " '수익률(%)',\n",
              " '배당성향(%)',\n",
              " 'ROE(%) ',\n",
              " 'PER(배) ',\n",
              " 'PBR(배) ',\n",
              " '1년전',\n",
              " '2년전',\n",
              " '3년전']"
            ]
          },
          "execution_count": 32,
          "metadata": {},
          "output_type": "execute_result"
        }
      ],
      "source": [
        "# 칼럼 가져오기\n",
        "columns_html = soup.select_one('#contentarea_left > table.type_1.tb_ty > thead')\n",
        "columns_th = columns_html.select('th')\n",
        "columns = [i.text for i in columns_th]\n",
        "columns.remove('과거 3년 배당금')\n",
        "columns"
      ]
    },
    {
      "cell_type": "code",
      "execution_count": null,
      "metadata": {
        "id": "qveSmdy10cV8"
      },
      "outputs": [],
      "source": [
        "#내부 값 가져오기\n",
        "\n",
        "table_body = soup.select_one('#contentarea_left > table.type_1.tb_ty > tbody')\n",
        "row_html = table_body.select('tr')\n",
        "df_values = []\n",
        "for i in range(len(row_html)):\n",
        "    if row_html[i].select_one('.txt').text != '\\xa0':\n",
        "        title = row_html[i].select_one('.txt').text\n",
        "        values = [i.text for i in row_html[i].select('.num')]\n",
        "        result = [title] + values\n",
        "        df_values.append(result)"
      ]
    },
    {
      "cell_type": "code",
      "execution_count": null,
      "metadata": {
        "id": "m7xp4S7L0cV8",
        "outputId": "ea558313-4d85-4f5b-9885-3cb938097dac"
      },
      "outputs": [
        {
          "data": {
            "text/html": [
              "<div>\n",
              "<style scoped>\n",
              "    .dataframe tbody tr th:only-of-type {\n",
              "        vertical-align: middle;\n",
              "    }\n",
              "\n",
              "    .dataframe tbody tr th {\n",
              "        vertical-align: top;\n",
              "    }\n",
              "\n",
              "    .dataframe thead th {\n",
              "        text-align: right;\n",
              "    }\n",
              "</style>\n",
              "<table border=\"1\" class=\"dataframe\">\n",
              "  <thead>\n",
              "    <tr style=\"text-align: right;\">\n",
              "      <th></th>\n",
              "      <th>종목명</th>\n",
              "      <th>현재가</th>\n",
              "      <th>기준월</th>\n",
              "      <th>배당금</th>\n",
              "      <th>수익률(%)</th>\n",
              "      <th>배당성향(%)</th>\n",
              "      <th>ROE(%)</th>\n",
              "      <th>PER(배)</th>\n",
              "      <th>PBR(배)</th>\n",
              "      <th>1년전</th>\n",
              "      <th>2년전</th>\n",
              "      <th>3년전</th>\n",
              "    </tr>\n",
              "  </thead>\n",
              "  <tbody>\n",
              "    <tr>\n",
              "      <th>0</th>\n",
              "      <td>한국ANKOR유전</td>\n",
              "      <td>348</td>\n",
              "      <td>22.12</td>\n",
              "      <td>1,870</td>\n",
              "      <td>537.36</td>\n",
              "      <td>-</td>\n",
              "      <td>-</td>\n",
              "      <td>-</td>\n",
              "      <td>-</td>\n",
              "      <td>180</td>\n",
              "      <td>120</td>\n",
              "      <td>185</td>\n",
              "    </tr>\n",
              "    <tr>\n",
              "      <th>1</th>\n",
              "      <td>락앤락</td>\n",
              "      <td>6,640</td>\n",
              "      <td>22.12</td>\n",
              "      <td>1,953</td>\n",
              "      <td>29.41</td>\n",
              "      <td>-637.03</td>\n",
              "      <td>-2.38</td>\n",
              "      <td>-20.83</td>\n",
              "      <td>0.52</td>\n",
              "      <td>0</td>\n",
              "      <td>0</td>\n",
              "      <td>0</td>\n",
              "    </tr>\n",
              "    <tr>\n",
              "      <th>2</th>\n",
              "      <td>한국패러랠</td>\n",
              "      <td>1,491</td>\n",
              "      <td>22.03</td>\n",
              "      <td>390</td>\n",
              "      <td>26.16</td>\n",
              "      <td>-</td>\n",
              "      <td>-</td>\n",
              "      <td>-</td>\n",
              "      <td>-</td>\n",
              "      <td>90</td>\n",
              "      <td>235</td>\n",
              "      <td>165</td>\n",
              "    </tr>\n",
              "    <tr>\n",
              "      <th>3</th>\n",
              "      <td>일성신약</td>\n",
              "      <td>24,900</td>\n",
              "      <td>22.12</td>\n",
              "      <td>4,000</td>\n",
              "      <td>16.06</td>\n",
              "      <td>28.18</td>\n",
              "      <td>26.59</td>\n",
              "      <td>2.13</td>\n",
              "      <td>0.28</td>\n",
              "      <td>150</td>\n",
              "      <td>150</td>\n",
              "      <td>150</td>\n",
              "    </tr>\n",
              "    <tr>\n",
              "      <th>4</th>\n",
              "      <td>리드코프</td>\n",
              "      <td>6,170</td>\n",
              "      <td>22.12</td>\n",
              "      <td>800</td>\n",
              "      <td>12.97</td>\n",
              "      <td>64.02</td>\n",
              "      <td>7.47</td>\n",
              "      <td>6.09</td>\n",
              "      <td>0.44</td>\n",
              "      <td>800</td>\n",
              "      <td>800</td>\n",
              "      <td>150</td>\n",
              "    </tr>\n",
              "  </tbody>\n",
              "</table>\n",
              "</div>"
            ],
            "text/plain": [
              "         종목명    현재가    기준월    배당금   수익률(%)  배당성향(%) ROE(%)  PER(배)  PBR(배)   \\\n",
              "0  한국ANKOR유전     348  22.12  1,870  537.36        -       -       -       -   \n",
              "1        락앤락   6,640  22.12  1,953   29.41  -637.03   -2.38  -20.83    0.52   \n",
              "2      한국패러랠   1,491  22.03    390   26.16        -       -       -       -   \n",
              "3       일성신약  24,900  22.12  4,000   16.06    28.18   26.59    2.13    0.28   \n",
              "4       리드코프   6,170  22.12    800   12.97    64.02    7.47    6.09    0.44   \n",
              "\n",
              "   1년전  2년전  3년전  \n",
              "0  180  120  185  \n",
              "1    0    0    0  \n",
              "2   90  235  165  \n",
              "3  150  150  150  \n",
              "4  800  800  150  "
            ]
          },
          "execution_count": 35,
          "metadata": {},
          "output_type": "execute_result"
        }
      ],
      "source": [
        "#데이터 프레임 만들기\n",
        "import pandas as pd\n",
        "df = pd.DataFrame(df_values, columns = columns)\n",
        "df.head()"
      ]
    },
    {
      "cell_type": "code",
      "execution_count": null,
      "metadata": {
        "id": "a0kFT5AJ0cV9",
        "outputId": "23138d6e-093f-4af7-aacc-b7eb25a4b223"
      },
      "outputs": [
        {
          "data": {
            "text/plain": [
              "27"
            ]
          },
          "execution_count": 36,
          "metadata": {},
          "output_type": "execute_result"
        }
      ],
      "source": [
        "# 속성에 있는 값에 접글 할때 .get을 활용한다.\n",
        "last_page = int(soup.select_one('td.pgRR > a').get('href').split('&page=')[-1])\n",
        "last_page"
      ]
    },
    {
      "cell_type": "code",
      "execution_count": null,
      "metadata": {
        "id": "H1XP8olB0cV-"
      },
      "outputs": [],
      "source": [
        "def getPageData(page_num):\n",
        "    # URL 접속\n",
        "    response = requests.get(f\"https://finance.naver.com/sise/dividend_list.naver?&page={page_num}\")\n",
        "    # HTML 받아오기\n",
        "    HTML = response.text\n",
        "    soup = BeautifulSoup(HTML, 'html.parser')\n",
        "\n",
        "    columns_html = soup.select_one('#contentarea_left > table.type_1.tb_ty > thead')\n",
        "    columns_th = columns_html.select('th')\n",
        "    columns = [i.text for i in columns_th]\n",
        "    columns.remove('과거 3년 배당금')\n",
        "\n",
        "    table_body = soup.select_one('#contentarea_left > table.type_1.tb_ty > tbody')\n",
        "    row_html = table_body.select('tr')\n",
        "    df_values = []\n",
        "    for i in range(len(row_html)):\n",
        "        if row_html[i].select_one('.txt').text != '\\xa0':\n",
        "            title = row_html[i].select_one('.txt').text\n",
        "            values = [i.text for i in row_html[i].select('.num')]\n",
        "            result = [title] + values\n",
        "            df_values.append(result)\n",
        "\n",
        "    df = pd.DataFrame(df_values, columns = columns)\n",
        "    return df"
      ]
    },
    {
      "cell_type": "code",
      "execution_count": null,
      "metadata": {
        "id": "mm4frHUQ0cV_",
        "outputId": "119490d2-d833-4591-924b-37be7836bc00"
      },
      "outputs": [
        {
          "ename": "TypeError",
          "evalue": "cannot concatenate object of type '<class 'function'>'; only Series and DataFrame objs are valid",
          "output_type": "error",
          "traceback": [
            "\u001b[0;31m---------------------------------------------------------------------------\u001b[0m",
            "\u001b[0;31mTypeError\u001b[0m                                 Traceback (most recent call last)",
            "Cell \u001b[0;32mIn[40], line 3\u001b[0m\n\u001b[1;32m      1\u001b[0m empty_df \u001b[38;5;241m=\u001b[39m pd\u001b[38;5;241m.\u001b[39mDataFrame()\n\u001b[1;32m      2\u001b[0m \u001b[38;5;28;01mfor\u001b[39;00m i \u001b[38;5;129;01min\u001b[39;00m \u001b[38;5;28mrange\u001b[39m(\u001b[38;5;241m1\u001b[39m, last_page\u001b[38;5;241m+\u001b[39m\u001b[38;5;241m1\u001b[39m):\n\u001b[0;32m----> 3\u001b[0m     empty_df \u001b[38;5;241m=\u001b[39m \u001b[43mpd\u001b[49m\u001b[38;5;241;43m.\u001b[39;49m\u001b[43mconcat\u001b[49m\u001b[43m(\u001b[49m\u001b[43m[\u001b[49m\u001b[43mempty_df\u001b[49m\u001b[43m,\u001b[49m\u001b[43m \u001b[49m\u001b[43mgetPageData\u001b[49m\u001b[43m]\u001b[49m\u001b[43m)\u001b[49m\n\u001b[1;32m      4\u001b[0m empty_df \u001b[38;5;241m=\u001b[39m empty_df\u001b[38;5;241m.\u001b[39mreset_index(drop\u001b[38;5;241m=\u001b[39m\u001b[38;5;28;01mTrue\u001b[39;00m)\n\u001b[1;32m      5\u001b[0m empty_df\n",
            "File \u001b[0;32m~/anaconda3/envs/ai2/lib/python3.8/site-packages/pandas/core/reshape/concat.py:372\u001b[0m, in \u001b[0;36mconcat\u001b[0;34m(objs, axis, join, ignore_index, keys, levels, names, verify_integrity, sort, copy)\u001b[0m\n\u001b[1;32m    369\u001b[0m \u001b[38;5;28;01melif\u001b[39;00m copy \u001b[38;5;129;01mand\u001b[39;00m using_copy_on_write():\n\u001b[1;32m    370\u001b[0m     copy \u001b[38;5;241m=\u001b[39m \u001b[38;5;28;01mFalse\u001b[39;00m\n\u001b[0;32m--> 372\u001b[0m op \u001b[38;5;241m=\u001b[39m \u001b[43m_Concatenator\u001b[49m\u001b[43m(\u001b[49m\n\u001b[1;32m    373\u001b[0m \u001b[43m    \u001b[49m\u001b[43mobjs\u001b[49m\u001b[43m,\u001b[49m\n\u001b[1;32m    374\u001b[0m \u001b[43m    \u001b[49m\u001b[43maxis\u001b[49m\u001b[38;5;241;43m=\u001b[39;49m\u001b[43maxis\u001b[49m\u001b[43m,\u001b[49m\n\u001b[1;32m    375\u001b[0m \u001b[43m    \u001b[49m\u001b[43mignore_index\u001b[49m\u001b[38;5;241;43m=\u001b[39;49m\u001b[43mignore_index\u001b[49m\u001b[43m,\u001b[49m\n\u001b[1;32m    376\u001b[0m \u001b[43m    \u001b[49m\u001b[43mjoin\u001b[49m\u001b[38;5;241;43m=\u001b[39;49m\u001b[43mjoin\u001b[49m\u001b[43m,\u001b[49m\n\u001b[1;32m    377\u001b[0m \u001b[43m    \u001b[49m\u001b[43mkeys\u001b[49m\u001b[38;5;241;43m=\u001b[39;49m\u001b[43mkeys\u001b[49m\u001b[43m,\u001b[49m\n\u001b[1;32m    378\u001b[0m \u001b[43m    \u001b[49m\u001b[43mlevels\u001b[49m\u001b[38;5;241;43m=\u001b[39;49m\u001b[43mlevels\u001b[49m\u001b[43m,\u001b[49m\n\u001b[1;32m    379\u001b[0m \u001b[43m    \u001b[49m\u001b[43mnames\u001b[49m\u001b[38;5;241;43m=\u001b[39;49m\u001b[43mnames\u001b[49m\u001b[43m,\u001b[49m\n\u001b[1;32m    380\u001b[0m \u001b[43m    \u001b[49m\u001b[43mverify_integrity\u001b[49m\u001b[38;5;241;43m=\u001b[39;49m\u001b[43mverify_integrity\u001b[49m\u001b[43m,\u001b[49m\n\u001b[1;32m    381\u001b[0m \u001b[43m    \u001b[49m\u001b[43mcopy\u001b[49m\u001b[38;5;241;43m=\u001b[39;49m\u001b[43mcopy\u001b[49m\u001b[43m,\u001b[49m\n\u001b[1;32m    382\u001b[0m \u001b[43m    \u001b[49m\u001b[43msort\u001b[49m\u001b[38;5;241;43m=\u001b[39;49m\u001b[43msort\u001b[49m\u001b[43m,\u001b[49m\n\u001b[1;32m    383\u001b[0m \u001b[43m\u001b[49m\u001b[43m)\u001b[49m\n\u001b[1;32m    385\u001b[0m \u001b[38;5;28;01mreturn\u001b[39;00m op\u001b[38;5;241m.\u001b[39mget_result()\n",
            "File \u001b[0;32m~/anaconda3/envs/ai2/lib/python3.8/site-packages/pandas/core/reshape/concat.py:462\u001b[0m, in \u001b[0;36m_Concatenator.__init__\u001b[0;34m(self, objs, axis, join, keys, levels, names, ignore_index, verify_integrity, copy, sort)\u001b[0m\n\u001b[1;32m    457\u001b[0m     \u001b[38;5;28;01mif\u001b[39;00m \u001b[38;5;129;01mnot\u001b[39;00m \u001b[38;5;28misinstance\u001b[39m(obj, (ABCSeries, ABCDataFrame)):\n\u001b[1;32m    458\u001b[0m         msg \u001b[38;5;241m=\u001b[39m (\n\u001b[1;32m    459\u001b[0m             \u001b[38;5;124mf\u001b[39m\u001b[38;5;124m\"\u001b[39m\u001b[38;5;124mcannot concatenate object of type \u001b[39m\u001b[38;5;124m'\u001b[39m\u001b[38;5;132;01m{\u001b[39;00m\u001b[38;5;28mtype\u001b[39m(obj)\u001b[38;5;132;01m}\u001b[39;00m\u001b[38;5;124m'\u001b[39m\u001b[38;5;124m; \u001b[39m\u001b[38;5;124m\"\u001b[39m\n\u001b[1;32m    460\u001b[0m             \u001b[38;5;124m\"\u001b[39m\u001b[38;5;124monly Series and DataFrame objs are valid\u001b[39m\u001b[38;5;124m\"\u001b[39m\n\u001b[1;32m    461\u001b[0m         )\n\u001b[0;32m--> 462\u001b[0m         \u001b[38;5;28;01mraise\u001b[39;00m \u001b[38;5;167;01mTypeError\u001b[39;00m(msg)\n\u001b[1;32m    464\u001b[0m     ndims\u001b[38;5;241m.\u001b[39madd(obj\u001b[38;5;241m.\u001b[39mndim)\n\u001b[1;32m    466\u001b[0m \u001b[38;5;66;03m# get the sample\u001b[39;00m\n\u001b[1;32m    467\u001b[0m \u001b[38;5;66;03m# want the highest ndim that we have, and must be non-empty\u001b[39;00m\n\u001b[1;32m    468\u001b[0m \u001b[38;5;66;03m# unless all objs are empty\u001b[39;00m\n",
            "\u001b[0;31mTypeError\u001b[0m: cannot concatenate object of type '<class 'function'>'; only Series and DataFrame objs are valid"
          ]
        }
      ],
      "source": [
        "empty_df = pd.DataFrame()\n",
        "for i in range(1, last_page+1):\n",
        "    empty_df = pd.concat([empty_df, getPageData])\n",
        "empty_df = empty_df.reset_index(drop=True)\n",
        "empty_df"
      ]
    }
  ],
  "metadata": {
    "kernelspec": {
      "display_name": "ai2",
      "language": "python",
      "name": "python3"
    },
    "language_info": {
      "codemirror_mode": {
        "name": "ipython",
        "version": 3
      },
      "file_extension": ".py",
      "mimetype": "text/x-python",
      "name": "python",
      "nbconvert_exporter": "python",
      "pygments_lexer": "ipython3",
      "version": "3.8.17"
    },
    "colab": {
      "provenance": [],
      "include_colab_link": true
    }
  },
  "nbformat": 4,
  "nbformat_minor": 0
}