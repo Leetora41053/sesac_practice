{
  "nbformat": 4,
  "nbformat_minor": 0,
  "metadata": {
    "colab": {
      "provenance": [],
      "authorship_tag": "ABX9TyN1TKG0rb/9f4ntyKAfxjUS",
      "include_colab_link": true
    },
    "kernelspec": {
      "name": "python3",
      "display_name": "Python 3"
    },
    "language_info": {
      "name": "python"
    }
  },
  "cells": [
    {
      "cell_type": "markdown",
      "metadata": {
        "id": "view-in-github",
        "colab_type": "text"
      },
      "source": [
        "<a href=\"https://colab.research.google.com/github/Leetora41053/sesac_practice/blob/main/11_1.ipynb\" target=\"_parent\"><img src=\"https://colab.research.google.com/assets/colab-badge.svg\" alt=\"Open In Colab\"/></a>"
      ]
    },
    {
      "cell_type": "code",
      "execution_count": 7,
      "metadata": {
        "colab": {
          "base_uri": "https://localhost:8080/"
        },
        "id": "HEjLDlJoZT-1",
        "outputId": "dcbd8fef-e48b-45d5-ad30-9a26d8ac15dc"
      },
      "outputs": [
        {
          "output_type": "stream",
          "name": "stdout",
          "text": [
            "mean of passed:  75.0\n",
            "mean of passed:  26.666666666666668\n"
          ]
        }
      ],
      "source": [
        "#69. 합격 / 불합격 학생들의 평균 구하기\n",
        "\n",
        "scores = [20, 50, 10, 60, 90]\n",
        "cutoff = 50\n",
        "\n",
        "pass_scores, p_mean = [], 0\n",
        "no_pass_scores, np_mean = [], 0\n",
        "\n",
        "for score in scores:\n",
        "  if score > cutoff:\n",
        "    pass_scores.append(score)\n",
        "  else:\n",
        "    no_pass_scores.append(score)\n",
        "\n",
        "for i in range(len(pass_scores)):\n",
        "  p_mean += pass_scores[i]\n",
        "p_mean /= len(pass_scores)\n",
        "\n",
        "for i in range(len(no_pass_scores)):\n",
        "  np_mean += no_pass_scores[i]\n",
        "np_mean /= len(no_pass_scores)\n",
        "\n",
        "print(\"mean of passed: \", p_mean)\n",
        "print(\"mean of passed: \", np_mean)\n",
        "#result 'mean of passed: 75\n",
        "#result 'mean of no passed: 26.6"
      ]
    },
    {
      "cell_type": "code",
      "source": [
        "#70. 홀수/짝수 구하기\n",
        "\n",
        "numbers = []\n",
        "for num in range(10):\n",
        "  numbers.append(num)\n",
        "\n",
        "numbers.append(3.14)\n",
        "\n",
        "print(numbers)\n",
        "\n",
        "for num in numbers:\n",
        "  if num % 2 == 0:\n",
        "    print(\"Even Number\")\n",
        "  elif num % 1 == 0:\n",
        "    print(\"Odd Number\")\n",
        "  else:\n",
        "    print(\"Not an integer\")\n",
        "\n"
      ],
      "metadata": {
        "colab": {
          "base_uri": "https://localhost:8080/"
        },
        "id": "K1DxoWP2dqzh",
        "outputId": "717e43d8-d34a-4618-d9f2-9bc4df431bcd"
      },
      "execution_count": 8,
      "outputs": [
        {
          "output_type": "stream",
          "name": "stdout",
          "text": [
            "[0, 1, 2, 3, 4, 5, 6, 7, 8, 9, 3.14]\n"
          ]
        }
      ]
    },
    {
      "cell_type": "code",
      "source": [
        "#71. n배수들의 합 구하기\n",
        "multiple_of = 3\n",
        "\n",
        "numbers = []\n",
        "\n",
        "for num in range(100):\n",
        "  if num % multiple_of == 0:\n",
        "    numbers.append(num)\n",
        "\n",
        "\n",
        "sum_multiple_of_numbers = 0\n",
        "for num in numbers:\n",
        "  sum_multiple_of_numbers += num\n",
        "\n",
        "print(numbers)\n",
        "print(sum_multiple_of_numbers)"
      ],
      "metadata": {
        "colab": {
          "base_uri": "https://localhost:8080/"
        },
        "id": "CI_vyqpaeTaZ",
        "outputId": "020b1c1c-dcde-48aa-fa6e-e2b45c3f375d"
      },
      "execution_count": 10,
      "outputs": [
        {
          "output_type": "stream",
          "name": "stdout",
          "text": [
            "[0, 3, 6, 9, 12, 15, 18, 21, 24, 27, 30, 33, 36, 39, 42, 45, 48, 51, 54, 57, 60, 63, 66, 69, 72, 75, 78, 81, 84, 87, 90, 93, 96, 99]\n",
            "1683\n"
          ]
        }
      ]
    },
    {
      "cell_type": "code",
      "source": [
        "#72. 최댓값, 최솟값 구하기\n",
        "#for loop와 if statement를 이용해 최댓값과 최솟값을 구하는 과정에 대해 배워봅니다.\n",
        "\n",
        "scores = [60, 40, 70, 20, 30]\n",
        "\n",
        "M, m = 0, 100\n",
        "max_scores , min_scores = 0, 0\n",
        "for score in scores:\n",
        "  if score > M:\n",
        "    M = score\n",
        "  if score < m:\n",
        "    m = score\n",
        "\n",
        "print(M)\n",
        "print(m)"
      ],
      "metadata": {
        "colab": {
          "base_uri": "https://localhost:8080/"
        },
        "id": "wLNgYmWGgTH3",
        "outputId": "d0c0bcdb-4331-4052-df47-fce6da33c0d7"
      },
      "execution_count": 15,
      "outputs": [
        {
          "output_type": "stream",
          "name": "stdout",
          "text": [
            "70\n",
            "20\n"
          ]
        }
      ]
    },
    {
      "cell_type": "code",
      "source": [
        "#73. 최댓값, 최솟값 구하기(2)\n",
        "\n",
        "scores = [-20, 60, 40, 70, 120]\n",
        "\n",
        "#method 1\n",
        "M, m = scores[0], scores[0]\n",
        "for score in scores:\n",
        "  if score > M:\n",
        "    M = score\n",
        "  if score < m:\n",
        "    m = score\n",
        "\n",
        "print(M)\n",
        "print(m)\n",
        "\n",
        "#method2\n",
        "\n",
        "M, m = None, None\n",
        "for score in scores:\n",
        "  if M == None or score > M:\n",
        "    M = score\n",
        "  if m == None or score < m:\n",
        "    m = score"
      ],
      "metadata": {
        "colab": {
          "base_uri": "https://localhost:8080/"
        },
        "id": "FSSfFFCjhkWW",
        "outputId": "6369ac3c-4033-409e-b4bd-6b8038cc9c4a"
      },
      "execution_count": 17,
      "outputs": [
        {
          "output_type": "stream",
          "name": "stdout",
          "text": [
            "120\n",
            "-20\n"
          ]
        }
      ]
    },
    {
      "cell_type": "code",
      "source": [
        "#74. Min , Max normalization\n",
        "# x-m/M - m\n",
        "scores = [-20, 60, 40, 70, 120]\n",
        "\n",
        "M, m = scores[0], scores[0]\n",
        "\n",
        "for score in scores:\n",
        "  if score > M:\n",
        "    M = score\n",
        "  if score < m:\n",
        "    m = score\n",
        "\n",
        "for idx in range(len(scores)):\n",
        "  scores[idx] -= m\n",
        "  scores[idx] /= (M-m)\n",
        "\n",
        "print(scores)\n",
        "\n",
        "M, m = scores[0], scores[0]\n",
        "\n",
        "for score in scores:\n",
        "  if score > M:\n",
        "    M = score\n",
        "  if score < m:\n",
        "    m = score\n",
        "print(M,m)"
      ],
      "metadata": {
        "colab": {
          "base_uri": "https://localhost:8080/"
        },
        "id": "5u3FzQvTidlf",
        "outputId": "efac87a4-14f4-4f03-e45d-e5815a8466d0"
      },
      "execution_count": 22,
      "outputs": [
        {
          "output_type": "stream",
          "name": "stdout",
          "text": [
            "[0.0, 0.5714285714285714, 0.42857142857142855, 0.6428571428571429, 1.0]\n",
            "1.0 0.0\n"
          ]
        }
      ]
    },
    {
      "cell_type": "code",
      "source": [
        "#75. 최댓값, 최솟값의 위치 구하기\n",
        "\n",
        "#최댓값, 최솟값을 구하는 방식을 확장하여 최댓값, 최솟값의 위치를 구하는 방식을 배워봅니다.\n",
        "\n",
        "scores = [60, -20, 40, 120, 70]\n",
        "\n",
        "M, m = None, None\n",
        "\n",
        "M_idx, m_idx = 0, 0\n",
        "\n",
        "for score_idx in range(len(scores)):\n",
        "  score = scores[score_idx]\n",
        "  if M == None or score > M:\n",
        "      M = score\n",
        "      M_idx = score_idx\n",
        "\n",
        "  if m == None or score < m:\n",
        "      m = score\n",
        "      m_idx = score_idx\n",
        "\n",
        "print(\"M/M_idx: \", M, M_idx)\n",
        "print(\"m/m_idx: \", m, m_idx)"
      ],
      "metadata": {
        "colab": {
          "base_uri": "https://localhost:8080/"
        },
        "id": "XCTR921vjr-r",
        "outputId": "c110502e-498c-4a5b-fb1a-c1e9e6570880"
      },
      "execution_count": 33,
      "outputs": [
        {
          "output_type": "stream",
          "name": "stdout",
          "text": [
            "M/M_idx:  120 3\n",
            "m/m_idx:  -20 1\n"
          ]
        }
      ]
    }
  ]
}