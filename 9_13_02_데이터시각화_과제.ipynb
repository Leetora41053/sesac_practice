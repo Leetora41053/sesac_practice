{
  "nbformat": 4,
  "nbformat_minor": 0,
  "metadata": {
    "colab": {
      "provenance": [],
      "authorship_tag": "ABX9TyPDJuPs9kTID6LCWwFKyibC",
      "include_colab_link": true
    },
    "kernelspec": {
      "name": "python3",
      "display_name": "Python 3"
    },
    "language_info": {
      "name": "python"
    }
  },
  "cells": [
    {
      "cell_type": "markdown",
      "metadata": {
        "id": "view-in-github",
        "colab_type": "text"
      },
      "source": [
        "<a href=\"https://colab.research.google.com/github/Leetora41053/sesac_practice/blob/main/9_13_02_%EB%8D%B0%EC%9D%B4%ED%84%B0%EC%8B%9C%EA%B0%81%ED%99%94_%EA%B3%BC%EC%A0%9C.ipynb\" target=\"_parent\"><img src=\"https://colab.research.google.com/assets/colab-badge.svg\" alt=\"Open In Colab\"/></a>"
      ]
    },
    {
      "cell_type": "code",
      "source": [],
      "metadata": {
        "colab": {
          "base_uri": "https://localhost:8080/"
        },
        "id": "0_L02n_4MJWr",
        "outputId": "2851e613-abbe-49d5-85b5-988516e516a6"
      },
      "execution_count": null,
      "outputs": [
        {
          "output_type": "stream",
          "name": "stdout",
          "text": [
            "Reading package lists... Done\n",
            "Building dependency tree... Done\n",
            "Reading state information... Done\n",
            "The following NEW packages will be installed:\n",
            "  fonts-nanum\n",
            "0 upgraded, 1 newly installed, 0 to remove and 16 not upgraded.\n",
            "Need to get 10.3 MB of archives.\n",
            "After this operation, 34.1 MB of additional disk space will be used.\n",
            "Get:1 http://archive.ubuntu.com/ubuntu jammy/universe amd64 fonts-nanum all 20200506-1 [10.3 MB]\n",
            "Fetched 10.3 MB in 1s (8,509 kB/s)\n",
            "debconf: unable to initialize frontend: Dialog\n",
            "debconf: (No usable dialog-like program is installed, so the dialog based frontend cannot be used. at /usr/share/perl5/Debconf/FrontEnd/Dialog.pm line 78, <> line 1.)\n",
            "debconf: falling back to frontend: Readline\n",
            "debconf: unable to initialize frontend: Readline\n",
            "debconf: (This frontend requires a controlling tty.)\n",
            "debconf: falling back to frontend: Teletype\n",
            "dpkg-preconfigure: unable to re-open stdin: \n",
            "Selecting previously unselected package fonts-nanum.\n",
            "(Reading database ... 120901 files and directories currently installed.)\n",
            "Preparing to unpack .../fonts-nanum_20200506-1_all.deb ...\n",
            "Unpacking fonts-nanum (20200506-1) ...\n",
            "Setting up fonts-nanum (20200506-1) ...\n",
            "Processing triggers for fontconfig (2.13.1-4.2ubuntu5) ...\n",
            "/usr/share/fonts: caching, new cache contents: 0 fonts, 1 dirs\n",
            "/usr/share/fonts/truetype: caching, new cache contents: 0 fonts, 3 dirs\n",
            "/usr/share/fonts/truetype/humor-sans: caching, new cache contents: 1 fonts, 0 dirs\n",
            "/usr/share/fonts/truetype/liberation: caching, new cache contents: 16 fonts, 0 dirs\n",
            "/usr/share/fonts/truetype/nanum: caching, new cache contents: 12 fonts, 0 dirs\n",
            "/usr/local/share/fonts: caching, new cache contents: 0 fonts, 0 dirs\n",
            "/root/.local/share/fonts: skipping, no such directory\n",
            "/root/.fonts: skipping, no such directory\n",
            "/usr/share/fonts/truetype: skipping, looped directory detected\n",
            "/usr/share/fonts/truetype/humor-sans: skipping, looped directory detected\n",
            "/usr/share/fonts/truetype/liberation: skipping, looped directory detected\n",
            "/usr/share/fonts/truetype/nanum: skipping, looped directory detected\n",
            "/var/cache/fontconfig: cleaning cache directory\n",
            "/root/.cache/fontconfig: not cleaning non-existent cache directory\n",
            "/root/.fontconfig: not cleaning non-existent cache directory\n",
            "fc-cache: succeeded\n"
          ]
        }
      ]
    },
    {
      "cell_type": "code",
      "execution_count": null,
      "metadata": {
        "colab": {
          "base_uri": "https://localhost:8080/"
        },
        "id": "jiMfvhGBKdDL",
        "outputId": "ecd4962d-b20e-4d4e-a2a7-8ba93e10706c"
      },
      "outputs": [
        {
          "output_type": "stream",
          "name": "stderr",
          "text": [
            "<ipython-input-1-513f90685f67>:19: DeprecationWarning: `set_matplotlib_formats` is deprecated since IPython 7.23, directly use `matplotlib_inline.backend_inline.set_matplotlib_formats()`\n",
            "  set_matplotlib_formats('retina')\n"
          ]
        }
      ],
      "source": [
        "#패키지를 불러옵니다.\n",
        "import matplotlib as mpl\n",
        "import platform\n",
        "\n",
        "#주피터 노트북내에 그림을 표시 합니다.\n",
        "%matplotlib inline\n",
        "\n",
        "my_platform = platform.system()\n",
        "# 폰트 설정\n",
        "if my_platform == 'Linux':\n",
        "  mpl.rc('font', family='NanumBarunGothic')\n",
        "elif my_platform == 'Windows':\n",
        "  mpl.rc('font', family='Malgun Gothic')\n",
        "elif my_platform == 'Darwin':\n",
        "  mpl.rc('font', family='AppleGothic')\n",
        "\n",
        "#그래프의 폰트를 선명하게 출력합니다.\n",
        "from IPython.display import set_matplotlib_formats\n",
        "set_matplotlib_formats('retina')\n",
        "\n",
        "# 그래프 음수값 깨짐 방지\n",
        "mpl.rc('axes', unicode_minus=False)"
      ]
    },
    {
      "cell_type": "code",
      "source": [
        "import pandas as pd\n",
        "\n",
        "df = pd.read_csv('https://raw.githubusercontent.com/jin0choi1216/dataset/main/%40preprocessing_data_member01.csv', index_col = 0)\n",
        "df.head()"
      ],
      "metadata": {
        "colab": {
          "base_uri": "https://localhost:8080/",
          "height": 530
        },
        "id": "B2ZDBqgUKkfr",
        "outputId": "b5e411f4-05d6-446b-e7df-00cf5432af61"
      },
      "execution_count": null,
      "outputs": [
        {
          "output_type": "execute_result",
          "data": {
            "text/plain": [
              "             ID  총구매수량_x  기타품목구매비율  수저류구매비율  실링구매비율  용기류구매비율  위생용품구매비율  총구매횟수  \\\n",
              "0   100304734@n      1.0       0.0      0.0     0.0      1.0       0.0      1   \n",
              "1  1003409866@k     62.0       0.0      0.0     0.0      1.0       0.0     18   \n",
              "2   100381931@n      5.0       0.0      0.0     0.0      0.0       1.0      3   \n",
              "3  1004498382@k      1.0       0.0      0.0     0.0      1.0       0.0      1   \n",
              "4  1004547839@k      4.0       1.0      0.0     0.0      0.0       0.0      1   \n",
              "\n",
              "      총판매액   총할인금액  ...  최종주문연도  최종주문월  최종주문일자     최종주문요일 최종주문시간  \\\n",
              "0   103300       0  ...  2019.0    5.0     9.0   Thursday   14.0   \n",
              "1  4303880  379040  ...  2019.0    5.0    28.0    Tuesday   16.0   \n",
              "2    71050   15000  ...  2019.0    2.0    10.0     Sunday   21.0   \n",
              "3    76400   14500  ...  2019.0    1.0     9.0  Wednesday   12.0   \n",
              "4   360800   53400  ...  2019.0    1.0     9.0  Wednesday   13.0   \n",
              "\n",
              "          회원가입일(clean)    가입연도   가입월  가입일자       가입요일  \n",
              "0  2019-05-09 00:00:00  2019.0   5.0   9.0   Thursday  \n",
              "1  2019-01-07 00:00:00  2019.0   1.0   7.0     Monday  \n",
              "2  2018-10-31 00:00:00  2018.0  10.0  31.0  Wednesday  \n",
              "3  2019-01-09 00:00:00  2019.0   1.0   9.0  Wednesday  \n",
              "4  2019-01-09 00:00:00  2019.0   1.0   9.0  Wednesday  \n",
              "\n",
              "[5 rows x 35 columns]"
            ],
            "text/html": [
              "\n",
              "  <div id=\"df-a9e4281b-5ce7-4c7c-8db3-43477961afb9\" class=\"colab-df-container\">\n",
              "    <div>\n",
              "<style scoped>\n",
              "    .dataframe tbody tr th:only-of-type {\n",
              "        vertical-align: middle;\n",
              "    }\n",
              "\n",
              "    .dataframe tbody tr th {\n",
              "        vertical-align: top;\n",
              "    }\n",
              "\n",
              "    .dataframe thead th {\n",
              "        text-align: right;\n",
              "    }\n",
              "</style>\n",
              "<table border=\"1\" class=\"dataframe\">\n",
              "  <thead>\n",
              "    <tr style=\"text-align: right;\">\n",
              "      <th></th>\n",
              "      <th>ID</th>\n",
              "      <th>총구매수량_x</th>\n",
              "      <th>기타품목구매비율</th>\n",
              "      <th>수저류구매비율</th>\n",
              "      <th>실링구매비율</th>\n",
              "      <th>용기류구매비율</th>\n",
              "      <th>위생용품구매비율</th>\n",
              "      <th>총구매횟수</th>\n",
              "      <th>총판매액</th>\n",
              "      <th>총할인금액</th>\n",
              "      <th>...</th>\n",
              "      <th>최종주문연도</th>\n",
              "      <th>최종주문월</th>\n",
              "      <th>최종주문일자</th>\n",
              "      <th>최종주문요일</th>\n",
              "      <th>최종주문시간</th>\n",
              "      <th>회원가입일(clean)</th>\n",
              "      <th>가입연도</th>\n",
              "      <th>가입월</th>\n",
              "      <th>가입일자</th>\n",
              "      <th>가입요일</th>\n",
              "    </tr>\n",
              "  </thead>\n",
              "  <tbody>\n",
              "    <tr>\n",
              "      <th>0</th>\n",
              "      <td>100304734@n</td>\n",
              "      <td>1.0</td>\n",
              "      <td>0.0</td>\n",
              "      <td>0.0</td>\n",
              "      <td>0.0</td>\n",
              "      <td>1.0</td>\n",
              "      <td>0.0</td>\n",
              "      <td>1</td>\n",
              "      <td>103300</td>\n",
              "      <td>0</td>\n",
              "      <td>...</td>\n",
              "      <td>2019.0</td>\n",
              "      <td>5.0</td>\n",
              "      <td>9.0</td>\n",
              "      <td>Thursday</td>\n",
              "      <td>14.0</td>\n",
              "      <td>2019-05-09 00:00:00</td>\n",
              "      <td>2019.0</td>\n",
              "      <td>5.0</td>\n",
              "      <td>9.0</td>\n",
              "      <td>Thursday</td>\n",
              "    </tr>\n",
              "    <tr>\n",
              "      <th>1</th>\n",
              "      <td>1003409866@k</td>\n",
              "      <td>62.0</td>\n",
              "      <td>0.0</td>\n",
              "      <td>0.0</td>\n",
              "      <td>0.0</td>\n",
              "      <td>1.0</td>\n",
              "      <td>0.0</td>\n",
              "      <td>18</td>\n",
              "      <td>4303880</td>\n",
              "      <td>379040</td>\n",
              "      <td>...</td>\n",
              "      <td>2019.0</td>\n",
              "      <td>5.0</td>\n",
              "      <td>28.0</td>\n",
              "      <td>Tuesday</td>\n",
              "      <td>16.0</td>\n",
              "      <td>2019-01-07 00:00:00</td>\n",
              "      <td>2019.0</td>\n",
              "      <td>1.0</td>\n",
              "      <td>7.0</td>\n",
              "      <td>Monday</td>\n",
              "    </tr>\n",
              "    <tr>\n",
              "      <th>2</th>\n",
              "      <td>100381931@n</td>\n",
              "      <td>5.0</td>\n",
              "      <td>0.0</td>\n",
              "      <td>0.0</td>\n",
              "      <td>0.0</td>\n",
              "      <td>0.0</td>\n",
              "      <td>1.0</td>\n",
              "      <td>3</td>\n",
              "      <td>71050</td>\n",
              "      <td>15000</td>\n",
              "      <td>...</td>\n",
              "      <td>2019.0</td>\n",
              "      <td>2.0</td>\n",
              "      <td>10.0</td>\n",
              "      <td>Sunday</td>\n",
              "      <td>21.0</td>\n",
              "      <td>2018-10-31 00:00:00</td>\n",
              "      <td>2018.0</td>\n",
              "      <td>10.0</td>\n",
              "      <td>31.0</td>\n",
              "      <td>Wednesday</td>\n",
              "    </tr>\n",
              "    <tr>\n",
              "      <th>3</th>\n",
              "      <td>1004498382@k</td>\n",
              "      <td>1.0</td>\n",
              "      <td>0.0</td>\n",
              "      <td>0.0</td>\n",
              "      <td>0.0</td>\n",
              "      <td>1.0</td>\n",
              "      <td>0.0</td>\n",
              "      <td>1</td>\n",
              "      <td>76400</td>\n",
              "      <td>14500</td>\n",
              "      <td>...</td>\n",
              "      <td>2019.0</td>\n",
              "      <td>1.0</td>\n",
              "      <td>9.0</td>\n",
              "      <td>Wednesday</td>\n",
              "      <td>12.0</td>\n",
              "      <td>2019-01-09 00:00:00</td>\n",
              "      <td>2019.0</td>\n",
              "      <td>1.0</td>\n",
              "      <td>9.0</td>\n",
              "      <td>Wednesday</td>\n",
              "    </tr>\n",
              "    <tr>\n",
              "      <th>4</th>\n",
              "      <td>1004547839@k</td>\n",
              "      <td>4.0</td>\n",
              "      <td>1.0</td>\n",
              "      <td>0.0</td>\n",
              "      <td>0.0</td>\n",
              "      <td>0.0</td>\n",
              "      <td>0.0</td>\n",
              "      <td>1</td>\n",
              "      <td>360800</td>\n",
              "      <td>53400</td>\n",
              "      <td>...</td>\n",
              "      <td>2019.0</td>\n",
              "      <td>1.0</td>\n",
              "      <td>9.0</td>\n",
              "      <td>Wednesday</td>\n",
              "      <td>13.0</td>\n",
              "      <td>2019-01-09 00:00:00</td>\n",
              "      <td>2019.0</td>\n",
              "      <td>1.0</td>\n",
              "      <td>9.0</td>\n",
              "      <td>Wednesday</td>\n",
              "    </tr>\n",
              "  </tbody>\n",
              "</table>\n",
              "<p>5 rows × 35 columns</p>\n",
              "</div>\n",
              "    <div class=\"colab-df-buttons\">\n",
              "\n",
              "  <div class=\"colab-df-container\">\n",
              "    <button class=\"colab-df-convert\" onclick=\"convertToInteractive('df-a9e4281b-5ce7-4c7c-8db3-43477961afb9')\"\n",
              "            title=\"Convert this dataframe to an interactive table.\"\n",
              "            style=\"display:none;\">\n",
              "\n",
              "  <svg xmlns=\"http://www.w3.org/2000/svg\" height=\"24px\" viewBox=\"0 -960 960 960\">\n",
              "    <path d=\"M120-120v-720h720v720H120Zm60-500h600v-160H180v160Zm220 220h160v-160H400v160Zm0 220h160v-160H400v160ZM180-400h160v-160H180v160Zm440 0h160v-160H620v160ZM180-180h160v-160H180v160Zm440 0h160v-160H620v160Z\"/>\n",
              "  </svg>\n",
              "    </button>\n",
              "\n",
              "  <style>\n",
              "    .colab-df-container {\n",
              "      display:flex;\n",
              "      gap: 12px;\n",
              "    }\n",
              "\n",
              "    .colab-df-convert {\n",
              "      background-color: #E8F0FE;\n",
              "      border: none;\n",
              "      border-radius: 50%;\n",
              "      cursor: pointer;\n",
              "      display: none;\n",
              "      fill: #1967D2;\n",
              "      height: 32px;\n",
              "      padding: 0 0 0 0;\n",
              "      width: 32px;\n",
              "    }\n",
              "\n",
              "    .colab-df-convert:hover {\n",
              "      background-color: #E2EBFA;\n",
              "      box-shadow: 0px 1px 2px rgba(60, 64, 67, 0.3), 0px 1px 3px 1px rgba(60, 64, 67, 0.15);\n",
              "      fill: #174EA6;\n",
              "    }\n",
              "\n",
              "    .colab-df-buttons div {\n",
              "      margin-bottom: 4px;\n",
              "    }\n",
              "\n",
              "    [theme=dark] .colab-df-convert {\n",
              "      background-color: #3B4455;\n",
              "      fill: #D2E3FC;\n",
              "    }\n",
              "\n",
              "    [theme=dark] .colab-df-convert:hover {\n",
              "      background-color: #434B5C;\n",
              "      box-shadow: 0px 1px 3px 1px rgba(0, 0, 0, 0.15);\n",
              "      filter: drop-shadow(0px 1px 2px rgba(0, 0, 0, 0.3));\n",
              "      fill: #FFFFFF;\n",
              "    }\n",
              "  </style>\n",
              "\n",
              "    <script>\n",
              "      const buttonEl =\n",
              "        document.querySelector('#df-a9e4281b-5ce7-4c7c-8db3-43477961afb9 button.colab-df-convert');\n",
              "      buttonEl.style.display =\n",
              "        google.colab.kernel.accessAllowed ? 'block' : 'none';\n",
              "\n",
              "      async function convertToInteractive(key) {\n",
              "        const element = document.querySelector('#df-a9e4281b-5ce7-4c7c-8db3-43477961afb9');\n",
              "        const dataTable =\n",
              "          await google.colab.kernel.invokeFunction('convertToInteractive',\n",
              "                                                    [key], {});\n",
              "        if (!dataTable) return;\n",
              "\n",
              "        const docLinkHtml = 'Like what you see? Visit the ' +\n",
              "          '<a target=\"_blank\" href=https://colab.research.google.com/notebooks/data_table.ipynb>data table notebook</a>'\n",
              "          + ' to learn more about interactive tables.';\n",
              "        element.innerHTML = '';\n",
              "        dataTable['output_type'] = 'display_data';\n",
              "        await google.colab.output.renderOutput(dataTable, element);\n",
              "        const docLink = document.createElement('div');\n",
              "        docLink.innerHTML = docLinkHtml;\n",
              "        element.appendChild(docLink);\n",
              "      }\n",
              "    </script>\n",
              "  </div>\n",
              "\n",
              "\n",
              "<div id=\"df-0c8e1017-753a-456b-9605-20c103c16b22\">\n",
              "  <button class=\"colab-df-quickchart\" onclick=\"quickchart('df-0c8e1017-753a-456b-9605-20c103c16b22')\"\n",
              "            title=\"Suggest charts.\"\n",
              "            style=\"display:none;\">\n",
              "\n",
              "<svg xmlns=\"http://www.w3.org/2000/svg\" height=\"24px\"viewBox=\"0 0 24 24\"\n",
              "     width=\"24px\">\n",
              "    <g>\n",
              "        <path d=\"M19 3H5c-1.1 0-2 .9-2 2v14c0 1.1.9 2 2 2h14c1.1 0 2-.9 2-2V5c0-1.1-.9-2-2-2zM9 17H7v-7h2v7zm4 0h-2V7h2v10zm4 0h-2v-4h2v4z\"/>\n",
              "    </g>\n",
              "</svg>\n",
              "  </button>\n",
              "\n",
              "<style>\n",
              "  .colab-df-quickchart {\n",
              "      --bg-color: #E8F0FE;\n",
              "      --fill-color: #1967D2;\n",
              "      --hover-bg-color: #E2EBFA;\n",
              "      --hover-fill-color: #174EA6;\n",
              "      --disabled-fill-color: #AAA;\n",
              "      --disabled-bg-color: #DDD;\n",
              "  }\n",
              "\n",
              "  [theme=dark] .colab-df-quickchart {\n",
              "      --bg-color: #3B4455;\n",
              "      --fill-color: #D2E3FC;\n",
              "      --hover-bg-color: #434B5C;\n",
              "      --hover-fill-color: #FFFFFF;\n",
              "      --disabled-bg-color: #3B4455;\n",
              "      --disabled-fill-color: #666;\n",
              "  }\n",
              "\n",
              "  .colab-df-quickchart {\n",
              "    background-color: var(--bg-color);\n",
              "    border: none;\n",
              "    border-radius: 50%;\n",
              "    cursor: pointer;\n",
              "    display: none;\n",
              "    fill: var(--fill-color);\n",
              "    height: 32px;\n",
              "    padding: 0;\n",
              "    width: 32px;\n",
              "  }\n",
              "\n",
              "  .colab-df-quickchart:hover {\n",
              "    background-color: var(--hover-bg-color);\n",
              "    box-shadow: 0 1px 2px rgba(60, 64, 67, 0.3), 0 1px 3px 1px rgba(60, 64, 67, 0.15);\n",
              "    fill: var(--button-hover-fill-color);\n",
              "  }\n",
              "\n",
              "  .colab-df-quickchart-complete:disabled,\n",
              "  .colab-df-quickchart-complete:disabled:hover {\n",
              "    background-color: var(--disabled-bg-color);\n",
              "    fill: var(--disabled-fill-color);\n",
              "    box-shadow: none;\n",
              "  }\n",
              "\n",
              "  .colab-df-spinner {\n",
              "    border: 2px solid var(--fill-color);\n",
              "    border-color: transparent;\n",
              "    border-bottom-color: var(--fill-color);\n",
              "    animation:\n",
              "      spin 1s steps(1) infinite;\n",
              "  }\n",
              "\n",
              "  @keyframes spin {\n",
              "    0% {\n",
              "      border-color: transparent;\n",
              "      border-bottom-color: var(--fill-color);\n",
              "      border-left-color: var(--fill-color);\n",
              "    }\n",
              "    20% {\n",
              "      border-color: transparent;\n",
              "      border-left-color: var(--fill-color);\n",
              "      border-top-color: var(--fill-color);\n",
              "    }\n",
              "    30% {\n",
              "      border-color: transparent;\n",
              "      border-left-color: var(--fill-color);\n",
              "      border-top-color: var(--fill-color);\n",
              "      border-right-color: var(--fill-color);\n",
              "    }\n",
              "    40% {\n",
              "      border-color: transparent;\n",
              "      border-right-color: var(--fill-color);\n",
              "      border-top-color: var(--fill-color);\n",
              "    }\n",
              "    60% {\n",
              "      border-color: transparent;\n",
              "      border-right-color: var(--fill-color);\n",
              "    }\n",
              "    80% {\n",
              "      border-color: transparent;\n",
              "      border-right-color: var(--fill-color);\n",
              "      border-bottom-color: var(--fill-color);\n",
              "    }\n",
              "    90% {\n",
              "      border-color: transparent;\n",
              "      border-bottom-color: var(--fill-color);\n",
              "    }\n",
              "  }\n",
              "</style>\n",
              "\n",
              "  <script>\n",
              "    async function quickchart(key) {\n",
              "      const quickchartButtonEl =\n",
              "        document.querySelector('#' + key + ' button');\n",
              "      quickchartButtonEl.disabled = true;  // To prevent multiple clicks.\n",
              "      quickchartButtonEl.classList.add('colab-df-spinner');\n",
              "      try {\n",
              "        const charts = await google.colab.kernel.invokeFunction(\n",
              "            'suggestCharts', [key], {});\n",
              "      } catch (error) {\n",
              "        console.error('Error during call to suggestCharts:', error);\n",
              "      }\n",
              "      quickchartButtonEl.classList.remove('colab-df-spinner');\n",
              "      quickchartButtonEl.classList.add('colab-df-quickchart-complete');\n",
              "    }\n",
              "    (() => {\n",
              "      let quickchartButtonEl =\n",
              "        document.querySelector('#df-0c8e1017-753a-456b-9605-20c103c16b22 button');\n",
              "      quickchartButtonEl.style.display =\n",
              "        google.colab.kernel.accessAllowed ? 'block' : 'none';\n",
              "    })();\n",
              "  </script>\n",
              "</div>\n",
              "    </div>\n",
              "  </div>\n"
            ]
          },
          "metadata": {},
          "execution_count": 68
        }
      ]
    },
    {
      "cell_type": "markdown",
      "source": [
        "1. '최종주문요일'에 대한 횟수 시각화(마지막으로 주문한 요일의 횟수)\n",
        "2. 성별에 따른 '최종주문요일'에 대한 횟수 시각화(마지막으로 주문한 요일의 횟수)\n",
        "3. '최종주문일자'와 '가입월' 데이터 분포 시각화\n",
        "4. 성별에 따른 '최종주문월'에 대한 '총순수이익' 시각화\n",
        "5. 성별에 따른 나이 분포 시각\n",
        "6. '유입경로'별 '총판매액' 비교"
      ],
      "metadata": {
        "id": "CiX6DaknK8A8"
      }
    },
    {
      "cell_type": "code",
      "source": [
        "#1. '최종주문요일'에 대한 횟수 시각화(마지막으로 주문한 요일의 횟수)\n",
        "import matplotlib.pyplot as plt\n",
        "\n",
        "d1 = df[['최종주문요일','총구매횟수']].groupby('최종주문요일').count().sort_values('최종주문요일')\n",
        "d1\n",
        "\n",
        "#fig, ax = plt.subplots(figsize = (10, 5))\n",
        "plt.bar(d1.index, d1['총구매횟수'])\n"
      ],
      "metadata": {
        "colab": {
          "base_uri": "https://localhost:8080/",
          "height": 449
        },
        "id": "gCc7KMO8K-Rz",
        "outputId": "01dd0403-3b28-4ca8-8ad2-e8e932fa622d"
      },
      "execution_count": null,
      "outputs": [
        {
          "output_type": "execute_result",
          "data": {
            "text/plain": [
              "<BarContainer object of 7 artists>"
            ]
          },
          "metadata": {},
          "execution_count": 41
        },
        {
          "output_type": "display_data",
          "data": {
            "text/plain": [
              "<Figure size 640x480 with 1 Axes>"
            ],
            "image/png": "[encoded data removed]"
          },
          "metadata": {}
        }
      ]
    },
    {
      "cell_type": "code",
      "source": [
        "#1번, 이런 방식도 괜찮음\n",
        "\n",
        "import seaborn as sns\n",
        "\n",
        "q1 = df['최종주문요일'].value_counts().to_frame()\n",
        "\n",
        "sns.barplot(data=q1 , x = q1.index, y='최종주문요일')"
      ],
      "metadata": {
        "colab": {
          "base_uri": "https://localhost:8080/",
          "height": 897
        },
        "id": "Pm411_TeVPxC",
        "outputId": "7899c8da-3a99-48f0-b084-d3c0ee814206"
      },
      "execution_count": null,
      "outputs": [
        {
          "output_type": "execute_result",
          "data": {
            "text/plain": [
              "<Axes: ylabel='최종주문요일'>"
            ]
          },
          "metadata": {},
          "execution_count": 42
        },
        {
          "output_type": "stream",
          "name": "stderr",
          "text": [
            "/usr/local/lib/python3.10/dist-packages/IPython/core/events.py:89: UserWarning: Glyph 52572 (\\N{HANGUL SYLLABLE COE}) missing from current font.\n",
            "  func(*args, **kwargs)\n",
            "/usr/local/lib/python3.10/dist-packages/IPython/core/events.py:89: UserWarning: Glyph 51333 (\\N{HANGUL SYLLABLE JONG}) missing from current font.\n",
            "  func(*args, **kwargs)\n",
            "/usr/local/lib/python3.10/dist-packages/IPython/core/events.py:89: UserWarning: Glyph 51452 (\\N{HANGUL SYLLABLE JU}) missing from current font.\n",
            "  func(*args, **kwargs)\n",
            "/usr/local/lib/python3.10/dist-packages/IPython/core/events.py:89: UserWarning: Glyph 47928 (\\N{HANGUL SYLLABLE MUN}) missing from current font.\n",
            "  func(*args, **kwargs)\n",
            "/usr/local/lib/python3.10/dist-packages/IPython/core/events.py:89: UserWarning: Glyph 50836 (\\N{HANGUL SYLLABLE YO}) missing from current font.\n",
            "  func(*args, **kwargs)\n",
            "/usr/local/lib/python3.10/dist-packages/IPython/core/events.py:89: UserWarning: Glyph 51068 (\\N{HANGUL SYLLABLE IL}) missing from current font.\n",
            "  func(*args, **kwargs)\n",
            "/usr/local/lib/python3.10/dist-packages/IPython/core/pylabtools.py:151: UserWarning: Glyph 52572 (\\N{HANGUL SYLLABLE COE}) missing from current font.\n",
            "  fig.canvas.print_figure(bytes_io, **kw)\n",
            "/usr/local/lib/python3.10/dist-packages/IPython/core/pylabtools.py:151: UserWarning: Glyph 51333 (\\N{HANGUL SYLLABLE JONG}) missing from current font.\n",
            "  fig.canvas.print_figure(bytes_io, **kw)\n",
            "/usr/local/lib/python3.10/dist-packages/IPython/core/pylabtools.py:151: UserWarning: Glyph 51452 (\\N{HANGUL SYLLABLE JU}) missing from current font.\n",
            "  fig.canvas.print_figure(bytes_io, **kw)\n",
            "/usr/local/lib/python3.10/dist-packages/IPython/core/pylabtools.py:151: UserWarning: Glyph 47928 (\\N{HANGUL SYLLABLE MUN}) missing from current font.\n",
            "  fig.canvas.print_figure(bytes_io, **kw)\n",
            "/usr/local/lib/python3.10/dist-packages/IPython/core/pylabtools.py:151: UserWarning: Glyph 50836 (\\N{HANGUL SYLLABLE YO}) missing from current font.\n",
            "  fig.canvas.print_figure(bytes_io, **kw)\n",
            "/usr/local/lib/python3.10/dist-packages/IPython/core/pylabtools.py:151: UserWarning: Glyph 51068 (\\N{HANGUL SYLLABLE IL}) missing from current font.\n",
            "  fig.canvas.print_figure(bytes_io, **kw)\n"
          ]
        },
        {
          "output_type": "display_data",
          "data": {
            "text/plain": [
              "<Figure size 640x480 with 1 Axes>"
            ],
            "image/png": "[encoded data removed]"
          },
          "metadata": {}
        }
      ]
    },
    {
      "cell_type": "code",
      "source": [
        "#2. 성별에 따른 '최종주문요일'에 대한 횟수 시각화(마지막으로 주문한 요일의 횟수)\n",
        "import matplotlib.pyplot as plt\n",
        "import seaborn as sns\n",
        "\n",
        "q1 = df[['성별','최종주문요일','ID']].groupby(['성별','최종주문요일'], as_index = False).count()\n",
        "q1.rename(columns = {'ID' : 'uesr_count'}, inplace = 'True')\n",
        "q1\n",
        "\n",
        "sns.barplot(data=q1, x=\"최종주문요일\", y=\"user_count\", hue=\"성별\")\n"
      ],
      "metadata": {
        "id": "WL3LWMuRNwnM"
      },
      "execution_count": null,
      "outputs": []
    },
    {
      "cell_type": "code",
      "source": [
        "#3. '최종주문일자'와 '가입월' 데이터 분포 시각화\n",
        "#히스토그램\n",
        "# x: 연속형\n",
        "# plotly로 해보자\n",
        "\n",
        "import plotly.express as px\n",
        "fig = px.histogram(df, x=\"가입월\")\n",
        "fig.show()"
      ],
      "metadata": {
        "colab": {
          "base_uri": "https://localhost:8080/",
          "height": 542
        },
        "id": "9J7A5jLOOakz",
        "outputId": "ae57c9ba-69c8-4ce6-c421-c6a88999069a"
      },
      "execution_count": null,
      "outputs": [
        {
          "output_type": "display_data",
          "data": {
            "text/html": [
              "<html>\n",
              "<head><meta charset=\"utf-8\" /></head>\n",
              "<body>\n",
              "    <div>            <script src=\"https://cdnjs.cloudflare.com/ajax/libs/mathjax/2.7.5/MathJax.js?config=TeX-AMS-MML_SVG\"></script><script type=\"text/javascript\">if (window.MathJax && window.MathJax.Hub && window.MathJax.Hub.Config) {window.MathJax.Hub.Config({SVG: {font: \"STIX-Web\"}});}</script>                <script type=\"text/javascript\">window.PlotlyConfig = {MathJaxConfig: 'local'};</script>\n",
              "        <script charset=\"utf-8\" src=\"https://cdn.plot.ly/plotly-2.24.1.min.js\"></script>                <div id=\"2266ec40-b021-475c-a4be-53b334ca8198\" class=\"plotly-graph-div\" style=\"height:525px; width:100%;\"></div>            <script type=\"text/javascript\">                                    window.PLOTLYENV=window.PLOTLYENV || {};                                    if (document.getElementById(\"2266ec40-b021-475c-a4be-53b334ca8198\")) {                    Plotly.newPlot(                        \"2266ec40-b021-475c-a4be-53b334ca8198\",                        [{\"alignmentgroup\":\"True\",\"bingroup\":\"x\",\"hovertemplate\":\"\\uac00\\uc785\\uc6d4=%{x}\\u003cbr\\u003ecount=%{y}\\u003cextra\\u003e\\u003c\\u002fextra\\u003e\",\"legendgroup\":\"\",\"marker\":{\"color\":\"#636efa\",\"pattern\":{\"shape\":\"\"}},\"name\":\"\",\"offsetgroup\":\"\",\"orientation\":\"v\",\"showlegend\":false,\"x\":[5.0,1.0,10.0,1.0,1.0,1.0,10.0,8.0,1.0,1.0,1.0,1.0,1.0,1.0,1.0,1.0,1.0,1.0,12.0,5.0,2.0,2.0,2.0,3.0,4.0,12.0,2.0,3.0,4.0,3.0,3.0,3.0,3.0,3.0,3.0,1.0,3.0,2.0,3.0,5.0,1.0,1.0,3.0,3.0,3.0,10.0,4.0,12.0,5.0,12.0,4.0,4.0,4.0,4.0,5.0,4.0,5.0,4.0,4.0,9.0,4.0,4.0,5.0,9.0,5.0,4.0,5.0,5.0,2.0,5.0,3.0,5.0,5.0,8.0,5.0,5.0,5.0,5.0,5.0,5.0,5.0,5.0,1.0,11.0,6.0,2.0,5.0,4.0,5.0,12.0,12.0,5.0,6.0,11.0,8.0,2.0,10.0,4.0,2.0,11.0,9.0,1.0,4.0,4.0,12.0,8.0,7.0,1.0,1.0,4.0,2.0,6.0,10.0,2.0,6.0,5.0,10.0,11.0,6.0,10.0,3.0,5.0,4.0,11.0,7.0,8.0,10.0,8.0,5.0,1.0,1.0,1.0,11.0,6.0,1.0,5.0,3.0,10.0,11.0,7.0,8.0,6.0,4.0,12.0,5.0,1.0,7.0,5.0,6.0,5.0,10.0,6.0,5.0,5.0,2.0,4.0,2.0,6.0,10.0,4.0,5.0,2.0,11.0,3.0,8.0,8.0,3.0,5.0,1.0,6.0,5.0,6.0,4.0,3.0,10.0,11.0,2.0,3.0,5.0,2.0,7.0,5.0,12.0,3.0,6.0,4.0,3.0,5.0,3.0,1.0,5.0,1.0,5.0,12.0,7.0,3.0,5.0,3.0,12.0,5.0,5.0,1.0,7.0,6.0,12.0,3.0,10.0,1.0,3.0,3.0,9.0,4.0,9.0,11.0,5.0,5.0,3.0,11.0,7.0,11.0,4.0,3.0,3.0,5.0,4.0,5.0,10.0,11.0,8.0,12.0,4.0,8.0,12.0,2.0,3.0,1.0,12.0,5.0,2.0,10.0,10.0,3.0,10.0,2.0,10.0,12.0,3.0,5.0,3.0,12.0,6.0,5.0,3.0,5.0,5.0,4.0,5.0,5.0,11.0,7.0,5.0,6.0,1.0,11.0,6.0,4.0,6.0,1.0,1.0,4.0,7.0,5.0,2.0,8.0,5.0,3.0,7.0,5.0,5.0,4.0,10.0,2.0,8.0,12.0,5.0,7.0,7.0,1.0,2.0,7.0,8.0,4.0,2.0,8.0,11.0,4.0,12.0,2.0,11.0,1.0,12.0,4.0,8.0,5.0,7.0,6.0,11.0,11.0,3.0,6.0,11.0,1.0,5.0,9.0,12.0,5.0,2.0,4.0,9.0,6.0,11.0,5.0,12.0,9.0,11.0,10.0,6.0,5.0,4.0,9.0,11.0,10.0,6.0,6.0,8.0,7.0,8.0,3.0,2.0,12.0,1.0,4.0,5.0,12.0,8.0,2.0,4.0,4.0,1.0,3.0,1.0,4.0,11.0,9.0,4.0,1.0,3.0,12.0,9.0,5.0,1.0,4.0,5.0,5.0,7.0,2.0,3.0,11.0,1.0,4.0,4.0,10.0,4.0,5.0,8.0,1.0,6.0,4.0,1.0,5.0,2.0,2.0,5.0,1.0,4.0,11.0,1.0,7.0,11.0,8.0,7.0,6.0,1.0,8.0,5.0,12.0,8.0,6.0,3.0,5.0,6.0,3.0,5.0,5.0,5.0,3.0,5.0,11.0,9.0,7.0,2.0,1.0,5.0,6.0,5.0,11.0,5.0,9.0,7.0,11.0,11.0,6.0,5.0,3.0,5.0,11.0,2.0,2.0,6.0,5.0,2.0,10.0,1.0,3.0,2.0,11.0,5.0,2.0,11.0,1.0,5.0,12.0,5.0,11.0,3.0,5.0,4.0,4.0,3.0,1.0,7.0,7.0,5.0,6.0,5.0,5.0,1.0,3.0,10.0,6.0,2.0,7.0,3.0,5.0,4.0,2.0,12.0,10.0,5.0,5.0,5.0,6.0,2.0,8.0,5.0,6.0,10.0,1.0,1.0,11.0,11.0,2.0,10.0,6.0,11.0,11.0,12.0,4.0,5.0,4.0,5.0,2.0,7.0,6.0,2.0,1.0,10.0,7.0,5.0,9.0,6.0,5.0,1.0,5.0,12.0,11.0,5.0,4.0,10.0,8.0,3.0,3.0,4.0,5.0,5.0,3.0,10.0,5.0,12.0,3.0,12.0,1.0,3.0,4.0,7.0,5.0,3.0,11.0,8.0,11.0,4.0,5.0,3.0,8.0,4.0,8.0,3.0,3.0,8.0,7.0,7.0,5.0,5.0,9.0,5.0,4.0,4.0,1.0,11.0,4.0,10.0,5.0,2.0,5.0,5.0,6.0,9.0,4.0,9.0,2.0,3.0,2.0,11.0,5.0,2.0,10.0,4.0,6.0,2.0,11.0,3.0,5.0,5.0,3.0,4.0,12.0,6.0,7.0,5.0,10.0,3.0,2.0,6.0,5.0,4.0,1.0,1.0,10.0,5.0,4.0,8.0,3.0,6.0,2.0,7.0,1.0,9.0,9.0,12.0,2.0,9.0,4.0,2.0,5.0,10.0,12.0,1.0,4.0,10.0,2.0,12.0,9.0,3.0,10.0,5.0,3.0,6.0,6.0,12.0,12.0,4.0,3.0,4.0,4.0,3.0,3.0,3.0,11.0,10.0,12.0,4.0,4.0,6.0,3.0,6.0,11.0,4.0,12.0,5.0,11.0,5.0,9.0,5.0,11.0,5.0,1.0,3.0,1.0,5.0,10.0,7.0,2.0,1.0,5.0,12.0,12.0,11.0,2.0,1.0,5.0,7.0,11.0,9.0,1.0,6.0,11.0,12.0,4.0,5.0,4.0,2.0,1.0,3.0,7.0,12.0,5.0,5.0,2.0,8.0,4.0,6.0,11.0,5.0,4.0,5.0,11.0,8.0,7.0,7.0,9.0,3.0,11.0,12.0,12.0,12.0,10.0,1.0,8.0,5.0,4.0,1.0,5.0,5.0,2.0,10.0,6.0,7.0,5.0,1.0,4.0,7.0,5.0,11.0,12.0,5.0,9.0,10.0,8.0,1.0,5.0,5.0,7.0,7.0,4.0,10.0,6.0,3.0,4.0,10.0,7.0,5.0,9.0,7.0,9.0,6.0,3.0,1.0,6.0,1.0,3.0,7.0,4.0,10.0,4.0,5.0,5.0,12.0,2.0,8.0,3.0,2.0,2.0,2.0,10.0,5.0,10.0,4.0,11.0,12.0,3.0,8.0,8.0,10.0,5.0,4.0,1.0,1.0,6.0,11.0,1.0,12.0,5.0,1.0,1.0,2.0,2.0,9.0,7.0,5.0,6.0,2.0,1.0,1.0,12.0,8.0,11.0,6.0,10.0,3.0,3.0,11.0,12.0,2.0,3.0,3.0,7.0,7.0,3.0,11.0,3.0,3.0,3.0,11.0,3.0,1.0,1.0,4.0,4.0,1.0,10.0,4.0,4.0,2.0,4.0,4.0,7.0,4.0,4.0,4.0,4.0,4.0,5.0,12.0,5.0,9.0,7.0,5.0,6.0,11.0,5.0,5.0,3.0,5.0,10.0,5.0,5.0,5.0,12.0,4.0,5.0,11.0,5.0,5.0,5.0,6.0,6.0,6.0,6.0,3.0,2.0,6.0,6.0,6.0,12.0,2.0,6.0,6.0,7.0,7.0,4.0,8.0,7.0,7.0,7.0,7.0,4.0,7.0,4.0,7.0,3.0,7.0,11.0,5.0,3.0,7.0,4.0,10.0,11.0,7.0,4.0,1.0,3.0,5.0,4.0,11.0,5.0,4.0,12.0,5.0,5.0,1.0,2.0,1.0,5.0,2.0,9.0,7.0,2.0,11.0,4.0,8.0,1.0,10.0,11.0,1.0,5.0,12.0,7.0,7.0,7.0,1.0,8.0,1.0,8.0,8.0,8.0,8.0,8.0,1.0,8.0,8.0,5.0,5.0,9.0,9.0,9.0,2.0,2.0,9.0,4.0,7.0,9.0,9.0,9.0,10.0,10.0,5.0,3.0,1.0,10.0,10.0,10.0,10.0,10.0,11.0,10.0,10.0,1.0,5.0,10.0,10.0,10.0,10.0,3.0,11.0,10.0,1.0,10.0,10.0,10.0,4.0,10.0,10.0,11.0,5.0,2.0,11.0,11.0,8.0,4.0,9.0,5.0,4.0,11.0,12.0,11.0,12.0,10.0,11.0,5.0,11.0,11.0,6.0,11.0,1.0,8.0,5.0,11.0,11.0,11.0,12.0,1.0,12.0,8.0,12.0,1.0,12.0,12.0,1.0,12.0,12.0,12.0,12.0,12.0,12.0,10.0,12.0,12.0,1.0,2.0,1.0,11.0,4.0,5.0,3.0,2.0,8.0,4.0,11.0,12.0,10.0,12.0,11.0,10.0,3.0,5.0,12.0,11.0,10.0,3.0,2.0,7.0,10.0,1.0,5.0,7.0,1.0,2.0,11.0,6.0,11.0,5.0,6.0,3.0,6.0,11.0,11.0,2.0,1.0,10.0,12.0,3.0,4.0,11.0,2.0,5.0,1.0,6.0,8.0,3.0,1.0,1.0,11.0,6.0,5.0,7.0,1.0,10.0,12.0,11.0,5.0,12.0,4.0,11.0,10.0,4.0,7.0,12.0,1.0,2.0,5.0,1.0,11.0,10.0,8.0,11.0,9.0,8.0,6.0,2.0,4.0,12.0,2.0,7.0,12.0,7.0,5.0,1.0,2.0,10.0,5.0,11.0,1.0,1.0,10.0,7.0,4.0,12.0,9.0,4.0,11.0,11.0,11.0,7.0,1.0,4.0,12.0,7.0,5.0,6.0,9.0,3.0,5.0,2.0,5.0,8.0,2.0,7.0,7.0,10.0,5.0,1.0,5.0,1.0,10.0,11.0,4.0,9.0,7.0,6.0,3.0,1.0,11.0,8.0,8.0,5.0,4.0,5.0,7.0,4.0,12.0,2.0,4.0,4.0,9.0,9.0,10.0,2.0,12.0,2.0,3.0,10.0,10.0,12.0,5.0,1.0,3.0,6.0,1.0,7.0,4.0,1.0,5.0,7.0,10.0,3.0,4.0,1.0,11.0,1.0,11.0,1.0,9.0,8.0,7.0,8.0,3.0,4.0,11.0,5.0,6.0,4.0,2.0,9.0,5.0,5.0,10.0,4.0,3.0,3.0,11.0,1.0,1.0,2.0,11.0,7.0,2.0,6.0,12.0,11.0,10.0,10.0,8.0,8.0,11.0,1.0,5.0,3.0,5.0,11.0,12.0,10.0,11.0,11.0,1.0,11.0,5.0,5.0,5.0,7.0,8.0,9.0,12.0,11.0,11.0,7.0,1.0,11.0,3.0,3.0,4.0,10.0,9.0,7.0,7.0,7.0,1.0,1.0,6.0,3.0,9.0,5.0,7.0,12.0,3.0,11.0,8.0,4.0,5.0,4.0,4.0,12.0,11.0,5.0,10.0,11.0,5.0,3.0,5.0,1.0,2.0,6.0,2.0,1.0,2.0,3.0,1.0,5.0,2.0,4.0,9.0,4.0,7.0,3.0,3.0,6.0,3.0,8.0,8.0,4.0,10.0,2.0,1.0,12.0,3.0,11.0,5.0,10.0,2.0,3.0,5.0,2.0,1.0,2.0,10.0,10.0,1.0,10.0,7.0,5.0,11.0,1.0,10.0,12.0,2.0,6.0,5.0,12.0,10.0,10.0,3.0,5.0,12.0,2.0,3.0,11.0,7.0,6.0,1.0,2.0,8.0,7.0,1.0,4.0,5.0,4.0,4.0,5.0,11.0,6.0,8.0,3.0,4.0,4.0,12.0,4.0,3.0,5.0,5.0,4.0,7.0,9.0,1.0,6.0,1.0,12.0,10.0,4.0,2.0,3.0,6.0,11.0,11.0,4.0,2.0,11.0,9.0,2.0,11.0,7.0,4.0,2.0,5.0,4.0,7.0,1.0,1.0,1.0,5.0,1.0,12.0,11.0,4.0,10.0,11.0,5.0,1.0,4.0,3.0,6.0,12.0,6.0,3.0,5.0,3.0,1.0,1.0,6.0,4.0,6.0,5.0,2.0,5.0,2.0,4.0,1.0,11.0,10.0,9.0,9.0,1.0,8.0,8.0,11.0,1.0,2.0,3.0,5.0,12.0,1.0,6.0,5.0,1.0,4.0,11.0,8.0,7.0,2.0,3.0,5.0,8.0,1.0,8.0,4.0,11.0,10.0,9.0,7.0,4.0,4.0,5.0,12.0,1.0,3.0,7.0,5.0,6.0,1.0,12.0,2.0,3.0,12.0,8.0,7.0,9.0,4.0,3.0,6.0,1.0,5.0,5.0,3.0,9.0,3.0,8.0,6.0,12.0,6.0,11.0,10.0,12.0,1.0,10.0,3.0,4.0,3.0,4.0,11.0,7.0,10.0,5.0,4.0,4.0,11.0,1.0,1.0,3.0,10.0,10.0,10.0,5.0,12.0,11.0,11.0,4.0,3.0,2.0,2.0,9.0,4.0,1.0,8.0,4.0,6.0,3.0,3.0,6.0,4.0,7.0,2.0,1.0,2.0,5.0,1.0,5.0,12.0,10.0,6.0,11.0,6.0,5.0,6.0,2.0,11.0,11.0,4.0,8.0,1.0,10.0,5.0,7.0,4.0,3.0,4.0,6.0,7.0,12.0,9.0,6.0,5.0,8.0,3.0,10.0,3.0,10.0,4.0,10.0,10.0,11.0,5.0,5.0,10.0,5.0,1.0,1.0,1.0,3.0,1.0,7.0,4.0,6.0,5.0,1.0,9.0,7.0,8.0,3.0,1.0,10.0,1.0,11.0,2.0,11.0,11.0,4.0,8.0,1.0,1.0,4.0,1.0,3.0,8.0,5.0,1.0,2.0,2.0,1.0,7.0,2.0,3.0,5.0,3.0,2.0,3.0,7.0,4.0,11.0,5.0,4.0,7.0,4.0,4.0,4.0,6.0,5.0,2.0,2.0,10.0,3.0,1.0,12.0,11.0,5.0,5.0,4.0,6.0,10.0,2.0,3.0,7.0,5.0,10.0,11.0,5.0,6.0,4.0,4.0,1.0,12.0,8.0,5.0,5.0,3.0,1.0,12.0,3.0,2.0,4.0,10.0,4.0,9.0,6.0,7.0,3.0,11.0,9.0,4.0,11.0,2.0,4.0,3.0,1.0,6.0,4.0,9.0,1.0,1.0,5.0,9.0,8.0,7.0,10.0,9.0,2.0,11.0,7.0,2.0,5.0,10.0,4.0,7.0,11.0,12.0,10.0,7.0,10.0,12.0,2.0,5.0,2.0,1.0,4.0,5.0,5.0,1.0,11.0,3.0,3.0,5.0,4.0,12.0,12.0,10.0,2.0,3.0,1.0,8.0,1.0,12.0,5.0,3.0,6.0,4.0,1.0,7.0,1.0,2.0,4.0,8.0,10.0,1.0,11.0,2.0,8.0,7.0,5.0,11.0,4.0,12.0,12.0,2.0,11.0,4.0,10.0,1.0,8.0,2.0,3.0,3.0,3.0,11.0,10.0,3.0,5.0,3.0,2.0,5.0,5.0,4.0,7.0,9.0,1.0,5.0,2.0,4.0,10.0,3.0,1.0,4.0,4.0,3.0,1.0,6.0,10.0,1.0,2.0,4.0,11.0,10.0,2.0,2.0,10.0,5.0,4.0,1.0,7.0,11.0,4.0,11.0,10.0,4.0,3.0,2.0,12.0,2.0,5.0,11.0,2.0,1.0,4.0,4.0,4.0,4.0,3.0,2.0,10.0,1.0,5.0,7.0,6.0,5.0,4.0,3.0,9.0,5.0,2.0,10.0,1.0,1.0,1.0,7.0,8.0,1.0,7.0,5.0,3.0,12.0,4.0,11.0,1.0,5.0,3.0,5.0,5.0,1.0,4.0,6.0,1.0,2.0,2.0,7.0,10.0,5.0,4.0,12.0,3.0,11.0,4.0,12.0,1.0,1.0,5.0,4.0,8.0,12.0,4.0,5.0,3.0,1.0,8.0,1.0,9.0,6.0,3.0,1.0,12.0,7.0,11.0,9.0,5.0,10.0,2.0,10.0,6.0,5.0,1.0,12.0,11.0,3.0,4.0,8.0,11.0,5.0,1.0,3.0,2.0,11.0,5.0,3.0,8.0,8.0,1.0,2.0,10.0,3.0,11.0,8.0,10.0,6.0,5.0,1.0,7.0,5.0,6.0,2.0,5.0,12.0,7.0,11.0,12.0,7.0,8.0,9.0,3.0,3.0,7.0,4.0,4.0,4.0,4.0,8.0,10.0,3.0,5.0,4.0,12.0,4.0,10.0,3.0,11.0,6.0,4.0,1.0,10.0,1.0,10.0,10.0,7.0,11.0,2.0,7.0,12.0,7.0,3.0,2.0,10.0,1.0,11.0,11.0,1.0,10.0,6.0,8.0,7.0,6.0,2.0,2.0,5.0,5.0,12.0,2.0,1.0,10.0,5.0,11.0,5.0,10.0,12.0,5.0,12.0,5.0,6.0,1.0,8.0,3.0,8.0,6.0,3.0,1.0,1.0,5.0,5.0,9.0,4.0,5.0,5.0,3.0,5.0,10.0,1.0,2.0,1.0,4.0,4.0,4.0,10.0,1.0,12.0,7.0,2.0,8.0,2.0,4.0,8.0,4.0,12.0,6.0,7.0,2.0,5.0,4.0,1.0,5.0,3.0,1.0,7.0,12.0,6.0,3.0,6.0,12.0,2.0,3.0,1.0,1.0,3.0,8.0,3.0,2.0,9.0,8.0,5.0,5.0,3.0,4.0,3.0,4.0,3.0,2.0,4.0,5.0,3.0,10.0,8.0,12.0,7.0,7.0,8.0,8.0,8.0,4.0,11.0,12.0,3.0,3.0,4.0,7.0,1.0,4.0,11.0,11.0,12.0,9.0,2.0,6.0,7.0,8.0,7.0,4.0,5.0,9.0,12.0,2.0,12.0,7.0,1.0,3.0,11.0,5.0,2.0,4.0,11.0,1.0,2.0,12.0,2.0,12.0,5.0,7.0,5.0,2.0,5.0,1.0,8.0,11.0,3.0,5.0,1.0,11.0,1.0,4.0,1.0,11.0,2.0,10.0,3.0,1.0,10.0,12.0,2.0,10.0,1.0,1.0,6.0,1.0,3.0,12.0,5.0,7.0,11.0,1.0,5.0,1.0,10.0,8.0,1.0,6.0,3.0,11.0,2.0,1.0,5.0,11.0,6.0,4.0,3.0,1.0,2.0,4.0,7.0,5.0,12.0,3.0,3.0,1.0,9.0,4.0,1.0,2.0,6.0,1.0,11.0,5.0,9.0,10.0,2.0,8.0,6.0,3.0,12.0,1.0,11.0,6.0,9.0,11.0,4.0,2.0,8.0,1.0,5.0,5.0,10.0,8.0,5.0,1.0,1.0,4.0,3.0,12.0,3.0,10.0,3.0,11.0,3.0,1.0,3.0,12.0,8.0,1.0,11.0,5.0,11.0,6.0,6.0,2.0,1.0,3.0,5.0,1.0,3.0,4.0,1.0,3.0,4.0,8.0,11.0,4.0,9.0,11.0,4.0,6.0,3.0,7.0,7.0,5.0,12.0,5.0,11.0,4.0,7.0,4.0,1.0,5.0,3.0,4.0,2.0,7.0,5.0,8.0,3.0,3.0,9.0,11.0,10.0,4.0,1.0,4.0,1.0,11.0,5.0,8.0,5.0,10.0,7.0,12.0,3.0,4.0,3.0,5.0,1.0,6.0,1.0,11.0,5.0,7.0,5.0,10.0,2.0,3.0,8.0,10.0,5.0,5.0,3.0,4.0,1.0,6.0,9.0,2.0,1.0,3.0,1.0,9.0,11.0,12.0,12.0,11.0,1.0,4.0,3.0,9.0,11.0,6.0,9.0,3.0,5.0,4.0,2.0,4.0,4.0,1.0,7.0,3.0,4.0,5.0,1.0,11.0,4.0,11.0,6.0,5.0,10.0,1.0,5.0,8.0,11.0,5.0,7.0,1.0,12.0,10.0,1.0,4.0,7.0,4.0,7.0,1.0,1.0,4.0,11.0,1.0,7.0,6.0,12.0,10.0,6.0,5.0,7.0,6.0,2.0,6.0,3.0,2.0,5.0,1.0,7.0,10.0,9.0,12.0,1.0,2.0,5.0,1.0,2.0,2.0,1.0,1.0,4.0,5.0,7.0,1.0,1.0,4.0,7.0,10.0,3.0,7.0,11.0,11.0,9.0,5.0,4.0,1.0,3.0,5.0,1.0,9.0,7.0,10.0,1.0,2.0,5.0,4.0,5.0,8.0,1.0,4.0,10.0,5.0,10.0,4.0,1.0,5.0,11.0,3.0,8.0,7.0,8.0,1.0,5.0,3.0,5.0,2.0,5.0,4.0,6.0,1.0,2.0,8.0,1.0,3.0,11.0,5.0,2.0,5.0,4.0,1.0,9.0,11.0,3.0,11.0,2.0,11.0,11.0,2.0,12.0,5.0,2.0,2.0,11.0,12.0,3.0,1.0,12.0,5.0,5.0,11.0,8.0,9.0,4.0,1.0,8.0,4.0,6.0,3.0,12.0,12.0,10.0,7.0,11.0,1.0,2.0,6.0,11.0,4.0,11.0,12.0,4.0,2.0,11.0,1.0,10.0,11.0,12.0,2.0,11.0,6.0,5.0,11.0,5.0,10.0,3.0,3.0,5.0,1.0,11.0,1.0,5.0,2.0,4.0,2.0,3.0,3.0,5.0,1.0,7.0,3.0,4.0,3.0,4.0,2.0,3.0,12.0,7.0,6.0,10.0,5.0,8.0,2.0,11.0,2.0,1.0,11.0,2.0,1.0,12.0,4.0,1.0,6.0,2.0,3.0,4.0,1.0,11.0,7.0,11.0,8.0,10.0,5.0,3.0,8.0,1.0,1.0,1.0,6.0,9.0,9.0,2.0,8.0,5.0,11.0,8.0,8.0,3.0,3.0,3.0,6.0,2.0,10.0,8.0,3.0,1.0,3.0,6.0,1.0,1.0,2.0,5.0,6.0,1.0,1.0,1.0,11.0,12.0,1.0,1.0,2.0,6.0,2.0,8.0,12.0,10.0,11.0,8.0,5.0,3.0,10.0,1.0,7.0,2.0,12.0,9.0,4.0,1.0,2.0,10.0,12.0,11.0,5.0,6.0,5.0,1.0,9.0,3.0,4.0,11.0,5.0,5.0,3.0,5.0,10.0,2.0,2.0,1.0,4.0,3.0,11.0,3.0,4.0,11.0,2.0,3.0,4.0,4.0,1.0,9.0,3.0,4.0,2.0,11.0,3.0,4.0,1.0,11.0,8.0,2.0,5.0,2.0,4.0,5.0,5.0,2.0,2.0,7.0,4.0,2.0,6.0,1.0,5.0,5.0,6.0,11.0,4.0,11.0,2.0,10.0,8.0,1.0,1.0,1.0,1.0,1.0,1.0,1.0,1.0,3.0,3.0,3.0,3.0,1.0,1.0,1.0,1.0,1.0,1.0,1.0,1.0,1.0,1.0,1.0,1.0,1.0,1.0,1.0,1.0,1.0,2.0,2.0,2.0,2.0,2.0,2.0,2.0,2.0,2.0,2.0,2.0,2.0,2.0,2.0,2.0,2.0,2.0,2.0,2.0,2.0,2.0,2.0,2.0,2.0,2.0,2.0,2.0,2.0,2.0,2.0,2.0,2.0,2.0,2.0,2.0,2.0,2.0,2.0,2.0,2.0,2.0,3.0,3.0,3.0,3.0,3.0,3.0,3.0,3.0,3.0,3.0,3.0,3.0,3.0,3.0,3.0,3.0,11.0,11.0,11.0,11.0,11.0,11.0,11.0,11.0,11.0,3.0,11.0,11.0,11.0,11.0,11.0,11.0,11.0,11.0,3.0,11.0,11.0,11.0,11.0,11.0,11.0,11.0,11.0,11.0,11.0,3.0,11.0,11.0,11.0,11.0,11.0,11.0,11.0,11.0,11.0,11.0,3.0,11.0,11.0,11.0,11.0,11.0,11.0,11.0,11.0,11.0,11.0,3.0,11.0,11.0,11.0,11.0,11.0,11.0,11.0,11.0,11.0,3.0,11.0,11.0,11.0,11.0,11.0,11.0,11.0,11.0,3.0,11.0,11.0,11.0,11.0,11.0,11.0,11.0,11.0,12.0,12.0,3.0,12.0,12.0,12.0,12.0,12.0,12.0,12.0,12.0,12.0,12.0,3.0,12.0,12.0,12.0,12.0,12.0,12.0,12.0,12.0,12.0,12.0,3.0,12.0,12.0,12.0,12.0,12.0,12.0,12.0,12.0,12.0,3.0,12.0,12.0,12.0,12.0,12.0,12.0,12.0,12.0,12.0,12.0,3.0,12.0,12.0,12.0,12.0,12.0,12.0,12.0,12.0,12.0,3.0,12.0,12.0,12.0,12.0,12.0,12.0,12.0,12.0,12.0,12.0,3.0,1.0,1.0,1.0,1.0,1.0,1.0,1.0,1.0,1.0,1.0,3.0,1.0,1.0,1.0,1.0,1.0,1.0,1.0,1.0,1.0,3.0,1.0,1.0,1.0,1.0,1.0,1.0,1.0,1.0,1.0,1.0,3.0,1.0,1.0,1.0,1.0,1.0,1.0,1.0,1.0,1.0,3.0,1.0,1.0,1.0,1.0,1.0,1.0,1.0,1.0,1.0,3.0,1.0,1.0,1.0,1.0,1.0,1.0,1.0,3.0,1.0,1.0,1.0,1.0,1.0,1.0,1.0,1.0,1.0,3.0,1.0,1.0,1.0,1.0,1.0,1.0,1.0,1.0,1.0,3.0,1.0,1.0,1.0,1.0,1.0,1.0,1.0,1.0,1.0,3.0,1.0,2.0,1.0,1.0,1.0,1.0,1.0,1.0,3.0,1.0,1.0,1.0,1.0,1.0,1.0,1.0,1.0,1.0,3.0,1.0,1.0,1.0,1.0,1.0,1.0,1.0,1.0,1.0,1.0,3.0,1.0,1.0,1.0,1.0,1.0,1.0,1.0,1.0,1.0,3.0,1.0,1.0,1.0,1.0,1.0,1.0,1.0,1.0,1.0,3.0,1.0,1.0,1.0,1.0,1.0,1.0,1.0,1.0,1.0,1.0,3.0,1.0,1.0,1.0,1.0,1.0,1.0,1.0,2.0,2.0,3.0,2.0,2.0,2.0,2.0,2.0,2.0,2.0,2.0,2.0,3.0,2.0,2.0,2.0,2.0,2.0,2.0,2.0,2.0,2.0,3.0,2.0,2.0,2.0,2.0,2.0,2.0,2.0,2.0,2.0,2.0,4.0,2.0,2.0,2.0,2.0,2.0,2.0,2.0,2.0,2.0,2.0,4.0,2.0,2.0,2.0,2.0,2.0,2.0,2.0,2.0,2.0,3.0,2.0,2.0,2.0,2.0,2.0,2.0,2.0,2.0,2.0,2.0,3.0,2.0,2.0,2.0,2.0,2.0,2.0,2.0,2.0,2.0,3.0,2.0,2.0,2.0,2.0,2.0,2.0,2.0,2.0,2.0,2.0,3.0,2.0,2.0,2.0,2.0,2.0,2.0,2.0,2.0,4.0,2.0,2.0,2.0,2.0,2.0,2.0,2.0,2.0,2.0,3.0,2.0,2.0,2.0,2.0,2.0,2.0,2.0,3.0,3.0,4.0,3.0,3.0,3.0,3.0,3.0,3.0,3.0,3.0,3.0,3.0,4.0,3.0,3.0,3.0,3.0,3.0,3.0,3.0,3.0,3.0,4.0,3.0,3.0,3.0,3.0,3.0,3.0,3.0,3.0,3.0,4.0,3.0,3.0,3.0,3.0,3.0,3.0,3.0,3.0,3.0,3.0,4.0,3.0,3.0,3.0,3.0,3.0,3.0,3.0,3.0,3.0,3.0,4.0,3.0,3.0,3.0,3.0,3.0,3.0,3.0,3.0,3.0,3.0,4.0,3.0,3.0,3.0,3.0,3.0,3.0,3.0,3.0,3.0,3.0,4.0,3.0,3.0,3.0,3.0,3.0,3.0,3.0,3.0,4.0,3.0,3.0,3.0,3.0,3.0,3.0,3.0,3.0,3.0,4.0,3.0,3.0,3.0,3.0,3.0,3.0,3.0,3.0,3.0,3.0,4.0,3.0,3.0,3.0,3.0,3.0,3.0,3.0,3.0,3.0,3.0,4.0,3.0,3.0,3.0,3.0,3.0,3.0,3.0,3.0,4.0,3.0,3.0,3.0,4.0,4.0,4.0,4.0,4.0,4.0,4.0,4.0,4.0,4.0,4.0,4.0,4.0,4.0,4.0,4.0,4.0,4.0,4.0,4.0,4.0,4.0,4.0,4.0,4.0,4.0,4.0,4.0,4.0,4.0,4.0,4.0,4.0,4.0,4.0,4.0,4.0,4.0,4.0,4.0,4.0,4.0,4.0,4.0,4.0,4.0,4.0,4.0,4.0,4.0,4.0,4.0,4.0,4.0,4.0,4.0,4.0,4.0,4.0,4.0,4.0,4.0,4.0,4.0,4.0,4.0,4.0,4.0,4.0,4.0,4.0,4.0,4.0,4.0,4.0,4.0,4.0,4.0,4.0,4.0,4.0,4.0,4.0,4.0,4.0,4.0,4.0,4.0,4.0,4.0,4.0,4.0,4.0,4.0,4.0,4.0,4.0,4.0,4.0,4.0,4.0,4.0,4.0,4.0,4.0,4.0,4.0,4.0,4.0,4.0,4.0,4.0,4.0,4.0,4.0,4.0,4.0,5.0,5.0,5.0,5.0,4.0,5.0,5.0,5.0,5.0,5.0,5.0,5.0,5.0,5.0,5.0,4.0,5.0,5.0,5.0,5.0,5.0,5.0,5.0,5.0,5.0,5.0,4.0,5.0,5.0,5.0,5.0,5.0,5.0,5.0,5.0,5.0,5.0,4.0,5.0,5.0,5.0,5.0,5.0,5.0,5.0,5.0,5.0,4.0,5.0,5.0,5.0,5.0,5.0,5.0,5.0,5.0,5.0,5.0,4.0,5.0,5.0,5.0,5.0,5.0,5.0,5.0,5.0,5.0,5.0,4.0,5.0,5.0,5.0,5.0,5.0,5.0,5.0,5.0,4.0,5.0,5.0,5.0,5.0,5.0,5.0,5.0,5.0,4.0,5.0,4.0,4.0,4.0,4.0,4.0,4.0,4.0,4.0,4.0,4.0,4.0,4.0,4.0,4.0,4.0,4.0,4.0,4.0,4.0,4.0,4.0,4.0,4.0,4.0,4.0,4.0,4.0,4.0,4.0,4.0,4.0,4.0,4.0,4.0,4.0,4.0,4.0,4.0,4.0,4.0,4.0,4.0,4.0,4.0,4.0,4.0,4.0,4.0,4.0,4.0,4.0,4.0,4.0,4.0,4.0,4.0,4.0,5.0,5.0,5.0,5.0,5.0,5.0,5.0,5.0,5.0,5.0,5.0,5.0,5.0,5.0,5.0,5.0,4.0,5.0,5.0,5.0,5.0,5.0,5.0,5.0,5.0,5.0,5.0,5.0,5.0,5.0,5.0,5.0,5.0,5.0,5.0,5.0,5.0,5.0,5.0,5.0,5.0,5.0,5.0,5.0,5.0,5.0,5.0,5.0,5.0,5.0,5.0,5.0,5.0,5.0,5.0,5.0,5.0,5.0,5.0,5.0,5.0,5.0,5.0,5.0,5.0,5.0,5.0,5.0,5.0,5.0,5.0,5.0,5.0,5.0,5.0,5.0,5.0,5.0,5.0,5.0,5.0,5.0,5.0,5.0,5.0,5.0,5.0,5.0,5.0,5.0,5.0,5.0,5.0,5.0,5.0,5.0,5.0,5.0,5.0,5.0,5.0,5.0,5.0,5.0,5.0,5.0,5.0,5.0,5.0,5.0,5.0,5.0,5.0,5.0,5.0,5.0,5.0,5.0,5.0,5.0,5.0,5.0,5.0,5.0,5.0,5.0,5.0,5.0,5.0,5.0,5.0,5.0,5.0,5.0,5.0,5.0,5.0,5.0,5.0,5.0,5.0,5.0,5.0,5.0,5.0,5.0,5.0,5.0,5.0,5.0,5.0,5.0,5.0,5.0,5.0,5.0,5.0,2.0,5.0,5.0,5.0,5.0,5.0,5.0,5.0,5.0,5.0,5.0,5.0,5.0,5.0,5.0,5.0,5.0,5.0,5.0,5.0,5.0,5.0,5.0,6.0,6.0,6.0,6.0,6.0,6.0,6.0,6.0,6.0,6.0,6.0,6.0,6.0,6.0,6.0,6.0,6.0,6.0,6.0,6.0,6.0,6.0,6.0,6.0,6.0,6.0,6.0,6.0,6.0,6.0,6.0,6.0,6.0,6.0,6.0,6.0,6.0,6.0,6.0,6.0,6.0,6.0,6.0,6.0,6.0,6.0,6.0,6.0,6.0,6.0,6.0,6.0,6.0,6.0,6.0,6.0,6.0,6.0,6.0,6.0,6.0,6.0,6.0,6.0,6.0,6.0,6.0,6.0,6.0,6.0,6.0,6.0,6.0,6.0,6.0,6.0,6.0,6.0,6.0,6.0,7.0,7.0,7.0,7.0,7.0,7.0,7.0,7.0,7.0,7.0,7.0,7.0,7.0,7.0,7.0,7.0,7.0,7.0,7.0,7.0,7.0,7.0,7.0,7.0,7.0,7.0,7.0,7.0,7.0,7.0,7.0,7.0,7.0,7.0,7.0,7.0,7.0,7.0,7.0,7.0,7.0,7.0,7.0,7.0,7.0,7.0,7.0,7.0,7.0,7.0,7.0,7.0,7.0,7.0,7.0,7.0,7.0,7.0,7.0,7.0,7.0,7.0,7.0,7.0,7.0,7.0,7.0,7.0,7.0,7.0,7.0,7.0,7.0,7.0,7.0,7.0,7.0,7.0,7.0,7.0,7.0,7.0,7.0,7.0,7.0,7.0,7.0,7.0,7.0,7.0,7.0,7.0,7.0,7.0,7.0,7.0,7.0,7.0,7.0,7.0,7.0,7.0,7.0,7.0,7.0,7.0,8.0,8.0,8.0,8.0,8.0,8.0,8.0,8.0,8.0,8.0,8.0,2.0,8.0,8.0,8.0,8.0,8.0,8.0,8.0,8.0,8.0,8.0,2.0,8.0,8.0,8.0,8.0,8.0,8.0,8.0,8.0,8.0,8.0,8.0,8.0,8.0,8.0,8.0,8.0,8.0,8.0,8.0,8.0,8.0,8.0,8.0,8.0,8.0,8.0,8.0,8.0,8.0,8.0,8.0,8.0,8.0,8.0,8.0,8.0,8.0,8.0,8.0,8.0,8.0,8.0,8.0,8.0,8.0,8.0,8.0,8.0,8.0,8.0,8.0,8.0,8.0,8.0,8.0,8.0,8.0,8.0,8.0,8.0,8.0,8.0,8.0,8.0,8.0,8.0,8.0,8.0,9.0,9.0,9.0,9.0,9.0,9.0,9.0,9.0,9.0,9.0,9.0,9.0,9.0,9.0,9.0,9.0,9.0,9.0,9.0,9.0,9.0,9.0,9.0,9.0,9.0,9.0,9.0,9.0,9.0,9.0,9.0,9.0,10.0,10.0,10.0,10.0,10.0,10.0,10.0,10.0,10.0,10.0,10.0,10.0,10.0,10.0,10.0,10.0,10.0,10.0,10.0,10.0,10.0,10.0,10.0,10.0,10.0,10.0,10.0,10.0,10.0,10.0,10.0,10.0,10.0,10.0,10.0,10.0,10.0,10.0,10.0,10.0,10.0,10.0,10.0,10.0,10.0,10.0,10.0,10.0,10.0,10.0,10.0,10.0,10.0,10.0,10.0,10.0,10.0,10.0,10.0,10.0,10.0,10.0,10.0,10.0,10.0,10.0,10.0,10.0,10.0,10.0,10.0,10.0,10.0,10.0,10.0,10.0,10.0,10.0,10.0,10.0,10.0,10.0,10.0,10.0,10.0,10.0,10.0,4.0,10.0,10.0,10.0,10.0,10.0,10.0,10.0,10.0,10.0,10.0,10.0,10.0,10.0,10.0,10.0,10.0,10.0,10.0,10.0,10.0,10.0,10.0,10.0,10.0,10.0,10.0,10.0,10.0,10.0,10.0,10.0,10.0,10.0,10.0,10.0,10.0,10.0,10.0,10.0,10.0,10.0,10.0,10.0,10.0,10.0,10.0,10.0,10.0,10.0,10.0,11.0,11.0,11.0,11.0,11.0,11.0,11.0,11.0,11.0,11.0,11.0,11.0,11.0,11.0,11.0,11.0,11.0,11.0,11.0,11.0,11.0,11.0,11.0,11.0,11.0,11.0,11.0,11.0,11.0,11.0,11.0,11.0,11.0,11.0,11.0,11.0,11.0,11.0,11.0,11.0,11.0,3.0,8.0,10.0,9.0,3.0,4.0,2.0,3.0,11.0,10.0,8.0,5.0,5.0,4.0,5.0,10.0,8.0,5.0,10.0,6.0,11.0,5.0,10.0,3.0,1.0,11.0,10.0,11.0,1.0,2.0,2.0,8.0,9.0,2.0,12.0,5.0,4.0,4.0,5.0,7.0,12.0,9.0,5.0,1.0,12.0,1.0,12.0,5.0,3.0,1.0,11.0,1.0,2.0,5.0,3.0,11.0,9.0,2.0,4.0,3.0,8.0,9.0,12.0,11.0,12.0,9.0,12.0,5.0,3.0,11.0,11.0,9.0,3.0,5.0,2.0,3.0,1.0,4.0,1.0,1.0,1.0,4.0,3.0,1.0,2.0,11.0,10.0,5.0,10.0,4.0,4.0,3.0,5.0,3.0,10.0,6.0,3.0,4.0,12.0,3.0,12.0,12.0,5.0,10.0,2.0,1.0,1.0,11.0,2.0,5.0,3.0,8.0,5.0,2.0,9.0,1.0,12.0,1.0,5.0,5.0,3.0,11.0,9.0,1.0,4.0,12.0,3.0,10.0,2.0,12.0,3.0,6.0,9.0,7.0,4.0,9.0,1.0,2.0,12.0,4.0,12.0,7.0,6.0,1.0,11.0,4.0,1.0,11.0,5.0,3.0,5.0,5.0,1.0,3.0,3.0,3.0,4.0,10.0,1.0,3.0,3.0,9.0,2.0,9.0,1.0,10.0,10.0,1.0,2.0,5.0,12.0,8.0,8.0,8.0,8.0,1.0,2.0,4.0,5.0,6.0,11.0,6.0,12.0,2.0,11.0,1.0,5.0,4.0,5.0,4.0,1.0,4.0,7.0,7.0,1.0,10.0,4.0,5.0,12.0,2.0,1.0,1.0,1.0,6.0,1.0,9.0,1.0,1.0,11.0,4.0,2.0,7.0,6.0,4.0,12.0,8.0,11.0,4.0,5.0,2.0,1.0,8.0,7.0,9.0,3.0,2.0,4.0,11.0,4.0,8.0,1.0,3.0,2.0,9.0,1.0,10.0,10.0,5.0,5.0,11.0,2.0,3.0,8.0,11.0,3.0,11.0,11.0,1.0,3.0,9.0,11.0,11.0,5.0,4.0,5.0,2.0,7.0,11.0,3.0,5.0,10.0,2.0,5.0,8.0,12.0,5.0,5.0,6.0,5.0,2.0,7.0,12.0,11.0,11.0,4.0,8.0,7.0,5.0,5.0,1.0,7.0,4.0,1.0,1.0,7.0,5.0,10.0,8.0,5.0,11.0,5.0,4.0,5.0,3.0,12.0,7.0,5.0,10.0,9.0,4.0,11.0,1.0,10.0,8.0,4.0,4.0,6.0,5.0,4.0,5.0,5.0,7.0,8.0,7.0,1.0,12.0,12.0,2.0,3.0,1.0,4.0,4.0,11.0,8.0,3.0,3.0,1.0,7.0,3.0,4.0,4.0,12.0,7.0,5.0,4.0,4.0,3.0,10.0,5.0,3.0,4.0,8.0,10.0,7.0,2.0,5.0,5.0,5.0,4.0,7.0,4.0,9.0,10.0,5.0,5.0,12.0,8.0,1.0,12.0,3.0,3.0,10.0,9.0,6.0,3.0,8.0,5.0,5.0,12.0,4.0,10.0,2.0,1.0,1.0,6.0,3.0,10.0,11.0,10.0,11.0,10.0,7.0,1.0,9.0,11.0,1.0,9.0,9.0,9.0,10.0,7.0,7.0,10.0,1.0,10.0,7.0,7.0,3.0,3.0,12.0,7.0,8.0,10.0,2.0,11.0,1.0,10.0,11.0,9.0,8.0,12.0,6.0,9.0,10.0,1.0,10.0,1.0,7.0,7.0,9.0,10.0,2.0,8.0,3.0,7.0,6.0,10.0,7.0,7.0,11.0,7.0,9.0,7.0,12.0,7.0,12.0,7.0,7.0,11.0,10.0,1.0,7.0,5.0,11.0,1.0,5.0,4.0,8.0,4.0,4.0,5.0,6.0,12.0,4.0,1.0,3.0,5.0,9.0,1.0,5.0,2.0,7.0,5.0,12.0,8.0,12.0,1.0,10.0,2.0,10.0,5.0,4.0,4.0,3.0,10.0,9.0,9.0,10.0,10.0,1.0,1.0,5.0,1.0,4.0,7.0,8.0,5.0,10.0,10.0,11.0,11.0,3.0,1.0,8.0,9.0,11.0,10.0,8.0,6.0,3.0,4.0,4.0,5.0,3.0,4.0,2.0,5.0,5.0,5.0,2.0,5.0,12.0,10.0,11.0,5.0,9.0,6.0,10.0,3.0,4.0,10.0,11.0,5.0,5.0,10.0,6.0,10.0,7.0,2.0,3.0,5.0,10.0,10.0,10.0,3.0,8.0,5.0,12.0,2.0,1.0,5.0,5.0,4.0,4.0,11.0,12.0,1.0,1.0,10.0,1.0,5.0,5.0,10.0,11.0,5.0,1.0,1.0,5.0,12.0,1.0,4.0,2.0,3.0,1.0,3.0,10.0,3.0,9.0,8.0,12.0,3.0,10.0,11.0,10.0,10.0,2.0,1.0,4.0,8.0,1.0,4.0,9.0,11.0,1.0,4.0,5.0,6.0,5.0,5.0,7.0,1.0,2.0,5.0,1.0,3.0,3.0,8.0,2.0,2.0,9.0,1.0,4.0,11.0,1.0,7.0,7.0,12.0,2.0,10.0,4.0,3.0,4.0,12.0,11.0,1.0,2.0,12.0,1.0,6.0,9.0,2.0,7.0,7.0,5.0,10.0,3.0,5.0,2.0,1.0,3.0,3.0,6.0,12.0,3.0,1.0,6.0,4.0,11.0,1.0,4.0,3.0,5.0,1.0,2.0,11.0,5.0,6.0,4.0,3.0,2.0,8.0,5.0,8.0,5.0,5.0,2.0,3.0,11.0,8.0,3.0,10.0,2.0,7.0,2.0,5.0,10.0,2.0,1.0,5.0,4.0,1.0,11.0,3.0,5.0,3.0,10.0,4.0,4.0,3.0,4.0,1.0,1.0,11.0,2.0,5.0,10.0,3.0,11.0,9.0,2.0,11.0,2.0,8.0,4.0,11.0,4.0,5.0,4.0,2.0,2.0,2.0,2.0,7.0,2.0,8.0,5.0,10.0,11.0,5.0,3.0,1.0,1.0,7.0,11.0,12.0,11.0,5.0,1.0,3.0,10.0,7.0,8.0,12.0,2.0,8.0,4.0,3.0,1.0,5.0,4.0,5.0,4.0,4.0,10.0,9.0,10.0,1.0,1.0,3.0,5.0,4.0,1.0,5.0,2.0,6.0,3.0,8.0,10.0,3.0,11.0,10.0,1.0],\"xaxis\":\"x\",\"yaxis\":\"y\",\"type\":\"histogram\"}],                        {\"template\":{\"data\":{\"histogram2dcontour\":[{\"type\":\"histogram2dcontour\",\"colorbar\":{\"outlinewidth\":0,\"ticks\":\"\"},\"colorscale\":[[0.0,\"#0d0887\"],[0.1111111111111111,\"#46039f\"],[0.2222222222222222,\"#7201a8\"],[0.3333333333333333,\"#9c179e\"],[0.4444444444444444,\"#bd3786\"],[0.5555555555555556,\"#d8576b\"],[0.6666666666666666,\"#ed7953\"],[0.7777777777777778,\"#fb9f3a\"],[0.8888888888888888,\"#fdca26\"],[1.0,\"#f0f921\"]]}],\"choropleth\":[{\"type\":\"choropleth\",\"colorbar\":{\"outlinewidth\":0,\"ticks\":\"\"}}],\"histogram2d\":[{\"type\":\"histogram2d\",\"colorbar\":{\"outlinewidth\":0,\"ticks\":\"\"},\"colorscale\":[[0.0,\"#0d0887\"],[0.1111111111111111,\"#46039f\"],[0.2222222222222222,\"#7201a8\"],[0.3333333333333333,\"#9c179e\"],[0.4444444444444444,\"#bd3786\"],[0.5555555555555556,\"#d8576b\"],[0.6666666666666666,\"#ed7953\"],[0.7777777777777778,\"#fb9f3a\"],[0.8888888888888888,\"#fdca26\"],[1.0,\"#f0f921\"]]}],\"heatmap\":[{\"type\":\"heatmap\",\"colorbar\":{\"outlinewidth\":0,\"ticks\":\"\"},\"colorscale\":[[0.0,\"#0d0887\"],[0.1111111111111111,\"#46039f\"],[0.2222222222222222,\"#7201a8\"],[0.3333333333333333,\"#9c179e\"],[0.4444444444444444,\"#bd3786\"],[0.5555555555555556,\"#d8576b\"],[0.6666666666666666,\"#ed7953\"],[0.7777777777777778,\"#fb9f3a\"],[0.8888888888888888,\"#fdca26\"],[1.0,\"#f0f921\"]]}],\"heatmapgl\":[{\"type\":\"heatmapgl\",\"colorbar\":{\"outlinewidth\":0,\"ticks\":\"\"},\"colorscale\":[[0.0,\"#0d0887\"],[0.1111111111111111,\"#46039f\"],[0.2222222222222222,\"#7201a8\"],[0.3333333333333333,\"#9c179e\"],[0.4444444444444444,\"#bd3786\"],[0.5555555555555556,\"#d8576b\"],[0.6666666666666666,\"#ed7953\"],[0.7777777777777778,\"#fb9f3a\"],[0.8888888888888888,\"#fdca26\"],[1.0,\"#f0f921\"]]}],\"contourcarpet\":[{\"type\":\"contourcarpet\",\"colorbar\":{\"outlinewidth\":0,\"ticks\":\"\"}}],\"contour\":[{\"type\":\"contour\",\"colorbar\":{\"outlinewidth\":0,\"ticks\":\"\"},\"colorscale\":[[0.0,\"#0d0887\"],[0.1111111111111111,\"#46039f\"],[0.2222222222222222,\"#7201a8\"],[0.3333333333333333,\"#9c179e\"],[0.4444444444444444,\"#bd3786\"],[0.5555555555555556,\"#d8576b\"],[0.6666666666666666,\"#ed7953\"],[0.7777777777777778,\"#fb9f3a\"],[0.8888888888888888,\"#fdca26\"],[1.0,\"#f0f921\"]]}],\"surface\":[{\"type\":\"surface\",\"colorbar\":{\"outlinewidth\":0,\"ticks\":\"\"},\"colorscale\":[[0.0,\"#0d0887\"],[0.1111111111111111,\"#46039f\"],[0.2222222222222222,\"#7201a8\"],[0.3333333333333333,\"#9c179e\"],[0.4444444444444444,\"#bd3786\"],[0.5555555555555556,\"#d8576b\"],[0.6666666666666666,\"#ed7953\"],[0.7777777777777778,\"#fb9f3a\"],[0.8888888888888888,\"#fdca26\"],[1.0,\"#f0f921\"]]}],\"mesh3d\":[{\"type\":\"mesh3d\",\"colorbar\":{\"outlinewidth\":0,\"ticks\":\"\"}}],\"scatter\":[{\"fillpattern\":{\"fillmode\":\"overlay\",\"size\":10,\"solidity\":0.2},\"type\":\"scatter\"}],\"parcoords\":[{\"type\":\"parcoords\",\"line\":{\"colorbar\":{\"outlinewidth\":0,\"ticks\":\"\"}}}],\"scatterpolargl\":[{\"type\":\"scatterpolargl\",\"marker\":{\"colorbar\":{\"outlinewidth\":0,\"ticks\":\"\"}}}],\"bar\":[{\"error_x\":{\"color\":\"#2a3f5f\"},\"error_y\":{\"color\":\"#2a3f5f\"},\"marker\":{\"line\":{\"color\":\"#E5ECF6\",\"width\":0.5},\"pattern\":{\"fillmode\":\"overlay\",\"size\":10,\"solidity\":0.2}},\"type\":\"bar\"}],\"scattergeo\":[{\"type\":\"scattergeo\",\"marker\":{\"colorbar\":{\"outlinewidth\":0,\"ticks\":\"\"}}}],\"scatterpolar\":[{\"type\":\"scatterpolar\",\"marker\":{\"colorbar\":{\"outlinewidth\":0,\"ticks\":\"\"}}}],\"histogram\":[{\"marker\":{\"pattern\":{\"fillmode\":\"overlay\",\"size\":10,\"solidity\":0.2}},\"type\":\"histogram\"}],\"scattergl\":[{\"type\":\"scattergl\",\"marker\":{\"colorbar\":{\"outlinewidth\":0,\"ticks\":\"\"}}}],\"scatter3d\":[{\"type\":\"scatter3d\",\"line\":{\"colorbar\":{\"outlinewidth\":0,\"ticks\":\"\"}},\"marker\":{\"colorbar\":{\"outlinewidth\":0,\"ticks\":\"\"}}}],\"scattermapbox\":[{\"type\":\"scattermapbox\",\"marker\":{\"colorbar\":{\"outlinewidth\":0,\"ticks\":\"\"}}}],\"scatterternary\":[{\"type\":\"scatterternary\",\"marker\":{\"colorbar\":{\"outlinewidth\":0,\"ticks\":\"\"}}}],\"scattercarpet\":[{\"type\":\"scattercarpet\",\"marker\":{\"colorbar\":{\"outlinewidth\":0,\"ticks\":\"\"}}}],\"carpet\":[{\"aaxis\":{\"endlinecolor\":\"#2a3f5f\",\"gridcolor\":\"white\",\"linecolor\":\"white\",\"minorgridcolor\":\"white\",\"startlinecolor\":\"#2a3f5f\"},\"baxis\":{\"endlinecolor\":\"#2a3f5f\",\"gridcolor\":\"white\",\"linecolor\":\"white\",\"minorgridcolor\":\"white\",\"startlinecolor\":\"#2a3f5f\"},\"type\":\"carpet\"}],\"table\":[{\"cells\":{\"fill\":{\"color\":\"#EBF0F8\"},\"line\":{\"color\":\"white\"}},\"header\":{\"fill\":{\"color\":\"#C8D4E3\"},\"line\":{\"color\":\"white\"}},\"type\":\"table\"}],\"barpolar\":[{\"marker\":{\"line\":{\"color\":\"#E5ECF6\",\"width\":0.5},\"pattern\":{\"fillmode\":\"overlay\",\"size\":10,\"solidity\":0.2}},\"type\":\"barpolar\"}],\"pie\":[{\"automargin\":true,\"type\":\"pie\"}]},\"layout\":{\"autotypenumbers\":\"strict\",\"colorway\":[\"#636efa\",\"#EF553B\",\"#00cc96\",\"#ab63fa\",\"#FFA15A\",\"#19d3f3\",\"#FF6692\",\"#B6E880\",\"#FF97FF\",\"#FECB52\"],\"font\":{\"color\":\"#2a3f5f\"},\"hovermode\":\"closest\",\"hoverlabel\":{\"align\":\"left\"},\"paper_bgcolor\":\"white\",\"plot_bgcolor\":\"#E5ECF6\",\"polar\":{\"bgcolor\":\"#E5ECF6\",\"angularaxis\":{\"gridcolor\":\"white\",\"linecolor\":\"white\",\"ticks\":\"\"},\"radialaxis\":{\"gridcolor\":\"white\",\"linecolor\":\"white\",\"ticks\":\"\"}},\"ternary\":{\"bgcolor\":\"#E5ECF6\",\"aaxis\":{\"gridcolor\":\"white\",\"linecolor\":\"white\",\"ticks\":\"\"},\"baxis\":{\"gridcolor\":\"white\",\"linecolor\":\"white\",\"ticks\":\"\"},\"caxis\":{\"gridcolor\":\"white\",\"linecolor\":\"white\",\"ticks\":\"\"}},\"coloraxis\":{\"colorbar\":{\"outlinewidth\":0,\"ticks\":\"\"}},\"colorscale\":{\"sequential\":[[0.0,\"#0d0887\"],[0.1111111111111111,\"#46039f\"],[0.2222222222222222,\"#7201a8\"],[0.3333333333333333,\"#9c179e\"],[0.4444444444444444,\"#bd3786\"],[0.5555555555555556,\"#d8576b\"],[0.6666666666666666,\"#ed7953\"],[0.7777777777777778,\"#fb9f3a\"],[0.8888888888888888,\"#fdca26\"],[1.0,\"#f0f921\"]],\"sequentialminus\":[[0.0,\"#0d0887\"],[0.1111111111111111,\"#46039f\"],[0.2222222222222222,\"#7201a8\"],[0.3333333333333333,\"#9c179e\"],[0.4444444444444444,\"#bd3786\"],[0.5555555555555556,\"#d8576b\"],[0.6666666666666666,\"#ed7953\"],[0.7777777777777778,\"#fb9f3a\"],[0.8888888888888888,\"#fdca26\"],[1.0,\"#f0f921\"]],\"diverging\":[[0,\"#8e0152\"],[0.1,\"#c51b7d\"],[0.2,\"#de77ae\"],[0.3,\"#f1b6da\"],[0.4,\"#fde0ef\"],[0.5,\"#f7f7f7\"],[0.6,\"#e6f5d0\"],[0.7,\"#b8e186\"],[0.8,\"#7fbc41\"],[0.9,\"#4d9221\"],[1,\"#276419\"]]},\"xaxis\":{\"gridcolor\":\"white\",\"linecolor\":\"white\",\"ticks\":\"\",\"title\":{\"standoff\":15},\"zerolinecolor\":\"white\",\"automargin\":true,\"zerolinewidth\":2},\"yaxis\":{\"gridcolor\":\"white\",\"linecolor\":\"white\",\"ticks\":\"\",\"title\":{\"standoff\":15},\"zerolinecolor\":\"white\",\"automargin\":true,\"zerolinewidth\":2},\"scene\":{\"xaxis\":{\"backgroundcolor\":\"#E5ECF6\",\"gridcolor\":\"white\",\"linecolor\":\"white\",\"showbackground\":true,\"ticks\":\"\",\"zerolinecolor\":\"white\",\"gridwidth\":2},\"yaxis\":{\"backgroundcolor\":\"#E5ECF6\",\"gridcolor\":\"white\",\"linecolor\":\"white\",\"showbackground\":true,\"ticks\":\"\",\"zerolinecolor\":\"white\",\"gridwidth\":2},\"zaxis\":{\"backgroundcolor\":\"#E5ECF6\",\"gridcolor\":\"white\",\"linecolor\":\"white\",\"showbackground\":true,\"ticks\":\"\",\"zerolinecolor\":\"white\",\"gridwidth\":2}},\"shapedefaults\":{\"line\":{\"color\":\"#2a3f5f\"}},\"annotationdefaults\":{\"arrowcolor\":\"#2a3f5f\",\"arrowhead\":0,\"arrowwidth\":1},\"geo\":{\"bgcolor\":\"white\",\"landcolor\":\"#E5ECF6\",\"subunitcolor\":\"white\",\"showland\":true,\"showlakes\":true,\"lakecolor\":\"white\"},\"title\":{\"x\":0.05},\"mapbox\":{\"style\":\"light\"}}},\"xaxis\":{\"anchor\":\"y\",\"domain\":[0.0,1.0],\"title\":{\"text\":\"\\uac00\\uc785\\uc6d4\"}},\"yaxis\":{\"anchor\":\"x\",\"domain\":[0.0,1.0],\"title\":{\"text\":\"count\"}},\"legend\":{\"tracegroupgap\":0},\"margin\":{\"t\":60},\"barmode\":\"relative\"},                        {\"responsive\": true}                    ).then(function(){\n",
              "                            \n",
              "var gd = document.getElementById('2266ec40-b021-475c-a4be-53b334ca8198');\n",
              "var x = new MutationObserver(function (mutations, observer) {{\n",
              "        var display = window.getComputedStyle(gd).display;\n",
              "        if (!display || display === 'none') {{\n",
              "            console.log([gd, 'removed!']);\n",
              "            Plotly.purge(gd);\n",
              "            observer.disconnect();\n",
              "        }}\n",
              "}});\n",
              "\n",
              "// Listen for the removal of the full notebook cells\n",
              "var notebookContainer = gd.closest('#notebook-container');\n",
              "if (notebookContainer) {{\n",
              "    x.observe(notebookContainer, {childList: true});\n",
              "}}\n",
              "\n",
              "// Listen for the clearing of the current output cell\n",
              "var outputEl = gd.closest('.output');\n",
              "if (outputEl) {{\n",
              "    x.observe(outputEl, {childList: true});\n",
              "}}\n",
              "\n",
              "                        })                };                            </script>        </div>\n",
              "</body>\n",
              "</html>"
            ]
          },
          "metadata": {}
        }
      ]
    },
    {
      "cell_type": "code",
      "source": [
        "fig = px.histogram(df, x=\"최종주문일자\")\n",
        "fig.show()"
      ],
      "metadata": {
        "colab": {
          "base_uri": "https://localhost:8080/",
          "height": 542
        },
        "id": "zuv_Q48lak-x",
        "outputId": "c8b62229-a654-4fbf-f118-631c65e528a3"
      },
      "execution_count": null,
      "outputs": [
        {
          "output_type": "display_data",
          "data": {
            "text/html": [
              "<html>\n",
              "<head><meta charset=\"utf-8\" /></head>\n",
              "<body>\n",
              "    <div>            <script src=\"https://cdnjs.cloudflare.com/ajax/libs/mathjax/2.7.5/MathJax.js?config=TeX-AMS-MML_SVG\"></script><script type=\"text/javascript\">if (window.MathJax && window.MathJax.Hub && window.MathJax.Hub.Config) {window.MathJax.Hub.Config({SVG: {font: \"STIX-Web\"}});}</script>                <script type=\"text/javascript\">window.PlotlyConfig = {MathJaxConfig: 'local'};</script>\n",
              "        <script charset=\"utf-8\" src=\"https://cdn.plot.ly/plotly-2.24.1.min.js\"></script>                <div id=\"f71940f6-16e1-4119-8034-f4f7f5f8f921\" class=\"plotly-graph-div\" style=\"height:525px; width:100%;\"></div>            <script type=\"text/javascript\">                                    window.PLOTLYENV=window.PLOTLYENV || {};                                    if (document.getElementById(\"f71940f6-16e1-4119-8034-f4f7f5f8f921\")) {                    Plotly.newPlot(                        \"f71940f6-16e1-4119-8034-f4f7f5f8f921\",                        [{\"alignmentgroup\":\"True\",\"bingroup\":\"x\",\"hovertemplate\":\"\\ucd5c\\uc885\\uc8fc\\ubb38\\uc77c\\uc790=%{x}\\u003cbr\\u003ecount=%{y}\\u003cextra\\u003e\\u003c\\u002fextra\\u003e\",\"legendgroup\":\"\",\"marker\":{\"color\":\"#636efa\",\"pattern\":{\"shape\":\"\"}},\"name\":\"\",\"offsetgroup\":\"\",\"orientation\":\"v\",\"showlegend\":false,\"x\":[9.0,28.0,10.0,9.0,9.0,12.0,22.0,19.0,11.0,30.0,14.0,3.0,15.0,28.0,14.0,23.0,10.0,5.0,1.0,2.0,11.0,10.0,11.0,8.0,10.0,11.0,18.0,16.0,24.0,3.0,4.0,5.0,29.0,5.0,7.0,27.0,17.0,8.0,9.0,26.0,16.0,9.0,31.0,26.0,27.0,15.0,1.0,19.0,15.0,20.0,6.0,8.0,10.0,10.0,11.0,11.0,6.0,11.0,22.0,29.0,29.0,30.0,18.0,14.0,2.0,5.0,12.0,13.0,7.0,23.0,4.0,19.0,20.0,22.0,27.0,24.0,24.0,28.0,29.0,23.0,31.0,31.0,29.0,20.0,30.0,30.0,14.0,24.0,14.0,25.0,5.0,14.0,7.0,19.0,9.0,20.0,13.0,27.0,20.0,19.0,5.0,30.0,9.0,5.0,12.0,20.0,19.0,7.0,2.0,25.0,7.0,28.0,14.0,12.0,2.0,3.0,24.0,14.0,13.0,24.0,30.0,9.0,4.0,6.0,6.0,11.0,10.0,21.0,2.0,4.0,22.0,16.0,28.0,15.0,10.0,17.0,30.0,28.0,6.0,3.0,20.0,13.0,17.0,13.0,16.0,31.0,13.0,9.0,4.0,8.0,3.0,22.0,27.0,15.0,13.0,6.0,11.0,1.0,4.0,23.0,17.0,7.0,10.0,13.0,4.0,21.0,7.0,9.0,13.0,10.0,27.0,14.0,14.0,16.0,8.0,14.0,9.0,17.0,29.0,22.0,5.0,16.0,21.0,13.0,20.0,11.0,3.0,17.0,15.0,17.0,27.0,23.0,16.0,11.0,25.0,27.0,31.0,8.0,12.0,1.0,29.0,3.0,11.0,3.0,23.0,13.0,15.0,20.0,30.0,16.0,5.0,25.0,7.0,10.0,15.0,9.0,7.0,29.0,8.0,10.0,27.0,7.0,29.0,10.0,19.0,18.0,7.0,15.0,31.0,17.0,16.0,22.0,14.0,16.0,10.0,28.0,5.0,25.0,11.0,15.0,17.0,18.0,15.0,5.0,17.0,16.0,27.0,16.0,16.0,16.0,23.0,15.0,15.0,27.0,3.0,27.0,8.0,17.0,14.0,26.0,27.0,7.0,14.0,3.0,16.0,16.0,10.0,16.0,20.0,10.0,28.0,4.0,7.0,29.0,19.0,12.0,5.0,16.0,17.0,16.0,11.0,21.0,12.0,16.0,19.0,2.0,3.0,29.0,10.0,23.0,8.0,19.0,23.0,20.0,4.0,28.0,25.0,23.0,13.0,4.0,3.0,28.0,28.0,7.0,30.0,11.0,26.0,16.0,20.0,1.0,24.0,12.0,11.0,23.0,11.0,24.0,18.0,27.0,12.0,19.0,1.0,30.0,7.0,2.0,13.0,8.0,1.0,29.0,14.0,28.0,14.0,5.0,27.0,21.0,8.0,27.0,17.0,30.0,15.0,16.0,15.0,18.0,2.0,20.0,20.0,8.0,5.0,15.0,5.0,19.0,25.0,23.0,28.0,6.0,11.0,14.0,3.0,20.0,9.0,26.0,7.0,2.0,10.0,17.0,12.0,18.0,12.0,12.0,21.0,29.0,10.0,26.0,9.0,11.0,8.0,10.0,5.0,30.0,17.0,1.0,25.0,20.0,4.0,21.0,9.0,21.0,8.0,6.0,12.0,30.0,15.0,27.0,19.0,3.0,9.0,28.0,26.0,15.0,6.0,23.0,28.0,26.0,10.0,20.0,7.0,13.0,21.0,6.0,30.0,24.0,7.0,7.0,13.0,24.0,23.0,28.0,25.0,26.0,4.0,12.0,17.0,12.0,14.0,23.0,13.0,29.0,27.0,3.0,28.0,5.0,30.0,2.0,12.0,15.0,13.0,2.0,2.0,10.0,1.0,10.0,20.0,28.0,16.0,12.0,9.0,31.0,13.0,27.0,5.0,4.0,30.0,26.0,4.0,10.0,26.0,22.0,10.0,1.0,24.0,19.0,24.0,31.0,25.0,30.0,14.0,30.0,11.0,23.0,12.0,5.0,17.0,17.0,26.0,15.0,14.0,15.0,25.0,15.0,4.0,16.0,5.0,21.0,16.0,5.0,24.0,8.0,6.0,27.0,9.0,20.0,8.0,22.0,21.0,21.0,10.0,7.0,9.0,22.0,16.0,3.0,17.0,10.0,11.0,3.0,7.0,20.0,31.0,8.0,22.0,30.0,5.0,18.0,17.0,9.0,30.0,13.0,26.0,22.0,9.0,9.0,11.0,28.0,22.0,26.0,8.0,18.0,8.0,30.0,27.0,14.0,26.0,3.0,23.0,4.0,3.0,28.0,8.0,29.0,9.0,16.0,26.0,24.0,9.0,28.0,5.0,3.0,30.0,9.0,29.0,29.0,1.0,27.0,13.0,15.0,3.0,26.0,21.0,16.0,23.0,12.0,6.0,16.0,28.0,10.0,21.0,24.0,24.0,5.0,24.0,2.0,11.0,11.0,3.0,29.0,12.0,12.0,20.0,2.0,16.0,27.0,30.0,27.0,30.0,31.0,9.0,14.0,30.0,29.0,12.0,28.0,21.0,29.0,20.0,15.0,23.0,1.0,1.0,29.0,12.0,13.0,19.0,11.0,17.0,20.0,30.0,8.0,14.0,2.0,14.0,3.0,27.0,4.0,13.0,26.0,2.0,22.0,4.0,9.0,18.0,21.0,24.0,29.0,28.0,12.0,13.0,24.0,13.0,3.0,10.0,6.0,9.0,27.0,7.0,18.0,13.0,23.0,11.0,3.0,18.0,12.0,29.0,6.0,20.0,2.0,21.0,8.0,12.0,18.0,31.0,9.0,28.0,29.0,26.0,10.0,17.0,8.0,12.0,11.0,7.0,31.0,9.0,31.0,27.0,11.0,5.0,21.0,24.0,26.0,23.0,16.0,8.0,29.0,12.0,1.0,14.0,3.0,23.0,26.0,7.0,8.0,22.0,1.0,14.0,12.0,9.0,14.0,28.0,14.0,31.0,2.0,21.0,29.0,20.0,26.0,2.0,22.0,28.0,3.0,20.0,6.0,22.0,22.0,12.0,26.0,17.0,8.0,23.0,4.0,28.0,29.0,7.0,6.0,16.0,8.0,9.0,19.0,1.0,18.0,4.0,30.0,20.0,1.0,6.0,22.0,17.0,25.0,3.0,17.0,1.0,31.0,16.0,9.0,8.0,3.0,12.0,29.0,8.0,14.0,16.0,22.0,6.0,12.0,11.0,8.0,21.0,13.0,11.0,21.0,14.0,18.0,18.0,15.0,30.0,2.0,11.0,25.0,17.0,22.0,7.0,29.0,30.0,5.0,12.0,27.0,21.0,7.0,11.0,6.0,22.0,19.0,8.0,24.0,24.0,3.0,1.0,25.0,19.0,22.0,11.0,4.0,28.0,29.0,16.0,8.0,20.0,10.0,23.0,30.0,23.0,14.0,20.0,1.0,4.0,31.0,9.0,4.0,24.0,28.0,20.0,24.0,26.0,27.0,25.0,15.0,22.0,29.0,4.0,22.0,2.0,1.0,1.0,10.0,21.0,18.0,18.0,12.0,16.0,17.0,26.0,27.0,27.0,8.0,20.0,4.0,1.0,6.0,9.0,14.0,13.0,30.0,27.0,5.0,5.0,31.0,23.0,19.0,25.0,29.0,22.0,28.0,21.0,2.0,22.0,16.0,5.0,9.0,11.0,25.0,15.0,19.0,25.0,16.0,24.0,19.0,28.0,4.0,26.0,13.0,6.0,20.0,22.0,15.0,8.0,9.0,12.0,29.0,17.0,10.0,20.0,30.0,23.0,17.0,14.0,27.0,25.0,25.0,30.0,27.0,3.0,11.0,17.0,18.0,25.0,1.0,30.0,10.0,17.0,25.0,2.0,25.0,27.0,14.0,29.0,3.0,13.0,10.0,24.0,19.0,19.0,4.0,17.0,4.0,25.0,29.0,28.0,24.0,17.0,4.0,29.0,31.0,31.0,11.0,17.0,12.0,17.0,26.0,28.0,17.0,24.0,27.0,2.0,19.0,21.0,6.0,6.0,11.0,9.0,1.0,16.0,10.0,1.0,6.0,27.0,27.0,11.0,4.0,28.0,14.0,24.0,5.0,28.0,21.0,13.0,9.0,12.0,20.0,28.0,22.0,9.0,16.0,17.0,20.0,9.0,18.0,23.0,14.0,8.0,28.0,28.0,29.0,16.0,28.0,31.0,3.0,20.0,14.0,12.0,1.0,5.0,29.0,7.0,7.0,7.0,10.0,19.0,24.0,28.0,29.0,25.0,21.0,19.0,30.0,4.0,23.0,6.0,6.0,10.0,12.0,20.0,30.0,25.0,30.0,4.0,30.0,16.0,21.0,11.0,12.0,14.0,22.0,16.0,16.0,26.0,28.0,18.0,1.0,9.0,20.0,1.0,7.0,24.0,20.0,1.0,9.0,28.0,5.0,7.0,4.0,23.0,20.0,11.0,20.0,25.0,25.0,2.0,15.0,1.0,9.0,5.0,15.0,17.0,3.0,25.0,10.0,13.0,13.0,31.0,25.0,12.0,19.0,9.0,28.0,23.0,7.0,27.0,21.0,13.0,24.0,29.0,25.0,26.0,17.0,3.0,27.0,19.0,29.0,7.0,15.0,7.0,17.0,9.0,9.0,16.0,26.0,29.0,23.0,8.0,29.0,9.0,20.0,23.0,23.0,18.0,8.0,30.0,17.0,2.0,29.0,14.0,30.0,27.0,25.0,28.0,6.0,17.0,5.0,2.0,23.0,14.0,17.0,15.0,21.0,13.0,13.0,17.0,30.0,17.0,30.0,24.0,25.0,19.0,14.0,5.0,15.0,1.0,13.0,31.0,17.0,21.0,3.0,25.0,9.0,17.0,30.0,27.0,17.0,17.0,19.0,12.0,1.0,4.0,5.0,26.0,23.0,30.0,11.0,29.0,18.0,28.0,31.0,2.0,15.0,14.0,21.0,26.0,13.0,16.0,4.0,11.0,21.0,18.0,30.0,19.0,31.0,22.0,9.0,14.0,13.0,21.0,25.0,26.0,17.0,3.0,23.0,16.0,9.0,23.0,17.0,18.0,5.0,20.0,23.0,29.0,7.0,27.0,19.0,26.0,1.0,11.0,11.0,25.0,22.0,14.0,6.0,22.0,24.0,25.0,13.0,24.0,18.0,18.0,22.0,7.0,19.0,23.0,8.0,11.0,17.0,29.0,31.0,3.0,18.0,3.0,20.0,12.0,10.0,17.0,3.0,11.0,29.0,26.0,17.0,22.0,23.0,28.0,27.0,7.0,29.0,26.0,19.0,7.0,28.0,27.0,26.0,8.0,30.0,27.0,28.0,23.0,20.0,10.0,8.0,23.0,31.0,17.0,5.0,30.0,15.0,14.0,18.0,9.0,5.0,16.0,10.0,28.0,21.0,16.0,6.0,19.0,6.0,26.0,31.0,13.0,31.0,31.0,19.0,1.0,18.0,19.0,27.0,14.0,23.0,18.0,21.0,2.0,11.0,23.0,11.0,28.0,19.0,23.0,31.0,17.0,27.0,26.0,6.0,8.0,20.0,30.0,2.0,27.0,27.0,16.0,3.0,27.0,28.0,25.0,24.0,17.0,23.0,17.0,5.0,10.0,15.0,22.0,12.0,21.0,9.0,16.0,2.0,28.0,3.0,27.0,2.0,28.0,20.0,20.0,14.0,27.0,4.0,9.0,29.0,23.0,14.0,8.0,13.0,14.0,5.0,17.0,28.0,1.0,29.0,9.0,18.0,27.0,8.0,16.0,31.0,28.0,14.0,14.0,13.0,8.0,24.0,16.0,9.0,12.0,17.0,14.0,28.0,29.0,9.0,14.0,30.0,18.0,23.0,30.0,20.0,23.0,12.0,7.0,27.0,15.0,10.0,9.0,7.0,1.0,15.0,11.0,6.0,20.0,8.0,15.0,27.0,14.0,27.0,12.0,24.0,21.0,20.0,14.0,1.0,9.0,29.0,14.0,16.0,6.0,3.0,18.0,4.0,30.0,11.0,5.0,18.0,23.0,20.0,15.0,28.0,17.0,17.0,5.0,5.0,14.0,12.0,1.0,21.0,17.0,8.0,19.0,12.0,21.0,22.0,13.0,27.0,31.0,6.0,9.0,23.0,10.0,3.0,21.0,26.0,28.0,27.0,16.0,15.0,12.0,9.0,27.0,10.0,24.0,20.0,28.0,5.0,14.0,12.0,16.0,8.0,27.0,7.0,7.0,26.0,17.0,5.0,29.0,8.0,6.0,30.0,21.0,23.0,23.0,15.0,17.0,13.0,22.0,21.0,5.0,2.0,17.0,27.0,21.0,29.0,8.0,12.0,23.0,11.0,30.0,8.0,15.0,20.0,9.0,22.0,29.0,27.0,13.0,24.0,1.0,27.0,20.0,31.0,11.0,7.0,5.0,21.0,11.0,11.0,14.0,18.0,7.0,22.0,3.0,27.0,30.0,6.0,2.0,19.0,11.0,6.0,18.0,1.0,30.0,25.0,7.0,19.0,11.0,4.0,12.0,13.0,26.0,23.0,20.0,27.0,21.0,6.0,14.0,24.0,3.0,11.0,5.0,10.0,2.0,1.0,15.0,25.0,22.0,16.0,28.0,24.0,17.0,22.0,25.0,20.0,20.0,19.0,15.0,24.0,30.0,7.0,21.0,19.0,24.0,27.0,25.0,20.0,27.0,2.0,5.0,12.0,28.0,29.0,26.0,15.0,12.0,20.0,8.0,19.0,2.0,28.0,29.0,31.0,7.0,13.0,20.0,9.0,18.0,11.0,16.0,25.0,17.0,15.0,2.0,1.0,31.0,24.0,13.0,19.0,20.0,23.0,22.0,8.0,19.0,27.0,15.0,19.0,27.0,3.0,8.0,27.0,23.0,22.0,11.0,23.0,26.0,7.0,3.0,17.0,11.0,21.0,25.0,30.0,27.0,13.0,15.0,9.0,30.0,7.0,10.0,31.0,7.0,15.0,23.0,21.0,26.0,14.0,13.0,25.0,22.0,23.0,11.0,26.0,17.0,9.0,27.0,25.0,22.0,13.0,26.0,27.0,19.0,29.0,29.0,5.0,16.0,8.0,28.0,12.0,6.0,21.0,7.0,6.0,9.0,30.0,24.0,31.0,30.0,17.0,2.0,29.0,10.0,24.0,15.0,27.0,16.0,27.0,29.0,24.0,31.0,10.0,25.0,28.0,11.0,22.0,28.0,26.0,30.0,4.0,14.0,28.0,19.0,16.0,29.0,16.0,8.0,23.0,30.0,11.0,10.0,27.0,22.0,21.0,17.0,21.0,3.0,3.0,27.0,3.0,22.0,8.0,21.0,7.0,15.0,29.0,16.0,29.0,4.0,27.0,6.0,9.0,19.0,21.0,12.0,4.0,8.0,6.0,21.0,2.0,13.0,29.0,2.0,3.0,8.0,24.0,24.0,16.0,2.0,26.0,17.0,24.0,8.0,7.0,27.0,3.0,2.0,9.0,3.0,10.0,10.0,23.0,30.0,31.0,13.0,19.0,18.0,18.0,24.0,2.0,28.0,17.0,27.0,25.0,16.0,14.0,24.0,27.0,8.0,26.0,19.0,13.0,30.0,19.0,9.0,15.0,3.0,7.0,29.0,6.0,22.0,6.0,12.0,1.0,24.0,16.0,30.0,18.0,31.0,23.0,10.0,11.0,4.0,17.0,6.0,31.0,26.0,25.0,30.0,20.0,18.0,7.0,25.0,2.0,14.0,4.0,28.0,30.0,21.0,2.0,27.0,24.0,24.0,31.0,26.0,7.0,7.0,9.0,27.0,26.0,28.0,20.0,7.0,25.0,8.0,15.0,22.0,23.0,21.0,23.0,7.0,3.0,14.0,6.0,31.0,17.0,18.0,4.0,20.0,7.0,12.0,4.0,10.0,9.0,10.0,27.0,24.0,22.0,27.0,5.0,4.0,24.0,8.0,22.0,11.0,3.0,16.0,23.0,10.0,16.0,7.0,16.0,17.0,18.0,21.0,13.0,19.0,12.0,7.0,22.0,5.0,27.0,2.0,10.0,3.0,17.0,24.0,29.0,11.0,16.0,3.0,28.0,18.0,26.0,12.0,16.0,8.0,2.0,25.0,3.0,27.0,21.0,22.0,26.0,16.0,20.0,6.0,19.0,22.0,2.0,21.0,3.0,23.0,25.0,26.0,24.0,15.0,27.0,13.0,4.0,30.0,3.0,16.0,22.0,3.0,26.0,7.0,23.0,22.0,8.0,2.0,29.0,16.0,27.0,22.0,30.0,18.0,19.0,6.0,9.0,2.0,24.0,19.0,14.0,23.0,10.0,25.0,29.0,25.0,31.0,20.0,27.0,15.0,27.0,23.0,23.0,26.0,15.0,19.0,20.0,14.0,2.0,14.0,26.0,21.0,4.0,7.0,24.0,21.0,30.0,25.0,13.0,4.0,11.0,28.0,21.0,20.0,18.0,3.0,15.0,28.0,12.0,7.0,28.0,22.0,3.0,19.0,10.0,30.0,7.0,8.0,8.0,2.0,22.0,13.0,27.0,9.0,26.0,3.0,27.0,3.0,27.0,9.0,3.0,16.0,1.0,14.0,3.0,6.0,18.0,23.0,4.0,16.0,9.0,14.0,18.0,18.0,22.0,17.0,31.0,20.0,15.0,29.0,8.0,2.0,3.0,26.0,8.0,11.0,16.0,20.0,28.0,7.0,11.0,13.0,19.0,17.0,8.0,30.0,14.0,24.0,5.0,26.0,17.0,8.0,21.0,28.0,21.0,23.0,6.0,1.0,29.0,2.0,9.0,29.0,28.0,27.0,29.0,28.0,16.0,19.0,12.0,11.0,25.0,13.0,14.0,24.0,14.0,12.0,14.0,18.0,26.0,24.0,31.0,9.0,19.0,21.0,31.0,22.0,17.0,1.0,1.0,6.0,10.0,13.0,28.0,23.0,10.0,4.0,2.0,28.0,12.0,19.0,7.0,13.0,4.0,4.0,21.0,29.0,4.0,2.0,13.0,18.0,25.0,15.0,5.0,6.0,31.0,1.0,22.0,24.0,7.0,16.0,22.0,25.0,23.0,18.0,21.0,28.0,14.0,13.0,22.0,18.0,29.0,19.0,31.0,10.0,16.0,14.0,27.0,7.0,27.0,11.0,23.0,30.0,23.0,3.0,1.0,17.0,3.0,4.0,9.0,2.0,7.0,24.0,27.0,25.0,19.0,28.0,13.0,10.0,7.0,23.0,11.0,29.0,7.0,7.0,23.0,21.0,9.0,7.0,30.0,21.0,4.0,27.0,11.0,15.0,27.0,18.0,4.0,28.0,6.0,10.0,30.0,3.0,15.0,31.0,21.0,30.0,11.0,10.0,22.0,18.0,13.0,22.0,2.0,11.0,6.0,16.0,14.0,10.0,13.0,14.0,21.0,28.0,24.0,22.0,18.0,27.0,17.0,8.0,15.0,16.0,17.0,19.0,3.0,29.0,9.0,6.0,29.0,29.0,30.0,2.0,23.0,5.0,27.0,28.0,15.0,5.0,10.0,19.0,4.0,21.0,30.0,5.0,14.0,15.0,13.0,2.0,24.0,17.0,14.0,22.0,29.0,12.0,14.0,24.0,4.0,29.0,28.0,28.0,7.0,2.0,13.0,21.0,12.0,6.0,13.0,8.0,17.0,8.0,8.0,3.0,6.0,18.0,31.0,17.0,29.0,6.0,22.0,9.0,8.0,31.0,23.0,13.0,6.0,17.0,28.0,29.0,25.0,26.0,17.0,15.0,16.0,5.0,30.0,25.0,9.0,3.0,25.0,22.0,19.0,10.0,28.0,20.0,21.0,14.0,1.0,20.0,26.0,25.0,13.0,7.0,11.0,21.0,16.0,14.0,31.0,1.0,21.0,22.0,13.0,10.0,15.0,17.0,21.0,17.0,21.0,5.0,23.0,16.0,31.0,16.0,29.0,27.0,21.0,29.0,13.0,28.0,9.0,22.0,26.0,9.0,11.0,20.0,1.0,29.0,22.0,21.0,10.0,13.0,19.0,29.0,18.0,24.0,9.0,17.0,14.0,20.0,25.0,25.0,23.0,12.0,12.0,3.0,21.0,27.0,2.0,23.0,3.0,11.0,27.0,14.0,1.0,26.0,3.0,22.0,12.0,10.0,7.0,6.0,27.0,7.0,30.0,12.0,7.0,17.0,6.0,14.0,4.0,7.0,25.0,7.0,29.0,28.0,30.0,26.0,12.0,4.0,1.0,26.0,16.0,10.0,13.0,28.0,4.0,8.0,20.0,1.0,9.0,30.0,5.0,4.0,14.0,29.0,14.0,13.0,30.0,17.0,30.0,27.0,30.0,28.0,6.0,1.0,17.0,1.0,17.0,31.0,28.0,7.0,5.0,23.0,7.0,14.0,14.0,9.0,19.0,8.0,22.0,15.0,29.0,4.0,16.0,28.0,17.0,19.0,2.0,10.0,28.0,28.0,28.0,8.0,28.0,13.0,12.0,17.0,21.0,1.0,12.0,5.0,15.0,30.0,13.0,3.0,30.0,26.0,28.0,27.0,19.0,8.0,16.0,13.0,16.0,26.0,21.0,25.0,28.0,2.0,23.0,12.0,9.0,7.0,9.0,4.0,23.0,12.0,22.0,2.0,24.0,14.0,15.0,9.0,20.0,29.0,22.0,4.0,21.0,30.0,25.0,23.0,27.0,1.0,11.0,29.0,24.0,17.0,12.0,18.0,31.0,25.0,10.0,7.0,3.0,16.0,24.0,27.0,28.0,29.0,2.0,27.0,8.0,8.0,17.0,12.0,27.0,26.0,3.0,24.0,22.0,12.0,11.0,14.0,10.0,29.0,3.0,27.0,24.0,14.0,31.0,20.0,22.0,28.0,30.0,2.0,13.0,24.0,3.0,20.0,20.0,26.0,16.0,29.0,27.0,29.0,22.0,4.0,19.0,18.0,21.0,4.0,13.0,20.0,23.0,18.0,3.0,14.0,5.0,13.0,24.0,20.0,20.0,24.0,13.0,29.0,31.0,16.0,11.0,15.0,27.0,9.0,8.0,5.0,23.0,13.0,21.0,24.0,21.0,22.0,4.0,7.0,30.0,13.0,25.0,31.0,16.0,21.0,29.0,29.0,28.0,13.0,10.0,21.0,14.0,26.0,31.0,27.0,30.0,1.0,12.0,26.0,5.0,23.0,6.0,30.0,9.0,22.0,12.0,2.0,24.0,14.0,20.0,28.0,11.0,4.0,23.0,6.0,25.0,16.0,16.0,1.0,29.0,6.0,12.0,25.0,6.0,28.0,10.0,22.0,19.0,27.0,19.0,11.0,27.0,4.0,18.0,17.0,2.0,4.0,28.0,27.0,30.0,27.0,12.0,19.0,26.0,26.0,25.0,31.0,15.0,26.0,23.0,15.0,29.0,17.0,17.0,27.0,17.0,20.0,24.0,29.0,29.0,30.0,7.0,20.0,14.0,12.0,19.0,22.0,11.0,2.0,2.0,3.0,23.0,13.0,9.0,7.0,23.0,19.0,11.0,27.0,13.0,16.0,24.0,15.0,21.0,11.0,26.0,7.0,25.0,25.0,23.0,28.0,20.0,20.0,16.0,30.0,29.0,31.0,28.0,1.0,6.0,15.0,25.0,20.0,8.0,10.0,5.0,15.0,30.0,7.0,7.0,29.0,29.0,8.0,17.0,2.0,8.0,12.0,29.0,20.0,9.0,23.0,26.0,17.0,14.0,22.0,21.0,21.0,21.0,21.0,22.0,22.0,31.0,28.0,23.0,13.0,24.0,26.0,28.0,26.0,4.0,20.0,10.0,5.0,17.0,6.0,6.0,28.0,2.0,13.0,5.0,26.0,28.0,15.0,22.0,25.0,23.0,8.0,8.0,28.0,20.0,10.0,8.0,8.0,9.0,25.0,30.0,31.0,17.0,15.0,12.0,10.0,17.0,26.0,14.0,12.0,23.0,25.0,31.0,27.0,28.0,18.0,14.0,13.0,13.0,14.0,24.0,14.0,15.0,28.0,9.0,30.0,15.0,28.0,16.0,21.0,6.0,25.0,8.0,8.0,19.0,19.0,28.0,12.0,22.0,21.0,19.0,24.0,15.0,27.0,10.0,13.0,9.0,27.0,23.0,23.0,26.0,11.0,27.0,26.0,2.0,27.0,19.0,28.0,27.0,18.0,14.0,4.0,2.0,29.0,29.0,30.0,22.0,14.0,30.0,29.0,3.0,15.0,3.0,3.0,3.0,8.0,4.0,21.0,7.0,6.0,2.0,15.0,23.0,8.0,6.0,6.0,7.0,13.0,7.0,7.0,9.0,23.0,18.0,16.0,4.0,17.0,10.0,21.0,10.0,12.0,11.0,12.0,14.0,16.0,14.0,2.0,17.0,17.0,8.0,21.0,4.0,19.0,19.0,5.0,17.0,22.0,4.0,10.0,20.0,24.0,21.0,21.0,21.0,25.0,16.0,24.0,26.0,26.0,26.0,27.0,5.0,28.0,26.0,9.0,31.0,19.0,2.0,2.0,14.0,2.0,2.0,2.0,3.0,3.0,3.0,3.0,22.0,4.0,4.0,30.0,4.0,4.0,20.0,10.0,4.0,4.0,21.0,25.0,7.0,7.0,7.0,7.0,7.0,22.0,7.0,9.0,8.0,18.0,8.0,29.0,30.0,8.0,7.0,8.0,14.0,8.0,9.0,21.0,13.0,30.0,9.0,13.0,14.0,10.0,10.0,10.0,11.0,23.0,10.0,11.0,11.0,11.0,28.0,24.0,9.0,9.0,22.0,7.0,29.0,1.0,14.0,14.0,15.0,15.0,15.0,23.0,15.0,15.0,27.0,2.0,2.0,16.0,1.0,16.0,17.0,23.0,15.0,26.0,18.0,29.0,18.0,10.0,18.0,10.0,20.0,23.0,8.0,23.0,23.0,2.0,29.0,24.0,25.0,15.0,28.0,25.0,25.0,21.0,25.0,25.0,28.0,28.0,7.0,21.0,28.0,28.0,20.0,28.0,28.0,21.0,20.0,28.0,28.0,27.0,28.0,22.0,30.0,28.0,28.0,28.0,2.0,23.0,9.0,22.0,28.0,22.0,8.0,29.0,2.0,20.0,23.0,29.0,7.0,28.0,30.0,31.0,2.0,29.0,30.0,30.0,30.0,7.0,18.0,30.0,30.0,20.0,28.0,18.0,11.0,30.0,18.0,2.0,24.0,31.0,11.0,6.0,30.0,27.0,13.0,24.0,28.0,28.0,7.0,7.0,24.0,28.0,13.0,7.0,30.0,8.0,14.0,21.0,14.0,14.0,11.0,11.0,11.0,11.0,11.0,12.0,30.0,11.0,12.0,27.0,2.0,22.0,9.0,23.0,13.0,13.0,13.0,13.0,17.0,29.0,9.0,9.0,30.0,25.0,2.0,27.0,29.0,29.0,15.0,21.0,15.0,31.0,15.0,7.0,30.0,24.0,5.0,2.0,18.0,18.0,18.0,18.0,22.0,19.0,19.0,29.0,28.0,19.0,19.0,19.0,20.0,20.0,20.0,20.0,8.0,23.0,20.0,21.0,16.0,21.0,21.0,15.0,22.0,22.0,22.0,16.0,9.0,12.0,18.0,25.0,2.0,25.0,22.0,25.0,22.0,2.0,26.0,26.0,26.0,28.0,27.0,27.0,27.0,23.0,27.0,4.0,21.0,27.0,28.0,28.0,5.0,24.0,8.0,2.0,4.0,21.0,4.0,4.0,4.0,15.0,4.0,15.0,4.0,22.0,27.0,1.0,2.0,10.0,11.0,2.0,20.0,6.0,23.0,21.0,7.0,23.0,17.0,8.0,7.0,7.0,3.0,30.0,8.0,28.0,13.0,8.0,13.0,8.0,10.0,11.0,3.0,11.0,11.0,11.0,11.0,11.0,11.0,2.0,22.0,15.0,27.0,27.0,12.0,9.0,12.0,30.0,12.0,12.0,2.0,13.0,30.0,7.0,13.0,13.0,14.0,10.0,18.0,14.0,14.0,30.0,14.0,14.0,15.0,21.0,1.0,15.0,15.0,15.0,18.0,18.0,14.0,18.0,18.0,18.0,18.0,14.0,18.0,21.0,19.0,4.0,19.0,19.0,15.0,19.0,19.0,19.0,30.0,20.0,20.0,10.0,21.0,21.0,21.0,21.0,21.0,17.0,21.0,21.0,27.0,22.0,25.0,22.0,3.0,25.0,23.0,25.0,9.0,30.0,25.0,29.0,26.0,7.0,27.0,27.0,27.0,28.0,31.0,10.0,1.0,29.0,10.0,29.0,29.0,29.0,29.0,1.0,1.0,22.0,2.0,2.0,2.0,2.0,2.0,3.0,3.0,3.0,3.0,4.0,26.0,4.0,31.0,16.0,4.0,4.0,14.0,4.0,5.0,16.0,5.0,5.0,8.0,6.0,24.0,8.0,8.0,8.0,8.0,28.0,9.0,9.0,9.0,9.0,24.0,9.0,10.0,10.0,10.0,24.0,23.0,27.0,12.0,15.0,20.0,6.0,15.0,15.0,27.0,15.0,15.0,25.0,29.0,28.0,16.0,16.0,17.0,17.0,3.0,17.0,18.0,18.0,18.0,24.0,8.0,23.0,23.0,24.0,16.0,23.0,23.0,7.0,23.0,23.0,23.0,16.0,25.0,21.0,29.0,24.0,24.0,24.0,24.0,24.0,25.0,25.0,9.0,25.0,25.0,25.0,2.0,25.0,25.0,25.0,25.0,25.0,25.0,4.0,26.0,26.0,26.0,26.0,26.0,29.0,24.0,2.0,16.0,10.0,30.0,30.0,30.0,30.0,30.0,2.0,10.0,3.0,3.0,10.0,3.0,7.0,7.0,22.0,7.0,7.0,7.0,23.0,7.0,7.0,16.0,20.0,13.0,8.0,8.0,24.0,10.0,24.0,8.0,8.0,24.0,27.0,9.0,9.0,9.0,9.0,29.0,10.0,10.0,10.0,10.0,13.0,4.0,13.0,21.0,13.0,14.0,14.0,14.0,14.0,15.0,16.0,11.0,15.0,21.0,15.0,15.0,15.0,15.0,15.0,16.0,16.0,30.0,19.0,20.0,20.0,21.0,21.0,20.0,20.0,20.0,21.0,22.0,22.0,20.0,22.0,24.0,30.0,29.0,27.0,28.0,28.0,29.0,14.0,28.0,28.0,28.0,29.0,30.0,30.0,30.0,30.0,11.0,31.0,5.0,7.0,29.0,22.0,13.0,22.0,26.0,22.0,13.0,2.0,16.0,30.0,26.0,10.0,13.0,17.0,17.0,28.0,17.0,5.0,13.0,15.0,29.0,18.0,23.0,18.0,30.0,8.0,1.0,7.0,29.0,28.0,7.0,19.0,23.0,24.0,2.0,20.0,18.0,24.0,22.0,15.0,27.0,4.0,4.0,29.0,18.0,23.0,14.0,17.0,23.0,20.0,10.0,23.0,11.0,30.0,30.0,2.0,22.0,8.0,15.0,22.0,27.0,1.0,15.0,22.0,31.0,17.0,17.0,7.0,16.0,27.0,8.0,18.0,7.0,9.0,10.0,28.0,16.0,27.0,28.0,11.0,28.0,4.0,11.0,28.0,11.0,11.0,11.0,20.0,29.0,24.0,23.0,22.0,29.0,14.0,17.0,9.0,14.0,14.0,14.0,14.0,2.0,27.0,14.0,28.0,14.0,29.0,1.0,18.0,15.0,15.0,15.0,15.0,30.0,15.0,24.0,15.0,3.0,27.0,14.0,12.0,16.0,9.0,16.0,16.0,20.0,28.0,17.0,16.0,13.0,30.0,13.0,16.0,28.0,16.0,16.0,16.0,16.0,30.0,16.0,17.0,24.0,12.0,21.0,17.0,28.0,17.0,23.0,18.0,27.0,18.0,18.0,3.0,7.0,26.0,13.0,18.0,8.0,18.0,18.0,21.0,5.0,29.0,21.0,27.0,21.0,15.0,17.0,9.0,21.0,18.0,7.0,9.0,22.0,15.0,23.0,24.0,21.0,28.0,10.0,23.0,28.0,23.0,29.0,23.0,23.0,16.0,24.0,9.0,24.0,24.0,24.0,24.0,19.0,24.0,18.0,24.0,25.0,14.0,17.0,28.0,28.0,30.0,18.0,1.0,28.0,28.0,31.0,29.0,28.0,28.0,26.0,11.0,2.0,3.0,29.0,16.0,22.0,29.0,30.0,30.0,2.0,24.0,30.0,8.0,30.0,15.0,30.0,30.0,18.0,15.0,23.0,31.0,24.0,27.0,10.0,21.0,26.0,30.0,4.0,3.0,4.0,3.0,14.0,22.0,5.0,31.0,5.0,12.0,7.0,14.0,7.0,4.0,15.0,14.0,22.0,14.0,7.0,27.0,2.0,8.0,22.0,27.0,20.0,8.0,10.0,11.0,20.0,11.0,10.0,11.0,20.0,12.0,10.0,7.0,2.0,16.0,21.0,14.0,12.0,15.0,15.0,28.0,26.0,19.0,19.0,10.0,28.0,29.0,20.0,4.0,30.0,20.0,7.0,26.0,4.0,3.0,8.0,15.0,17.0,25.0,8.0,29.0,22.0,18.0,26.0,7.0,13.0,21.0,27.0,10.0,22.0,25.0,28.0,28.0,22.0,12.0,7.0,7.0,3.0,3.0,28.0,3.0,4.0,24.0,26.0,5.0,5.0,5.0,5.0,31.0,30.0,24.0,27.0,20.0,10.0,11.0,12.0,13.0,31.0,13.0,18.0,16.0,17.0,22.0,16.0,17.0,20.0,26.0,9.0,1.0,23.0,22.0,28.0,21.0,20.0,17.0,25.0,22.0,20.0,20.0,28.0,2.0,24.0,29.0,12.0,23.0,14.0,23.0,28.0,23.0,2.0,2.0,23.0,26.0,8.0,23.0,8.0,24.0,24.0,24.0,24.0,24.0,21.0,9.0,25.0,25.0,27.0,25.0,26.0,26.0,14.0,26.0,23.0,8.0,25.0,15.0,26.0,26.0,2.0,26.0,26.0,23.0,20.0,3.0,27.0,20.0,27.0,13.0,27.0,9.0,8.0,16.0,22.0,8.0,30.0,8.0,6.0,8.0,29.0,8.0,31.0,4.0,1.0,1.0,6.0,27.0,16.0,2.0,3.0,2.0,3.0,12.0,24.0,26.0,6.0,16.0,24.0,6.0,14.0,20.0,23.0,2.0,13.0,14.0,7.0,10.0,24.0,7.0,28.0,13.0,8.0,8.0,8.0,2.0,21.0,14.0,8.0,10.0,9.0,25.0,23.0,28.0,10.0,29.0,25.0,13.0,23.0,4.0,14.0,25.0,28.0,14.0,24.0,17.0,17.0,30.0,17.0,17.0,19.0,20.0,13.0,19.0,20.0,29.0,20.0,23.0,20.0,12.0,7.0,21.0,20.0,7.0,22.0,22.0,22.0,22.0,24.0,24.0,3.0,2.0,11.0,5.0,13.0,28.0,27.0,25.0,11.0,29.0,29.0,21.0,2.0,11.0,3.0,22.0,3.0,3.0,8.0,5.0,18.0,28.0,5.0,29.0,4.0,10.0,7.0,7.0,7.0,16.0,27.0,10.0,5.0,23.0,16.0,17.0,4.0,15.0,18.0,18.0,27.0,19.0,20.0,20.0,8.0,14.0,1.0,30.0,14.0,2.0,2.0,2.0,10.0,17.0,10.0,29.0,14.0,27.0,11.0,2.0,25.0,12.0,15.0,30.0,16.0,14.0,13.0,17.0,17.0,10.0,29.0,26.0,30.0,16.0,19.0,24.0,14.0,22.0,22.0,8.0,30.0,22.0,23.0,25.0,23.0,22.0,23.0,23.0,23.0,19.0,23.0,19.0,23.0,23.0,23.0,23.0,23.0,23.0,5.0,27.0,23.0,23.0,23.0,23.0,24.0,17.0,7.0,24.0,24.0,24.0,29.0,19.0,23.0,16.0,24.0,19.0,24.0,25.0,14.0,14.0,13.0,25.0,25.0,25.0,25.0,15.0,25.0,25.0,5.0,26.0,26.0,20.0,26.0,25.0,26.0,18.0,26.0,26.0,26.0,26.0,26.0,29.0,26.0,13.0,5.0,28.0,29.0,25.0,17.0,21.0,13.0,29.0,29.0,29.0,20.0,29.0,11.0,29.0,29.0,29.0,29.0,30.0,10.0,22.0,18.0,30.0,9.0,13.0,11.0,1.0,30.0,5.0,31.0,31.0,31.0,7.0,31.0,31.0,31.0,17.0,14.0,19.0,29.0,28.0,30.0,16.0,1.0,21.0,10.0,1.0,1.0,5.0,21.0,1.0,1.0,21.0,2.0,16.0,2.0,18.0,18.0,2.0,2.0,29.0,30.0,5.0,29.0,13.0,29.0,25.0,27.0,17.0,6.0,6.0,6.0,27.0,6.0,17.0,7.0,7.0,17.0,8.0,7.0,9.0,8.0,21.0,13.0,31.0,12.0,16.0,19.0,25.0,12.0,30.0,22.0,23.0,18.0,10.0,30.0,26.0,6.0,13.0,26.0,23.0,8.0,13.0,14.0,11.0,2.0,18.0,4.0,28.0,2.0,2.0,6.0,3.0,30.0,5.0,20.0,29.0,21.0,15.0,14.0,10.0,2.0,8.0,6.0,23.0,28.0,26.0,5.0,20.0,31.0,17.0,8.0,25.0,4.0,13.0,3.0,7.0,20.0,5.0,26.0,9.0,1.0,14.0,17.0,8.0,30.0,28.0,14.0,18.0,18.0,27.0,6.0,27.0,29.0,24.0,22.0,30.0,31.0,9.0,22.0,18.0,17.0,7.0,26.0,17.0,15.0,10.0,15.0,7.0,10.0,21.0,24.0,4.0,14.0,7.0,19.0,7.0,11.0,24.0,10.0,16.0,14.0,17.0,31.0,6.0,18.0,25.0,22.0,8.0,15.0,26.0,22.0,25.0,22.0,14.0,23.0,10.0,17.0,21.0,23.0,18.0,16.0,27.0,3.0,11.0,21.0,30.0,3.0,27.0,20.0,26.0,27.0,31.0,17.0,1.0,8.0,28.0,15.0,14.0,30.0,11.0,15.0,29.0,31.0,20.0,11.0,3.0,21.0,19.0,13.0,3.0,30.0,29.0,10.0,24.0,8.0,15.0,6.0,20.0,24.0,10.0,2.0,5.0,27.0,11.0,30.0,1.0,23.0,22.0,10.0,19.0,16.0,1.0,21.0,29.0,24.0,26.0,10.0,11.0,30.0,25.0,5.0,20.0,14.0,2.0,19.0,12.0,20.0,8.0,29.0,2.0,4.0,14.0,15.0,31.0,21.0,27.0,27.0,23.0,11.0,22.0,19.0,30.0,23.0,14.0,1.0,29.0,21.0,22.0,25.0,1.0,26.0,11.0,28.0,10.0,12.0,14.0,29.0,14.0,10.0,26.0,21.0,7.0,4.0,15.0,1.0,29.0,19.0,9.0,13.0,2.0,2.0,22.0,16.0,27.0,14.0,16.0,9.0,11.0,9.0,23.0,27.0,13.0,7.0,20.0,8.0,28.0,29.0,18.0,29.0,22.0,20.0,21.0,23.0,21.0,19.0,28.0,28.0,6.0,13.0,19.0,6.0,31.0,20.0,22.0,9.0,9.0,23.0,13.0,22.0,7.0,1.0,21.0,24.0,23.0,9.0,26.0,13.0,8.0,6.0,27.0,11.0,10.0,23.0,13.0,19.0,30.0,29.0,7.0,2.0,8.0,20.0,25.0,28.0,21.0,18.0,3.0,19.0,5.0,9.0,25.0,15.0,23.0,22.0,17.0,30.0,6.0,15.0,15.0,9.0,31.0,28.0,8.0,5.0,23.0,31.0,21.0,5.0,6.0,16.0,8.0,7.0,4.0,25.0,11.0,21.0,28.0,21.0,15.0,13.0,15.0,25.0,10.0,30.0,26.0,28.0,4.0,4.0,15.0,27.0,9.0,17.0,7.0,21.0,28.0,14.0,2.0,13.0,22.0,7.0,12.0,22.0,24.0,14.0,25.0,16.0,18.0,21.0,22.0,19.0,31.0,12.0,25.0,25.0,16.0,3.0,27.0,28.0,26.0,22.0,18.0,25.0,27.0,28.0,6.0,16.0,12.0,28.0,16.0,26.0,29.0,28.0,27.0,9.0,14.0,8.0,17.0,21.0,12.0,11.0,29.0,26.0,24.0,28.0,18.0,25.0,5.0,28.0,20.0,29.0,12.0,18.0,24.0,22.0,25.0,13.0,5.0,11.0,4.0,22.0,22.0,23.0,12.0,12.0,19.0,12.0,8.0,29.0,16.0,27.0,6.0,1.0,15.0,8.0,30.0,23.0,12.0,1.0,15.0,3.0,8.0,11.0,27.0,25.0,26.0,17.0,31.0,16.0,3.0,13.0,17.0,10.0,13.0,16.0,8.0,17.0,14.0,15.0,22.0,9.0,10.0,9.0,18.0,22.0,2.0,18.0,9.0,7.0,17.0,19.0,18.0,14.0,31.0,1.0,7.0,15.0,7.0,5.0,17.0,8.0,11.0,18.0,24.0,10.0,18.0,14.0,6.0,13.0,13.0,22.0,25.0,29.0,27.0,26.0,23.0,17.0,13.0,27.0,9.0,23.0,23.0,23.0,25.0,21.0,22.0,19.0,17.0,23.0,26.0,5.0,30.0,14.0,6.0,12.0,28.0,30.0,3.0,9.0,23.0,17.0,24.0,23.0,23.0,27.0,25.0,8.0,20.0,14.0,20.0,8.0,15.0,29.0,23.0,18.0,16.0,29.0,3.0,10.0,21.0,20.0,20.0,19.0,14.0,24.0,10.0,16.0,1.0,12.0,22.0,18.0,17.0,30.0,15.0,8.0,22.0,8.0,29.0,22.0,25.0,30.0,23.0,29.0,12.0,29.0,5.0,30.0,29.0,17.0,15.0,28.0,17.0,26.0,24.0,15.0,30.0,29.0,18.0,6.0,30.0,23.0,22.0,13.0,8.0,2.0,10.0,24.0,24.0,18.0,26.0,5.0,28.0,1.0,16.0,21.0,22.0,14.0,23.0,7.0,9.0,18.0,20.0,30.0,28.0,12.0,8.0,15.0,28.0,18.0,3.0,10.0,16.0,1.0,22.0,28.0,20.0,7.0,9.0,17.0,23.0,21.0,30.0,10.0,21.0,14.0,15.0,19.0,10.0,15.0,29.0,26.0,29.0,8.0,19.0,15.0,31.0,23.0,21.0,3.0,28.0,6.0,15.0,9.0,23.0,10.0,6.0,5.0,21.0,7.0,21.0,30.0,13.0,17.0,5.0,22.0,2.0,18.0,25.0,28.0,8.0,28.0,26.0,14.0,27.0,22.0,1.0,14.0,13.0,11.0,6.0,18.0,15.0,5.0,11.0,17.0,21.0,10.0,12.0,2.0,1.0,18.0,27.0,15.0,3.0,3.0,8.0,17.0,26.0,5.0,28.0,24.0,22.0,23.0,1.0,10.0,27.0,3.0,14.0,23.0,6.0,14.0,4.0,24.0,10.0,16.0,7.0,24.0,24.0,30.0,18.0,9.0,19.0,28.0,12.0,30.0,11.0,8.0,20.0,28.0,23.0,18.0,12.0,11.0,1.0,5.0,23.0,3.0,4.0,29.0,5.0,29.0,24.0,26.0,3.0,2.0,19.0,18.0,30.0,30.0,8.0,17.0,25.0,17.0,9.0,11.0,19.0,24.0,2.0,20.0,23.0,9.0,4.0,20.0,12.0,10.0,5.0,26.0,13.0,15.0,29.0,30.0,23.0,27.0,30.0,3.0],\"xaxis\":\"x\",\"yaxis\":\"y\",\"type\":\"histogram\"}],                        {\"template\":{\"data\":{\"histogram2dcontour\":[{\"type\":\"histogram2dcontour\",\"colorbar\":{\"outlinewidth\":0,\"ticks\":\"\"},\"colorscale\":[[0.0,\"#0d0887\"],[0.1111111111111111,\"#46039f\"],[0.2222222222222222,\"#7201a8\"],[0.3333333333333333,\"#9c179e\"],[0.4444444444444444,\"#bd3786\"],[0.5555555555555556,\"#d8576b\"],[0.6666666666666666,\"#ed7953\"],[0.7777777777777778,\"#fb9f3a\"],[0.8888888888888888,\"#fdca26\"],[1.0,\"#f0f921\"]]}],\"choropleth\":[{\"type\":\"choropleth\",\"colorbar\":{\"outlinewidth\":0,\"ticks\":\"\"}}],\"histogram2d\":[{\"type\":\"histogram2d\",\"colorbar\":{\"outlinewidth\":0,\"ticks\":\"\"},\"colorscale\":[[0.0,\"#0d0887\"],[0.1111111111111111,\"#46039f\"],[0.2222222222222222,\"#7201a8\"],[0.3333333333333333,\"#9c179e\"],[0.4444444444444444,\"#bd3786\"],[0.5555555555555556,\"#d8576b\"],[0.6666666666666666,\"#ed7953\"],[0.7777777777777778,\"#fb9f3a\"],[0.8888888888888888,\"#fdca26\"],[1.0,\"#f0f921\"]]}],\"heatmap\":[{\"type\":\"heatmap\",\"colorbar\":{\"outlinewidth\":0,\"ticks\":\"\"},\"colorscale\":[[0.0,\"#0d0887\"],[0.1111111111111111,\"#46039f\"],[0.2222222222222222,\"#7201a8\"],[0.3333333333333333,\"#9c179e\"],[0.4444444444444444,\"#bd3786\"],[0.5555555555555556,\"#d8576b\"],[0.6666666666666666,\"#ed7953\"],[0.7777777777777778,\"#fb9f3a\"],[0.8888888888888888,\"#fdca26\"],[1.0,\"#f0f921\"]]}],\"heatmapgl\":[{\"type\":\"heatmapgl\",\"colorbar\":{\"outlinewidth\":0,\"ticks\":\"\"},\"colorscale\":[[0.0,\"#0d0887\"],[0.1111111111111111,\"#46039f\"],[0.2222222222222222,\"#7201a8\"],[0.3333333333333333,\"#9c179e\"],[0.4444444444444444,\"#bd3786\"],[0.5555555555555556,\"#d8576b\"],[0.6666666666666666,\"#ed7953\"],[0.7777777777777778,\"#fb9f3a\"],[0.8888888888888888,\"#fdca26\"],[1.0,\"#f0f921\"]]}],\"contourcarpet\":[{\"type\":\"contourcarpet\",\"colorbar\":{\"outlinewidth\":0,\"ticks\":\"\"}}],\"contour\":[{\"type\":\"contour\",\"colorbar\":{\"outlinewidth\":0,\"ticks\":\"\"},\"colorscale\":[[0.0,\"#0d0887\"],[0.1111111111111111,\"#46039f\"],[0.2222222222222222,\"#7201a8\"],[0.3333333333333333,\"#9c179e\"],[0.4444444444444444,\"#bd3786\"],[0.5555555555555556,\"#d8576b\"],[0.6666666666666666,\"#ed7953\"],[0.7777777777777778,\"#fb9f3a\"],[0.8888888888888888,\"#fdca26\"],[1.0,\"#f0f921\"]]}],\"surface\":[{\"type\":\"surface\",\"colorbar\":{\"outlinewidth\":0,\"ticks\":\"\"},\"colorscale\":[[0.0,\"#0d0887\"],[0.1111111111111111,\"#46039f\"],[0.2222222222222222,\"#7201a8\"],[0.3333333333333333,\"#9c179e\"],[0.4444444444444444,\"#bd3786\"],[0.5555555555555556,\"#d8576b\"],[0.6666666666666666,\"#ed7953\"],[0.7777777777777778,\"#fb9f3a\"],[0.8888888888888888,\"#fdca26\"],[1.0,\"#f0f921\"]]}],\"mesh3d\":[{\"type\":\"mesh3d\",\"colorbar\":{\"outlinewidth\":0,\"ticks\":\"\"}}],\"scatter\":[{\"fillpattern\":{\"fillmode\":\"overlay\",\"size\":10,\"solidity\":0.2},\"type\":\"scatter\"}],\"parcoords\":[{\"type\":\"parcoords\",\"line\":{\"colorbar\":{\"outlinewidth\":0,\"ticks\":\"\"}}}],\"scatterpolargl\":[{\"type\":\"scatterpolargl\",\"marker\":{\"colorbar\":{\"outlinewidth\":0,\"ticks\":\"\"}}}],\"bar\":[{\"error_x\":{\"color\":\"#2a3f5f\"},\"error_y\":{\"color\":\"#2a3f5f\"},\"marker\":{\"line\":{\"color\":\"#E5ECF6\",\"width\":0.5},\"pattern\":{\"fillmode\":\"overlay\",\"size\":10,\"solidity\":0.2}},\"type\":\"bar\"}],\"scattergeo\":[{\"type\":\"scattergeo\",\"marker\":{\"colorbar\":{\"outlinewidth\":0,\"ticks\":\"\"}}}],\"scatterpolar\":[{\"type\":\"scatterpolar\",\"marker\":{\"colorbar\":{\"outlinewidth\":0,\"ticks\":\"\"}}}],\"histogram\":[{\"marker\":{\"pattern\":{\"fillmode\":\"overlay\",\"size\":10,\"solidity\":0.2}},\"type\":\"histogram\"}],\"scattergl\":[{\"type\":\"scattergl\",\"marker\":{\"colorbar\":{\"outlinewidth\":0,\"ticks\":\"\"}}}],\"scatter3d\":[{\"type\":\"scatter3d\",\"line\":{\"colorbar\":{\"outlinewidth\":0,\"ticks\":\"\"}},\"marker\":{\"colorbar\":{\"outlinewidth\":0,\"ticks\":\"\"}}}],\"scattermapbox\":[{\"type\":\"scattermapbox\",\"marker\":{\"colorbar\":{\"outlinewidth\":0,\"ticks\":\"\"}}}],\"scatterternary\":[{\"type\":\"scatterternary\",\"marker\":{\"colorbar\":{\"outlinewidth\":0,\"ticks\":\"\"}}}],\"scattercarpet\":[{\"type\":\"scattercarpet\",\"marker\":{\"colorbar\":{\"outlinewidth\":0,\"ticks\":\"\"}}}],\"carpet\":[{\"aaxis\":{\"endlinecolor\":\"#2a3f5f\",\"gridcolor\":\"white\",\"linecolor\":\"white\",\"minorgridcolor\":\"white\",\"startlinecolor\":\"#2a3f5f\"},\"baxis\":{\"endlinecolor\":\"#2a3f5f\",\"gridcolor\":\"white\",\"linecolor\":\"white\",\"minorgridcolor\":\"white\",\"startlinecolor\":\"#2a3f5f\"},\"type\":\"carpet\"}],\"table\":[{\"cells\":{\"fill\":{\"color\":\"#EBF0F8\"},\"line\":{\"color\":\"white\"}},\"header\":{\"fill\":{\"color\":\"#C8D4E3\"},\"line\":{\"color\":\"white\"}},\"type\":\"table\"}],\"barpolar\":[{\"marker\":{\"line\":{\"color\":\"#E5ECF6\",\"width\":0.5},\"pattern\":{\"fillmode\":\"overlay\",\"size\":10,\"solidity\":0.2}},\"type\":\"barpolar\"}],\"pie\":[{\"automargin\":true,\"type\":\"pie\"}]},\"layout\":{\"autotypenumbers\":\"strict\",\"colorway\":[\"#636efa\",\"#EF553B\",\"#00cc96\",\"#ab63fa\",\"#FFA15A\",\"#19d3f3\",\"#FF6692\",\"#B6E880\",\"#FF97FF\",\"#FECB52\"],\"font\":{\"color\":\"#2a3f5f\"},\"hovermode\":\"closest\",\"hoverlabel\":{\"align\":\"left\"},\"paper_bgcolor\":\"white\",\"plot_bgcolor\":\"#E5ECF6\",\"polar\":{\"bgcolor\":\"#E5ECF6\",\"angularaxis\":{\"gridcolor\":\"white\",\"linecolor\":\"white\",\"ticks\":\"\"},\"radialaxis\":{\"gridcolor\":\"white\",\"linecolor\":\"white\",\"ticks\":\"\"}},\"ternary\":{\"bgcolor\":\"#E5ECF6\",\"aaxis\":{\"gridcolor\":\"white\",\"linecolor\":\"white\",\"ticks\":\"\"},\"baxis\":{\"gridcolor\":\"white\",\"linecolor\":\"white\",\"ticks\":\"\"},\"caxis\":{\"gridcolor\":\"white\",\"linecolor\":\"white\",\"ticks\":\"\"}},\"coloraxis\":{\"colorbar\":{\"outlinewidth\":0,\"ticks\":\"\"}},\"colorscale\":{\"sequential\":[[0.0,\"#0d0887\"],[0.1111111111111111,\"#46039f\"],[0.2222222222222222,\"#7201a8\"],[0.3333333333333333,\"#9c179e\"],[0.4444444444444444,\"#bd3786\"],[0.5555555555555556,\"#d8576b\"],[0.6666666666666666,\"#ed7953\"],[0.7777777777777778,\"#fb9f3a\"],[0.8888888888888888,\"#fdca26\"],[1.0,\"#f0f921\"]],\"sequentialminus\":[[0.0,\"#0d0887\"],[0.1111111111111111,\"#46039f\"],[0.2222222222222222,\"#7201a8\"],[0.3333333333333333,\"#9c179e\"],[0.4444444444444444,\"#bd3786\"],[0.5555555555555556,\"#d8576b\"],[0.6666666666666666,\"#ed7953\"],[0.7777777777777778,\"#fb9f3a\"],[0.8888888888888888,\"#fdca26\"],[1.0,\"#f0f921\"]],\"diverging\":[[0,\"#8e0152\"],[0.1,\"#c51b7d\"],[0.2,\"#de77ae\"],[0.3,\"#f1b6da\"],[0.4,\"#fde0ef\"],[0.5,\"#f7f7f7\"],[0.6,\"#e6f5d0\"],[0.7,\"#b8e186\"],[0.8,\"#7fbc41\"],[0.9,\"#4d9221\"],[1,\"#276419\"]]},\"xaxis\":{\"gridcolor\":\"white\",\"linecolor\":\"white\",\"ticks\":\"\",\"title\":{\"standoff\":15},\"zerolinecolor\":\"white\",\"automargin\":true,\"zerolinewidth\":2},\"yaxis\":{\"gridcolor\":\"white\",\"linecolor\":\"white\",\"ticks\":\"\",\"title\":{\"standoff\":15},\"zerolinecolor\":\"white\",\"automargin\":true,\"zerolinewidth\":2},\"scene\":{\"xaxis\":{\"backgroundcolor\":\"#E5ECF6\",\"gridcolor\":\"white\",\"linecolor\":\"white\",\"showbackground\":true,\"ticks\":\"\",\"zerolinecolor\":\"white\",\"gridwidth\":2},\"yaxis\":{\"backgroundcolor\":\"#E5ECF6\",\"gridcolor\":\"white\",\"linecolor\":\"white\",\"showbackground\":true,\"ticks\":\"\",\"zerolinecolor\":\"white\",\"gridwidth\":2},\"zaxis\":{\"backgroundcolor\":\"#E5ECF6\",\"gridcolor\":\"white\",\"linecolor\":\"white\",\"showbackground\":true,\"ticks\":\"\",\"zerolinecolor\":\"white\",\"gridwidth\":2}},\"shapedefaults\":{\"line\":{\"color\":\"#2a3f5f\"}},\"annotationdefaults\":{\"arrowcolor\":\"#2a3f5f\",\"arrowhead\":0,\"arrowwidth\":1},\"geo\":{\"bgcolor\":\"white\",\"landcolor\":\"#E5ECF6\",\"subunitcolor\":\"white\",\"showland\":true,\"showlakes\":true,\"lakecolor\":\"white\"},\"title\":{\"x\":0.05},\"mapbox\":{\"style\":\"light\"}}},\"xaxis\":{\"anchor\":\"y\",\"domain\":[0.0,1.0],\"title\":{\"text\":\"\\ucd5c\\uc885\\uc8fc\\ubb38\\uc77c\\uc790\"}},\"yaxis\":{\"anchor\":\"x\",\"domain\":[0.0,1.0],\"title\":{\"text\":\"count\"}},\"legend\":{\"tracegroupgap\":0},\"margin\":{\"t\":60},\"barmode\":\"relative\"},                        {\"responsive\": true}                    ).then(function(){\n",
              "                            \n",
              "var gd = document.getElementById('f71940f6-16e1-4119-8034-f4f7f5f8f921');\n",
              "var x = new MutationObserver(function (mutations, observer) {{\n",
              "        var display = window.getComputedStyle(gd).display;\n",
              "        if (!display || display === 'none') {{\n",
              "            console.log([gd, 'removed!']);\n",
              "            Plotly.purge(gd);\n",
              "            observer.disconnect();\n",
              "        }}\n",
              "}});\n",
              "\n",
              "// Listen for the removal of the full notebook cells\n",
              "var notebookContainer = gd.closest('#notebook-container');\n",
              "if (notebookContainer) {{\n",
              "    x.observe(notebookContainer, {childList: true});\n",
              "}}\n",
              "\n",
              "// Listen for the clearing of the current output cell\n",
              "var outputEl = gd.closest('.output');\n",
              "if (outputEl) {{\n",
              "    x.observe(outputEl, {childList: true});\n",
              "}}\n",
              "\n",
              "                        })                };                            </script>        </div>\n",
              "</body>\n",
              "</html>"
            ]
          },
          "metadata": {}
        }
      ]
    },
    {
      "cell_type": "code",
      "source": [
        "#4. 성별에 따른 '최종주문월'에 대한 '총순수이익' 시각화\n",
        "#변수가 3 개\n",
        "# 라인 - 바 - 스캐터\n",
        "\n",
        "sns.lineplot(data=df, x=\"최종주문월\", y=\"총순수이익\", hue=\"성별\")\n"
      ],
      "metadata": {
        "id": "f4xxdPLMPL1O"
      },
      "execution_count": null,
      "outputs": []
    },
    {
      "cell_type": "code",
      "source": [
        "#5. 성별에 따른 나이 분포 시각\n",
        "\n",
        "\n",
        "\n",
        "#바이올린\n",
        "#히스토그램\n",
        "\n",
        "import plotly.express as px\n",
        "\n",
        "df = px.data.tips()\n",
        "fig = px.violin(df, y=\"나이\", color=\"성별\")\n",
        "fig.show()"
      ],
      "metadata": {
        "colab": {
          "base_uri": "https://localhost:8080/",
          "height": 415
        },
        "id": "WKTB4en-dLMi",
        "outputId": "a219eca6-82b0-41fa-8d41-3332ed67fbaa"
      },
      "execution_count": null,
      "outputs": [
        {
          "output_type": "error",
          "ename": "ValueError",
          "evalue": "ignored",
          "traceback": [
            "\u001b[0;31m---------------------------------------------------------------------------\u001b[0m",
            "\u001b[0;31mValueError\u001b[0m                                Traceback (most recent call last)",
            "\u001b[0;32m<ipython-input-72-332d13291ab1>\u001b[0m in \u001b[0;36m<cell line: 11>\u001b[0;34m()\u001b[0m\n\u001b[1;32m      9\u001b[0m \u001b[0;34m\u001b[0m\u001b[0m\n\u001b[1;32m     10\u001b[0m \u001b[0mdf\u001b[0m \u001b[0;34m=\u001b[0m \u001b[0mpx\u001b[0m\u001b[0;34m.\u001b[0m\u001b[0mdata\u001b[0m\u001b[0;34m.\u001b[0m\u001b[0mtips\u001b[0m\u001b[0;34m(\u001b[0m\u001b[0;34m)\u001b[0m\u001b[0;34m\u001b[0m\u001b[0;34m\u001b[0m\u001b[0m\n\u001b[0;32m---> 11\u001b[0;31m \u001b[0mfig\u001b[0m \u001b[0;34m=\u001b[0m \u001b[0mpx\u001b[0m\u001b[0;34m.\u001b[0m\u001b[0mviolin\u001b[0m\u001b[0;34m(\u001b[0m\u001b[0mdf\u001b[0m\u001b[0;34m,\u001b[0m \u001b[0my\u001b[0m\u001b[0;34m=\u001b[0m\u001b[0;34m\"나이\"\u001b[0m\u001b[0;34m,\u001b[0m \u001b[0mcolor\u001b[0m\u001b[0;34m=\u001b[0m\u001b[0;34m\"성별\"\u001b[0m\u001b[0;34m)\u001b[0m\u001b[0;34m\u001b[0m\u001b[0;34m\u001b[0m\u001b[0m\n\u001b[0m\u001b[1;32m     12\u001b[0m \u001b[0mfig\u001b[0m\u001b[0;34m.\u001b[0m\u001b[0mshow\u001b[0m\u001b[0;34m(\u001b[0m\u001b[0;34m)\u001b[0m\u001b[0;34m\u001b[0m\u001b[0;34m\u001b[0m\u001b[0m\n",
            "\u001b[0;32m/usr/local/lib/python3.10/dist-packages/plotly/express/_chart_types.py\u001b[0m in \u001b[0;36mviolin\u001b[0;34m(data_frame, x, y, color, facet_row, facet_col, facet_col_wrap, facet_row_spacing, facet_col_spacing, hover_name, hover_data, custom_data, animation_frame, animation_group, category_orders, labels, color_discrete_sequence, color_discrete_map, orientation, violinmode, log_x, log_y, range_x, range_y, points, box, title, template, width, height)\u001b[0m\n\u001b[1;32m    606\u001b[0m     \u001b[0mcurved\u001b[0m \u001b[0mmark\u001b[0m \u001b[0mto\u001b[0m \u001b[0mvisualize\u001b[0m \u001b[0mtheir\u001b[0m \u001b[0mdistribution\u001b[0m\u001b[0;34m.\u001b[0m\u001b[0;34m\u001b[0m\u001b[0;34m\u001b[0m\u001b[0m\n\u001b[1;32m    607\u001b[0m     \"\"\"\n\u001b[0;32m--> 608\u001b[0;31m     return make_figure(\n\u001b[0m\u001b[1;32m    609\u001b[0m         \u001b[0margs\u001b[0m\u001b[0;34m=\u001b[0m\u001b[0mlocals\u001b[0m\u001b[0;34m(\u001b[0m\u001b[0;34m)\u001b[0m\u001b[0;34m,\u001b[0m\u001b[0;34m\u001b[0m\u001b[0;34m\u001b[0m\u001b[0m\n\u001b[1;32m    610\u001b[0m         \u001b[0mconstructor\u001b[0m\u001b[0;34m=\u001b[0m\u001b[0mgo\u001b[0m\u001b[0;34m.\u001b[0m\u001b[0mViolin\u001b[0m\u001b[0;34m,\u001b[0m\u001b[0;34m\u001b[0m\u001b[0;34m\u001b[0m\u001b[0m\n",
            "\u001b[0;32m/usr/local/lib/python3.10/dist-packages/plotly/express/_core.py\u001b[0m in \u001b[0;36mmake_figure\u001b[0;34m(args, constructor, trace_patch, layout_patch)\u001b[0m\n\u001b[1;32m   2001\u001b[0m     \u001b[0mapply_default_cascade\u001b[0m\u001b[0;34m(\u001b[0m\u001b[0margs\u001b[0m\u001b[0;34m)\u001b[0m\u001b[0;34m\u001b[0m\u001b[0;34m\u001b[0m\u001b[0m\n\u001b[1;32m   2002\u001b[0m \u001b[0;34m\u001b[0m\u001b[0m\n\u001b[0;32m-> 2003\u001b[0;31m     \u001b[0margs\u001b[0m \u001b[0;34m=\u001b[0m \u001b[0mbuild_dataframe\u001b[0m\u001b[0;34m(\u001b[0m\u001b[0margs\u001b[0m\u001b[0;34m,\u001b[0m \u001b[0mconstructor\u001b[0m\u001b[0;34m)\u001b[0m\u001b[0;34m\u001b[0m\u001b[0;34m\u001b[0m\u001b[0m\n\u001b[0m\u001b[1;32m   2004\u001b[0m     \u001b[0;32mif\u001b[0m \u001b[0mconstructor\u001b[0m \u001b[0;32min\u001b[0m \u001b[0;34m[\u001b[0m\u001b[0mgo\u001b[0m\u001b[0;34m.\u001b[0m\u001b[0mTreemap\u001b[0m\u001b[0;34m,\u001b[0m \u001b[0mgo\u001b[0m\u001b[0;34m.\u001b[0m\u001b[0mSunburst\u001b[0m\u001b[0;34m,\u001b[0m \u001b[0mgo\u001b[0m\u001b[0;34m.\u001b[0m\u001b[0mIcicle\u001b[0m\u001b[0;34m]\u001b[0m \u001b[0;32mand\u001b[0m \u001b[0margs\u001b[0m\u001b[0;34m[\u001b[0m\u001b[0;34m\"path\"\u001b[0m\u001b[0;34m]\u001b[0m \u001b[0;32mis\u001b[0m \u001b[0;32mnot\u001b[0m \u001b[0;32mNone\u001b[0m\u001b[0;34m:\u001b[0m\u001b[0;34m\u001b[0m\u001b[0;34m\u001b[0m\u001b[0m\n\u001b[1;32m   2005\u001b[0m         \u001b[0margs\u001b[0m \u001b[0;34m=\u001b[0m \u001b[0mprocess_dataframe_hierarchy\u001b[0m\u001b[0;34m(\u001b[0m\u001b[0margs\u001b[0m\u001b[0;34m)\u001b[0m\u001b[0;34m\u001b[0m\u001b[0;34m\u001b[0m\u001b[0m\n",
            "\u001b[0;32m/usr/local/lib/python3.10/dist-packages/plotly/express/_core.py\u001b[0m in \u001b[0;36mbuild_dataframe\u001b[0;34m(args, constructor)\u001b[0m\n\u001b[1;32m   1410\u001b[0m     \u001b[0;31m# now that things have been prepped, we do the systematic rewriting of `args`\u001b[0m\u001b[0;34m\u001b[0m\u001b[0;34m\u001b[0m\u001b[0m\n\u001b[1;32m   1411\u001b[0m \u001b[0;34m\u001b[0m\u001b[0m\n\u001b[0;32m-> 1412\u001b[0;31m     df_output, wide_id_vars = process_args_into_dataframe(\n\u001b[0m\u001b[1;32m   1413\u001b[0m         \u001b[0margs\u001b[0m\u001b[0;34m,\u001b[0m \u001b[0mwide_mode\u001b[0m\u001b[0;34m,\u001b[0m \u001b[0mvar_name\u001b[0m\u001b[0;34m,\u001b[0m \u001b[0mvalue_name\u001b[0m\u001b[0;34m\u001b[0m\u001b[0;34m\u001b[0m\u001b[0m\n\u001b[1;32m   1414\u001b[0m     )\n",
            "\u001b[0;32m/usr/local/lib/python3.10/dist-packages/plotly/express/_core.py\u001b[0m in \u001b[0;36mprocess_args_into_dataframe\u001b[0;34m(args, wide_mode, var_name, value_name)\u001b[0m\n\u001b[1;32m   1206\u001b[0m                         \u001b[0;32mif\u001b[0m \u001b[0margument\u001b[0m \u001b[0;34m==\u001b[0m \u001b[0;34m\"index\"\u001b[0m\u001b[0;34m:\u001b[0m\u001b[0;34m\u001b[0m\u001b[0;34m\u001b[0m\u001b[0m\n\u001b[1;32m   1207\u001b[0m                             \u001b[0merr_msg\u001b[0m \u001b[0;34m+=\u001b[0m \u001b[0;34m\"\\n To use the index, pass it in directly as `df.index`.\"\u001b[0m\u001b[0;34m\u001b[0m\u001b[0;34m\u001b[0m\u001b[0m\n\u001b[0;32m-> 1208\u001b[0;31m                         \u001b[0;32mraise\u001b[0m \u001b[0mValueError\u001b[0m\u001b[0;34m(\u001b[0m\u001b[0merr_msg\u001b[0m\u001b[0;34m)\u001b[0m\u001b[0;34m\u001b[0m\u001b[0;34m\u001b[0m\u001b[0m\n\u001b[0m\u001b[1;32m   1209\u001b[0m                 \u001b[0;32melif\u001b[0m \u001b[0mlength\u001b[0m \u001b[0;32mand\u001b[0m \u001b[0mlen\u001b[0m\u001b[0;34m(\u001b[0m\u001b[0mdf_input\u001b[0m\u001b[0;34m[\u001b[0m\u001b[0margument\u001b[0m\u001b[0;34m]\u001b[0m\u001b[0;34m)\u001b[0m \u001b[0;34m!=\u001b[0m \u001b[0mlength\u001b[0m\u001b[0;34m:\u001b[0m\u001b[0;34m\u001b[0m\u001b[0;34m\u001b[0m\u001b[0m\n\u001b[1;32m   1210\u001b[0m                     raise ValueError(\n",
            "\u001b[0;31mValueError\u001b[0m: Value of 'y' is not the name of a column in 'data_frame'. Expected one of ['total_bill', 'tip', 'sex', 'smoker', 'day', 'time', 'size'] but received: 나이"
          ]
        }
      ]
    },
    {
      "cell_type": "code",
      "source": [
        "#6. '유입경로'별 '총판매액' 비교\n",
        "\n",
        "plt.figure(figsize = (15,5))\n",
        "sns.barplot(data = df, x = '유입경로', y = '총판매액')"
      ],
      "metadata": {
        "id": "Dgj86dT0dQV6"
      },
      "execution_count": null,
      "outputs": []
    }
  ]
}