{
  "nbformat": 4,
  "nbformat_minor": 0,
  "metadata": {
    "colab": {
      "provenance": [],
      "authorship_tag": "ABX9TyOzHgGBatIxPMee0LoqukGY",
      "include_colab_link": true
    },
    "kernelspec": {
      "name": "python3",
      "display_name": "Python 3"
    },
    "language_info": {
      "name": "python"
    }
  },
  "cells": [
    {
      "cell_type": "markdown",
      "metadata": {
        "id": "view-in-github",
        "colab_type": "text"
      },
      "source": [
        "<a href=\"https://colab.research.google.com/github/Leetora41053/sesac_practice/blob/main/9_19_exercise_with_math.ipynb\" target=\"_parent\"><img src=\"https://colab.research.google.com/assets/colab-badge.svg\" alt=\"Open In Colab\"/></a>"
      ]
    },
    {
      "cell_type": "code",
      "execution_count": 55,
      "metadata": {
        "id": "2ja-O30a__CP",
        "colab": {
          "base_uri": "https://localhost:8080/"
        },
        "outputId": "49872c37-c4f9-4482-d4a0-c8a913618db0"
      },
      "outputs": [
        {
          "output_type": "stream",
          "name": "stdout",
          "text": [
            "3 4 5\n",
            "4 6 8\n",
            "-2 -2 -2\n"
          ]
        }
      ],
      "source": [
        "#벡터의 구조 & 연산\n",
        "x1, y1, z1 = 1, 2, 3\n",
        "x2, y2, z2 = 3, 4, 5\n",
        "\n",
        "x3, y3, z3 = x1 + x2, y1 + y2, z1 + z2\n",
        "x4, y4, z4 = x1 - x2, y1 - y2, z1 - z2\n",
        "x5, y5, z5 = x1 * x2, y1 * y2, z1 * z2\n",
        "\n",
        "print(x2, y2, z2)\n",
        "print(x3, y3, z3)\n",
        "print(x4, y4, z4)"
      ]
    },
    {
      "cell_type": "code",
      "source": [
        "#스칼라의 벡터 구조\n",
        "a = 10\n",
        "x1, y1, z1 = 1, 2, 3\n",
        "\n",
        "x2, y2, z2 = a*x1, a*y1, a*z1\n",
        "x3, y3, z3 = a + x1, a + y1, a + z1\n",
        "x4, y4, z4 = a - x1, a - y1, a - z1\n",
        "\n",
        "print(x2, y2, z2)\n",
        "print(x3, y3, z3)\n",
        "print(x4, y4, z4)"
      ],
      "metadata": {
        "colab": {
          "base_uri": "https://localhost:8080/"
        },
        "id": "CoMyeuNSC6TF",
        "outputId": "2aa4e0e6-2b60-4655-db23-00b1ea4e52db"
      },
      "execution_count": null,
      "outputs": [
        {
          "output_type": "stream",
          "name": "stdout",
          "text": [
            "10 20 30\n",
            "11 12 13\n",
            "9 8 7\n"
          ]
        }
      ]
    },
    {
      "cell_type": "code",
      "source": [
        "#유닛 벡터 만들기\n",
        "\n",
        "x, y, z = 1, 2, 3\n",
        "\n",
        "norm = (x**2 + y**2 + z**2)**0.5\n",
        "print(norm)\n"
      ],
      "metadata": {
        "colab": {
          "base_uri": "https://localhost:8080/"
        },
        "id": "4X-qzqRFO3Df",
        "outputId": "eed517cd-5a9c-4ac6-d69e-52e5541a9539"
      },
      "execution_count": null,
      "outputs": [
        {
          "output_type": "stream",
          "name": "stdout",
          "text": [
            "3.7416573867739413\n"
          ]
        }
      ]
    },
    {
      "cell_type": "code",
      "source": [
        "\n",
        "x, y, z = x/norm, y/norm, z/norm\n",
        "norm = (x**2 + y**2 + z**2)**0.5\n",
        "print(norm)"
      ],
      "metadata": {
        "colab": {
          "base_uri": "https://localhost:8080/"
        },
        "id": "3WzlyrkqPKHV",
        "outputId": "66989c66-8696-4cb9-d0f0-8422f38a83db"
      },
      "execution_count": null,
      "outputs": [
        {
          "output_type": "stream",
          "name": "stdout",
          "text": [
            "1.0\n"
          ]
        }
      ]
    },
    {
      "cell_type": "code",
      "source": [
        "#Dot Product(내적)\n",
        "x1, y1, z1 = 1, 2, 3\n",
        "x2, y2, z2 = 3, 4, 5\n",
        "\n",
        "dot_prod = x1*x2 + y1*y2 + z1*z2\n",
        "print(dot_prod)\n"
      ],
      "metadata": {
        "colab": {
          "base_uri": "https://localhost:8080/"
        },
        "id": "-pkMELGITWM2",
        "outputId": "92ac918b-c16a-4bd7-fd96-2a26493e09d4"
      },
      "execution_count": null,
      "outputs": [
        {
          "output_type": "stream",
          "name": "stdout",
          "text": [
            "26\n"
          ]
        }
      ]
    },
    {
      "cell_type": "code",
      "source": [
        "#유클리디안 디스턴스\n",
        "\n",
        "x1, y1, z1 = 1, 2, 3\n",
        "x2, y2, z2 = 3, 4, 5\n",
        "\n",
        "euclidian_distance = ((x1-x2)**2 + (y1-y2)**2 + (z1-z2)**2)**0.5\n",
        "\n",
        "#euclidian_distance **= 0.5 = 루트 씌워주기\n",
        "print(euclidian_distance)"
      ],
      "metadata": {
        "colab": {
          "base_uri": "https://localhost:8080/"
        },
        "id": "joLrffG0d__a",
        "outputId": "c334be66-53cc-41d4-f362-c4ab2e97b228"
      },
      "execution_count": null,
      "outputs": [
        {
          "output_type": "stream",
          "name": "stdout",
          "text": [
            "3.4641016151377544\n"
          ]
        }
      ]
    },
    {
      "cell_type": "code",
      "source": [
        "#mean squared error(mse)\n",
        "\n",
        "#예측치를 선언합니다\n",
        "pred1, pred2, pred3 = 10, 20, 30\n",
        "\n",
        "#y값을 생성합니다 & 데이터의 수를 선언합니다\n",
        "y1, y2, y3 = 10, 25, 40\n",
        "n_data = 3\n",
        "\n",
        "#에러 값과 정답값의 차의 제곱을 선언합니다\n",
        "s_error1 = (pred1 - y1)**2\n",
        "s_error2 = (pred1 - y2)**2\n",
        "s_error3 = (pred1 - y3)**2\n",
        "\n",
        "#MSE를 연산합니다\n",
        "mse = (s_error1 + s_error2 + s_error3)/n_data\n",
        "print(mse)\n",
        "\n"
      ],
      "metadata": {
        "id": "oXOBmFO80xc8"
      },
      "execution_count": null,
      "outputs": []
    },
    {
      "cell_type": "markdown",
      "source": [
        "# 실습\n"
      ],
      "metadata": {
        "id": "ct59WSqu3liI"
      }
    },
    {
      "cell_type": "code",
      "source": [
        "#수학점수 평균 구하기\n",
        "\n",
        "scores = [10, 20, 30]\n",
        "\n",
        "#학생의 수를 변수로 선언합니다. len값을 통해 가변적으로 학생 수를 입력해줄 수 있습니다.\n",
        "n_student = len(scores) # len(scores) = 3\n",
        "\n",
        "#리스트의 항목들을 하나하나 더해주어 평균을 구합니다\n",
        "mean = (scores[0] + scores[1] + scores[2]) / n_student\n",
        "print(\"score mean :\", mean)"
      ],
      "metadata": {
        "colab": {
          "base_uri": "https://localhost:8080/"
        },
        "id": "StqLF94B3jtb",
        "outputId": "148c17cf-ab59-4222-e0dc-01eb193c4995"
      },
      "execution_count": null,
      "outputs": [
        {
          "output_type": "stream",
          "name": "stdout",
          "text": [
            "score mean : 20.0\n"
          ]
        }
      ]
    },
    {
      "cell_type": "code",
      "source": [
        "#Mean Subtraction\n",
        "\n",
        "scores = [10, 20, 30]\n",
        "\n",
        "#학생의 수를 변수로 선언합니다. len값을 통해 가변적으로 학생 수를 입력해줄 수 있습니다.\n",
        "n_student = len(scores) # len(scores) = 3\n",
        "\n",
        "#리스트의 항목들을 하나하나 더해주어 평균을 구합니다\n",
        "mean = (scores[0] + scores[1] + scores[2]) / n_student\n",
        "print(\"score mean :\", mean)\n",
        "\n",
        "#리스트 항목들의 값에서 평균을 빼줍니다\n",
        "scores[0] -= mean\n",
        "scores[1] -= mean\n",
        "scores[2] -= mean\n",
        "\n",
        "#평균은 항상 0이 됩니다\n",
        "mean = (scores[0] + scores[1] + scores[2]) / n_student\n"
      ],
      "metadata": {
        "colab": {
          "base_uri": "https://localhost:8080/"
        },
        "id": "aGCS_cCd4fSK",
        "outputId": "43858e37-3ce9-4a74-e43d-a92cf08ff029"
      },
      "execution_count": null,
      "outputs": [
        {
          "output_type": "stream",
          "name": "stdout",
          "text": [
            "score mean : 20.0\n"
          ]
        }
      ]
    },
    {
      "cell_type": "code",
      "source": [
        "#분산과 표준편차\n",
        "\n",
        "scores = [10, 20, 30]\n",
        "n_student = len(scores) # len(scores) = 3\n",
        "mean = (scores[0] + scores[1] + scores[2]) / n_student\n",
        "\n",
        "#평균을 제곱합니다\n",
        "square_of_mean = mean**2\n",
        "\n",
        "#제곱의 평균을 구합니다\n",
        "mean_of_square =  (scores[0]**2 + scores[1]**2 + scores[2]**2)/len(scores)\n",
        "\n",
        "#분산과 표준편차를 구합니다\n",
        "variance = mean_of_square - square_of_mean\n",
        "standard_deviation = variance**0.5\n",
        "\n",
        "print(variance)\n",
        "print(standard_deviation)\n",
        "\n"
      ],
      "metadata": {
        "colab": {
          "base_uri": "https://localhost:8080/"
        },
        "id": "4kJ5IdV75l3W",
        "outputId": "7c39652e-116c-4bb1-dd3a-fbec474d9c3f"
      },
      "execution_count": null,
      "outputs": [
        {
          "output_type": "stream",
          "name": "stdout",
          "text": [
            "66.66666666666669\n",
            "8.16496580927726\n"
          ]
        }
      ]
    },
    {
      "cell_type": "code",
      "source": [
        "#분산과 표준편차\n",
        "\n",
        "scores = [10, 20, 30]\n",
        "n_student = len(scores) # len(scores) = 3\n",
        "mean = (scores[0] + scores[1] + scores[2]) / n_student\n",
        "\n",
        "#평균을 제곱합니다\n",
        "square_of_mean = mean**2\n",
        "\n",
        "#제곱의 평균을 구합니다\n",
        "mean_of_square =  (scores[0]**2 + scores[1]**2 + scores[2]**2)/len(scores)\n",
        "\n",
        "#분산과 표준편차를 구합니다\n",
        "variance = mean_of_square - square_of_mean\n",
        "standard_deviation = variance**0.5\n",
        "\n",
        "print(variance)\n",
        "print(standard_deviation)"
      ],
      "metadata": {
        "colab": {
          "base_uri": "https://localhost:8080/"
        },
        "id": "lBsTHrlp7N6R",
        "outputId": "1747475c-3053-4245-a96d-0e0b0f4de0a3"
      },
      "execution_count": null,
      "outputs": [
        {
          "output_type": "stream",
          "name": "stdout",
          "text": [
            "66.66666666666669\n",
            "8.16496580927726\n"
          ]
        }
      ]
    },
    {
      "cell_type": "code",
      "source": [
        "#표준 정규 분포 정리\n",
        "\n",
        "scores = [10, 20, 30]\n",
        "n_student = len(scores) # len(scores) = 3\n",
        "mean = (scores[0] + scores[1] + scores[2]) / n_student\n",
        "\n",
        "#평균을 제곱합니다\n",
        "square_of_mean = mean**2\n",
        "\n",
        "#제곱의 평균을 구합니다\n",
        "mean_of_square =  (scores[0]**2 + scores[1]**2 + scores[2]**2)/len(scores)\n",
        "\n",
        "#분산과 표준편차를 구합니다\n",
        "variance = mean_of_square - square_of_mean\n",
        "standard_deviation = variance**0.5\n",
        "\n",
        "#표준편차를 분모로 하고, 각 항목 마다 평균을 빼줍니다\n",
        "scores[0] = (scores[0] - mean)/standard_deviation\n",
        "scores[1] = (scores[1] - mean)/standard_deviation\n",
        "scores[2] = (scores[2] - mean)/standard_deviation\n",
        "\n",
        "mean = (scores[0] + scores[1] + scores[2]) / n_student\n",
        "mean_of_square =  (scores[0]**2 + scores[1]**2 + scores[2]**2)/len(scores)\n",
        "square_of_mean = mean**2\n",
        "variance = mean_of_square - square_of_mean\n",
        "standard_deviation = variance**0.5\n",
        "\n",
        "#평균 값의 합이 0이 됨을 확인합니다\n",
        "print(\"scores mean: \",mean)\n",
        "#표준편차 합이 1이 됨을 확인합니다\n",
        "print(\"standard deviation: \",standard_deviation)"
      ],
      "metadata": {
        "colab": {
          "base_uri": "https://localhost:8080/"
        },
        "id": "dKA5JMMH74-P",
        "outputId": "24468cb2-c13b-486d-b2fa-0f9733a831bf"
      },
      "execution_count": null,
      "outputs": [
        {
          "output_type": "stream",
          "name": "stdout",
          "text": [
            "scores mean:  0.0\n",
            "standard deviation:  1.0\n"
          ]
        }
      ]
    },
    {
      "cell_type": "code",
      "source": [
        "#Hadamard Product(2)\n",
        "\n",
        "v1, v2 = [1, 2, 3] , [3, 4, 5]\n",
        "v3= [v1[0]*v2[0], v1[1]*v2[1], v1[2]*v2[2]]\n",
        "print(v3)\n",
        "\n",
        "v3 = [0, 0, 0]\n",
        "v3[0] = v1[0]*v2[0]\n",
        "v3[1] = v1[1]*v2[1]\n",
        "v3[2] = v1[2]*v2[2]\n",
        "print(v3)\n"
      ],
      "metadata": {
        "colab": {
          "base_uri": "https://localhost:8080/"
        },
        "id": "VKpGoHMf9XLb",
        "outputId": "6aa7a031-c104-4941-b41b-56a1dc9c808d"
      },
      "execution_count": null,
      "outputs": [
        {
          "output_type": "stream",
          "name": "stdout",
          "text": [
            "[3, 8, 15]\n",
            "[3, 8, 15]\n"
          ]
        }
      ]
    },
    {
      "cell_type": "code",
      "source": [
        "#list()와 append()\n",
        "\n",
        "#빈 리스트를 선언합니다\n",
        "v1 = [] = list()\n",
        "print(v1)\n",
        "\n",
        "#빈 리스트에 index를 하나 추가합니다\n",
        "v1.append(1)\n",
        "print(v1)\n",
        "\n",
        "#빈 리스트에 index를 하나 더 추가합니다\n",
        "v1.append(2)\n",
        "print(v1)"
      ],
      "metadata": {
        "colab": {
          "base_uri": "https://localhost:8080/"
        },
        "id": "mITl9hjFCHC_",
        "outputId": "f2e9b32b-bbba-461d-e859-fb78da15c6e9"
      },
      "execution_count": null,
      "outputs": [
        {
          "output_type": "stream",
          "name": "stdout",
          "text": [
            "[]\n",
            "[1]\n",
            "[1, 2]\n"
          ]
        }
      ]
    },
    {
      "cell_type": "code",
      "source": [
        "#Hadamard Product\n",
        "\n",
        "v1, v2 = [1, 2, 3], [3, 4, 5]\n",
        "\n",
        "v3=[]\n",
        "v3.append(v1[0] * v2[0])\n",
        "v3.append(v1[1] * v2[1])\n",
        "v3.append(v1[2] * v2[2])\n",
        "\n",
        "print(v3)\n"
      ],
      "metadata": {
        "colab": {
          "base_uri": "https://localhost:8080/"
        },
        "id": "hH95Xc-1Cd9t",
        "outputId": "0473c3de-fe35-4fd4-d177-c4c1330f3293"
      },
      "execution_count": null,
      "outputs": [
        {
          "output_type": "stream",
          "name": "stdout",
          "text": [
            "[3, 8, 15]\n"
          ]
        }
      ]
    },
    {
      "cell_type": "code",
      "source": [
        "#Vector norm\n",
        "\n",
        "v1 = [1, 2, 3]\n",
        "#method 1.\n",
        "# 제곱의 합을 한 뒤 제곱근을 씌워 벡터의 길이를 출력합니다(피타고라스 정리)\n",
        "norm = (v1[0]**2 + v1[1]**2 + v1[2]**2)**0.5\n",
        "print(norm)\n",
        "\n",
        "#method 2.\n",
        "norm = 0\n",
        "norm += v1[0]**2\n",
        "norm += v1[1]**2\n",
        "norm += v1[2]**2\n",
        "norm**0.5\n",
        "print(norm)\n",
        "\n"
      ],
      "metadata": {
        "id": "9H1AbZOcDfNZ"
      },
      "execution_count": null,
      "outputs": []
    },
    {
      "cell_type": "code",
      "source": [
        "#unit vector\n",
        "\n",
        "#유닛벡터를 구합니다\n",
        "\n",
        "v1 = [1, 2, 3]\n",
        "#method 1.\n",
        "# 제곱의 합을 한 뒤 제곱근을 씌워 벡터의 길이를 출력합니다(피타고라스 정리)\n",
        "norm = (v1[0]**2 + v1[1]**2 + v1[2]**2)**0.5\n",
        "print(norm)\n",
        "\n",
        "#벡터의 norm을 나눠준 후 그 norm값은 항상 1이 됩니다\n",
        "v1 = [v1[0]/norm, v1[1]/norm, v1[2]/norm]\n",
        "norm = (v1[0]**2 + v1[1]**2 + v1[2]**2)**0.5\n",
        "print(norm)\n"
      ],
      "metadata": {
        "id": "QQnGc_EnEnKl"
      },
      "execution_count": null,
      "outputs": []
    },
    {
      "cell_type": "code",
      "source": [
        "#Dot Product(내적)\n",
        "\n",
        "v1, v2 = [1,2,3],[3,4,5]\n",
        "\n",
        "#내적 구하는 method.1\n",
        "dot_prod = v1[0]*v2[0] + v1[1]*v2[1] + v1[2]*v2[2]\n",
        "print(dot_prod)\n",
        "\n",
        "#내적 구하는 method.2\n",
        "dot_prod = 0\n",
        "dot_prod += v1[0]*v2[0]\n",
        "dot_prod += v1[0]*v2[0]\n",
        "dot_prod += v1[0]*v2[0]\n",
        "\n",
        "print(dot_prod)"
      ],
      "metadata": {
        "colab": {
          "base_uri": "https://localhost:8080/"
        },
        "id": "VJca0V0lFuG9",
        "outputId": "770ecd36-5876-4fe0-9ab4-7d1858b593c6"
      },
      "execution_count": null,
      "outputs": [
        {
          "output_type": "stream",
          "name": "stdout",
          "text": [
            "26\n"
          ]
        }
      ]
    },
    {
      "cell_type": "code",
      "source": [
        "#Euclidian Distance\n",
        "#L2 놈: 유클리드 디스턴스 타입\n",
        "#L1 놈: 맨해튼 놈\n",
        "v1, v2 = [1, 2, 3], [3, 4, 5]\n",
        "\n",
        "e_distance = 0\n",
        "\n",
        "#두 리스트 간의 차를 통해 벡터 간의 거리를 구합니다\n",
        "e_distance += (v1[0] - v2[0])**2\n",
        "e_distance += (v1[1] - v2[1])**2\n",
        "e_distance += (v1[2] - v2[3])**2\n",
        "e_distance **= 0.5\n",
        "print(e_distance)\n"
      ],
      "metadata": {
        "id": "WskbaMJgHF5f"
      },
      "execution_count": null,
      "outputs": []
    },
    {
      "cell_type": "code",
      "source": [
        "#MSE: Mean Squared Error\n",
        "\n",
        "#모델 예측값이라고 할 수 있음\n",
        "\n",
        "#예측치를 선업합니다\n",
        "prediction = [10, 20, 30]\n",
        "\n",
        "#실제 데이터를 선업합니다\n",
        "labels = [10, 25, 40]\n",
        "\n",
        "#데이터 수를 선언합니다\n",
        "n_data = len(prediction)\n",
        "\n",
        "mse= 0\n",
        "mse += (prediction[0] - labels[0])**2\n",
        "mse += (prediction[1] - labels[1])**2\n",
        "mse += (prediction[2] - labels[2])**2\n",
        "mse /= n_data\n",
        "print(mse)"
      ],
      "metadata": {
        "colab": {
          "base_uri": "https://localhost:8080/"
        },
        "id": "jTFKGTtdJDxa",
        "outputId": "4951490e-4430-40fd-d035-cdfa0b4ab072"
      },
      "execution_count": null,
      "outputs": [
        {
          "output_type": "stream",
          "name": "stdout",
          "text": [
            "41.666666666666664\n"
          ]
        }
      ]
    },
    {
      "cell_type": "code",
      "source": [
        "#for loop을 통해 list 원소 접근하기\n",
        "\n",
        "scores = [10, 20, 30]\n",
        "\n",
        "for score in scores:\n",
        "  print(score)"
      ],
      "metadata": {
        "colab": {
          "base_uri": "https://localhost:8080/"
        },
        "id": "3yD_otogKceW",
        "outputId": "0765a36d-2ce3-40e6-ff42-afea4555167d"
      },
      "execution_count": null,
      "outputs": [
        {
          "output_type": "stream",
          "name": "stdout",
          "text": [
            "10\n",
            "20\n",
            "30\n"
          ]
        }
      ]
    },
    {
      "cell_type": "code",
      "source": [
        "# List 원소들의 합 구하기\n",
        "\n",
        "scores = [10, 20, 30]\n",
        "\n",
        "#덧셈/뺄셈일 경우에만 0으로 초기화\n",
        "#곱셉 나눗셈일 경우 1로 설정해주는 것\n",
        "score_sum = 0\n",
        "for score in scores:\n",
        "  score_sum += score\n",
        "print(score_sum)"
      ],
      "metadata": {
        "colab": {
          "base_uri": "https://localhost:8080/"
        },
        "id": "rphrKf3XLC2R",
        "outputId": "3eacc67f-1337-4c90-d319-14c24efaa0b9"
      },
      "execution_count": null,
      "outputs": [
        {
          "output_type": "stream",
          "name": "stdout",
          "text": [
            "60\n"
          ]
        }
      ]
    },
    {
      "cell_type": "code",
      "source": [
        "#literation 횟수 구하기\n",
        "\n",
        "numbers = [1, 4, 5, 6, 4, 2, 1]\n",
        "iter_cnt = 0\n",
        "\n",
        "#for문만 돌리는 목적\n",
        "for _ in numbers:\n",
        "  iter_cnt += 1\n",
        "print(iter_cnt)"
      ],
      "metadata": {
        "colab": {
          "base_uri": "https://localhost:8080/"
        },
        "id": "r9MKYYMOPtYJ",
        "outputId": "19445add-be21-46ab-a907-017292ff5a03"
      },
      "execution_count": null,
      "outputs": [
        {
          "output_type": "stream",
          "name": "stdout",
          "text": [
            "7\n"
          ]
        }
      ]
    },
    {
      "cell_type": "code",
      "source": [
        "#1부터 100까지의 합 구하기\n",
        "\n",
        "num_sum = 0\n",
        "\n",
        "#숫자의 총합 구하기\n",
        "for i in range(101):\n",
        "  #다음 값을 추가해줍니다\n",
        "  num_sum += i\n",
        "print(num_sum)"
      ],
      "metadata": {
        "colab": {
          "base_uri": "https://localhost:8080/"
        },
        "id": "2BDg6MxLQihm",
        "outputId": "5534cd21-b99a-48d4-f21b-0c71fd0746d3"
      },
      "execution_count": null,
      "outputs": [
        {
          "output_type": "stream",
          "name": "stdout",
          "text": [
            "5050\n"
          ]
        }
      ]
    },
    {
      "cell_type": "code",
      "source": [
        "#1부터 100까지의 List 만들기\n",
        "\n",
        "numbers = []\n",
        "for i in range(1, 101):\n",
        "  #반복적으로 index 삽입\n",
        "  numbers.append(i)\n",
        "print(numbers)"
      ],
      "metadata": {
        "colab": {
          "base_uri": "https://localhost:8080/"
        },
        "id": "Y7xCtvyERG6X",
        "outputId": "ac7b2ece-46d5-4462-a5a0-7b6c5f3469de"
      },
      "execution_count": null,
      "outputs": [
        {
          "output_type": "stream",
          "name": "stdout",
          "text": [
            "[1, 2, 3, 4, 5, 6, 7, 8, 9, 10, 11, 12, 13, 14, 15, 16, 17, 18, 19, 20, 21, 22, 23, 24, 25, 26, 27, 28, 29, 30, 31, 32, 33, 34, 35, 36, 37, 38, 39, 40, 41, 42, 43, 44, 45, 46, 47, 48, 49, 50, 51, 52, 53, 54, 55, 56, 57, 58, 59, 60, 61, 62, 63, 64, 65, 66, 67, 68, 69, 70, 71, 72, 73, 74, 75, 76, 77, 78, 79, 80, 81, 82, 83, 84, 85, 86, 87, 88, 89, 90, 91, 92, 93, 94, 95, 96, 97, 98, 99, 100]\n"
          ]
        }
      ]
    },
    {
      "cell_type": "code",
      "source": [
        "#100개의 0을 가진 List\n",
        "numbers = []\n",
        "for i in range(1, 101):\n",
        "  #반복적으로 index 삽입\n",
        "  numbers.append(0)\n",
        "print(numbers)"
      ],
      "metadata": {
        "colab": {
          "base_uri": "https://localhost:8080/"
        },
        "id": "ciiPVOf3RuO6",
        "outputId": "49c21443-82a4-4416-8b9d-2f73971b646e"
      },
      "execution_count": null,
      "outputs": [
        {
          "output_type": "stream",
          "name": "stdout",
          "text": [
            "[0, 0, 0, 0, 0, 0, 0, 0, 0, 0, 0, 0, 0, 0, 0, 0, 0, 0, 0, 0, 0, 0, 0, 0, 0, 0, 0, 0, 0, 0, 0, 0, 0, 0, 0, 0, 0, 0, 0, 0, 0, 0, 0, 0, 0, 0, 0, 0, 0, 0, 0, 0, 0, 0, 0, 0, 0, 0, 0, 0, 0, 0, 0, 0, 0, 0, 0, 0, 0, 0, 0, 0, 0, 0, 0, 0, 0, 0, 0, 0, 0, 0, 0, 0, 0, 0, 0, 0, 0, 0, 0, 0, 0, 0, 0, 0, 0, 0, 0, 0]\n"
          ]
        }
      ]
    },
    {
      "cell_type": "code",
      "source": [
        "#for loop으로 list 원소 접근하기\n",
        "\n",
        "scores = [10, 20, 30]\n",
        "\n",
        "#method1. 간단한 for문 돌리기\n",
        "for score in scores:\n",
        "  print(score)\n",
        "\n",
        "\n",
        "#method2. index for문 돌리는 방법\n",
        "#lengt를 활용한 인자 추출하기\n",
        "for score_idx in range(len(scores)):\n",
        "  print(scores[score_idx])"
      ],
      "metadata": {
        "colab": {
          "base_uri": "https://localhost:8080/"
        },
        "id": "w7sJynajSg9e",
        "outputId": "19d25554-4c70-4aff-e3dc-e189b7df65c8"
      },
      "execution_count": null,
      "outputs": [
        {
          "output_type": "stream",
          "name": "stdout",
          "text": [
            "10\n",
            "20\n",
            "30\n",
            "10\n",
            "20\n",
            "30\n"
          ]
        }
      ]
    },
    {
      "cell_type": "code",
      "source": [
        "#for loop으로 list의 원소 수정하기\n",
        "\n",
        "scores = [10, 20, 30, 40, 50]\n",
        "\n",
        "#반복문을 통해 scores 안의 인자들을 10씩 더해줍니다\n",
        "for score_idx in range (len(scores)):\n",
        "  scores[score_idx] += 10\n",
        "\n",
        "print(scores)\n"
      ],
      "metadata": {
        "colab": {
          "base_uri": "https://localhost:8080/"
        },
        "id": "ntHbJnnzToQt",
        "outputId": "3ca39a46-e876-43ad-a215-c4249d08ff02"
      },
      "execution_count": null,
      "outputs": [
        {
          "output_type": "stream",
          "name": "stdout",
          "text": [
            "[20, 30, 40, 50, 60]\n"
          ]
        }
      ]
    },
    {
      "cell_type": "code",
      "source": [
        "#두 개의 list에 접근하기\n",
        "\n",
        "list1= [10, 20, 30]\n",
        "list2 = [100, 200, 300]\n",
        "\n",
        "#리스트의 길이가 같으므로 아무거나 선택해줘도 됩니다\n",
        "for idx in range (len(list1)):\n",
        "  print(list1[idx],list2[idx] )"
      ],
      "metadata": {
        "colab": {
          "base_uri": "https://localhost:8080/"
        },
        "id": "OU2BMAFoUQb5",
        "outputId": "00acb598-29f0-43ce-fe13-ed702a702a08"
      },
      "execution_count": null,
      "outputs": [
        {
          "output_type": "stream",
          "name": "stdout",
          "text": [
            "10 100\n",
            "20 200\n",
            "30 300\n"
          ]
        }
      ]
    },
    {
      "cell_type": "code",
      "source": [
        "#수학점수들의 평균 구하기\n",
        "\n",
        "scores = [10, 20, 30]\n",
        "\n",
        "\n",
        "#method 1.\n",
        "score_sum = 0\n",
        "n_student = 0\n",
        "for i in scores:\n",
        "  score_sum += score_sum\n",
        "  n_student += 1\n",
        "score_mean = score_sum / n_student\n",
        "print(\"score mean: \", score_mean)\n",
        "\n",
        "\n",
        "#method 1.\n",
        "score_sum = 0\n",
        "for score_idx in range (len(scores)):\n",
        "  score_sum += scores[score_idx]\n",
        "score_mean = score_sum / len(scores)\n",
        "print(score_mean)\n",
        "\n",
        "\n"
      ],
      "metadata": {
        "colab": {
          "base_uri": "https://localhost:8080/"
        },
        "id": "bzKAm-kBU4rA",
        "outputId": "8e1460a1-540e-476f-a04f-d4916e38ec5a"
      },
      "execution_count": null,
      "outputs": [
        {
          "output_type": "stream",
          "name": "stdout",
          "text": [
            "score mean:  0.0\n",
            "20.0\n"
          ]
        }
      ]
    },
    {
      "cell_type": "code",
      "source": [
        "#Mean Subtraction(3)\n",
        "scores = [10, 20, 30]\n",
        "\n",
        "#method1 / Exercise.수학 점수들의 평균 구하기\n",
        "scores_ms = list()\n",
        "for score in scores:\n",
        "  scores_ms.append(score - score_mean)\n",
        "print(scores_ms)\n",
        "\n",
        "#method2 / Exercise.0 - 45: 수학 점수들의 평균 구하기\n",
        "for score_idx in range(len(scores)):\n",
        "  scores[score_idx] -= score_mean\n",
        "print(scores)"
      ],
      "metadata": {
        "colab": {
          "base_uri": "https://localhost:8080/"
        },
        "id": "Vkbdb7aWWbDM",
        "outputId": "4c40df47-8b33-4d63-8135-534710aabb8f"
      },
      "execution_count": null,
      "outputs": [
        {
          "output_type": "stream",
          "name": "stdout",
          "text": [
            "[-10.0, 0.0, 10.0]\n",
            "[-10.0, 0.0, 10.0]\n"
          ]
        }
      ]
    },
    {
      "cell_type": "code",
      "source": [
        "#두 과목의 평균 구하기\n",
        "\n",
        "math_scores = [40, 60, 80]\n",
        "english_scores = [30, 40, 50]\n",
        "\n",
        "n_class = 2\n",
        "n_sutdent = len(math_scores)\n",
        "\n",
        "score_sums = []\n",
        "score_means = []\n",
        "\n",
        "for _ in range(n_class):\n",
        "  score_sums.apnned()\n",
        "\n",
        "for score_idx in range (n_student):\n",
        "  score_sums[0] += math_scores[score_idx]\n",
        "  score_sums[1] += english_scores[score_idx]\n",
        "\n"
      ],
      "metadata": {
        "id": "-IkePCl2Y2bA"
      },
      "execution_count": null,
      "outputs": []
    }
  ]
}