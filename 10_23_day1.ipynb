{
  "nbformat": 4,
  "nbformat_minor": 0,
  "metadata": {
    "colab": {
      "provenance": [],
      "authorship_tag": "ABX9TyPBkRveWRM03sjmZ27CdJQC",
      "include_colab_link": true
    },
    "kernelspec": {
      "name": "python3",
      "display_name": "Python 3"
    },
    "language_info": {
      "name": "python"
    }
  },
  "cells": [
    {
      "cell_type": "markdown",
      "metadata": {
        "id": "view-in-github",
        "colab_type": "text"
      },
      "source": [
        "<a href=\"https://colab.research.google.com/github/Leetora41053/sesac_practice/blob/main/10_23_day1.ipynb\" target=\"_parent\"><img src=\"https://colab.research.google.com/assets/colab-badge.svg\" alt=\"Open In Colab\"/></a>"
      ]
    },
    {
      "cell_type": "markdown",
      "source": [
        "1. print()로 data 출력하기\n",
        "\n",
        "사용자에게 data값을 알려주는 print() 함수의 기본적인 사용법을 배웁니다"
      ],
      "metadata": {
        "id": "EWgmrF3pNZVV"
      }
    },
    {
      "cell_type": "code",
      "execution_count": null,
      "metadata": {
        "colab": {
          "base_uri": "https://localhost:8080/"
        },
        "id": "GCkqmZdtM5H3",
        "outputId": "c750b435-5135-41a5-d046-82927c6a6293"
      },
      "outputs": [
        {
          "output_type": "stream",
          "name": "stdout",
          "text": [
            "Hello World!\n",
            "Name:  JB\n",
            "Age:  100\n",
            "Grade;  4.5\n"
          ]
        }
      ],
      "source": [
        "print(\"Hello World!\")\n",
        "print(\"Name: \", \"JB\")\n",
        "print(\"Age: \", 100)\n",
        "print(\"Grade; \", 4.5)"
      ]
    },
    {
      "cell_type": "markdown",
      "source": [
        "2. int, float, str 변수 할당하고 출력하기\n",
        "\n",
        "다양한 data type의 data를 variable에 할당하는 방법을 배웁니다."
      ],
      "metadata": {
        "id": "LNSkHiQANw_R"
      }
    },
    {
      "cell_type": "code",
      "source": [
        "name = \"JB\"\n",
        "math_score = 80\n",
        "height = 176.6\n",
        "\n",
        "print(\"name\", name)\n",
        "print(\"math_score\", math_score)\n",
        "print(\"height\", height)"
      ],
      "metadata": {
        "colab": {
          "base_uri": "https://localhost:8080/"
        },
        "id": "AJ3dxdflN-aR",
        "outputId": "7cf1f89b-dda5-4822-8b89-dc0206a8f837"
      },
      "execution_count": null,
      "outputs": [
        {
          "output_type": "stream",
          "name": "stdout",
          "text": [
            "name JB\n",
            "math_score 80\n",
            "height 176.6\n"
          ]
        }
      ]
    },
    {
      "cell_type": "markdown",
      "source": [
        "3. Python에서 제공하는 연산자들을 사용하는 방법을 배웁니다."
      ],
      "metadata": {
        "id": "n6LLY6kNOdcc"
      }
    },
    {
      "cell_type": "code",
      "source": [
        "int1 = 4\n",
        "int2 = 2\n",
        "\n",
        "print(int1 + int2)\n",
        "print(int1 - int2)\n",
        "print(int1 * int2)\n",
        "print(int1 / int2)\n",
        "print(int1 // int2)\n",
        "print(int1 % int2)\n",
        "print(int1 ** int2)"
      ],
      "metadata": {
        "colab": {
          "base_uri": "https://localhost:8080/"
        },
        "id": "aptHO9zPOcXH",
        "outputId": "e16f1252-657b-4b16-d1d4-513e3b56f1e9"
      },
      "execution_count": null,
      "outputs": [
        {
          "output_type": "stream",
          "name": "stdout",
          "text": [
            "6\n",
            "2\n",
            "8\n",
            "2.0\n",
            "2\n",
            "0\n",
            "16\n"
          ]
        }
      ]
    },
    {
      "cell_type": "markdown",
      "source": [
        "4. 변수를 동시에 할당하는 방법을 배우고,\n",
        "연산의 결과를 변수에 할당하는 방법을 배웁니다."
      ],
      "metadata": {
        "id": "14AT1YYXO6ae"
      }
    },
    {
      "cell_type": "code",
      "source": [
        "int1, int2 = 4, 2\n",
        "\n",
        "add, sub = int1 + int2, int1 - int2\n",
        "mul, div = int1 * int2, int1 / int2\n",
        "quo, rem = int1 // int2, int1%int2\n",
        "pow = int1 ** int2\n",
        "\n",
        "#몫: quotient\n",
        "#나머지: remainder\n",
        "#제곱: 2 to the power of 3 = 2**3\n",
        "\n",
        "print(add, sub, mul, div, quo, rem, pow)"
      ],
      "metadata": {
        "colab": {
          "base_uri": "https://localhost:8080/"
        },
        "id": "GB3oBeUOO8Of",
        "outputId": "9a8abc5c-5381-41f7-fd17-210dd19aa1dd"
      },
      "execution_count": null,
      "outputs": [
        {
          "output_type": "stream",
          "name": "stdout",
          "text": [
            "6 2 8 2.0 2 0 16\n"
          ]
        }
      ]
    },
    {
      "cell_type": "markdown",
      "source": [
        "5. 홀수 짝수 구하기:\n",
        "n의 배수인 수들의 특징을 % 연산자를 통해 확인합니다."
      ],
      "metadata": {
        "id": "WTa9gHVwPrDa"
      }
    },
    {
      "cell_type": "code",
      "source": [
        "int1, int2, int3, int4 = 1, 2, 3, 4\n",
        "\n",
        "div = 2\n",
        "\n",
        "rem1, rem2, rem3, rem4 = int1//div, int2//div, int3//div, int4//div\n",
        "\n",
        "print(rem1, rem2, rem3, rem4)"
      ],
      "metadata": {
        "colab": {
          "base_uri": "https://localhost:8080/"
        },
        "id": "Ip6brI2yPq26",
        "outputId": "8da13aec-f653-4252-8869-562557eb18c1"
      },
      "execution_count": null,
      "outputs": [
        {
          "output_type": "stream",
          "name": "stdout",
          "text": [
            "0.5 1.0 1.5 2.0\n"
          ]
        }
      ]
    },
    {
      "cell_type": "markdown",
      "source": [
        "6.자기 자신에 연산하기: 복합대입연산자 사용법의 필요성과 사용방법에 대해 배웁니다.\n",
        "\n",
        "print에서 복합대입연산자를 사용할 순 없음"
      ],
      "metadata": {
        "id": "jwL4Rn9KSxKa"
      }
    },
    {
      "cell_type": "code",
      "source": [
        "score = 10\n",
        "\n",
        "score += 10\n",
        "print(score)\n",
        "score -= 2\n",
        "print(score)\n",
        "score *= 5\n",
        "print(score)\n",
        "score /= 5\n",
        "print(score)\n",
        "score **= 2\n",
        "print(score)"
      ],
      "metadata": {
        "colab": {
          "base_uri": "https://localhost:8080/"
        },
        "id": "fhMNRQnhPJE_",
        "outputId": "5183cb61-e305-4a40-86e3-84529c45bf50"
      },
      "execution_count": null,
      "outputs": [
        {
          "output_type": "stream",
          "name": "stdout",
          "text": [
            "20\n",
            "18\n",
            "90\n",
            "18.0\n",
            "324.0\n"
          ]
        }
      ]
    },
    {
      "cell_type": "markdown",
      "source": [
        "8.수학점수의 평균 구하기: 수학식을 코드로 만드는 연습을 해봅시다"
      ],
      "metadata": {
        "id": "hq0cxnhfTi8x"
      }
    },
    {
      "cell_type": "code",
      "source": [
        "score1 = 10\n",
        "score2 = 20\n",
        "score3 = 30\n",
        "n_student = 3\n",
        "\n",
        "\n",
        "score_mean = (score1 + score2 + score3)/n_student\n",
        "\n",
        "print(score_mean)"
      ],
      "metadata": {
        "colab": {
          "base_uri": "https://localhost:8080/"
        },
        "id": "IFyioTIWTs7X",
        "outputId": "86ac7a83-4edd-422c-ed76-ed61e4bfc628"
      },
      "execution_count": null,
      "outputs": [
        {
          "output_type": "stream",
          "name": "stdout",
          "text": [
            "20.0\n"
          ]
        }
      ]
    },
    {
      "cell_type": "markdown",
      "source": [
        "9. 추가점수를 받은 학생들의 평균:\n",
        "</br>\n",
        "복합 대입 연산자를 이용해 학생들의 점수를 수정하고, 평균을 다시 구해봅니다. 이를 통해 모든 data가 같은 값으로 변했을 때 평균이 어떻게 바뀌는지 확인\n",
        "</br>\n"
      ],
      "metadata": {
        "id": "9AcHMIMoTnEm"
      }
    },
    {
      "cell_type": "code",
      "source": [
        "score1 = 10\n",
        "score2 = 20\n",
        "score3 = 30\n",
        "n_student = 3\n",
        "\n",
        "\n",
        "score1 += 10\n",
        "score2 += 10\n",
        "score3 += 10\n",
        "print(score1, score2, score3)\n",
        "\n",
        "score_mean = (score1 + score2 + score3)/n_student\n",
        "\n",
        "print(score_mean)"
      ],
      "metadata": {
        "colab": {
          "base_uri": "https://localhost:8080/"
        },
        "id": "sMbdZetyUL-e",
        "outputId": "7ed453bd-5794-47a9-8982-ee63ddcc893c"
      },
      "execution_count": null,
      "outputs": [
        {
          "output_type": "stream",
          "name": "stdout",
          "text": [
            "20 30 40\n",
            "30.0\n"
          ]
        }
      ]
    },
    {
      "cell_type": "markdown",
      "source": [
        "10.Mean Subtraction"
      ],
      "metadata": {
        "id": "VDhvJi4VULd7"
      }
    },
    {
      "cell_type": "code",
      "source": [
        "score1 = 10\n",
        "score2 = 20\n",
        "score3 = 30\n",
        "n_student = 3\n",
        "\n",
        "\n",
        "score_mean = (score1 + score2 + score3)/n_student\n",
        "\n",
        "score1 -= score_mean\n",
        "score2 -= score_mean\n",
        "score3 -= score_mean\n",
        "\n",
        "print(score1, score2, score3)\n",
        "score_mean = (score1 + score2 + score3)/n_student\n",
        "print(score_mean)"
      ],
      "metadata": {
        "colab": {
          "base_uri": "https://localhost:8080/"
        },
        "id": "Wm-5ZgaXU068",
        "outputId": "bb48af2e-e847-41ee-999b-79738694b2f6"
      },
      "execution_count": null,
      "outputs": [
        {
          "output_type": "stream",
          "name": "stdout",
          "text": [
            "-10.0 0.0 10.0\n",
            "0.0\n"
          ]
        }
      ]
    },
    {
      "cell_type": "markdown",
      "source": [
        "11. 평균의 제곱과 제곱의 평균\n",
        "\n",
        "variance = μ**2 - ν"
      ],
      "metadata": {
        "id": "aJcp6KWvVVio"
      }
    },
    {
      "cell_type": "code",
      "source": [
        "score1 = 10\n",
        "score2 = 20\n",
        "score3 = 30\n",
        "n_student = 3\n",
        "\n",
        "\n",
        "score_mean = (score1 + score2 + score3)/n_student\n",
        "\n",
        "\n",
        "square_of_mean = score_mean**2\n",
        "mean_of_square = (score1**2 + score2**2 + score3**2)/n_student\n",
        "\n",
        "print(\"squar of mean: \",square_of_mean)\n",
        "print(\"mean of square: \",mean_of_square)"
      ],
      "metadata": {
        "colab": {
          "base_uri": "https://localhost:8080/"
        },
        "id": "DVMPqumpVVUy",
        "outputId": "63cd6a6b-c692-475c-c0c2-cbc8f5a051aa"
      },
      "execution_count": null,
      "outputs": [
        {
          "output_type": "stream",
          "name": "stdout",
          "text": [
            "squar of mean:  400.0\n",
            "mean of square:  466.6666666666667\n"
          ]
        }
      ]
    },
    {
      "cell_type": "markdown",
      "source": [
        "12. 분산과 표준편차</br>\n",
        "수학식(분산과 표준편차)을 코드로 만드는 연습을 해봅니다."
      ],
      "metadata": {
        "id": "T6a8Dy1HWA-c"
      }
    },
    {
      "cell_type": "code",
      "source": [
        "score1 = 10\n",
        "score2 = 20\n",
        "score3 = 30\n",
        "n_student = 3\n",
        "\n",
        "score_mean = (score1 + score2 + score3)/n_student\n",
        "\n",
        "square_of_mean = score_mean**2\n",
        "mean_of_square = (score1**2 + score2**2 + score3**2)/n_student\n",
        "\n",
        "variance = mean_of_square - square_of_mean\n",
        "standard_deviation = variance**0.5\n",
        "\n",
        "print(\"variance: \",variance)\n",
        "print(\"standard deviation: \", standard_deviation)"
      ],
      "metadata": {
        "colab": {
          "base_uri": "https://localhost:8080/"
        },
        "id": "v3b_5g__VJye",
        "outputId": "897e69b7-6d5a-4d89-d1fe-3599214edccb"
      },
      "execution_count": null,
      "outputs": [
        {
          "output_type": "stream",
          "name": "stdout",
          "text": [
            "variance:  66.66666666666669\n",
            "standard deviation:  8.16496580927726\n"
          ]
        }
      ]
    },
    {
      "cell_type": "markdown",
      "source": [
        "13: Standardization</br>\n",
        "분산과 표준편차를 이용하여,\n",
        "수학식(standardization)을 코드로 만드는 연습을 해봅니다.\n",
        "\n",
        "(x− μ)/σ\n",
        "\n",
        "표준정규분포: 평균 0 표준편차 1"
      ],
      "metadata": {
        "id": "C9vqwV9LWrR4"
      }
    },
    {
      "cell_type": "code",
      "source": [
        "score1 = 10\n",
        "score2 = 20\n",
        "score3 = 30\n",
        "n_student = 3\n",
        "\n",
        "score_mean = (score1 + score2 + score3)/n_student\n",
        "\n",
        "square_of_mean = score_mean**2\n",
        "mean_of_square = (score1**2 + score2**2 + score3**2)/n_student\n",
        "\n",
        "variance = mean_of_square - square_of_mean\n",
        "standard_deviation = variance**0.5\n",
        "\n",
        "score1 = (score1 - score_mean) / standard_deviation\n",
        "score2 = (score2 - score_mean) / standard_deviation\n",
        "score3 = (score3 - score_mean) / standard_deviation\n",
        "\n",
        "score_mean = (score1 + score2 + score3)/n_student\n",
        "print(\"mean: \",score_mean)\n",
        "\n",
        "square_of_mean = score_mean**2\n",
        "mean_of_square = (score1**2 + score2**2 + score3**2)/n_student\n",
        "\n",
        "variance = mean_of_square - square_of_mean\n",
        "standard_deviation = variance**0.5\n",
        "\n",
        "print(\"standard deviation: \",standard_deviation)"
      ],
      "metadata": {
        "colab": {
          "base_uri": "https://localhost:8080/"
        },
        "id": "P-c2-w0UWwAy",
        "outputId": "07ec6f6c-a6fd-411a-e4e7-f3b002b84683"
      },
      "execution_count": null,
      "outputs": [
        {
          "output_type": "stream",
          "name": "stdout",
          "text": [
            "mean:  0.0\n",
            "standard deviation:  1.0\n"
          ]
        }
      ]
    },
    {
      "cell_type": "markdown",
      "source": [
        "14.Vector-Vector Operations</br>\n",
        "벡터 간의 operation을 코드로 작성해봅시다."
      ],
      "metadata": {
        "id": "18giGKV1ZGRB"
      }
    },
    {
      "cell_type": "code",
      "source": [
        "x1, y1, z1 = 1, 2, 3\n",
        "x2, y2, z2 = 3, 4, 5\n",
        "\n",
        "x3, y3, z3 = x1 + x2, y1 + y2, z1 + z2\n",
        "x4, y4, z4 = x1 - x2, y1 - y2, z1 - z2\n",
        "#Hadamard Product\n",
        "x5, y5, z5 = x1 * x2, y1 * y2, z1 * z2\n",
        "\n",
        "print(x3, y3, z3)\n",
        "print(x4, y4, z4)\n",
        "print(x5, y5, z5)"
      ],
      "metadata": {
        "colab": {
          "base_uri": "https://localhost:8080/"
        },
        "id": "aBmANp4bWv-L",
        "outputId": "99883076-5e99-49ae-c86e-8f904325b99f"
      },
      "execution_count": null,
      "outputs": [
        {
          "output_type": "stream",
          "name": "stdout",
          "text": [
            "4 6 8\n",
            "-2 -2 -2\n",
            "3 8 15\n"
          ]
        }
      ]
    },
    {
      "cell_type": "markdown",
      "source": [
        "15. Scalar-Vector Operations</br>\n",
        "scalar-vector operation을 코드로 만드는 연습"
      ],
      "metadata": {
        "id": "cONQeAuXZxpx"
      }
    },
    {
      "cell_type": "code",
      "source": [
        "a = 10\n",
        "x1, y1, z1 = 1, 2, 3\n",
        "\n",
        "x2, y2, z2 = a * x1, a * y1, a * z1\n",
        "x3, y3, z3 = a + x1, a + y1, a + z1\n",
        "x4, y4, z4 = a - x1, a - y1, a - z1\n",
        "\n",
        "print(x2, y2, z2)\n",
        "print(x3, y3, z3)\n",
        "print(x4, y4, z4)"
      ],
      "metadata": {
        "colab": {
          "base_uri": "https://localhost:8080/"
        },
        "id": "3OKTPx-bWruz",
        "outputId": "f7250a5f-710b-4c1d-e054-387c910a1cdf"
      },
      "execution_count": null,
      "outputs": [
        {
          "output_type": "stream",
          "name": "stdout",
          "text": [
            "10 20 30\n",
            "11 12 13\n",
            "9 8 7\n"
          ]
        }
      ]
    },
    {
      "cell_type": "markdown",
      "source": [
        "16. vector norm:vector norm을 코드로 만드는 연습을 해봅니다.\n",
        "\n"
      ],
      "metadata": {
        "id": "q8D7__TMZ1iP"
      }
    },
    {
      "cell_type": "code",
      "source": [
        "x, y, z = 1, 2, 3\n",
        "\n",
        "norm = (x**2 + y**2 + z**2)**0.5\n",
        "print(norm)"
      ],
      "metadata": {
        "colab": {
          "base_uri": "https://localhost:8080/"
        },
        "id": "GLQeWwyqmlNV",
        "outputId": "7c669b16-2982-480d-dce2-79a32df83822"
      },
      "execution_count": null,
      "outputs": [
        {
          "output_type": "stream",
          "name": "stdout",
          "text": [
            "3.7416573867739413\n"
          ]
        }
      ]
    }
  ]
}