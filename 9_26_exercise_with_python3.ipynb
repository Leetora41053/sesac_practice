{
  "nbformat": 4,
  "nbformat_minor": 0,
  "metadata": {
    "colab": {
      "provenance": [],
      "authorship_tag": "ABX9TyM3O4TQRFaWR22No/gmbQvX",
      "include_colab_link": true
    },
    "kernelspec": {
      "name": "python3",
      "display_name": "Python 3"
    },
    "language_info": {
      "name": "python"
    }
  },
  "cells": [
    {
      "cell_type": "markdown",
      "metadata": {
        "id": "view-in-github",
        "colab_type": "text"
      },
      "source": [
        "<a href=\"https://colab.research.google.com/github/Leetora41053/sesac_practice/blob/main/9_26_exercise_with_python3.ipynb\" target=\"_parent\"><img src=\"https://colab.research.google.com/assets/colab-badge.svg\" alt=\"Open In Colab\"/></a>"
      ]
    },
    {
      "cell_type": "code",
      "execution_count": null,
      "metadata": {
        "id": "uIqPbGH6_AFx"
      },
      "outputs": [],
      "source": [
        "\n",
        "\n",
        "#94. 과목별 최고점, 최우수 학생 구하기\n",
        "#최댓값, 최댓값의 위치를 구하는 방법을 확장하여\n",
        "#3과목의 성적을 가진 matrix에서 과목별 최고점, 최우수 학생을 구하는 방법에 대해 배워봅니다.\n",
        "\n",
        "#Tip #76 #73 참조\n",
        "\n",
        "  #예상 출력값: Max scores: 70, 80, 60 / Max score indicates 2, 3, 1\n",
        "\n",
        "#1. 과목별 스코어를 뽑기\n",
        "#2. 가장 높은 값을 출력하기\n",
        "#3. 출력한 가장 높은 값을 Max score 벡터에 집어넣기\n",
        "#4. 최대값의 클래스 위치를 알려주기\n",
        "\n",
        "scores = [\n",
        "    [10, 40, 20],\n",
        "    [50, 20, 60],\n",
        "    [70, 40, 30],\n",
        "    [30, 80, 40]\n",
        "]\n",
        "\n",
        "# 클래스별 최고점과 최우수 학생을 저장할 리스트 초기화\n",
        "max_scores = [0] * len(scores[0])\n",
        "max_students = [0] * len(scores[0])\n",
        "\n",
        "# 각 과목에 대해 최고점과 최우수 학생 찾기\n",
        "for i in range(len(scores)):\n",
        "    for j in range(len(scores[i])):\n",
        "        if scores[i][j] > max_scores[j]:\n",
        "            max_scores[j] = scores[i][j]\n",
        "            max_students[j] = i\n",
        "\n",
        "# 결과 출력\n",
        "print(f\"Max scores: {', '.join(map(str, max_scores))}\")\n",
        "print(f\"Max score indicates: {', '.join(map(str, max_students))}\")\n",
        "\n",
        "\n",
        "\n",
        "\n",
        "\n",
        "\n"
      ]
    }
  ]
}