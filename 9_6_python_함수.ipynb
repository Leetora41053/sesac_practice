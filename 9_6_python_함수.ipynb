{
  "nbformat": 4,
  "nbformat_minor": 0,
  "metadata": {
    "colab": {
      "provenance": [],
      "authorship_tag": "ABX9TyMyuReSmoMUe5D4NMwHjgsv",
      "include_colab_link": true
    },
    "kernelspec": {
      "name": "python3",
      "display_name": "Python 3"
    },
    "language_info": {
      "name": "python"
    }
  },
  "cells": [
    {
      "cell_type": "markdown",
      "metadata": {
        "id": "view-in-github",
        "colab_type": "text"
      },
      "source": [
        "<a href=\"https://colab.research.google.com/github/Leetora41053/sessac_python/blob/main/9_6_python_%ED%95%A8%EC%88%98.ipynb\" target=\"_parent\"><img src=\"https://colab.research.google.com/assets/colab-badge.svg\" alt=\"Open In Colab\"/></a>"
      ]
    },
    {
      "cell_type": "markdown",
      "source": [
        "#함수\n"
      ],
      "metadata": {
        "id": "_VnmEfxBRNML"
      }
    },
    {
      "cell_type": "code",
      "execution_count": null,
      "metadata": {
        "id": "LAZFta-SRJ4i"
      },
      "outputs": [],
      "source": [
        "def sum(num1, num2):\n",
        "  result = num1 + num2\n",
        "  return result\n"
      ]
    },
    {
      "cell_type": "code",
      "source": [
        "sum(3,4)"
      ],
      "metadata": {
        "colab": {
          "base_uri": "https://localhost:8080/"
        },
        "id": "mTwsLzEtSWyp",
        "outputId": "5adbc135-bb2a-4735-b72a-3e0f0df349e3"
      },
      "execution_count": null,
      "outputs": [
        {
          "output_type": "execute_result",
          "data": {
            "text/plain": [
              "7"
            ]
          },
          "metadata": {},
          "execution_count": 8
        }
      ]
    },
    {
      "cell_type": "code",
      "source": [
        "sum(3,4)\n",
        "sum(num1 = 3, num2 = 4)\n",
        "#기본적으로 순서가 들어가 있음\n",
        "#파라미터를 명시한다면 순서가 지켜지지 않아도 된다"
      ],
      "metadata": {
        "colab": {
          "base_uri": "https://localhost:8080/"
        },
        "id": "vuRE5CwnR02t",
        "outputId": "094689e5-6420-498e-c3ff-d59bffb7f0cf"
      },
      "execution_count": null,
      "outputs": [
        {
          "output_type": "execute_result",
          "data": {
            "text/plain": [
              "7"
            ]
          },
          "metadata": {},
          "execution_count": 9
        }
      ]
    },
    {
      "cell_type": "code",
      "source": [
        "def say_myself(name, old, man = True):\n",
        "\tprint(f'나의 이름은 {name}입니다')\n",
        "\tprint(f'나의 나이는 {old}입니다')\n",
        "\tif man:\n",
        "\t\tprint('남자입니다')\n",
        "\telse:\n",
        "\t\tprint('여자입니다')\n",
        "\n",
        "say_myself('서준범',26) #아래 구문과 동일\n",
        "say_myself('서준범',26,True)\n",
        "say_myself('서이준',27,False)\n",
        "say_myself(old = '10', name = '뽀로로')"
      ],
      "metadata": {
        "id": "0ET8fuAaVM8e"
      },
      "execution_count": null,
      "outputs": []
    },
    {
      "cell_type": "code",
      "source": [],
      "metadata": {
        "id": "yfj90WIRxYqn"
      },
      "execution_count": null,
      "outputs": []
    },
    {
      "cell_type": "markdown",
      "source": [
        "### 전역변수 vs. 지역변수\n",
        "\n",
        "- 전역변수: 함수 외부에서 선언된 변수, 프로그램 전체에서 사용 가능\n",
        "- 지역변수: 함수 내부에서 선언된 변수, 해당 함수 내부에서만 사용 가능"
      ],
      "metadata": {
        "id": "eT5-st61X3eG"
      }
    },
    {
      "cell_type": "code",
      "source": [
        "def test():\n",
        "  local_var = 20\n",
        "test()\n",
        "----\n",
        "print(local_var)-> error\n"
      ],
      "metadata": {
        "id": "gbziNaTyX5n0"
      },
      "execution_count": null,
      "outputs": []
    },
    {
      "cell_type": "code",
      "source": [
        "def test():\n",
        "  local_var = 20\n",
        "test()\n",
        "----\n",
        "print(local_var)-> error"
      ],
      "metadata": {
        "id": "UX8VZ-SgZXwX"
      },
      "execution_count": null,
      "outputs": []
    },
    {
      "cell_type": "code",
      "source": [
        "def test3():\n",
        "\tglobal local_var = 20\n",
        "\tlocal_var = 20\n",
        "test3()\n",
        "----\n",
        "print(local_var)-> 20"
      ],
      "metadata": {
        "id": "JMVHlBqkZcPV"
      },
      "execution_count": null,
      "outputs": []
    },
    {
      "cell_type": "code",
      "source": [
        "print(local_var)"
      ],
      "metadata": {
        "id": "DfeAi7x7YIfc"
      },
      "execution_count": null,
      "outputs": []
    },
    {
      "cell_type": "markdown",
      "source": [
        "#### Example 2-9. 입력하는 모든 수의 평균을 계산하는 함수 만들기\n",
        "* 입력 개수에 상관없이 사용하기 위해, 함수 입력 값 자리에, *args를 사용"
      ],
      "metadata": {
        "id": "ttBTsN17cag0"
      }
    },
    {
      "cell_type": "code",
      "source": [
        "def means(*args):\n",
        "\tsum1 = 0\n",
        "\tcount1 = 0\n",
        "\tfor i in args:\n",
        "\t\tsum1 = sum1 + i\n",
        "\t\tcount1 += 1\n",
        "\tresult = sum1/count1\n",
        "\treturn result\n",
        "\n",
        "print(means(1,2,3))"
      ],
      "metadata": {
        "colab": {
          "base_uri": "https://localhost:8080/"
        },
        "id": "QJQlnYW6fN1S",
        "outputId": "a7e81c1e-06c9-4f75-c3da-6abb4ae0231d"
      },
      "execution_count": null,
      "outputs": [
        {
          "output_type": "stream",
          "name": "stdout",
          "text": [
            "2.0\n"
          ]
        }
      ]
    },
    {
      "cell_type": "code",
      "source": [
        "def cal(num1, num2):\n",
        "\tplus = num1 + num2\n",
        "\tminus= num1 - num2\n",
        "\tmultiple = num1 * num2\n",
        "\tdivide = num1 / num2\n",
        "\treturn plus,minus,multiple,divide\n",
        "\n",
        "cal(1,2)"
      ],
      "metadata": {
        "colab": {
          "base_uri": "https://localhost:8080/"
        },
        "id": "SMd4DA7qceIF",
        "outputId": "d3316614-9e8c-4506-c325-9dddb9f831f9"
      },
      "execution_count": null,
      "outputs": [
        {
          "output_type": "execute_result",
          "data": {
            "text/plain": [
              "(3, -1, 2, 0.5)"
            ]
          },
          "metadata": {},
          "execution_count": 13
        }
      ]
    },
    {
      "cell_type": "code",
      "source": [
        "def cal(num1, num2):\n",
        "\tnum1 = int(input('첫번째 숫자를 입력해주세요.'))\n",
        "  num2 = int(input('두번째 숫자를 입력해주세요.'))\n",
        "\n",
        "cal(1,2)"
      ],
      "metadata": {
        "id": "WFYeET0Nhhtc"
      },
      "execution_count": null,
      "outputs": []
    },
    {
      "cell_type": "code",
      "source": [],
      "metadata": {
        "id": "xi6dh1LmfJ41"
      },
      "execution_count": null,
      "outputs": []
    },
    {
      "cell_type": "markdown",
      "source": [
        "# 클래스\n"
      ],
      "metadata": {
        "id": "9dqmZ6Ve6_cl"
      }
    },
    {
      "cell_type": "code",
      "source": [
        "class FourCal:\n",
        "  pass\n",
        "a= Fourcal(1)\n",
        "type(a)\n",
        "<class '__main__.FourCal'>"
      ],
      "metadata": {
        "id": "jtRTY-vj7BGC"
      },
      "execution_count": null,
      "outputs": []
    },
    {
      "cell_type": "markdown",
      "source": [
        "인스턴스 생성을 통한"
      ],
      "metadata": {
        "id": "u503b4V99kqk"
      }
    },
    {
      "cell_type": "code",
      "source": [
        "class FourCal:\n",
        "  def set_data(self, num1, num2)\n",
        "\t\tself.num1 = num1\n",
        "\t\tself.num2 = num2\n",
        "\tdef add(self):\n",
        "\t\treturn self.num1 + self.num2\n",
        "a = FoulCal() # -> a라는 인스턴스 클래스를 사용\n",
        "a.set_data(10,20)\n",
        "print(a.num1, a.num2)\n",
        "print(a.add())"
      ],
      "metadata": {
        "id": "EvozkybS9r-1"
      },
      "execution_count": null,
      "outputs": []
    },
    {
      "cell_type": "code",
      "source": [
        "#FourCal 클래스 생성 / 생성자 이용 / 사칙연산 계산\n",
        "\n",
        "\n",
        "class FourCal:\n",
        "  def __init__(self, num1, num2):\n",
        "    self.num1 = num1\n",
        "    self.num2 = num2\n",
        "  def add(self):\n",
        "    return self.num1 + self.num2\n",
        "  def abs(self):\n",
        "    return self.num1 - self.num2\n",
        "  def mul(self):\n",
        "    return self.num1 * self.num2\n",
        "  def div(self):\n",
        "    return self.num1 / self.num2\n",
        "\n",
        "  a = FourCal(2, 3)\n",
        "  print(a.add())"
      ],
      "metadata": {
        "id": "yDY_9NL79kzq",
        "colab": {
          "base_uri": "https://localhost:8080/",
          "height": 358
        },
        "outputId": "e7887964-10d7-4c3f-a9e0-1816558107bc"
      },
      "execution_count": 5,
      "outputs": [
        {
          "output_type": "error",
          "ename": "NameError",
          "evalue": "ignored",
          "traceback": [
            "\u001b[0;31m---------------------------------------------------------------------------\u001b[0m",
            "\u001b[0;31mNameError\u001b[0m                                 Traceback (most recent call last)",
            "\u001b[0;32m<ipython-input-5-3ccad60459fb>\u001b[0m in \u001b[0;36m<cell line: 4>\u001b[0;34m()\u001b[0m\n\u001b[1;32m      2\u001b[0m \u001b[0;34m\u001b[0m\u001b[0m\n\u001b[1;32m      3\u001b[0m \u001b[0;34m\u001b[0m\u001b[0m\n\u001b[0;32m----> 4\u001b[0;31m \u001b[0;32mclass\u001b[0m \u001b[0mFourCal\u001b[0m\u001b[0;34m:\u001b[0m\u001b[0;34m\u001b[0m\u001b[0;34m\u001b[0m\u001b[0m\n\u001b[0m\u001b[1;32m      5\u001b[0m   \u001b[0;32mdef\u001b[0m \u001b[0m__init__\u001b[0m\u001b[0;34m(\u001b[0m\u001b[0mself\u001b[0m\u001b[0;34m,\u001b[0m \u001b[0mnum1\u001b[0m\u001b[0;34m,\u001b[0m \u001b[0mnum2\u001b[0m\u001b[0;34m)\u001b[0m\u001b[0;34m:\u001b[0m\u001b[0;34m\u001b[0m\u001b[0;34m\u001b[0m\u001b[0m\n\u001b[1;32m      6\u001b[0m     \u001b[0mself\u001b[0m\u001b[0;34m.\u001b[0m\u001b[0mnum1\u001b[0m \u001b[0;34m=\u001b[0m \u001b[0mnum1\u001b[0m\u001b[0;34m\u001b[0m\u001b[0;34m\u001b[0m\u001b[0m\n",
            "\u001b[0;32m<ipython-input-5-3ccad60459fb>\u001b[0m in \u001b[0;36mFourCal\u001b[0;34m()\u001b[0m\n\u001b[1;32m     15\u001b[0m     \u001b[0;32mreturn\u001b[0m \u001b[0mself\u001b[0m\u001b[0;34m.\u001b[0m\u001b[0mnum1\u001b[0m \u001b[0;34m/\u001b[0m \u001b[0mself\u001b[0m\u001b[0;34m.\u001b[0m\u001b[0mnum2\u001b[0m\u001b[0;34m\u001b[0m\u001b[0;34m\u001b[0m\u001b[0m\n\u001b[1;32m     16\u001b[0m \u001b[0;34m\u001b[0m\u001b[0m\n\u001b[0;32m---> 17\u001b[0;31m   \u001b[0ma\u001b[0m \u001b[0;34m=\u001b[0m \u001b[0mFourCal\u001b[0m\u001b[0;34m(\u001b[0m\u001b[0;36m2\u001b[0m\u001b[0;34m,\u001b[0m \u001b[0;36m3\u001b[0m\u001b[0;34m)\u001b[0m\u001b[0;34m\u001b[0m\u001b[0;34m\u001b[0m\u001b[0m\n\u001b[0m\u001b[1;32m     18\u001b[0m   \u001b[0mprint\u001b[0m\u001b[0;34m(\u001b[0m\u001b[0ma\u001b[0m\u001b[0;34m.\u001b[0m\u001b[0madd\u001b[0m\u001b[0;34m(\u001b[0m\u001b[0;34m)\u001b[0m\u001b[0;34m)\u001b[0m\u001b[0;34m\u001b[0m\u001b[0;34m\u001b[0m\u001b[0m\n",
            "\u001b[0;31mNameError\u001b[0m: name 'FourCal' is not defined"
          ]
        }
      ]
    },
    {
      "cell_type": "markdown",
      "source": [
        "1. BackAccount 이름 클래스 생성\n",
        "2. 생성자 메서드로, 계좌 번호, 예금주 이름, 초기 잔액을 받아 계좌를 생성합니다.\n",
        "3. 입금, 출금, 현재 계좌의 잔액을 반환하는 메서드를 생성합니다."
      ],
      "metadata": {
        "id": "4kRJaAjyGr0T"
      }
    },
    {
      "cell_type": "code",
      "source": [
        "class BackAccount:\n",
        "  def __init__(self,num, name, default):\n",
        "    self.num = num\n",
        "    self.name = name\n",
        "    self.default = default\n",
        "\n",
        "\n",
        "  def deposit(self, money):\n",
        "    self.default = self.default + money\n",
        "\n",
        "  def withdraw(self, money):\n",
        "    self.default = self.default- money\n",
        "\n",
        "  def check(self):\n",
        "    print(f'{self.name}님의 잔고는 {self.default}입니다.')\n",
        "\n",
        "a = BackAccount('122333','서준범',10000)\n",
        "\n",
        "a.check()\n"
      ],
      "metadata": {
        "id": "BMW87ligCW0l"
      },
      "execution_count": null,
      "outputs": []
    },
    {
      "cell_type": "code",
      "source": [
        "class FourCal:\n",
        "    def __init__(self, num1, num2):\n",
        "        self.num1 = num1\n",
        "        self.num2 = num2\n",
        "    def add(self):\n",
        "        return self.num1 + self.num2\n",
        "    def abst(self):\n",
        "        return self.num1 - self.num2\n",
        "    def multi(self):\n",
        "        return self.num1 * self.num2\n",
        "    def divis(self):\n",
        "        return self.num1 / self.num2\n",
        "a = FourCal(20, 30)\n",
        "\n",
        "\n",
        "class MoreFourCal(FourCal):\n",
        "  pass\n",
        "a = MoreFourCal(4,2)\n",
        "a.add()\n"
      ],
      "metadata": {
        "colab": {
          "base_uri": "https://localhost:8080/"
        },
        "id": "NbX7PWSdIZg2",
        "outputId": "0cbe8f04-9950-4166-ad36-a287b31d913d"
      },
      "execution_count": 55,
      "outputs": [
        {
          "output_type": "execute_result",
          "data": {
            "text/plain": [
              "6"
            ]
          },
          "metadata": {},
          "execution_count": 55
        }
      ]
    },
    {
      "cell_type": "code",
      "source": [
        "b = FoulCal(2,0)\n",
        "b.divis() --> 0이기 때문에 오류가 뜸\n",
        "\n",
        "class MoreFourCal(FourCal):\n",
        "\tdef divis(self):\n",
        "\t\tif self.num2 == 0:\n",
        "\t\t\treturn 0\n",
        "\t\telse:\n",
        "\t\t\treturn self.num1/num2"
      ],
      "metadata": {
        "id": "AGJRI-vgPP38"
      },
      "execution_count": null,
      "outputs": []
    },
    {
      "cell_type": "markdown",
      "source": [
        "#상속"
      ],
      "metadata": {
        "id": "ALs5U0UDDrPQ"
      }
    },
    {
      "cell_type": "code",
      "source": [
        "#FourCal의 내용을 상속받은 MoreFourCal\n",
        "class FourCal:\n",
        "    def __init__(self, num1, num2):\n",
        "        self.num1 = num1\n",
        "        self.num2 = num2\n",
        "    def add(self):\n",
        "        return self.num1 + self.num2\n",
        "    def abst(self):\n",
        "        return self.num1 - self.num2\n",
        "    def multi(self):\n",
        "        return self.num1 * self.num2\n",
        "    def divis(self):\n",
        "        return self.num1 / self.num2\n",
        "a = FourCal(20, 30)\n",
        "\n",
        "class MoreFourCal(FourCal):\n",
        "  pass\n",
        "a = MoreFourCal(4,2)\n",
        "a.add()"
      ],
      "metadata": {
        "colab": {
          "base_uri": "https://localhost:8080/"
        },
        "id": "euOTo-5IDudR",
        "outputId": "8dae5d1f-43df-48b4-f285-5cef435bd563"
      },
      "execution_count": 10,
      "outputs": [
        {
          "output_type": "execute_result",
          "data": {
            "text/plain": [
              "6"
            ]
          },
          "metadata": {},
          "execution_count": 10
        }
      ]
    },
    {
      "cell_type": "markdown",
      "source": [
        "### 오버라이딩"
      ],
      "metadata": {
        "id": "YjphdCqhEB_H"
      }
    },
    {
      "cell_type": "code",
      "source": [
        "class FourCal:\n",
        "    def __init__(self, num1, num2):\n",
        "        self.num1 = num1\n",
        "        self.num2 = num2\n",
        "    def add(self):\n",
        "        return self.num1 + self.num2\n",
        "    def abst(self):\n",
        "        return self.num1 - self.num2\n",
        "    def multi(self):\n",
        "        return self.num1 * self.num2\n",
        "    def divis(self):\n",
        "        return self.num1 / self.num2\n",
        "a = FourCal(20, 30)\n",
        "b = FourCal(2,0)\n",
        "b.divis() #-> 0이기 때문에 오류가 뜸\n",
        "\n",
        "#오버라이딩 -> 부모 클래스가 문제 시 사용할 수 있음\n",
        "class MoreFourcal(Fourcal):\n",
        "  def devis(num1, num2):\n",
        "    if self.num2 == 0:\n",
        "      return 0\n",
        "    else:\n",
        "      return num1/num2"
      ],
      "metadata": {
        "colab": {
          "base_uri": "https://localhost:8080/",
          "height": 376
        },
        "id": "dgfvogsxEA_2",
        "outputId": "35dc872b-4d77-46db-9a6a-b844e96d971b"
      },
      "execution_count": 12,
      "outputs": [
        {
          "output_type": "error",
          "ename": "ZeroDivisionError",
          "evalue": "ignored",
          "traceback": [
            "\u001b[0;31m---------------------------------------------------------------------------\u001b[0m",
            "\u001b[0;31mZeroDivisionError\u001b[0m                         Traceback (most recent call last)",
            "\u001b[0;32m<ipython-input-12-2a5e14c02ffb>\u001b[0m in \u001b[0;36m<cell line: 15>\u001b[0;34m()\u001b[0m\n\u001b[1;32m     13\u001b[0m \u001b[0ma\u001b[0m \u001b[0;34m=\u001b[0m \u001b[0mFourCal\u001b[0m\u001b[0;34m(\u001b[0m\u001b[0;36m20\u001b[0m\u001b[0;34m,\u001b[0m \u001b[0;36m30\u001b[0m\u001b[0;34m)\u001b[0m\u001b[0;34m\u001b[0m\u001b[0;34m\u001b[0m\u001b[0m\n\u001b[1;32m     14\u001b[0m \u001b[0mb\u001b[0m \u001b[0;34m=\u001b[0m \u001b[0mFourCal\u001b[0m\u001b[0;34m(\u001b[0m\u001b[0;36m2\u001b[0m\u001b[0;34m,\u001b[0m\u001b[0;36m0\u001b[0m\u001b[0;34m)\u001b[0m\u001b[0;34m\u001b[0m\u001b[0;34m\u001b[0m\u001b[0m\n\u001b[0;32m---> 15\u001b[0;31m \u001b[0mb\u001b[0m\u001b[0;34m.\u001b[0m\u001b[0mdivis\u001b[0m\u001b[0;34m(\u001b[0m\u001b[0;34m)\u001b[0m \u001b[0;31m#-> 0이기 때문에 오류가 뜸\u001b[0m\u001b[0;34m\u001b[0m\u001b[0;34m\u001b[0m\u001b[0m\n\u001b[0m\u001b[1;32m     16\u001b[0m \u001b[0;34m\u001b[0m\u001b[0m\n\u001b[1;32m     17\u001b[0m \u001b[0;31m#오버라이딩\u001b[0m\u001b[0;34m\u001b[0m\u001b[0;34m\u001b[0m\u001b[0m\n",
            "\u001b[0;32m<ipython-input-12-2a5e14c02ffb>\u001b[0m in \u001b[0;36mdivis\u001b[0;34m(self)\u001b[0m\n\u001b[1;32m     10\u001b[0m         \u001b[0;32mreturn\u001b[0m \u001b[0mself\u001b[0m\u001b[0;34m.\u001b[0m\u001b[0mnum1\u001b[0m \u001b[0;34m*\u001b[0m \u001b[0mself\u001b[0m\u001b[0;34m.\u001b[0m\u001b[0mnum2\u001b[0m\u001b[0;34m\u001b[0m\u001b[0;34m\u001b[0m\u001b[0m\n\u001b[1;32m     11\u001b[0m     \u001b[0;32mdef\u001b[0m \u001b[0mdivis\u001b[0m\u001b[0;34m(\u001b[0m\u001b[0mself\u001b[0m\u001b[0;34m)\u001b[0m\u001b[0;34m:\u001b[0m\u001b[0;34m\u001b[0m\u001b[0;34m\u001b[0m\u001b[0m\n\u001b[0;32m---> 12\u001b[0;31m         \u001b[0;32mreturn\u001b[0m \u001b[0mself\u001b[0m\u001b[0;34m.\u001b[0m\u001b[0mnum1\u001b[0m \u001b[0;34m/\u001b[0m \u001b[0mself\u001b[0m\u001b[0;34m.\u001b[0m\u001b[0mnum2\u001b[0m\u001b[0;34m\u001b[0m\u001b[0;34m\u001b[0m\u001b[0m\n\u001b[0m\u001b[1;32m     13\u001b[0m \u001b[0ma\u001b[0m \u001b[0;34m=\u001b[0m \u001b[0mFourCal\u001b[0m\u001b[0;34m(\u001b[0m\u001b[0;36m20\u001b[0m\u001b[0;34m,\u001b[0m \u001b[0;36m30\u001b[0m\u001b[0;34m)\u001b[0m\u001b[0;34m\u001b[0m\u001b[0;34m\u001b[0m\u001b[0m\n\u001b[1;32m     14\u001b[0m \u001b[0mb\u001b[0m \u001b[0;34m=\u001b[0m \u001b[0mFourCal\u001b[0m\u001b[0;34m(\u001b[0m\u001b[0;36m2\u001b[0m\u001b[0;34m,\u001b[0m\u001b[0;36m0\u001b[0m\u001b[0;34m)\u001b[0m\u001b[0;34m\u001b[0m\u001b[0;34m\u001b[0m\u001b[0m\n",
            "\u001b[0;31mZeroDivisionError\u001b[0m: division by zero"
          ]
        }
      ]
    },
    {
      "cell_type": "markdown",
      "source": [
        "#모듈과 패키지"
      ],
      "metadata": {
        "id": "v5fKvXlOEwb4"
      }
    },
    {
      "cell_type": "markdown",
      "source": [
        "### 모듈\n",
        "\n",
        "- 파이썬 코드를 담고 있는 파일\n",
        "- 코드의 함수 , 클래스 , 변수 등을 정의하고 다른 파이썬 프로그램에서 재사용\n",
        "- .py 확장자로 저장\n",
        "- import문을 통해 불러올 수 있음"
      ],
      "metadata": {
        "id": "hi-WB7WNEz4k"
      }
    },
    {
      "cell_type": "markdown",
      "source": [
        "### 패키지\n",
        "\n",
        "- 모듈들을 디렉토리 구조로 묶어놓은 것\n",
        "- 패키지: 모듈의 계층적 구조 형성\n",
        "- 폴더 안에는 `__init__.py`파일이 있어야 함\n",
        "    - 현재는 `__init__.py` 없어도 됨"
      ],
      "metadata": {
        "id": "8r63Sa5jE3r_"
      }
    },
    {
      "cell_type": "code",
      "source": [
        "## import my_package.math_operations as mo -> 아래 코드와 동일한 내용\n",
        "## 디렉토리를 주의해서 import를 설정\n",
        "\n",
        "#main.py라고 설정\n",
        "from my_package import math_operations as mo\n",
        "\n",
        "# math_operations의 함수들을 사용할 수 있음\n",
        "\n",
        "result = mo.add(3,5)\n",
        "print(result)\n",
        "\n",
        "result2 = mo.sub(3,5)\n",
        "print(result2)"
      ],
      "metadata": {
        "colab": {
          "base_uri": "https://localhost:8080/",
          "height": 394
        },
        "id": "fhaNZ-GJEzFM",
        "outputId": "893ca50e-4152-43fd-b87f-07fa6996aacc"
      },
      "execution_count": 13,
      "outputs": [
        {
          "output_type": "error",
          "ename": "ModuleNotFoundError",
          "evalue": "ignored",
          "traceback": [
            "\u001b[0;31m---------------------------------------------------------------------------\u001b[0m",
            "\u001b[0;31mModuleNotFoundError\u001b[0m                       Traceback (most recent call last)",
            "\u001b[0;32m<ipython-input-13-815ade43257a>\u001b[0m in \u001b[0;36m<cell line: 3>\u001b[0;34m()\u001b[0m\n\u001b[1;32m      1\u001b[0m \u001b[0;31m## import my_package.math_operations as mo -> 아래 코드와 동일한 내용\u001b[0m\u001b[0;34m\u001b[0m\u001b[0;34m\u001b[0m\u001b[0m\n\u001b[1;32m      2\u001b[0m \u001b[0;31m## 디렉토리를 주의해서 import를 설정\u001b[0m\u001b[0;34m\u001b[0m\u001b[0;34m\u001b[0m\u001b[0m\n\u001b[0;32m----> 3\u001b[0;31m \u001b[0;32mfrom\u001b[0m \u001b[0mmy_package\u001b[0m \u001b[0;32mimport\u001b[0m \u001b[0mmath_operations\u001b[0m \u001b[0;32mas\u001b[0m \u001b[0mmo\u001b[0m\u001b[0;34m\u001b[0m\u001b[0;34m\u001b[0m\u001b[0m\n\u001b[0m\u001b[1;32m      4\u001b[0m \u001b[0;34m\u001b[0m\u001b[0m\n\u001b[1;32m      5\u001b[0m \u001b[0;31m# math_operations의 함수들을 사용할 수 있음\u001b[0m\u001b[0;34m\u001b[0m\u001b[0;34m\u001b[0m\u001b[0m\n",
            "\u001b[0;31mModuleNotFoundError\u001b[0m: No module named 'my_package'",
            "",
            "\u001b[0;31m---------------------------------------------------------------------------\u001b[0;32m\nNOTE: If your import is failing due to a missing package, you can\nmanually install dependencies using either !pip or !apt.\n\nTo view examples of installing some common dependencies, click the\n\"Open Examples\" button below.\n\u001b[0;31m---------------------------------------------------------------------------\u001b[0m\n"
          ],
          "errorDetails": {
            "actions": [
              {
                "action": "open_url",
                "actionText": "Open Examples",
                "url": "/notebooks/snippets/importing_libraries.ipynb"
              }
            ]
          }
        }
      ]
    },
    {
      "cell_type": "code",
      "source": [
        "## math_operation.py\n",
        "def add(a,b):\n",
        "    return a + b\n",
        "\n",
        "def sub(a,b):\n",
        "    return a - b\n",
        "\n",
        "def mul(a,b):\n",
        "    return a * b\n",
        "\n",
        "def div(a,b):\n",
        "    return a / b"
      ],
      "metadata": {
        "id": "Gr-c0f32FHfQ"
      },
      "execution_count": 13,
      "outputs": []
    }
  ]
}