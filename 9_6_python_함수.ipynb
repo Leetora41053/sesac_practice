{
  "nbformat": 4,
  "nbformat_minor": 0,
  "metadata": {
    "colab": {
      "provenance": [],
      "authorship_tag": "ABX9TyPGf2OZ1lwteh598GeA6m+z",
      "include_colab_link": true
    },
    "kernelspec": {
      "name": "python3",
      "display_name": "Python 3"
    },
    "language_info": {
      "name": "python"
    }
  },
  "cells": [
    {
      "cell_type": "markdown",
      "metadata": {
        "id": "view-in-github",
        "colab_type": "text"
      },
      "source": [
        "<a href=\"https://colab.research.google.com/github/Leetora41053/sessac_python/blob/main/9_6_python_%ED%95%A8%EC%88%98.ipynb\" target=\"_parent\"><img src=\"https://colab.research.google.com/assets/colab-badge.svg\" alt=\"Open In Colab\"/></a>"
      ]
    },
    {
      "cell_type": "markdown",
      "source": [
        "#함수\n"
      ],
      "metadata": {
        "id": "_VnmEfxBRNML"
      }
    },
    {
      "cell_type": "code",
      "execution_count": null,
      "metadata": {
        "id": "LAZFta-SRJ4i"
      },
      "outputs": [],
      "source": [
        "def sum(num1, num2):\n",
        "  result = num1 + num2\n",
        "  return result\n"
      ]
    },
    {
      "cell_type": "code",
      "source": [
        "sum(3,4)"
      ],
      "metadata": {
        "colab": {
          "base_uri": "https://localhost:8080/"
        },
        "id": "mTwsLzEtSWyp",
        "outputId": "5adbc135-bb2a-4735-b72a-3e0f0df349e3"
      },
      "execution_count": null,
      "outputs": [
        {
          "output_type": "execute_result",
          "data": {
            "text/plain": [
              "7"
            ]
          },
          "metadata": {},
          "execution_count": 8
        }
      ]
    },
    {
      "cell_type": "code",
      "source": [
        "sum(3,4)\n",
        "sum(num1 = 3, num2 = 4)\n",
        "#기본적으로 순서가 들어가 있음\n",
        "#파라미터를 명시한다면 순서가 지켜지지 않아도 된다"
      ],
      "metadata": {
        "colab": {
          "base_uri": "https://localhost:8080/"
        },
        "id": "vuRE5CwnR02t",
        "outputId": "094689e5-6420-498e-c3ff-d59bffb7f0cf"
      },
      "execution_count": null,
      "outputs": [
        {
          "output_type": "execute_result",
          "data": {
            "text/plain": [
              "7"
            ]
          },
          "metadata": {},
          "execution_count": 9
        }
      ]
    },
    {
      "cell_type": "code",
      "source": [
        "def say_myself(name, old, man = True):\n",
        "\tprint(f'나의 이름은 {name}입니다')\n",
        "\tprint(f'나의 나이는 {old}입니다')\n",
        "\tif man:\n",
        "\t\tprint('남자입니다')\n",
        "\telse:\n",
        "\t\tprint('여자입니다')\n",
        "\n",
        "say_myself('서준범',26) #아래 구문과 동일\n",
        "say_myself('서준범',26,True)\n",
        "say_myself('서이준',27,False)\n",
        "say_myself(old = '10', name = '뽀로로')"
      ],
      "metadata": {
        "id": "0ET8fuAaVM8e"
      },
      "execution_count": null,
      "outputs": []
    },
    {
      "cell_type": "code",
      "source": [],
      "metadata": {
        "id": "yfj90WIRxYqn"
      },
      "execution_count": null,
      "outputs": []
    },
    {
      "cell_type": "markdown",
      "source": [
        "### 전역변수 vs. 지역변수\n",
        "\n",
        "- 전역변수: 함수 외부에서 선언된 변수, 프로그램 전체에서 사용 가능\n",
        "- 지역변수: 함수 내부에서 선언된 변수, 해당 함수 내부에서만 사용 가능"
      ],
      "metadata": {
        "id": "eT5-st61X3eG"
      }
    },
    {
      "cell_type": "code",
      "source": [
        "def test():\n",
        "  local_var = 20\n",
        "test()\n",
        "----\n",
        "print(local_var)-> error\n"
      ],
      "metadata": {
        "id": "gbziNaTyX5n0"
      },
      "execution_count": null,
      "outputs": []
    },
    {
      "cell_type": "code",
      "source": [
        "def test():\n",
        "  local_var = 20\n",
        "test()\n",
        "----\n",
        "print(local_var)-> error"
      ],
      "metadata": {
        "id": "UX8VZ-SgZXwX"
      },
      "execution_count": null,
      "outputs": []
    },
    {
      "cell_type": "code",
      "source": [
        "def test3():\n",
        "\tglobal local_var = 20\n",
        "\tlocal_var = 20\n",
        "test3()\n",
        "----\n",
        "print(local_var)-> 20"
      ],
      "metadata": {
        "id": "JMVHlBqkZcPV"
      },
      "execution_count": null,
      "outputs": []
    },
    {
      "cell_type": "code",
      "source": [
        "print(local_var)"
      ],
      "metadata": {
        "id": "DfeAi7x7YIfc"
      },
      "execution_count": null,
      "outputs": []
    },
    {
      "cell_type": "markdown",
      "source": [
        "#### Example 2-9. 입력하는 모든 수의 평균을 계산하는 함수 만들기\n",
        "* 입력 개수에 상관없이 사용하기 위해, 함수 입력 값 자리에, *args를 사용"
      ],
      "metadata": {
        "id": "ttBTsN17cag0"
      }
    },
    {
      "cell_type": "code",
      "source": [
        "def means(*args):\n",
        "\tsum1 = 0\n",
        "\tcount1 = 0\n",
        "\tfor i in args:\n",
        "\t\tsum1 = sum1 + i\n",
        "\t\tcount1 += 1\n",
        "\tresult = sum1/count1\n",
        "\treturn result\n",
        "\n",
        "print(means(1,2,3))"
      ],
      "metadata": {
        "colab": {
          "base_uri": "https://localhost:8080/"
        },
        "id": "QJQlnYW6fN1S",
        "outputId": "a7e81c1e-06c9-4f75-c3da-6abb4ae0231d"
      },
      "execution_count": null,
      "outputs": [
        {
          "output_type": "stream",
          "name": "stdout",
          "text": [
            "2.0\n"
          ]
        }
      ]
    },
    {
      "cell_type": "code",
      "source": [
        "def cal(num1, num2):\n",
        "\tplus = num1 + num2\n",
        "\tminus= num1 - num2\n",
        "\tmultiple = num1 * num2\n",
        "\tdivide = num1 / num2\n",
        "\treturn plus,minus,multiple,divide\n",
        "\n",
        "cal(1,2)"
      ],
      "metadata": {
        "colab": {
          "base_uri": "https://localhost:8080/"
        },
        "id": "SMd4DA7qceIF",
        "outputId": "d3316614-9e8c-4506-c325-9dddb9f831f9"
      },
      "execution_count": null,
      "outputs": [
        {
          "output_type": "execute_result",
          "data": {
            "text/plain": [
              "(3, -1, 2, 0.5)"
            ]
          },
          "metadata": {},
          "execution_count": 13
        }
      ]
    },
    {
      "cell_type": "code",
      "source": [
        "def cal(num1, num2):\n",
        "\tnum1 = int(input('첫번째 숫자를 입력해주세요.'))\n",
        "  num2 = int(input('두번째 숫자를 입력해주세요.'))\n",
        "\n",
        "cal(1,2)"
      ],
      "metadata": {
        "id": "WFYeET0Nhhtc"
      },
      "execution_count": null,
      "outputs": []
    },
    {
      "cell_type": "code",
      "source": [],
      "metadata": {
        "id": "xi6dh1LmfJ41"
      },
      "execution_count": null,
      "outputs": []
    },
    {
      "cell_type": "markdown",
      "source": [
        "# 클래스\n"
      ],
      "metadata": {
        "id": "9dqmZ6Ve6_cl"
      }
    },
    {
      "cell_type": "code",
      "source": [
        "class FourCal:\n",
        "  pass\n",
        "a= Fourcal(1)\n",
        "type(a)\n",
        "<class '__main__.FourCal'>"
      ],
      "metadata": {
        "id": "jtRTY-vj7BGC"
      },
      "execution_count": null,
      "outputs": []
    },
    {
      "cell_type": "markdown",
      "source": [
        "인스턴스 생성을 통한"
      ],
      "metadata": {
        "id": "u503b4V99kqk"
      }
    },
    {
      "cell_type": "code",
      "source": [
        "class FourCal:\n",
        "  def set_data(self, num1, num2)\n",
        "\t\tself.num1 = num1\n",
        "\t\tself.num2 = num2\n",
        "\tdef add(self):\n",
        "\t\treturn self.num1 + self.num2\n",
        "a = FoulCal() # -> a라는 인스턴스 클래스를 사용\n",
        "a.set_data(10,20)\n",
        "print(a.num1, a.num2)\n",
        "print(a.add())"
      ],
      "metadata": {
        "id": "EvozkybS9r-1"
      },
      "execution_count": null,
      "outputs": []
    },
    {
      "cell_type": "code",
      "source": [
        "#FourCal 클래스 생성 / 생성자 이용 / 사칙연산 계산\n",
        "\n",
        "class FourCal:\n",
        "  def __init__(self, num1, num2):\n",
        "    self.num1 = num1\n",
        "    self.num2 = num2\n",
        "  def add(self):\n",
        "    return num1 + num2\n",
        "  def abs(self):\n",
        "    return"
      ],
      "metadata": {
        "id": "yDY_9NL79kzq"
      },
      "execution_count": null,
      "outputs": []
    },
    {
      "cell_type": "code",
      "source": [],
      "metadata": {
        "id": "VnkDYoKqB1yn"
      },
      "execution_count": 24,
      "outputs": []
    },
    {
      "cell_type": "markdown",
      "source": [
        "1. BackAccount 이름 클래스 생성\n",
        "2. 생성자 메서드로, 계좌 번호, 예금주 이름, 초기 잔액을 받아 계좌를 생성합니다.\n",
        "3. 입금, 출금, 현재 계좌의 잔액을 반환하는 메서드를 생성합니다."
      ],
      "metadata": {
        "id": "4kRJaAjyGr0T"
      }
    },
    {
      "cell_type": "code",
      "source": [
        "class BackAccount:\n",
        "  def __init__(self,num, name, default):\n",
        "    self.num = num\n",
        "    self.name = name\n",
        "    self.default = default\n",
        "\n",
        "\n",
        "  def deposit(self, money):\n",
        "    self.default = self.default + money\n",
        "\n",
        "  def withdraw(self, money):\n",
        "    self.default = self.default- money\n",
        "\n",
        "  def check(self):\n",
        "    print(f'{self.name}님의 잔고는 {self.default}입니다.')\n",
        "\n",
        "a = BackAccount('122333','서준범',10000)\n",
        "\n",
        "a.check()\n",
        "\n",
        "\n"
      ],
      "metadata": {
        "colab": {
          "base_uri": "https://localhost:8080/"
        },
        "id": "jlk0PzMrGmrp",
        "outputId": "d6a16ef6-86f1-4c65-91a0-b1b2a3bd651c"
      },
      "execution_count": 54,
      "outputs": [
        {
          "output_type": "stream",
          "name": "stdout",
          "text": [
            "서준범님의 잔고는 10000입니다.\n"
          ]
        }
      ]
    },
    {
      "cell_type": "code",
      "source": [
        "class FourCal:\n",
        "    def __init__(self, num1, num2):\n",
        "        self.num1 = num1\n",
        "        self.num2 = num2\n",
        "    def add(self):\n",
        "        return self.num1 + self.num2\n",
        "    def abst(self):\n",
        "        return self.num1 - self.num2\n",
        "    def multi(self):\n",
        "        return self.num1 * self.num2\n",
        "    def divis(self):\n",
        "        return self.num1 / self.num2\n",
        "a = FourCal(20, 30)\n",
        "\n",
        "\n",
        "class MoreFourCal(FourCal):\n",
        "  pass\n",
        "a = MoreFourCal(4,2)\n",
        "a.add()\n"
      ],
      "metadata": {
        "colab": {
          "base_uri": "https://localhost:8080/"
        },
        "id": "NbX7PWSdIZg2",
        "outputId": "0cbe8f04-9950-4166-ad36-a287b31d913d"
      },
      "execution_count": 55,
      "outputs": [
        {
          "output_type": "execute_result",
          "data": {
            "text/plain": [
              "6"
            ]
          },
          "metadata": {},
          "execution_count": 55
        }
      ]
    },
    {
      "cell_type": "code",
      "source": [
        "b = FoulCal(2,0)\n",
        "b.divis() --> 0이기 때문에 오류가 뜸\n",
        "\n",
        "class MoreFourCal(FourCal):\n",
        "\tdef divis(self):\n",
        "\t\tif self.num2 == 0:\n",
        "\t\t\treturn 0\n",
        "\t\telse:\n",
        "\t\t\treturn self.num1/num2"
      ],
      "metadata": {
        "id": "AGJRI-vgPP38"
      },
      "execution_count": null,
      "outputs": []
    }
  ]
}