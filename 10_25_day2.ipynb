{
  "nbformat": 4,
  "nbformat_minor": 0,
  "metadata": {
    "colab": {
      "provenance": [],
      "authorship_tag": "ABX9TyPCFniQmC86jAw4IbUvTlfo",
      "include_colab_link": true
    },
    "kernelspec": {
      "name": "python3",
      "display_name": "Python 3"
    },
    "language_info": {
      "name": "python"
    }
  },
  "cells": [
    {
      "cell_type": "markdown",
      "metadata": {
        "id": "view-in-github",
        "colab_type": "text"
      },
      "source": [
        "<a href=\"https://colab.research.google.com/github/Leetora41053/sesac_practice/blob/main/10_25_day2.ipynb\" target=\"_parent\"><img src=\"https://colab.research.google.com/assets/colab-badge.svg\" alt=\"Open In Colab\"/></a>"
      ]
    },
    {
      "cell_type": "markdown",
      "source": [
        "17: Making Unit Vectors\n",
        "unit vector를 만드는 방법을 코드로 만드는 연습을 해봅니다\n",
        "\n",
        "유닛벡터: 기존 벡터에서 원자에 norm을 나눠준 것, 유닛벡터 norm은 항상 1이다"
      ],
      "metadata": {
        "id": "EWgmrF3pNZVV"
      }
    },
    {
      "cell_type": "code",
      "execution_count": null,
      "metadata": {
        "colab": {
          "base_uri": "https://localhost:8080/"
        },
        "id": "GCkqmZdtM5H3",
        "outputId": "595057bf-d735-45eb-82c0-278a2695ca8e"
      },
      "outputs": [
        {
          "output_type": "stream",
          "name": "stdout",
          "text": [
            "1.0\n"
          ]
        }
      ],
      "source": [
        "x, y, z = 1, 2, 3\n",
        "\n",
        "norm = (x**2 + y**2 + z**2)**0.5\n",
        "\n",
        "x, y, z = x/norm, y/norm, z/norm\n",
        "\n",
        "norm = (x**2 + y**2 + z**2)**0.5\n",
        "\n",
        "print(norm)"
      ]
    },
    {
      "cell_type": "markdown",
      "source": [
        "18. Dot Product, 내적\n",
        "\n",
        "> **두 벡터가 유사하다**\n",
        ">\n",
        "= 비슷한 특성을 지닌다\n",
        "= 코사인 세타 값이 커진다\n",
        "= 사잇값(θ)이 작아진다"
      ],
      "metadata": {
        "id": "LNSkHiQANw_R"
      }
    },
    {
      "cell_type": "code",
      "source": [
        "x1, y1, z1 = 1, 2, 3\n",
        "x2, y2, z2 = 3, 4, 5\n",
        "\n",
        "dot_products = x1*x2 + y1*y2 + z1*z2\n",
        "print(dot_products)"
      ],
      "metadata": {
        "colab": {
          "base_uri": "https://localhost:8080/"
        },
        "id": "AJ3dxdflN-aR",
        "outputId": "829e35a3-a924-4c63-cb98-822196e72f7e"
      },
      "execution_count": null,
      "outputs": [
        {
          "output_type": "stream",
          "name": "stdout",
          "text": [
            "26\n"
          ]
        }
      ]
    },
    {
      "cell_type": "markdown",
      "source": [
        "19: Euclidean distance\n",
        "> 유클리디언 디스턴스\n",
        "\n",
        "두 벡터 간의 거리"
      ],
      "metadata": {
        "id": "n6LLY6kNOdcc"
      }
    },
    {
      "cell_type": "code",
      "source": [
        "x1, y1, z1 = 1, 2, 3\n",
        "x2, y2, z2 = 3, 4, 5\n",
        "\n",
        "e_distance = (x1-x2)**2 + (y1-y2)**2 + (z1-z2)**2\n",
        "e_distance = e_distance**0.5\n",
        "print(e_distance)"
      ],
      "metadata": {
        "colab": {
          "base_uri": "https://localhost:8080/"
        },
        "id": "aptHO9zPOcXH",
        "outputId": "4ff0c417-9bf0-4a3d-949a-65db3b1d4fa7"
      },
      "execution_count": null,
      "outputs": [
        {
          "output_type": "stream",
          "name": "stdout",
          "text": [
            "3.4641016151377544\n"
          ]
        }
      ]
    },
    {
      "cell_type": "markdown",
      "source": [
        "21: Mean Squared Error\n",
        "\n",
        "> Mean Squared Error\n",
        "\n",
        "모델 성능 지표 중 하나라고 보면 되는데, 예측치와 얼마나 유사한지 분석할 수 있는 좋은 방법"
      ],
      "metadata": {
        "id": "14AT1YYXO6ae"
      }
    },
    {
      "cell_type": "code",
      "source": [
        "pred1, pred2, pred3 = 10, 20, 30\n",
        "y1, y2, y3 = 10, 25, 40\n",
        "n_data = 3\n",
        "\n",
        "squared_error1 = (pred1-y1)**2\n",
        "squared_error2 = (pred2-y2)**2\n",
        "squared_error3 = (pred3-y3)**2\n",
        "\n",
        "mse = (squared_error1 + squared_error2 + squared_error3) / n_data\n",
        "print(mse)"
      ],
      "metadata": {
        "colab": {
          "base_uri": "https://localhost:8080/"
        },
        "id": "GB3oBeUOO8Of",
        "outputId": "d585f9fa-0fb1-4e3e-f177-d86af2092c97"
      },
      "execution_count": null,
      "outputs": [
        {
          "output_type": "stream",
          "name": "stdout",
          "text": [
            "41.666666666666664\n"
          ]
        }
      ]
    },
    {
      "cell_type": "markdown",
      "source": [
        "22: List 만들기 & 원소 접근하기\n",
        "\n",
        "python을 통해 list를 만들고 []을 통해 원소에 접근할 수 있음"
      ],
      "metadata": {
        "id": "WTa9gHVwPrDa"
      }
    },
    {
      "cell_type": "code",
      "source": [
        "scores = [10, 20, 30]\n",
        "\n",
        "print(scores[0])\n",
        "print(scores[1])\n",
        "print(scores[2])"
      ],
      "metadata": {
        "colab": {
          "base_uri": "https://localhost:8080/"
        },
        "id": "Ip6brI2yPq26",
        "outputId": "4dd97eaf-7a85-44cc-dde1-6eb63e46151d"
      },
      "execution_count": null,
      "outputs": [
        {
          "output_type": "stream",
          "name": "stdout",
          "text": [
            "10\n",
            "20\n",
            "30\n"
          ]
        }
      ]
    },
    {
      "cell_type": "markdown",
      "source": [
        "23: List의 원소 수정하기"
      ],
      "metadata": {
        "id": "jwL4Rn9KSxKa"
      }
    },
    {
      "cell_type": "code",
      "source": [
        "scores = [10, 20, 30]\n",
        "\n",
        "scores[1] = 100\n",
        "scores[0] = 1099\n",
        "\n",
        "print(scores[0])\n",
        "print(scores[1])\n",
        "print(scores[2])"
      ],
      "metadata": {
        "colab": {
          "base_uri": "https://localhost:8080/"
        },
        "id": "fhMNRQnhPJE_",
        "outputId": "7c902cee-363f-4914-c2be-589e2f969715"
      },
      "execution_count": null,
      "outputs": [
        {
          "output_type": "stream",
          "name": "stdout",
          "text": [
            "1099\n",
            "100\n",
            "30\n"
          ]
        }
      ]
    },
    {
      "cell_type": "markdown",
      "source": [
        "24: 수학점수들의 평균 구하기(2)"
      ],
      "metadata": {
        "id": "hq0cxnhfTi8x"
      }
    },
    {
      "cell_type": "code",
      "source": [
        "scores = [10, 20, 30]\n",
        "n_student = len(scores)\n",
        "sum = 0\n",
        "\n",
        "for i in range(n_student):\n",
        "  sum += scores[i]\n",
        "\n",
        "mean = sum / n_student\n"
      ],
      "metadata": {
        "colab": {
          "base_uri": "https://localhost:8080/"
        },
        "id": "IFyioTIWTs7X",
        "outputId": "8635c3d5-fcb4-4fb5-8aac-af75037ca26c"
      },
      "execution_count": null,
      "outputs": [
        {
          "output_type": "stream",
          "name": "stdout",
          "text": [
            "20.0\n"
          ]
        }
      ]
    },
    {
      "cell_type": "markdown",
      "source": [
        "**25: Mean Subtraction(2)**</br>\n",
        "평균을 구하는 방법을 이용하여 평균을 구하고, 원소를 수정하는 방법을 이용하여 각 원소에 평균을 빼줍니다.\n",
        "Mean subtraction을 해주면 data들의 평균은 0이 됨을 확인합니다.\n",
        "\n"
      ],
      "metadata": {
        "id": "9AcHMIMoTnEm"
      }
    },
    {
      "cell_type": "code",
      "source": [
        "scores = [10, 20, 30]\n",
        "n_student = len(scores)\n",
        "sum = 0\n",
        "\n",
        "for i in range(n_student):\n",
        "  sum += scores[i]\n",
        "\n",
        "mean = sum / n_student\n",
        "print(mean)\n",
        "\n",
        "sum = 0\n",
        "scores[0] -= mean\n",
        "scores[1] -= mean\n",
        "scores[2] -= mean\n",
        "\n",
        "for i in range(n_student):\n",
        "  sum += scores[i]\n",
        "\n",
        "mean = sum / n_student\n",
        "\n",
        "print(mean)"
      ],
      "metadata": {
        "colab": {
          "base_uri": "https://localhost:8080/"
        },
        "id": "sMbdZetyUL-e",
        "outputId": "539a0193-9b13-40b2-afc2-c06c6a9131b9"
      },
      "execution_count": null,
      "outputs": [
        {
          "output_type": "stream",
          "name": "stdout",
          "text": [
            "20.0\n",
            "0.0\n"
          ]
        }
      ]
    },
    {
      "cell_type": "markdown",
      "source": [
        "**26: 분산과 표준편차(2)**</br>\n",
        "점수가 저장된 List를 이용하여 분산과 표준편차를 구하는 과정을 복습합니다."
      ],
      "metadata": {
        "id": "VDhvJi4VULd7"
      }
    },
    {
      "cell_type": "code",
      "source": [
        "scores = [10, 20, 30]\n",
        "n_student = len(scores)\n",
        "sum = 0\n",
        "\n",
        "for i in range(n_student):\n",
        "  sum += scores[i]\n",
        "\n",
        "mean = sum / n_student\n",
        "\n",
        "mean_of_sqared = (scores[0]**2 + scores[1]**2 + scores[2]**2)/n_student\n",
        "sqared_of_mean = mean**2\n",
        "\n",
        "variance = mean_of_sqared - sqared_of_mean\n",
        "standard_deviation = variance**0.5\n",
        "\n",
        "print(\"variance: \",variance)\n",
        "print(\"standard deviation: \",standard_deviation)"
      ],
      "metadata": {
        "colab": {
          "base_uri": "https://localhost:8080/"
        },
        "id": "Wm-5ZgaXU068",
        "outputId": "e21f4501-9cfe-498e-fe85-e6c66dfd3a35"
      },
      "execution_count": null,
      "outputs": [
        {
          "output_type": "stream",
          "name": "stdout",
          "text": [
            "variance:  66.66666666666669\n",
            "standard deviation:  8.16496580927726\n"
          ]
        }
      ]
    },
    {
      "cell_type": "markdown",
      "source": [
        "**27: Standardization(2)**</br>\n",
        "평균과 분산을 이용해 standardization을 하는 방법을 복습합니다.\n",
        "standardization 후에 평균은 0, 표준편차는 1로 바뀌는 것을 확인합니다."
      ],
      "metadata": {
        "id": "aJcp6KWvVVio"
      }
    },
    {
      "cell_type": "code",
      "source": [
        "scores = [10, 20, 30]\n",
        "n_student = len(scores)\n",
        "sum = 0\n",
        "\n",
        "for i in range(n_student):\n",
        "  sum += scores[i]\n",
        "\n",
        "mean = sum / n_student\n",
        "\n",
        "mean_of_sqared = (scores[0]**2 + scores[1]**2 + scores[2]**2)/n_student\n",
        "sqared_of_mean = mean**2\n",
        "\n",
        "variance = mean_of_sqared - sqared_of_mean\n",
        "std = variance**0.5\n",
        "\n",
        "scores[0] = (scores[0] - mean) / std\n",
        "scores[1] = (scores[1] - mean) / std\n",
        "scores[2] = (scores[2] - mean) / std\n",
        "\n",
        "sum = 0\n",
        "mean = sum / n_student\n",
        "\n",
        "mean_of_sqared = (scores[0]**2 + scores[1]**2 + scores[2]**2)/n_student\n",
        "sqared_of_mean = mean**2\n",
        "\n",
        "variance = mean_of_sqared - sqared_of_mean\n",
        "std = variance**0.5\n",
        "\n",
        "print(mean)\n",
        "print(std)"
      ],
      "metadata": {
        "colab": {
          "base_uri": "https://localhost:8080/"
        },
        "id": "DVMPqumpVVUy",
        "outputId": "37ae88c8-c4e8-4b01-e000-3e2eeb5d121f"
      },
      "execution_count": null,
      "outputs": [
        {
          "output_type": "stream",
          "name": "stdout",
          "text": [
            "0.0\n",
            "1.0\n"
          ]
        }
      ]
    },
    {
      "cell_type": "markdown",
      "source": [
        "**28: Hadamard Product(2)</br>**\n",
        "Vector를 List로 만드는 방법을 배우고,\n",
        "이 List들을 이용해 Hadamard product을 하는 방법에 대해 복습"
      ],
      "metadata": {
        "id": "T6a8Dy1HWA-c"
      }
    },
    {
      "cell_type": "code",
      "source": [
        "v1, v2 = [1, 2, 3], [3, 4, 5]\n",
        "\n",
        "v3 = [v1[0]*v2[0], v1[1]*v2[1], v1[2]*v2[2]]\n",
        "\n",
        "print(v3)\n",
        "\n",
        "v1, v2 = [1, 2, 3], [3, 4, 5]\n",
        "v3 = []\n",
        "\n",
        "for i in range(len(v1)):\n",
        "  tmp = v1[i] * v2[i]\n",
        "  v3.append(tmp)\n",
        "\n",
        "print(v3)"
      ],
      "metadata": {
        "colab": {
          "base_uri": "https://localhost:8080/"
        },
        "id": "v3b_5g__VJye",
        "outputId": "07697560-c531-4dc4-a35c-fadd1baf4cfb"
      },
      "execution_count": null,
      "outputs": [
        {
          "output_type": "stream",
          "name": "stdout",
          "text": [
            "[3, 8, 15]\n",
            "[3, 8, 15]\n"
          ]
        }
      ]
    },
    {
      "cell_type": "markdown",
      "source": [
        "**31: Vector Norm(2)**</br>\n",
        "List의 원소의 접근하는 방법을 이용하여 vector norm을 구하는 방법을 복습합니다.\n"
      ],
      "metadata": {
        "id": "C9vqwV9LWrR4"
      }
    },
    {
      "cell_type": "code",
      "source": [
        "v1 = [1, 2, 3]\n",
        "\n",
        "norm = v1[0]**2 + v1[1]**2 + v1[2]**2\n",
        "norm = norm**0.5\n",
        "\n",
        "\n",
        "print(norm)"
      ],
      "metadata": {
        "colab": {
          "base_uri": "https://localhost:8080/"
        },
        "id": "P-c2-w0UWwAy",
        "outputId": "52301af9-27c9-412c-9653-f7864b2984a3"
      },
      "execution_count": null,
      "outputs": [
        {
          "output_type": "stream",
          "name": "stdout",
          "text": [
            "3.7416573867739413\n"
          ]
        }
      ]
    },
    {
      "cell_type": "markdown",
      "source": [
        "32: Making Unit Vectors(2)</br>\n",
        "List의 원소의 접근하는 방법과 List를 만드는 방법을 이용하여 unit vector를 만드는 방법을 복습합니다.\n",
        "연산 후에 vector norm이 1이 됨을 확인"
      ],
      "metadata": {
        "id": "18giGKV1ZGRB"
      }
    },
    {
      "cell_type": "code",
      "source": [
        "v1 = [1, 2, 3]\n",
        "\n",
        "norm = (v1[0]**2 + v1[1]**2 + v1[2]**2)**0.5\n",
        "\n",
        "v1[0] /= norm\n",
        "v1[1] /= norm\n",
        "v1[2] /= norm\n",
        "\n",
        "norm = (v1[0]**2 + v1[1]**2 + v1[2]**2)**0.5\n",
        "\n",
        "print(norm)"
      ],
      "metadata": {
        "colab": {
          "base_uri": "https://localhost:8080/"
        },
        "id": "aBmANp4bWv-L",
        "outputId": "abb17f3e-eb2a-49e7-cae8-b3f581ee41b1"
      },
      "execution_count": null,
      "outputs": [
        {
          "output_type": "stream",
          "name": "stdout",
          "text": [
            "1.0\n"
          ]
        }
      ]
    },
    {
      "cell_type": "markdown",
      "source": [
        "**33: Dot Product(2)**</br>\n",
        "List의 원소의 접근하는 방법을 이용하여 dot product를 연산하는 방법에 대해 복습합니다."
      ],
      "metadata": {
        "id": "cONQeAuXZxpx"
      }
    },
    {
      "cell_type": "code",
      "source": [
        "v1, v2 = [1, 2, 3], [3, 4, 5]\n",
        "\n",
        "dot_prod = v1[0]*v2[0] + v1[1]*v2[1] + v1[2]*v2[2]\n",
        "print(dot_prod)\n",
        "\n",
        "dot_prod = 0\n",
        "dot_prod += v1[0]*v2[0]\n",
        "dot_prod += v1[1]*v2[1]\n",
        "dot_prod += v1[2]*v2[2]\n",
        "print(dot_prod)"
      ],
      "metadata": {
        "colab": {
          "base_uri": "https://localhost:8080/"
        },
        "id": "3OKTPx-bWruz",
        "outputId": "ba32fcb7-7482-45ba-f2d0-fed37fe2f642"
      },
      "execution_count": null,
      "outputs": [
        {
          "output_type": "stream",
          "name": "stdout",
          "text": [
            "26\n",
            "26\n"
          ]
        }
      ]
    },
    {
      "cell_type": "markdown",
      "source": [
        "**34: Euclidean Distance(2)**"
      ],
      "metadata": {
        "id": "q8D7__TMZ1iP"
      }
    },
    {
      "cell_type": "code",
      "source": [
        "v1, v2 = [1, 2, 3], [3, 4, 5]\n",
        "\n",
        "norm = 0\n",
        "\n",
        "for i in range(len(v1)):\n",
        "  norm += (v1[i]-v2[i])**2\n",
        "\n",
        "norm = norm**0.5\n",
        "\n",
        "print(norm)"
      ],
      "metadata": {
        "colab": {
          "base_uri": "https://localhost:8080/"
        },
        "id": "GLQeWwyqmlNV",
        "outputId": "40bf5623-3112-45aa-fd1e-afaf14d69cf9"
      },
      "execution_count": null,
      "outputs": [
        {
          "output_type": "stream",
          "name": "stdout",
          "text": [
            "3.4641016151377544\n"
          ]
        }
      ]
    },
    {
      "cell_type": "markdown",
      "source": [
        "**35. Mean Squared Error(2)**</br>\n",
        "List의 원소의 접근하는 방법을 이용하여 MSE를 연산하는 방법에 대해 복습"
      ],
      "metadata": {
        "id": "dQB1lE9Q3TeJ"
      }
    },
    {
      "cell_type": "code",
      "source": [
        "predictions = [10, 20, 30]\n",
        "labels = [10, 25, 40]\n",
        "n_index = len(predictions)\n",
        "mse = 0\n",
        "\n",
        "for i in range(n_index):\n",
        "  mse += (predictions[i] - labels[i])**2\n",
        "\n",
        "mse /= n_index\n",
        "\n",
        "print(mse)"
      ],
      "metadata": {
        "colab": {
          "base_uri": "https://localhost:8080/"
        },
        "id": "atl1UXNk3T1l",
        "outputId": "4a54084f-1fb3-4482-a98a-014275264796"
      },
      "execution_count": null,
      "outputs": [
        {
          "output_type": "stream",
          "name": "stdout",
          "text": [
            "41.666666666666664\n"
          ]
        }
      ]
    },
    {
      "cell_type": "markdown",
      "source": [
        "**36: for loop으로 list의 원소 접근하기**</br>\n",
        "For loop을 통해 list의 원소들에 차례차례 접근하는 방법에 대해 배웁니다"
      ],
      "metadata": {
        "id": "a0M4N7kO5J7F"
      }
    },
    {
      "cell_type": "code",
      "source": [
        "scores = [10, 20, 30]\n",
        "\n",
        "for score in scores:\n",
        "  print(score)"
      ],
      "metadata": {
        "colab": {
          "base_uri": "https://localhost:8080/"
        },
        "id": "qYi4lkvc5PO6",
        "outputId": "cc4b02c4-2778-41e7-ec9f-ef9456832ce7"
      },
      "execution_count": null,
      "outputs": [
        {
          "output_type": "stream",
          "name": "stdout",
          "text": [
            "10\n",
            "20\n",
            "30\n"
          ]
        }
      ]
    },
    {
      "cell_type": "markdown",
      "source": [
        " **37: List 원소들의 합 구하기**</br>\n",
        " List를 직접 접근할 때의 불편함을 해결하는 방법을 배웁니다.\n",
        "For loop을 통해 list의 원소들하고, 접근된 값을 이용하여 연산을 하는 방법에 대해 배웁니다."
      ],
      "metadata": {
        "id": "IO8XL_By5YuT"
      }
    },
    {
      "cell_type": "code",
      "source": [
        "scores = [10, 20, 30]\n",
        "scores_sum = 0\n",
        "\n",
        "for score in scores:\n",
        "  scores_sum += score\n",
        "\n",
        "print(scores_sum)"
      ],
      "metadata": {
        "colab": {
          "base_uri": "https://localhost:8080/"
        },
        "id": "nk40wkgu5dhD",
        "outputId": "41c6f2f4-d005-4b47-b80a-eae2d7c5aeda"
      },
      "execution_count": null,
      "outputs": [
        {
          "output_type": "stream",
          "name": "stdout",
          "text": [
            "60\n"
          ]
        }
      ]
    },
    {
      "cell_type": "markdown",
      "source": [
        "**38: Iteration 횟수 구하기**</br>\n",
        "For loop가 몇 번 iterate됬는지 구하는 방법을 배웁니다"
      ],
      "metadata": {
        "id": "ZGeT4GFQ66fN"
      }
    },
    {
      "cell_type": "code",
      "source": [
        "numbers = [1, 4, 5, 6, 4, 2, 1]\n",
        "iter_cnt = 0\n",
        "\n",
        "for _ in numbers:\n",
        "  iter_cnt += 1\n",
        "print(iter_cnt)"
      ],
      "metadata": {
        "colab": {
          "base_uri": "https://localhost:8080/"
        },
        "id": "bSzhB70A7NYH",
        "outputId": "c331af01-5464-434c-b40f-2b6edb7366b8"
      },
      "execution_count": null,
      "outputs": [
        {
          "output_type": "stream",
          "name": "stdout",
          "text": [
            "7\n"
          ]
        }
      ]
    },
    {
      "cell_type": "markdown",
      "source": [
        "**39: 1부터 100까지의 합 구하기**</br>\n",
        "1부터 100까지 더하는 상황에 대해 불편한 점을 생각해보고, 이를 해결하기 위해 range( )의 사용법에 대해 배웁니다."
      ],
      "metadata": {
        "id": "UJkOtNRF7mqK"
      }
    },
    {
      "cell_type": "code",
      "source": [
        "sum = 0\n",
        "for i in range(101):\n",
        "  sum += i\n",
        "print(sum)"
      ],
      "metadata": {
        "colab": {
          "base_uri": "https://localhost:8080/"
        },
        "id": "fuN0TRNZ7uBB",
        "outputId": "dba90dcd-7a2f-44d6-ee29-ad3147c8f3f0"
      },
      "execution_count": null,
      "outputs": [
        {
          "output_type": "stream",
          "name": "stdout",
          "text": [
            "5050\n"
          ]
        }
      ]
    },
    {
      "cell_type": "markdown",
      "source": [
        "**40: 1부터 100까지 List 만들기**</br>\n",
        "range( )와 list.append( )를 이용하여 1부터 100까지의 원소를 가지는 list를 쉽게 만드는 방법에 대해 배웁니다."
      ],
      "metadata": {
        "id": "c7uvDdZx8PgD"
      }
    },
    {
      "cell_type": "code",
      "source": [
        "numbers = list()\n",
        "\n",
        "for i in range(101):\n",
        "  numbers.append(i)\n",
        "print(numbers)"
      ],
      "metadata": {
        "colab": {
          "base_uri": "https://localhost:8080/"
        },
        "id": "YaFxjJZl8VnW",
        "outputId": "ce4039ec-3dd7-44a8-b5d2-b76a2ce1e10a"
      },
      "execution_count": null,
      "outputs": [
        {
          "output_type": "stream",
          "name": "stdout",
          "text": [
            "[0, 1, 2, 3, 4, 5, 6, 7, 8, 9, 10, 11, 12, 13, 14, 15, 16, 17, 18, 19, 20, 21, 22, 23, 24, 25, 26, 27, 28, 29, 30, 31, 32, 33, 34, 35, 36, 37, 38, 39, 40, 41, 42, 43, 44, 45, 46, 47, 48, 49, 50, 51, 52, 53, 54, 55, 56, 57, 58, 59, 60, 61, 62, 63, 64, 65, 66, 67, 68, 69, 70, 71, 72, 73, 74, 75, 76, 77, 78, 79, 80, 81, 82, 83, 84, 85, 86, 87, 88, 89, 90, 91, 92, 93, 94, 95, 96, 97, 98, 99, 100]\n"
          ]
        }
      ]
    },
    {
      "cell_type": "markdown",
      "source": [
        "**41: 100개의 0을 가진 List 만들기**</br>\n",
        "range( )와 list.append( )를 사용하여 list를 초기화 하는 방법에 대해 배웁니다."
      ],
      "metadata": {
        "id": "oJMhgArm8l7U"
      }
    },
    {
      "cell_type": "code",
      "source": [
        "list = []\n",
        "\n",
        "for i in range(101):\n",
        "  list.append(0)\n",
        "print(list)"
      ],
      "metadata": {
        "id": "cinOe32f8qVW"
      },
      "execution_count": null,
      "outputs": []
    },
    {
      "cell_type": "markdown",
      "source": [
        "**42: for loop으로 list의 원소 접근하기(2)**</br>\n",
        "For loop, len( ), range( )를 이용하여 data index를 만드는 방법과, 이를 통해 List의 원소에 접근하는 다른 방법에 대해 배웁니다."
      ],
      "metadata": {
        "id": "EXquYaIt87gY"
      }
    },
    {
      "cell_type": "code",
      "source": [
        "scores = [10, 20, 30]\n",
        "\n",
        "for i in range(len(scores)):\n",
        "  print(scores[i])"
      ],
      "metadata": {
        "colab": {
          "base_uri": "https://localhost:8080/"
        },
        "id": "ZMYjlCc89Ak4",
        "outputId": "e976c52d-7a81-40b7-f4af-798779c86a61"
      },
      "execution_count": null,
      "outputs": [
        {
          "output_type": "stream",
          "name": "stdout",
          "text": [
            "10\n",
            "20\n",
            "30\n"
          ]
        }
      ]
    },
    {
      "cell_type": "markdown",
      "source": [
        " 43: for loop으로 list의 원소 수정하기</br>\n",
        " List의 원소를 수정할 때는 data index를 통해 for loop을 돌려야 됨을 이해합니다."
      ],
      "metadata": {
        "id": "l85ZZzZDPBcV"
      }
    },
    {
      "cell_type": "code",
      "source": [
        "scores = [10, 20, 30, 40, 50]\n",
        "\n",
        "for score_idx in range(len(scores)):\n",
        "  scores[score_idx] += 10\n",
        "print(scores)"
      ],
      "metadata": {
        "colab": {
          "base_uri": "https://localhost:8080/"
        },
        "id": "_rBVBeFnQvQn",
        "outputId": "b8b38f83-4f58-4cdb-be9f-aadbe2dacb81"
      },
      "execution_count": null,
      "outputs": [
        {
          "output_type": "stream",
          "name": "stdout",
          "text": [
            "[20, 30, 40, 50, 60]\n"
          ]
        }
      ]
    },
    {
      "cell_type": "markdown",
      "source": [
        "**44: 두 개의 List 접근하기**</br>\n",
        "2개의 List들이 가진 원소들에 접근해야 될 때도, data index를 통해 for loop을 돌려야 됨을 이해합니다."
      ],
      "metadata": {
        "id": "op6KLnZ5RYse"
      }
    },
    {
      "cell_type": "code",
      "source": [
        "list1 = [10, 20, 30]\n",
        "list2 = [100, 200, 300]\n",
        "\n",
        "for idx in range(len(list1)):\n",
        "  print(list1[idx],list2[idx])"
      ],
      "metadata": {
        "colab": {
          "base_uri": "https://localhost:8080/"
        },
        "id": "LcULY0GnRd6z",
        "outputId": "41138ea7-85fa-410f-efed-ec49e995e4ca"
      },
      "execution_count": null,
      "outputs": [
        {
          "output_type": "stream",
          "name": "stdout",
          "text": [
            "10 100\n",
            "20 200\n",
            "30 300\n"
          ]
        }
      ]
    },
    {
      "cell_type": "markdown",
      "source": [
        "**45: 수학점수들의 평균 구하기(3)**</br>\n",
        "For loop을 통해 List의 원소들의 합을 구하는 2가지 방법을 복습합니다."
      ],
      "metadata": {
        "id": "Eyd02atGSPKD"
      }
    },
    {
      "cell_type": "code",
      "source": [
        "scores = [10, 20, 30]\n",
        "\n",
        "#method1\n",
        "mean = 0\n",
        "\n",
        "for idx in range(len(scores)):\n",
        "  mean += scores[idx]\n",
        "\n",
        "mean /= len(scores)\n",
        "\n",
        "print(mean)\n",
        "\n",
        "#method2\n",
        "scores = [10, 20, 30]\n",
        "scores_sum = 0\n",
        "student_num = 0\n",
        "\n",
        "for score_idx in range(len(scores)):\n",
        "  scores_sum += scores[score_idx]\n",
        "  student_num += 1\n",
        "\n",
        "print(scores_sum)\n",
        "print(student_num)\n",
        "print(scores_sum/student_num)"
      ],
      "metadata": {
        "colab": {
          "base_uri": "https://localhost:8080/"
        },
        "id": "YkLcaQWXSSoE",
        "outputId": "549c0489-4df8-445a-d6ea-55ef3a19d13f"
      },
      "execution_count": 62,
      "outputs": [
        {
          "output_type": "stream",
          "name": "stdout",
          "text": [
            "20.0\n",
            "60\n",
            "3\n",
            "20.0\n"
          ]
        }
      ]
    },
    {
      "cell_type": "markdown",
      "source": [
        "**46: Mean Subtraction(3)**</br>\n",
        "For loop을 이용하여 각 원소를 평균으로 빼주는 방법에 대해 배웁니다."
      ],
      "metadata": {
        "id": "oRS6lAR8UmTw"
      }
    },
    {
      "cell_type": "code",
      "source": [
        "scores = [10, 20, 30]\n",
        "scores_sum = 0\n",
        "\n",
        "for score_idx in range(len(scores)):\n",
        "  scores_sum += scores[score_idx]\n",
        "\n",
        "scores_mean = scores_sum / len(scores)\n",
        "\n",
        "scores_sub = []\n",
        "\n",
        "for score_idx in range(len(scores)):\n",
        "  tmp = scores[score_idx] - scores_mean\n",
        "  scores_sub.append(tmp)\n",
        "\n",
        "print(scores_sub)\n",
        "\n",
        "\n"
      ],
      "metadata": {
        "colab": {
          "base_uri": "https://localhost:8080/"
        },
        "id": "LiJxsbbUUqi3",
        "outputId": "55c98d33-69c4-4936-d86f-1421e62e4541"
      },
      "execution_count": 67,
      "outputs": [
        {
          "output_type": "stream",
          "name": "stdout",
          "text": [
            "[-10.0, 0.0, 10.0]\n"
          ]
        }
      ]
    },
    {
      "cell_type": "markdown",
      "source": [
        "**47: 두 과목의 평균 구하기**</br>\n",
        "Data index를 통해 두 개의 list에 들어있는 값들의 평균을 구해봅니다.\n",
        "특정 값(평균)들을 가지고 있는 List()를 사용하는 방법에 대해 익힙니다."
      ],
      "metadata": {
        "id": "2BWyAcs2gi9F"
      }
    },
    {
      "cell_type": "code",
      "source": [
        "math_scores = [40, 60, 80]\n",
        "english_scores = [30, 40, 50]\n",
        "\n",
        "#sum과 means를 둘 다 리스트로 출력하라\n",
        "\n",
        "n_class = 2\n",
        "n_student = len(math_scores)\n",
        "\n",
        "score_means = []\n",
        "score_sums = []\n",
        "\n",
        "for _ in range(n_class):\n",
        "  score_sums.append(0)\n",
        "\n",
        "for class_idx in range(n_student):\n",
        "  score_sums[0] += math_scores[class_idx]\n",
        "  score_sums[1] += english_scores[class_idx]\n",
        "\n",
        "print(\"sums of scores: \", score_sums)\n",
        "\n",
        "for i in range(n_class):\n",
        "  class_mean = score_sums[i] / n_student\n",
        "  score_means.append(class_mean)\n",
        "print(\"mean of scores: \",score_means)"
      ],
      "metadata": {
        "colab": {
          "base_uri": "https://localhost:8080/"
        },
        "id": "jHyJYywghB5n",
        "outputId": "f3afd94b-3fc5-4550-c78a-bbdb90277db5"
      },
      "execution_count": 72,
      "outputs": [
        {
          "output_type": "stream",
          "name": "stdout",
          "text": [
            "sums of scores:  [180, 120]\n",
            "mean of scores:  [60.0, 40.0]\n"
          ]
        }
      ]
    },
    {
      "cell_type": "markdown",
      "source": [
        "**48: Mean Subtraction(4)** </br>\n",
        "data index를 통해 두 List에 대한 mean subtraction을 배웁니다"
      ],
      "metadata": {
        "id": "hPJdNqpOoOLr"
      }
    },
    {
      "cell_type": "code",
      "source": [
        "math_scores = [40, 60, 80]\n",
        "english_scores = [30, 40, 50]\n",
        "n_student = len(math_scores)\n",
        "n_class = 2\n",
        "\n",
        "scores_sums = []\n",
        "scores_means = []\n",
        "\n",
        "for i in range(n_class):\n",
        "  scores_sums.append(0)\n",
        "\n",
        "for i in range(n_student):\n",
        "  score_sums[0] += math_scores[i]\n",
        "  score_sums[1] += english_scores[i]\n",
        "\n",
        "print(\"sums of scores: \", score_sums)\n",
        "\n",
        "for class_idx in range(n_class):\n",
        "  class_mean = score_sums[class_idx] / n_student\n",
        "  score_means.append(class_mean)\n",
        "\n",
        "for student_idx in range(n_student):\n",
        "  math_scores[student_idx] -= score_means[0]\n",
        "  english_scores[student_idx] -= score_means[1]\n",
        "\n",
        "print(\"Math scores after mean subtraction: \", math_scores)\n",
        "print(\"English scores after mean subtraction: \", english_scores)"
      ],
      "metadata": {
        "colab": {
          "base_uri": "https://localhost:8080/"
        },
        "id": "uOXFwdH_oUzp",
        "outputId": "5afaf2c2-97ec-46eb-ae60-73f871ecb6b0"
      },
      "execution_count": 74,
      "outputs": [
        {
          "output_type": "stream",
          "name": "stdout",
          "text": [
            "sums of scores:  [540, 360]\n",
            "Math scores after mean subtraction:  [-20.0, 0.0, 20.0]\n",
            "English scores after mean subtraction:  [-10.0, 0.0, 10.0]\n"
          ]
        }
      ]
    },
    {
      "cell_type": "markdown",
      "source": [
        "**49: 분산과 표준편차(3)**</br>\n",
        "For loop을 사용하여 분산과 표준편차를 쉽게 구하는 방법에 대해 배웁니다.\n",
        "For loop 안에 여러 줄이 있는 상황을 배워봅니다."
      ],
      "metadata": {
        "id": "LMr5G0aeuyMb"
      }
    },
    {
      "cell_type": "code",
      "source": [
        "scores = [10, 20, 30]\n",
        "n_student = len(scores)\n",
        "score_sum, score_square_sum = 0, 0\n",
        "\n",
        "for score in scores:\n",
        "  score_sum += score\n",
        "  score_square_sum += score**2\n",
        "\n",
        "mean = score_sum / n_student\n",
        "square_of_mean = mean**2\n",
        "mean_of_square = score_square_sum / n_student\n",
        "\n",
        "variance = mean_of_square - square_of_mean\n",
        "std = variance**0.5\n",
        "print(std)"
      ],
      "metadata": {
        "colab": {
          "base_uri": "https://localhost:8080/"
        },
        "id": "WhzyOPvvv5E5",
        "outputId": "102a51e9-ce06-436c-8a89-d1e262caf1d1"
      },
      "execution_count": 2,
      "outputs": [
        {
          "output_type": "stream",
          "name": "stdout",
          "text": [
            "8.16496580927726\n"
          ]
        }
      ]
    },
    {
      "cell_type": "markdown",
      "source": [
        "**50: Standardization(3)**</br>\n",
        "Data index를 이용하여 standardization을 하는 방법에 대해 복습합니다.\n",
        "\n",
        "x := x− μ / σ"
      ],
      "metadata": {
        "id": "c2SdptA5hD-N"
      }
    },
    {
      "cell_type": "code",
      "source": [
        "scores = [10, 20, 30]\n",
        "n_student = len(scores)\n",
        "score_sum, score_square_sum = 0, 0\n",
        "std_scores = []\n",
        "\n",
        "for score in scores:\n",
        "  score_sum += score\n",
        "  score_square_sum += score**2\n",
        "\n",
        "mean = score_sum / n_student\n",
        "square_of_mean = mean**2\n",
        "mean_of_square = score_square_sum / n_student\n",
        "\n",
        "variance = mean_of_square - square_of_mean\n",
        "std = variance**0.5\n",
        "\n",
        "for student_idx in range(n_student):\n",
        "  std_score = (scores[student_idx] - mean) / std\n",
        "  std_scores.append(std_score)\n",
        "\n",
        "print(std_scores)\n",
        "\n",
        "##standardization 의 mean과 std구하기\n",
        "score_sum, score_square_sum = 0, 0\n",
        "\n",
        "for score in std_scores:\n",
        "  score_sum += score\n",
        "  score_square_sum += score**2\n",
        "\n",
        "mean = score_sum / n_student\n",
        "\n",
        "print(\"mean: \",mean)\n",
        "\n",
        "square_of_mean = mean**2\n",
        "mean_of_square = score_square_sum / n_student\n",
        "\n",
        "variance = mean_of_square - square_of_mean\n",
        "std = variance**0.5\n",
        "\n",
        "print(\"std: \",std)"
      ],
      "metadata": {
        "colab": {
          "base_uri": "https://localhost:8080/"
        },
        "id": "J36_j3pDhQd6",
        "outputId": "21e57039-c5a7-425a-cc9f-a89ad9ffabee"
      },
      "execution_count": 7,
      "outputs": [
        {
          "output_type": "stream",
          "name": "stdout",
          "text": [
            "[-1.224744871391589, 0.0, 1.224744871391589]\n",
            "mean:  0.0\n",
            "std:  1.0\n"
          ]
        }
      ]
    }
  ]
}