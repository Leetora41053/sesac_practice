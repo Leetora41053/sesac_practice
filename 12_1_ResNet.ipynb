{
  "nbformat": 4,
  "nbformat_minor": 0,
  "metadata": {
    "colab": {
      "provenance": [],
      "authorship_tag": "ABX9TyOhF1I0HvLG4WfJVSAir5r5",
      "include_colab_link": true
    },
    "kernelspec": {
      "name": "python3",
      "display_name": "Python 3"
    },
    "language_info": {
      "name": "python"
    }
  },
  "cells": [
    {
      "cell_type": "markdown",
      "metadata": {
        "id": "view-in-github",
        "colab_type": "text"
      },
      "source": [
        "<a href=\"https://colab.research.google.com/github/Leetora41053/sesac_practice/blob/main/12_1_ResNet.ipynb\" target=\"_parent\"><img src=\"https://colab.research.google.com/assets/colab-badge.svg\" alt=\"Open In Colab\"/></a>"
      ]
    },
    {
      "cell_type": "code",
      "source": [
        "class ResidualBlock(nn.Module):\n",
        "    def __init__(self, in_channels, out_channels, stride=1):\n",
        "        super(ResidualBlock, self).__init__()\n",
        "\n",
        "        self.conv_path = nn.Sequential(\n",
        "            nn.Conv2d(in_channels=in_channels, out_channels=out_channels,\n",
        "                      kernel_size=3, padding=1, stride=stride),\n",
        "            nn.ReLU(),\n",
        "            nn.Conv2d(in_channels=out_channels, out_channels=out_channels,\n",
        "                      kernel_size=3, padding=1)\n",
        "        )\n",
        "\n",
        "        if stride == 1:\n",
        "          self.skip_path = nn.Identity()\n",
        "        else:\n",
        "          self.skip_path = nn.Conv2d(in_channels=in_channels, out_channels=out_channels, kernel_size=1, padding=1, stride=2)\n",
        "\n",
        "\n",
        "        self.out_act = nn.ReLU()\n",
        "\n",
        "    def forward(self, x):\n",
        "        x_conv = self.conv_path(x)\n",
        "        x_skip = self.skip_path(x)\n",
        "        x = x_conv + x_skip\n",
        "        x = self.out_act(x)\n",
        "\n",
        "        return x"
      ],
      "metadata": {
        "id": "LeNotQV69Ufz"
      },
      "execution_count": null,
      "outputs": []
    },
    {
      "cell_type": "code",
      "execution_count": null,
      "metadata": {
        "id": "9RHUfx-O883J"
      },
      "outputs": [],
      "source": [
        "class ResNet34(nn.Module):\n",
        "  def __init__(self, in_channels):\n",
        "    super(ResNet34, self).__init__()\n",
        "    self.conv1 = nn.Sequential(nn.Conv2d(in_channels=in_channels, out_channels=64, kernel_size=7, stride=2, padding=3),\n",
        "                 nn.ReLU())\n",
        "\n",
        "    self.conv2_x = self._make_layers(self, in_channels=64, out_channels=64, n_blocks=3, downsample=0)\n",
        "    self.conv3_x = self._make_layers(self, in_channels=128, out_channels=128, n_blocks=4, downsample=1)\n",
        "    self.conv4_x = self._make_layers(self, in_channels=256, out_channels=256, n_blocks=6, downsample=1)\n",
        "    self.conv5_x = self._make_layers(self, in_channels=512, out_channels=512, n_blocks=3, downsample=1)\n",
        "\n",
        "\n",
        "    self.conv2_x = nn.Sequential(\n",
        "                nn.MaxPool2d(kernel_size=3, stride=2, padding=1),\n",
        "                ResidualBlock(in_channels=64, out_channel=64),\n",
        "                ResidualBlock(in_channels=64, out_channel=64),\n",
        "                ResidualBlock(in_channels=64, out_channel=64)\n",
        "    )\n",
        "\n",
        "    self.conv3_x = nn.Sequential(\n",
        "                ResidualBlock(in_channels=64, out_channels=128, stride=2),\n",
        "                ResidualBlock(in_channels=128, out_channel=128),\n",
        "                ResidualBlock(in_channels=128, out_channel=128),\n",
        "                ResidualBlock(in_channels=128, out_channel=128)\n",
        "    )\n",
        "\n",
        "    self.conv4_x = nn.Sequential(\n",
        "                ResidualBlock(in_channels=128, out_channels=256, stride=2),\n",
        "                ResidualBlock(in_channels=256, out_channel=256),\n",
        "                ResidualBlock(in_channels=256, out_channel=256),\n",
        "                ResidualBlock(in_channels=256, out_channel=256),\n",
        "                ResidualBlock(in_channels=256, out_channel=256),\n",
        "                ResidualBlock(in_channels=256, out_channel=256),\n",
        "    )\n",
        "\n",
        "    self.conv5_x = nn.Sequential(\n",
        "                ResidualBlock(in_channels=256, out_channels=512, stride=2),\n",
        "                ResidualBlock(in_channels=512, out_channel=512),\n",
        "                ResidualBlock(in_channels=512, out_channel=512)\n",
        "    )\n",
        "\n",
        "    self.avg_pool = nn.Sequential(nn.AvgPool2d(kernel_size=7, stride=1, padding=0),\n",
        "                   nn.AvgPool2d(kernel_size=7, stride=7),\n",
        "                   nn.Linear(in_features=512*1*1 , out_features=1000),\n",
        "                  )\n",
        "\n",
        "\n",
        "  def _make_layers(self, in_channels, out_channels, n_blocks, downsample):\n",
        "    self.layers = []\n",
        "\n",
        "    #1번. 빈 레이어에 residual block을 집어넣어\n",
        "    for _ in range(n_blocks):\n",
        "      self.layers.append(ResidualBlock(in_channels=in_channels, out_channels=out_channels,\n",
        "                                         kernel_size=3, padding=1))\n",
        "\n",
        "    #2번.\n",
        "      if downsample = 0:\n",
        "        self.skip_path = nn.Conv2d(in_channels=in_channels, out_channels=out_channels, kernel_size=1, padding=1, stride=2)\n",
        "\n",
        "\n",
        "\n",
        "\n",
        "  def forward(self, x):\n",
        "    x = self.conv1(x)\n",
        "    x = self.conv2_x(x)\n",
        "    x = self.conv3_x(x)\n",
        "    x = self.conv4_x(x)\n",
        "    x = self.conv5_x(x)\n",
        "\n",
        "    x = x.view(x.shape[0],-1)\n",
        "    x = self.out_act(x)\n",
        "\n",
        "    return x"
      ]
    },
    {
      "cell_type": "markdown",
      "source": [
        "# Overfitting"
      ],
      "metadata": {
        "id": "bWpk0l6ccm6k"
      }
    },
    {
      "cell_type": "code",
      "source": [
        "import numpy as np\n",
        "import matplotlib.pyplot as plt\n",
        "\n",
        "N_SAMPLE = 50\n",
        "\n",
        "x = np.random.uniform(-np.pi, np.pi, N_SAMPLE)\n",
        "y = np.sin(x) + 0.2 * np.random.rand(N_SAMPLE)\n",
        "#np.random.normal(0, 0.1, N_SAMPLE)이라고 표현할 수도 있음\n",
        "\n",
        "fig, ax = plt.subplots(figsize=(8,4))\n",
        "\n",
        "ax.set_xlabel('x')\n",
        "ax.set_ylabel('y')\n",
        "for spine_loc in ax.spines.items():\n",
        "  if spine_loc in ['right', 'top']:\n",
        "    spine.set_visible(False)\n",
        "# ax.spine['right'].set_color('none')\n",
        "# ax.spine['top'].set_color('none')\n",
        "\n",
        "\n",
        "fig.tight_layout()\n",
        "\n",
        "plt.scatter(x, y)\n",
        "plt.show()"
      ],
      "metadata": {
        "colab": {
          "base_uri": "https://localhost:8080/",
          "height": 401
        },
        "id": "PbfNu7xrYwzN",
        "outputId": "5e32e348-1f2e-4727-9e89-4e2a0c97b048"
      },
      "execution_count": null,
      "outputs": [
        {
          "output_type": "display_data",
          "data": {
            "text/plain": [
              "<Figure size 800x400 with 1 Axes>"
            ],
            "image/png": "[encoded data removed]"
          },
          "metadata": {}
        }
      ]
    },
    {
      "cell_type": "code",
      "source": [
        "import numpy as np\n",
        "import torch\n",
        "\n",
        "def get_sin_ds(n_samples):\n",
        "  x_ds = np.random.uniform(-np.pi, np.pi, n_samples)\n",
        "  y_ds = np.sin(x) + 0.2 * np.random.rand(n_samples)\n",
        "\n",
        "  return x_ds, y_ds\n",
        "\n",
        "def get_device():\n",
        "  if torch.cuda.is_available(): device = 'cuda'\n",
        "  elif torch.backends.mps.is_available(): device = 'mps'\n",
        "  else: device = 'cpu'\n",
        "  return device"
      ],
      "metadata": {
        "id": "gL9G-3UWbgaF"
      },
      "execution_count": null,
      "outputs": []
    },
    {
      "cell_type": "code",
      "source": [
        "import torch.nn as nn\n",
        "\n",
        "class SinRegressor(nn.Module):\n",
        "  def __init__(self):\n",
        "    super(SinRegressor, self).__init__()\n",
        "\n",
        "    self.layers = nn.Sequential(\n",
        "        nn.Linear(in_features=1, out_features=16),\n",
        "        nn.ReLU(),\n",
        "        nn.Linear(in_features=16, out_features=64),\n",
        "        nn.ReLU(),\n",
        "        nn.Linear(in_features=64, out_features=128),\n",
        "        nn.ReLU(),\n",
        "        nn.Linear(in_features=128, out_features=64),\n",
        "        nn.ReLU(),\n",
        "        nn.Linear(in_features=64, out_features=16),\n",
        "        nn.ReLU(),\n",
        "        nn.Linear(in_features=16, out_features=1)\n",
        "        #마지막에 relu가 없는 것으로 regression모델이라는 걸 알 수 잇음\n",
        "    )\n",
        "\n",
        "  def forward(self, x):\n",
        "    x = self.layers(x)\n",
        "    return x"
      ],
      "metadata": {
        "id": "0GUzIqq_dBi0"
      },
      "execution_count": null,
      "outputs": []
    },
    {
      "cell_type": "code",
      "source": [
        "#optimizer를 쓸 때 LR를 조절해주는 함수"
      ],
      "metadata": {
        "id": "KZbUGNVhxEkw"
      },
      "execution_count": null,
      "outputs": []
    }
  ]
}