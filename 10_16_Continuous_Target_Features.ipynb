{
  "nbformat": 4,
  "nbformat_minor": 0,
  "metadata": {
    "colab": {
      "provenance": [],
      "authorship_tag": "ABX9TyP0aee1Xi2S6kJsfYeudgyZ",
      "include_colab_link": true
    },
    "kernelspec": {
      "name": "python3",
      "display_name": "Python 3"
    },
    "language_info": {
      "name": "python"
    }
  },
  "cells": [
    {
      "cell_type": "markdown",
      "metadata": {
        "id": "view-in-github",
        "colab_type": "text"
      },
      "source": [
        "<a href=\"https://colab.research.google.com/github/Leetora41053/sesac_practice/blob/main/10_16_Continuous_Target_Features.ipynb\" target=\"_parent\"><img src=\"https://colab.research.google.com/assets/colab-badge.svg\" alt=\"Open In Colab\"/></a>"
      ]
    },
    {
      "cell_type": "code",
      "execution_count": null,
      "metadata": {
        "id": "L4IgX7sjgf4q"
      },
      "outputs": [],
      "source": [
        "winter_mean = (800+826+900)/3\n",
        "#print(winter_mean)\n",
        "winter_var = (((winter_mean-800)**2)+((winter_mean-826)**2)+((winter_mean-900)**2))/(3-1)*1/4\n",
        "print(\"winter_var: \", winter_var)\n",
        "\n",
        "spring_mean = (2100+4740+4900)/3\n",
        "#print(spring_mean)\n",
        "spring_var = (((spring_mean-2100)**2)+((spring_mean-4740)**2)+((spring_mean-4900)**2))/(3-1)*1/4\n",
        "print(\"spring_var: \", spring_var)\n",
        "\n",
        "summer_mean = (3000+5800+6200)/3\n",
        "summer_var = (((summer_mean-3000)**2)+((summer_mean-5800)**2)+((summer_mean-6200)**2))/(3-1)*1/4\n",
        "print(\"summer_var: \", summer_var)\n",
        "\n",
        "autumn_mean = (2910+2880+2820)/3\n",
        "autumn_var = (((autumn_mean-2910)**2)+((autumn_mean-2880)**2)+((autumn_mean-2820)**2))/(3-1)*1/4\n",
        "print(\"autumn_var: \", autumn_var)\n",
        "\n",
        "season_var = winter_var + spring_var + summer_var + autumn_var\n",
        "print(\"season_var: \", season_var)\n",
        "\n",
        "true_mean = (900+4740+4900+5800+6200+2820)/6\n",
        "true_var = (((true_mean-900)**2)+((true_mean-4740)**2)+((true_mean-4900)**2)+((true_mean-5800)**2)+((true_mean-6200))**2+((true_mean-2820)**2))/(6-1)*1/2\n",
        "print(\"true_var: \", true_var)\n",
        "\n",
        "false_mean = (800+826+2100+3000+2910+2880)/6\n",
        "false_var = (((false_mean-800)**2)+((false_mean-826)**2)+((false_mean-2100)**2)+((false_mean-3000)**2)+((false_mean-2910)**2)+((false_mean-2880)**2)/(6-1))*1/2\n",
        "print(\"false_var: \", false_var)\n",
        "\n",
        "day_var = true_var + false_var\n",
        "print(day_var)"
      ]
    },
    {
      "cell_type": "code",
      "source": [
        "from sklearn.datasets import load_iris\n",
        "from sklearn.tree import DecisionTreeClassifier\n",
        "from sklearn.model_selection import train_test_split\n",
        "import matplotlib.pyplot as plt\n",
        "\n",
        "iris = load_iris()\n",
        "data, targets = iris.data, iris.target\n",
        "print(\"data / target shape\")\n",
        "print(data.shape, targets.shape, '\\n')\n",
        "\n",
        "X_train, X_test, y_train, y_test = train_test_split(iris.data, iris.target,\n",
        "                                                    test_size=0.2, random_state=11)\n",
        "\n",
        "# print(f\"{type(X_train) = } / {X_train.shape = }\")\n",
        "# print(f\"{type(X_test) = } / {X_test.shape = }\")\n",
        "# print(f\"{type(y_train) = } / {y_train.shape = }\")\n",
        "# print(f\"{type(y_test) = } / {y_test.shape = }\")\n",
        "\n",
        "model = DecisionTreeClassifier()\n",
        "\n",
        "# for attr in dir(model):\n",
        "#     if not attr.startswith(\"__\"):\n",
        "#         print(attr)\n",
        "\n",
        "model.fit(X_train, y_train)\n",
        "\n",
        "print(\"depth: \", model.get_depth())\n",
        "print(\"number of leaves: \", model.get_n_leaves())\n",
        "\n",
        "accuracy = model.score(X_test, y_test)\n",
        "# print(f\"{accuracy = :.4f}\")\n",
        "plt.figure(figsize=(20, 15))\n",
        "tree.plot_tree(model,\n",
        "               class_names=iris.target_names,\n",
        "               feature_names=iris.featunames,\n",
        "               impurity=True, filled=True,\n",
        "               rounded=True)\n",
        "\n",
        "plt.show()"
      ],
      "metadata": {
        "colab": {
          "base_uri": "https://localhost:8080/",
          "height": 358
        },
        "id": "EgWw1a2mg__4",
        "outputId": "bedd69a6-5936-46be-a871-e8f8858e7052"
      },
      "execution_count": 2,
      "outputs": [
        {
          "output_type": "stream",
          "name": "stdout",
          "text": [
            "data / target shape\n",
            "(150, 4) (150,) \n",
            "\n",
            "depth:  5\n",
            "number of leaves:  9\n"
          ]
        },
        {
          "output_type": "error",
          "ename": "NameError",
          "evalue": "ignored",
          "traceback": [
            "\u001b[0;31m---------------------------------------------------------------------------\u001b[0m",
            "\u001b[0;31mNameError\u001b[0m                                 Traceback (most recent call last)",
            "\u001b[0;32m<ipython-input-2-45f833057753>\u001b[0m in \u001b[0;36m<cell line: 33>\u001b[0;34m()\u001b[0m\n\u001b[1;32m     31\u001b[0m \u001b[0;31m# print(f\"{accuracy = :.4f}\")\u001b[0m\u001b[0;34m\u001b[0m\u001b[0;34m\u001b[0m\u001b[0m\n\u001b[1;32m     32\u001b[0m \u001b[0mplt\u001b[0m\u001b[0;34m.\u001b[0m\u001b[0mfigure\u001b[0m\u001b[0;34m(\u001b[0m\u001b[0mfigsize\u001b[0m\u001b[0;34m=\u001b[0m\u001b[0;34m(\u001b[0m\u001b[0;36m20\u001b[0m\u001b[0;34m,\u001b[0m \u001b[0;36m15\u001b[0m\u001b[0;34m)\u001b[0m\u001b[0;34m)\u001b[0m\u001b[0;34m\u001b[0m\u001b[0;34m\u001b[0m\u001b[0m\n\u001b[0;32m---> 33\u001b[0;31m tree.plot_tree(model,\n\u001b[0m\u001b[1;32m     34\u001b[0m                \u001b[0mclass_names\u001b[0m\u001b[0;34m=\u001b[0m\u001b[0miris\u001b[0m\u001b[0;34m.\u001b[0m\u001b[0mtarget_names\u001b[0m\u001b[0;34m,\u001b[0m\u001b[0;34m\u001b[0m\u001b[0;34m\u001b[0m\u001b[0m\n\u001b[1;32m     35\u001b[0m                \u001b[0mfeature_names\u001b[0m\u001b[0;34m=\u001b[0m\u001b[0miris\u001b[0m\u001b[0;34m.\u001b[0m\u001b[0mfeatunames\u001b[0m\u001b[0;34m,\u001b[0m\u001b[0;34m\u001b[0m\u001b[0;34m\u001b[0m\u001b[0m\n",
            "\u001b[0;31mNameError\u001b[0m: name 'tree' is not defined"
          ]
        },
        {
          "output_type": "display_data",
          "data": {
            "text/plain": [
              "<Figure size 2000x1500 with 0 Axes>"
            ]
          },
          "metadata": {}
        }
      ]
    }
  ]
}