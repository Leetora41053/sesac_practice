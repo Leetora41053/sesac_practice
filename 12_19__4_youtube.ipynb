{
  "cells": [
    {
      "cell_type": "markdown",
      "metadata": {
        "id": "view-in-github",
        "colab_type": "text"
      },
      "source": [
        "<a href=\"https://colab.research.google.com/github/Leetora41053/sesac_practice/blob/main/12_19__4_youtube.ipynb\" target=\"_parent\"><img src=\"https://colab.research.google.com/assets/colab-badge.svg\" alt=\"Open In Colab\"/></a>"
      ]
    },
    {
      "cell_type": "code",
      "execution_count": null,
      "metadata": {
        "id": "fm8y5-ouRAAR"
      },
      "outputs": [],
      "source": [
        "# 라이브러리 호출\n",
        "from selenium import webdriver\n",
        "from selenium.webdriver.common.by import By\n",
        "from selenium.webdriver.common.keys import Keys\n",
        "\n",
        "# URL 접속\n",
        "driver = webdriver.Chrome()\n",
        "driver.get('https://www.youtube.com/feed/trending?bp=6gQJRkVleHBsb3Jl')\n",
        "driver.maximize_window()"
      ]
    },
    {
      "cell_type": "code",
      "execution_count": null,
      "metadata": {
        "id": "uaL0mH6cRAAU",
        "outputId": "0d675201-2d39-42a9-f3c0-a6ce5004711c"
      },
      "outputs": [
        {
          "data": {
            "text/plain": [
              "['직원들 속이고 갑자기 해외여행 데려가는 회사 - 워크샵(1)',\n",
              " '100일동안 갇혀지내면, 50만달러',\n",
              " \"중학교 2학년 이정후의 마지막 중2병 '평기싫' ㅣ#스톡킹 EP.97-2 (이정후 편)\",\n",
              " '소년시대 | 8화 하이라이트 | 연약한 근육 | 쿠팡플레이 | 쿠팡',\n",
              " 'ITZY(있지) \"BORN TO BE\" M/V @ITZY',\n",
              " '[#새롭동물농장] 우리 이제 같이 살아요~🤍🖤 아이바오&쌍둥바오 첫 합사하는 날!🐼 / EP.1150 #TV동물농장 #AnimalFarm #SBSstory',\n",
              " \"＂출연자 중 최고가 아닌가＂ 심사위원들 다 쓰러트린 美친 감성💖 49호 가수의 '넌 쉽게 말했지만'｜싱어게인3｜JTBC 231214 방송 외\",\n",
              " \"[무삭제풀버전✂] 대본대로 되는 게 하나도 없는 코너 '데프콘 어때요' [개그 콘서트/Gag Concert Ep.1056] | KBS 231217 방송\",\n",
              " '[현장 인터뷰] 이정후 입단식 찾은 ‘정후 엄마’의 눈물│이종범은 진심 아들을 부러워했다│미국 진출 안된다고 말했는데│이영미의 MLB라이브',\n",
              " '대만의 낭만을 찾는 청춘남녀의 여행 - [64]',\n",
              " '광고비를 갖고 튀어라!',\n",
              " '우리 나름의 겨울 나는 법 | HOME (NOT) ALONE | 두 번째 이야기',\n",
              " '국제청년부부의 서울 5평 반지하 원룸살이, 40/ 40 원룸 이사하기 [서울자취2]',\n",
              " '대만 영화 속 낭만을 찾는 청춘남녀의 여행 (feat.캡틴따거)',\n",
              " '정국 (Jung Kook), Usher ‘Standing Next to You - Usher Remix’ Official Performance Video',\n",
              " '처갓집에 첫 김장 하러가는 남편ㅋㅋ대환장😨ㅋㅋ처갓집 식구들과 수육파티하고 집 가서 또 남편이랑 수육파티│먹방 MUKBANG',\n",
              " '[#나혼자산다] 대만 타이중에서의 첫 끼! 100년 넘은 고기 완자 가게에서 무려 11접시 클리어🥟🤤 | #전현무 #박나래 #이장우 #팜유 #대만 MBC231215방송',\n",
              " '[아카이브K 오리지널] #035. 방탄소년단 1편, 지금 다시 하라고 한다면 절대 못하죠',\n",
              " '[1화] 술집 싸움으로 1년 간 입뺀 당한 홍대 & 대구 도깨비 복수하러 온 강동ㅣZombie Trip 3: Road to ZOMBIE ROYAL',\n",
              " '새끼 고양이가 사람 음식을 건드리자 진돗개가 보여준 놀라운 행동 (강아지 맞음..)',\n",
              " '대박집 팥죽✔️ 전기밥솥 \"이 버튼\" 누르면 쉽게 성공!!',\n",
              " '[EN/TH] 이걸 다 먹었다고?! 🇹🇭방콕 야시장에서 역대급 폭주한 풍자 | 또간집 Ep.42',\n",
              " \"이찬원(LeeChanWon) '풍등(Choir Ver.)' official MV\",\n",
              " '[#AAA2023] Seventeen BSS (부석순) - Broadcast Stage | Official Video',\n",
              " \"퓨전인가 괴식인가 '빵빠레 아이스크림 라멘'\",\n",
              " '어른 판다의 길...ㅣHow It Is Being A Big Girl Panda...',\n",
              " '역사서에 기록된 강감찬 장군 이야기 - 어디에서도 볼 수 없었던 그의 특별한 기록!',\n",
              " 'Despite Mini Squad: Bayern Dominates | FC Bayern München - VfB Stuttgart 3-0 | MD 15 – BL 23/24',\n",
              " '”Chainsaw Man – The Movie: Reze Arc” Official Teaser ／ 劇場版『チェンソーマン レゼ篇』公式ティザーPV',\n",
              " '[#노래방VS/풀버전] 박종민 (로이정) ♬봄이 와도 (Prod. 로이킴, with 로이킴) @세미파이널 | 12/22 (금) 밤 10시 40분 파이널 본방사수',\n",
              " '그냥 지하철 8번 출구만 찾는 게임인데 왜 무섭지',\n",
              " '[덱스의 냉터뷰] 더 킹받게 하는 쪽이 이기는 거야..🔫💥덱노이의 요리조리돌림🎄🎅🏻🐱l EP.14 미노이 편',\n",
              " '“필리핀 친정집이요? 현재는...” 가난한 며느리 친정에 집 사준 시어머니 최신 근황┃10년 전 다문화 고부열전 출연해 1,000만 명에 감동 준 시어머니와 필리핀 며느리┃알고e즘',\n",
              " '\"혼자 먹기 너무 아까워요..\"👍👍진작이렇게 먹을걸 ~ 하루가 행복한 시금치 요리 3가지 강쉪',\n",
              " \"[자막뉴스] 광장시장 '바가지' 논란의 그 집, 다시 가봤더니... / YTN\",\n",
              " '[SUB] 20년차 현역 아이돌…헌팅 당한 썰 풉니다👄 l EP.51 l 조현아의 목요일 밤 l 수영 조현아',\n",
              " '차 있으면 여친 생김?',\n",
              " '약물 없이 절대 불가능한 몸.. 논란의 보디빌더 검증 l 빌더로드 EP.2',\n",
              " '[ENG] 신동엽 이소라 연애 타이밍 잘 맞았다면? | 이소라의 슈퍼마켙 소라 EP.01-2',\n",
              " '0티어 기념, 전세계 1위 트런들 장인 트할님 모셨습니다 ㅋㅋㅋ 트할 장인초대석 [테스터훈]',\n",
              " '네덜란드 시아버님 생신에 몰래 가서 한국음식과 K-선물, 현금봉투를 드리자 반응이..',\n",
              " '연애 기싸움',\n",
              " '1억 7천 쓰고 뽑은 23년 가장 만족한 소비 BEST 5 l 내돈내산',\n",
              " '청춘남녀의 대만 작은 어촌 탐방 (feat.캡틴따거)',\n",
              " '변명 그만하겠습니다',\n",
              " '늦은 밤, 코요테 소리에 무서워하는 아이들을 본 진돗개들의 반응',\n",
              " '손흥민의 드리블을 알아도 못 막는 이유',\n",
              " '안녕하세요 단하나 아니.. 다나나입니다',\n",
              " '선 넘으면 주거침입죄야',\n",
              " '빵빵이와 옥지의 끼꼬랜드 ~!']"
            ]
          },
          "execution_count": 2,
          "metadata": {},
          "output_type": "execute_result"
        }
      ],
      "source": [
        "all_video_box = driver.find_element(By.CSS_SELECTOR, 'div#contents.style-scope.ytd-section-list-renderer')\n",
        "select_video_box = all_video_box.find_elements(By.CSS_SELECTOR, 'ytd-item-section-renderer')[::2] # 0번째, 2번쨰 선택\n",
        "front_video_list = [i.text for i in select_video_box[0].find_elements(By.CSS_SELECTOR, 'a#video-title > yt-formatted-string.style-scope.ytd-video-renderer')]\n",
        "back_video_box = [i.text for i in select_video_box[1].find_elements(By.CSS_SELECTOR, 'a#video-title > yt-formatted-string.style-scope.ytd-video-renderer')]\n",
        "video_list = front_video_list + back_video_box\n",
        "video_list"
      ]
    },
    {
      "cell_type": "code",
      "execution_count": null,
      "metadata": {
        "id": "0vKbxFfyRAAV",
        "outputId": "53bda3ca-c3fa-4dea-e2dd-44a089eb35c9"
      },
      "outputs": [
        {
          "name": "stdout",
          "output_type": "stream",
          "text": [
            "7.5℃ 28 % 북 1.2 m/s\n"
          ]
        }
      ],
      "source": [
        "tmp = driver.find_element(By.CSS_SELECTOR, '#current-weather > div.cmp-cur-weather.wbg.wbg-type2.BGDB00 > ul.wrap-1 > li.w-icon.w-temp.no-w > span.tmp').text\n",
        "hum = driver.find_element(By.CSS_SELECTOR, '#current-weather > div.cmp-cur-weather.wbg.wbg-type2.BGDB00 > ul.wrap-2.no-underline > li:nth-child(1) > span.val').text\n",
        "win = driver.find_element(By.CSS_SELECTOR, '#current-weather > div.cmp-cur-weather.wbg.wbg-type2.BGDB00 > ul.wrap-2.no-underline > li:nth-child(2) > span.val').text\n",
        "\n",
        "print(tmp, hum, win)"
      ]
    },
    {
      "cell_type": "code",
      "execution_count": null,
      "metadata": {
        "id": "llYzPmPgRAAW"
      },
      "outputs": [],
      "source": [
        "from selenium import webdriver\n",
        "from selenium.webdriver.common.by import By\n",
        "from selenium.webdriver.common.keys import Keys\n",
        "import time\n",
        "\n",
        "driver = webdriver.Chrome()\n",
        "driver.get('https://map.naver.com/p?c=15.00,0,0,0,dh')\n",
        "driver.maximize_window()\n",
        "time.sleep(2)\n",
        "\n",
        "# 검색어 입력\n",
        "search_bar = driver.find_element(By.CSS_SELECTOR, 'input.input_search')\n",
        "search_bar.send_keys('용산역 맛집', Keys.ENTER)\n",
        "time.sleep(2)\n"
      ]
    },
    {
      "cell_type": "code",
      "execution_count": null,
      "metadata": {
        "id": "Ot8tIFhnRAAW",
        "outputId": "a7361cc0-5dd9-4ed4-dc54-e2b5cfef38aa"
      },
      "outputs": [
        {
          "data": {
            "text/plain": [
              "['쏠티캐빈 용산직영점',\n",
              " '현선이네 용산본점',\n",
              " '아치서울',\n",
              " '쌤쌤쌤',\n",
              " '심야포차 시실리',\n",
              " '테디뵈르하우스 용산점',\n",
              " '메종 루블랑',\n",
              " '바보섬 용산',\n",
              " '능동미나리',\n",
              " '디어올리브']"
            ]
          },
          "execution_count": 3,
          "metadata": {},
          "output_type": "execute_result"
        }
      ],
      "source": [
        "\n",
        "# iframe으로 접속\n",
        "iframe = driver.find_element(By.CSS_SELECTOR, 'iframe#searchIframe') # iframe 선택\n",
        "driver.switch_to.frame(iframe)\n",
        "\n",
        "search_list_box = driver.find_element(By.CSS_SELECTOR, '#_pcmap_list_scroll_container')\n",
        "search_list = search_list_box.find_elements(By.TAG_NAME, 'li')\n",
        "result_list = [sample.find_element(By.CSS_SELECTOR, 'span.TYaxT').text for sample in search_list]\n",
        "result_list"
      ]
    }
  ],
  "metadata": {
    "kernelspec": {
      "display_name": "ai2",
      "language": "python",
      "name": "python3"
    },
    "language_info": {
      "codemirror_mode": {
        "name": "ipython",
        "version": 3
      },
      "file_extension": ".py",
      "mimetype": "text/x-python",
      "name": "python",
      "nbconvert_exporter": "python",
      "pygments_lexer": "ipython3",
      "version": "3.8.17"
    },
    "colab": {
      "provenance": [],
      "include_colab_link": true
    }
  },
  "nbformat": 4,
  "nbformat_minor": 0
}