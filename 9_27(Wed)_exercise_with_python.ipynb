{
  "nbformat": 4,
  "nbformat_minor": 0,
  "metadata": {
    "colab": {
      "provenance": [],
      "authorship_tag": "ABX9TyPFhIhz0m6v7F5dbrTMvRcp",
      "include_colab_link": true
    },
    "kernelspec": {
      "name": "python3",
      "display_name": "Python 3"
    },
    "language_info": {
      "name": "python"
    }
  },
  "cells": [
    {
      "cell_type": "markdown",
      "metadata": {
        "id": "view-in-github",
        "colab_type": "text"
      },
      "source": [
        "<a href=\"https://colab.research.google.com/github/Leetora41053/sesac_practice/blob/main/9_27(Wed)_exercise_with_python.ipynb\" target=\"_parent\"><img src=\"https://colab.research.google.com/assets/colab-badge.svg\" alt=\"Open In Colab\"/></a>"
      ]
    },
    {
      "cell_type": "markdown",
      "source": [
        "###원핫인코딩?\n",
        "범주형 데이터(자연어)를 1과 0으로 바꿔주는 방법\n",
        "\n",
        "###단어집합?\n",
        "단어 집합은 서로 다른 단어들의 집합"
      ],
      "metadata": {
        "id": "KEnR-uE-KGkF"
      }
    },
    {
      "cell_type": "code",
      "execution_count": 2,
      "metadata": {
        "colab": {
          "base_uri": "https://localhost:8080/"
        },
        "id": "LlX8Y1KylGCM",
        "outputId": "fea76cfd-dd24-4c1d-b32e-3b340b6e0a4b"
      },
      "outputs": [
        {
          "output_type": "stream",
          "name": "stdout",
          "text": [
            "[[1, 0, 0, 0], [0, 1, 0, 0], [0, 0, 1, 0], [0, 1, 0, 0], [1, 0, 0, 0], [0, 0, 0, 1]]\n"
          ]
        }
      ],
      "source": [
        "#95. One-hot Encoding\n",
        "#labels 안의 숫자들을 인코딩해주는 과정\n",
        "\n",
        "labels = [0, 1, 2, 1, 0, 3]\n",
        "\n",
        "n_labels = len(labels)\n",
        "n_class = 0\n",
        "\n",
        "for label in labels:\n",
        "  if label > n_class:\n",
        "    n_class = label\n",
        "n_class += 1\n",
        "\n",
        "one_hot_mat = []\n",
        "\n",
        "for label in labels:\n",
        "  one_hot_vec = []\n",
        "  for _ in range(n_class):\n",
        "    one_hot_vec.append(0)\n",
        "  one_hot_vec[label] = 1\n",
        "\n",
        "  one_hot_mat.append(one_hot_vec)\n",
        "\n",
        "print(one_hot_mat)\n"
      ]
    },
    {
      "cell_type": "code",
      "source": [
        "#96. Linear Algebra\n",
        "\n",
        "\n",
        "predictions = [\n",
        "    [1, 0, 0, 0],\n",
        "    [0, 0, 1, 0],\n",
        "    [0, 0, 1, 0],\n",
        "    [1, 0, 0, 0],\n",
        "    [1, 0, 0, 0],\n",
        "    [0, 0, 0, 1]\n",
        "    ]\n",
        "\n",
        "labels = [0, 1, 2, 1, 0, 3]\n",
        "\n",
        "n_labels = len(labels)\n",
        "n_class = 0\n",
        "\n",
        "for label in labels:\n",
        "  if label > n_class:\n",
        "    n_class = label\n",
        "n_class += 1\n",
        "\n",
        "one_hot_mat = []\n",
        "\n",
        "for label in labels:\n",
        "  one_hot_vec = []\n",
        "  for _ in range(n_class):\n",
        "    one_hot_vec.append(0)\n",
        "  one_hot_vec[label] = 1\n",
        "\n",
        "  one_hot_mat.append(one_hot_vec)\n",
        "\n",
        "#일치도를 기본으로 설정\n",
        "correct_predictions = 0\n",
        "\n",
        "for i in range(n_labels):\n",
        "    if predictions[i] == one_hot_mat[i]:\n",
        "        correct_predictions += 1\n",
        "\n",
        "# 정확도 계산\n",
        "accuracy = correct_predictions / n_labels\n",
        "\n",
        "print(\"Accuracy:\", accuracy)"
      ],
      "metadata": {
        "colab": {
          "base_uri": "https://localhost:8080/"
        },
        "id": "E1Z5cq6tLL5c",
        "outputId": "9bf88f48-9d13-45d8-e1a5-0fd4c90dcc68"
      },
      "execution_count": 4,
      "outputs": [
        {
          "output_type": "stream",
          "name": "stdout",
          "text": [
            "Accuracy: 0.6666666666666666\n"
          ]
        }
      ]
    },
    {
      "cell_type": "code",
      "source": [
        "#97. Matrix Addition\n",
        "# Matrix 간의 Addition을 구해봅니다\n",
        "\n",
        "mat1 = [[1, 2, 3], [4, 5, 6], [7, 8, 9]]\n",
        "mat2 = [[11, 12, 13], [14, 15, 16], [17, 18, 19]]\n",
        "\n",
        "mat3 = []\n",
        "\n",
        "num_rows = len(mat1)\n",
        "num_cols = len(mat1[0])\n",
        "\n",
        "#원소마다 합해준 후, row에 append, 그 후 다시 row를 mat3에 append\n",
        "for i in range(num_rows):\n",
        "    row = []\n",
        "    for j in range(num_cols):\n",
        "        sum_element = mat1[i][j] + mat2[i][j]\n",
        "        row.append(sum_element)\n",
        "    mat3.append(row)\n",
        "\n",
        "print(mat3)"
      ],
      "metadata": {
        "colab": {
          "base_uri": "https://localhost:8080/"
        },
        "id": "fICEHJ8kOdOr",
        "outputId": "72fa7987-9853-4c7d-d415-de88603fd9ff"
      },
      "execution_count": 11,
      "outputs": [
        {
          "output_type": "stream",
          "name": "stdout",
          "text": [
            "[[12, 14, 16], [18, 20, 22], [24, 26, 28]]\n"
          ]
        }
      ]
    }
  ]
}